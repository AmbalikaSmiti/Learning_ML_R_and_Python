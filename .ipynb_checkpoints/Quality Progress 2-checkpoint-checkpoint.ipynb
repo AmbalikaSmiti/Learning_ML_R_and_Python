{
 "cells": [
  {
   "cell_type": "code",
   "execution_count": 29,
   "metadata": {
    "collapsed": true
   },
   "outputs": [],
   "source": [
    "# setting root directory\n",
    "setwd(\"C:/Users/ambalika.smiti/Desktop/Ambalika/OLA OFFICE WORK/Feedbacks_new\")"
   ]
  },
  {
   "cell_type": "code",
   "execution_count": 30,
   "metadata": {
    "collapsed": true
   },
   "outputs": [],
   "source": [
    "#reading base data file\n",
    "data=read.csv(\"Driver_car_profile_for_QA (Base File).csv\")"
   ]
  },
  {
   "cell_type": "code",
   "execution_count": 16,
   "metadata": {},
   "outputs": [
    {
     "data": {
      "text/html": [
       "<ol class=list-inline>\n",
       "\t<li>'Driver_sugar_id'</li>\n",
       "\t<li>'DL_number'</li>\n",
       "\t<li>'Driver_city'</li>\n",
       "\t<li>'Car'</li>\n",
       "\t<li>'Leasing'</li>\n",
       "\t<li>'BAD_GUYS'</li>\n",
       "\t<li>'OLA_Score_45'</li>\n",
       "\t<li>'Rides'</li>\n",
       "\t<li>'X12Rating'</li>\n",
       "\t<li>'UB'</li>\n",
       "\t<li>'CQ'</li>\n",
       "\t<li>'DP'</li>\n",
       "\t<li>'UB12'</li>\n",
       "\t<li>'CQ12'</li>\n",
       "\t<li>'DP12'</li>\n",
       "\t<li>'Rtag'</li>\n",
       "\t<li>'DAoP'</li>\n",
       "\t<li>'AoP_Bucket'</li>\n",
       "\t<li>'Age'</li>\n",
       "\t<li>'Age_Bucket'</li>\n",
       "\t<li>'Age_UIDAI'</li>\n",
       "\t<li>'D_Marital'</li>\n",
       "\t<li>'D_edu'</li>\n",
       "\t<li>'LH'</li>\n",
       "\t<li>'AH'</li>\n",
       "</ol>\n"
      ],
      "text/latex": [
       "\\begin{enumerate*}\n",
       "\\item 'Driver\\_sugar\\_id'\n",
       "\\item 'DL\\_number'\n",
       "\\item 'Driver\\_city'\n",
       "\\item 'Car'\n",
       "\\item 'Leasing'\n",
       "\\item 'BAD\\_GUYS'\n",
       "\\item 'OLA\\_Score\\_45'\n",
       "\\item 'Rides'\n",
       "\\item 'X12Rating'\n",
       "\\item 'UB'\n",
       "\\item 'CQ'\n",
       "\\item 'DP'\n",
       "\\item 'UB12'\n",
       "\\item 'CQ12'\n",
       "\\item 'DP12'\n",
       "\\item 'Rtag'\n",
       "\\item 'DAoP'\n",
       "\\item 'AoP\\_Bucket'\n",
       "\\item 'Age'\n",
       "\\item 'Age\\_Bucket'\n",
       "\\item 'Age\\_UIDAI'\n",
       "\\item 'D\\_Marital'\n",
       "\\item 'D\\_edu'\n",
       "\\item 'LH'\n",
       "\\item 'AH'\n",
       "\\end{enumerate*}\n"
      ],
      "text/markdown": [
       "1. 'Driver_sugar_id'\n",
       "2. 'DL_number'\n",
       "3. 'Driver_city'\n",
       "4. 'Car'\n",
       "5. 'Leasing'\n",
       "6. 'BAD_GUYS'\n",
       "7. 'OLA_Score_45'\n",
       "8. 'Rides'\n",
       "9. 'X12Rating'\n",
       "10. 'UB'\n",
       "11. 'CQ'\n",
       "12. 'DP'\n",
       "13. 'UB12'\n",
       "14. 'CQ12'\n",
       "15. 'DP12'\n",
       "16. 'Rtag'\n",
       "17. 'DAoP'\n",
       "18. 'AoP_Bucket'\n",
       "19. 'Age'\n",
       "20. 'Age_Bucket'\n",
       "21. 'Age_UIDAI'\n",
       "22. 'D_Marital'\n",
       "23. 'D_edu'\n",
       "24. 'LH'\n",
       "25. 'AH'\n",
       "\n",
       "\n"
      ],
      "text/plain": [
       " [1] \"Driver_sugar_id\" \"DL_number\"       \"Driver_city\"     \"Car\"            \n",
       " [5] \"Leasing\"         \"BAD_GUYS\"        \"OLA_Score_45\"    \"Rides\"          \n",
       " [9] \"X12Rating\"       \"UB\"              \"CQ\"              \"DP\"             \n",
       "[13] \"UB12\"            \"CQ12\"            \"DP12\"            \"Rtag\"           \n",
       "[17] \"DAoP\"            \"AoP_Bucket\"      \"Age\"             \"Age_Bucket\"     \n",
       "[21] \"Age_UIDAI\"       \"D_Marital\"       \"D_edu\"           \"LH\"             \n",
       "[25] \"AH\"             "
      ]
     },
     "metadata": {},
     "output_type": "display_data"
    }
   ],
   "source": [
    "# names of the columns\n",
    "names(data)"
   ]
  },
  {
   "cell_type": "code",
   "execution_count": 33,
   "metadata": {},
   "outputs": [
    {
     "data": {
      "text/html": [
       "<table>\n",
       "<thead><tr><th></th><th scope=col>Driver_sugar_id</th><th scope=col>DL_number</th><th scope=col>Driver_city</th><th scope=col>Car</th><th scope=col>Leasing</th><th scope=col>BAD_GUYS</th><th scope=col>OLA_Score_45</th><th scope=col>New_OS</th><th scope=col>Rides</th><th scope=col>X12Rating</th><th scope=col>...</th><th scope=col>Rtag</th><th scope=col>DAoP</th><th scope=col>AoP_Bucket</th><th scope=col>Age</th><th scope=col>Age_Bucket</th><th scope=col>Age_UIDAI</th><th scope=col>D_Marital</th><th scope=col>D_edu</th><th scope=col>LH</th><th scope=col>AH</th></tr></thead>\n",
       "<tbody>\n",
       "\t<tr><th scope=row>3</th><td>55f4369a-e03e-486f-bcfd-4b4bde9b0002            </td><td>TN0220060024403                                 </td><td>Chennai                                         </td><td>TN11U8082                                       </td><td>NL                                              </td><td>0                                               </td><td>8.52                                            </td><td>8.635478                                        </td><td>191.0                                           </td><td> 3.3                                            </td><td>...                                             </td><td>R1                                              </td><td>482                                             </td><td><span style=white-space:pre-wrap>&gt;1y  </span></td><td>33                                              </td><td>26-40                                           </td><td>6/28/1984                                       </td><td>Mar                                             </td><td><span style=white-space:pre-wrap>10th  </span>  </td><td>128.64                                          </td><td>83.46                                           </td></tr>\n",
       "\t<tr><th scope=row>4</th><td>fb945193-39e2-40bd-ab7b-1836e1d7da9d</td><td>MH1320100024711                     </td><td>Pune                                </td><td>MH14GD2950                          </td><td>NL                                  </td><td>0                                   </td><td>9.00                                </td><td>9.082847                            </td><td>190.7                               </td><td> 4.7                                </td><td>...                                 </td><td>R1                                  </td><td>112                                 </td><td>2-4m                                </td><td>31                                  </td><td>26-40                               </td><td>1/1/1987                            </td><td>Sin                                 </td><td>10th                                </td><td>125.46                              </td><td>71.22                               </td></tr>\n",
       "\t<tr><th scope=row>7</th><td>9cbf74b6-939a-415c-aa78-6799e53a8aac            </td><td>TN1320150004968                                 </td><td>Chennai                                         </td><td>TN22DD9097                                      </td><td>NL                                              </td><td>0                                               </td><td>9.23                                            </td><td>8.819482                                        </td><td>187.0                                           </td><td> 1.7                                            </td><td>...                                             </td><td>R1                                              </td><td>421                                             </td><td><span style=white-space:pre-wrap>&gt;1y  </span></td><td>31                                              </td><td>26-40                                           </td><td>3/11/1987                                       </td><td>Mar                                             </td><td><span style=white-space:pre-wrap>12th  </span>  </td><td>128.91                                          </td><td>78.47                                           </td></tr>\n",
       "\t<tr><th scope=row>10</th><td>ba569354-5f6e-41ec-8b13-7aac0208ca44            </td><td>WB0119860352444                                 </td><td>Kolkata                                         </td><td>WB04G3734                                       </td><td>NL                                              </td><td>0                                               </td><td>9.17                                            </td><td>8.512768                                        </td><td>185.7                                           </td><td>11.0                                            </td><td>...                                             </td><td>R1                                              </td><td>694                                             </td><td><span style=white-space:pre-wrap>&gt;1y  </span></td><td>49                                              </td><td>41-60                                           </td><td>1/1/1969                                        </td><td>Mar                                             </td><td>Sch5/9                                          </td><td>133.78                                          </td><td>76.86                                           </td></tr>\n",
       "\t<tr><th scope=row>14</th><td>bad0cac5-a70e-47b1-985f-864bdec12bd1</td><td>UP7220150006197                     </td><td>Delhi                               </td><td>DL1YE3835                           </td><td>NL                                  </td><td>0                                   </td><td>8.51                                </td><td>7.998842                            </td><td>181.7                               </td><td> 3.7                                </td><td>...                                 </td><td>R1                                  </td><td>302                                 </td><td>6m-1y                               </td><td>25                                  </td><td>18-25                               </td><td>6/8/1993                            </td><td>Mar                                 </td><td>10th                                </td><td>111.54                              </td><td>52.54                               </td></tr>\n",
       "\t<tr><th scope=row>20</th><td>ac2226be-f31f-402d-784b-5565bf039a29            </td><td>MH2220120009440                                 </td><td><span style=white-space:pre-wrap>Pune   </span> </td><td>MH14GD4593                                      </td><td>NL                                              </td><td>0                                               </td><td>9.19                                            </td><td>8.754233                                        </td><td>176.3                                           </td><td> 4.3                                            </td><td>...                                             </td><td>R1                                              </td><td>909                                             </td><td><span style=white-space:pre-wrap>&gt;1y  </span></td><td>27                                              </td><td>26-40                                           </td><td>5/17/1991                                       </td><td>Mar                                             </td><td><span style=white-space:pre-wrap>10th  </span>  </td><td>101.8                                           </td><td>60.06                                           </td></tr>\n",
       "</tbody>\n",
       "</table>\n"
      ],
      "text/latex": [
       "\\begin{tabular}{r|llllllllllllllllllllllllll}\n",
       "  & Driver\\_sugar\\_id & DL\\_number & Driver\\_city & Car & Leasing & BAD\\_GUYS & OLA\\_Score\\_45 & New\\_OS & Rides & X12Rating & ... & Rtag & DAoP & AoP\\_Bucket & Age & Age\\_Bucket & Age\\_UIDAI & D\\_Marital & D\\_edu & LH & AH\\\\\n",
       "\\hline\n",
       "\t3 & 55f4369a-e03e-486f-bcfd-4b4bde9b0002 & TN0220060024403                      & Chennai                              & TN11U8082                            & NL                                   & 0                                    & 8.52                                 & 8.635478                             & 191.0                                &  3.3                                 & ...                                  & R1                                   & 482                                  & >1y                                  & 33                                   & 26-40                                & 6/28/1984                            & Mar                                  & 10th                                 & 128.64                               & 83.46                               \\\\\n",
       "\t4 & fb945193-39e2-40bd-ab7b-1836e1d7da9d & MH1320100024711                      & Pune                                 & MH14GD2950                           & NL                                   & 0                                    & 9.00                                 & 9.082847                             & 190.7                                &  4.7                                 & ...                                  & R1                                   & 112                                  & 2-4m                                 & 31                                   & 26-40                                & 1/1/1987                             & Sin                                  & 10th                                 & 125.46                               & 71.22                               \\\\\n",
       "\t7 & 9cbf74b6-939a-415c-aa78-6799e53a8aac & TN1320150004968                      & Chennai                              & TN22DD9097                           & NL                                   & 0                                    & 9.23                                 & 8.819482                             & 187.0                                &  1.7                                 & ...                                  & R1                                   & 421                                  & >1y                                  & 31                                   & 26-40                                & 3/11/1987                            & Mar                                  & 12th                                 & 128.91                               & 78.47                               \\\\\n",
       "\t10 & ba569354-5f6e-41ec-8b13-7aac0208ca44 & WB0119860352444                      & Kolkata                              & WB04G3734                            & NL                                   & 0                                    & 9.17                                 & 8.512768                             & 185.7                                & 11.0                                 & ...                                  & R1                                   & 694                                  & >1y                                  & 49                                   & 41-60                                & 1/1/1969                             & Mar                                  & Sch5/9                               & 133.78                               & 76.86                               \\\\\n",
       "\t14 & bad0cac5-a70e-47b1-985f-864bdec12bd1 & UP7220150006197                      & Delhi                                & DL1YE3835                            & NL                                   & 0                                    & 8.51                                 & 7.998842                             & 181.7                                &  3.7                                 & ...                                  & R1                                   & 302                                  & 6m-1y                                & 25                                   & 18-25                                & 6/8/1993                             & Mar                                  & 10th                                 & 111.54                               & 52.54                               \\\\\n",
       "\t20 & ac2226be-f31f-402d-784b-5565bf039a29 & MH2220120009440                      & Pune                                 & MH14GD4593                           & NL                                   & 0                                    & 9.19                                 & 8.754233                             & 176.3                                &  4.3                                 & ...                                  & R1                                   & 909                                  & >1y                                  & 27                                   & 26-40                                & 5/17/1991                            & Mar                                  & 10th                                 & 101.8                                & 60.06                               \\\\\n",
       "\\end{tabular}\n"
      ],
      "text/markdown": [
       "\n",
       "| <!--/--> | Driver_sugar_id | DL_number | Driver_city | Car | Leasing | BAD_GUYS | OLA_Score_45 | New_OS | Rides | X12Rating | ... | Rtag | DAoP | AoP_Bucket | Age | Age_Bucket | Age_UIDAI | D_Marital | D_edu | LH | AH | \n",
       "|---|---|---|---|---|---|\n",
       "| 3 | 55f4369a-e03e-486f-bcfd-4b4bde9b0002 | TN0220060024403                      | Chennai                              | TN11U8082                            | NL                                   | 0                                    | 8.52                                 | 8.635478                             | 191.0                                |  3.3                                 | ...                                  | R1                                   | 482                                  | >1y                                  | 33                                   | 26-40                                | 6/28/1984                            | Mar                                  | 10th                                 | 128.64                               | 83.46                                | \n",
       "| 4 | fb945193-39e2-40bd-ab7b-1836e1d7da9d | MH1320100024711                      | Pune                                 | MH14GD2950                           | NL                                   | 0                                    | 9.00                                 | 9.082847                             | 190.7                                |  4.7                                 | ...                                  | R1                                   | 112                                  | 2-4m                                 | 31                                   | 26-40                                | 1/1/1987                             | Sin                                  | 10th                                 | 125.46                               | 71.22                                | \n",
       "| 7 | 9cbf74b6-939a-415c-aa78-6799e53a8aac | TN1320150004968                      | Chennai                              | TN22DD9097                           | NL                                   | 0                                    | 9.23                                 | 8.819482                             | 187.0                                |  1.7                                 | ...                                  | R1                                   | 421                                  | >1y                                  | 31                                   | 26-40                                | 3/11/1987                            | Mar                                  | 12th                                 | 128.91                               | 78.47                                | \n",
       "| 10 | ba569354-5f6e-41ec-8b13-7aac0208ca44 | WB0119860352444                      | Kolkata                              | WB04G3734                            | NL                                   | 0                                    | 9.17                                 | 8.512768                             | 185.7                                | 11.0                                 | ...                                  | R1                                   | 694                                  | >1y                                  | 49                                   | 41-60                                | 1/1/1969                             | Mar                                  | Sch5/9                               | 133.78                               | 76.86                                | \n",
       "| 14 | bad0cac5-a70e-47b1-985f-864bdec12bd1 | UP7220150006197                      | Delhi                                | DL1YE3835                            | NL                                   | 0                                    | 8.51                                 | 7.998842                             | 181.7                                |  3.7                                 | ...                                  | R1                                   | 302                                  | 6m-1y                                | 25                                   | 18-25                                | 6/8/1993                             | Mar                                  | 10th                                 | 111.54                               | 52.54                                | \n",
       "| 20 | ac2226be-f31f-402d-784b-5565bf039a29 | MH2220120009440                      | Pune                                 | MH14GD4593                           | NL                                   | 0                                    | 9.19                                 | 8.754233                             | 176.3                                |  4.3                                 | ...                                  | R1                                   | 909                                  | >1y                                  | 27                                   | 26-40                                | 5/17/1991                            | Mar                                  | 10th                                 | 101.8                                | 60.06                                | \n",
       "\n",
       "\n"
      ],
      "text/plain": [
       "   Driver_sugar_id                      DL_number       Driver_city Car       \n",
       "3  55f4369a-e03e-486f-bcfd-4b4bde9b0002 TN0220060024403 Chennai     TN11U8082 \n",
       "4  fb945193-39e2-40bd-ab7b-1836e1d7da9d MH1320100024711 Pune        MH14GD2950\n",
       "7  9cbf74b6-939a-415c-aa78-6799e53a8aac TN1320150004968 Chennai     TN22DD9097\n",
       "10 ba569354-5f6e-41ec-8b13-7aac0208ca44 WB0119860352444 Kolkata     WB04G3734 \n",
       "14 bad0cac5-a70e-47b1-985f-864bdec12bd1 UP7220150006197 Delhi       DL1YE3835 \n",
       "20 ac2226be-f31f-402d-784b-5565bf039a29 MH2220120009440 Pune        MH14GD4593\n",
       "   Leasing BAD_GUYS OLA_Score_45 New_OS   Rides X12Rating ... Rtag DAoP\n",
       "3  NL      0        8.52         8.635478 191.0  3.3      ... R1   482 \n",
       "4  NL      0        9.00         9.082847 190.7  4.7      ... R1   112 \n",
       "7  NL      0        9.23         8.819482 187.0  1.7      ... R1   421 \n",
       "10 NL      0        9.17         8.512768 185.7 11.0      ... R1   694 \n",
       "14 NL      0        8.51         7.998842 181.7  3.7      ... R1   302 \n",
       "20 NL      0        9.19         8.754233 176.3  4.3      ... R1   909 \n",
       "   AoP_Bucket Age Age_Bucket Age_UIDAI D_Marital D_edu  LH     AH   \n",
       "3  >1y        33  26-40      6/28/1984 Mar       10th   128.64 83.46\n",
       "4  2-4m       31  26-40      1/1/1987  Sin       10th   125.46 71.22\n",
       "7  >1y        31  26-40      3/11/1987 Mar       12th   128.91 78.47\n",
       "10 >1y        49  41-60      1/1/1969  Mar       Sch5/9 133.78 76.86\n",
       "14 6m-1y      25  18-25      6/8/1993  Mar       10th   111.54 52.54\n",
       "20 >1y        27  26-40      5/17/1991 Mar       10th   101.8  60.06"
      ]
     },
     "metadata": {},
     "output_type": "display_data"
    },
    {
     "data": {
      "text/html": [
       "<ol class=list-inline>\n",
       "\t<li>38180</li>\n",
       "\t<li>26</li>\n",
       "</ol>\n"
      ],
      "text/latex": [
       "\\begin{enumerate*}\n",
       "\\item 38180\n",
       "\\item 26\n",
       "\\end{enumerate*}\n"
      ],
      "text/markdown": [
       "1. 38180\n",
       "2. 26\n",
       "\n",
       "\n"
      ],
      "text/plain": [
       "[1] 38180    26"
      ]
     },
     "metadata": {},
     "output_type": "display_data"
    }
   ],
   "source": [
    "#removing NA values\n",
    "data=na.omit(data)\n",
    "#taking subset of Non-Leasing drivers\n",
    "data=subset(data,data$Leasing==\"NL\")\n",
    "# checking few rows\n",
    "head(data)\n",
    "# number of data points and variables after removing NA values\n",
    "dim(data)"
   ]
  },
  {
   "cell_type": "markdown",
   "metadata": {},
   "source": [
    "## OLA Score vs. Demographic Profile"
   ]
  },
  {
   "cell_type": "code",
   "execution_count": 32,
   "metadata": {},
   "outputs": [
    {
     "data": {
      "text/html": [
       "<table>\n",
       "<thead><tr><th></th><th scope=col>Driver_sugar_id</th><th scope=col>OLA_Score_45</th><th scope=col>AoP_Bucket</th><th scope=col>Age_Bucket</th><th scope=col>D_Marital</th><th scope=col>D_edu</th><th scope=col>LH</th></tr></thead>\n",
       "<tbody>\n",
       "\t<tr><th scope=row>3</th><td>55f4369a-e03e-486f-bcfd-4b4bde9b0002            </td><td>8.52                                            </td><td><span style=white-space:pre-wrap>&gt;1y  </span></td><td>26-40                                           </td><td>Mar                                             </td><td><span style=white-space:pre-wrap>10th  </span>  </td><td>128.64                                          </td></tr>\n",
       "\t<tr><th scope=row>4</th><td>fb945193-39e2-40bd-ab7b-1836e1d7da9d</td><td>9.00                                </td><td>2-4m                                </td><td>26-40                               </td><td>Sin                                 </td><td>10th                                </td><td>125.46                              </td></tr>\n",
       "\t<tr><th scope=row>7</th><td>9cbf74b6-939a-415c-aa78-6799e53a8aac            </td><td>9.23                                            </td><td><span style=white-space:pre-wrap>&gt;1y  </span></td><td>26-40                                           </td><td>Mar                                             </td><td><span style=white-space:pre-wrap>12th  </span>  </td><td>128.91                                          </td></tr>\n",
       "\t<tr><th scope=row>10</th><td>ba569354-5f6e-41ec-8b13-7aac0208ca44            </td><td>9.17                                            </td><td><span style=white-space:pre-wrap>&gt;1y  </span></td><td>41-60                                           </td><td>Mar                                             </td><td>Sch5/9                                          </td><td>133.78                                          </td></tr>\n",
       "\t<tr><th scope=row>14</th><td>bad0cac5-a70e-47b1-985f-864bdec12bd1</td><td>8.51                                </td><td>6m-1y                               </td><td>18-25                               </td><td>Mar                                 </td><td>10th                                </td><td>111.54                              </td></tr>\n",
       "\t<tr><th scope=row>20</th><td>ac2226be-f31f-402d-784b-5565bf039a29            </td><td>9.19                                            </td><td><span style=white-space:pre-wrap>&gt;1y  </span></td><td>26-40                                           </td><td>Mar                                             </td><td><span style=white-space:pre-wrap>10th  </span>  </td><td>101.8                                           </td></tr>\n",
       "</tbody>\n",
       "</table>\n"
      ],
      "text/latex": [
       "\\begin{tabular}{r|lllllll}\n",
       "  & Driver\\_sugar\\_id & OLA\\_Score\\_45 & AoP\\_Bucket & Age\\_Bucket & D\\_Marital & D\\_edu & LH\\\\\n",
       "\\hline\n",
       "\t3 & 55f4369a-e03e-486f-bcfd-4b4bde9b0002 & 8.52                                 & >1y                                  & 26-40                                & Mar                                  & 10th                                 & 128.64                              \\\\\n",
       "\t4 & fb945193-39e2-40bd-ab7b-1836e1d7da9d & 9.00                                 & 2-4m                                 & 26-40                                & Sin                                  & 10th                                 & 125.46                              \\\\\n",
       "\t7 & 9cbf74b6-939a-415c-aa78-6799e53a8aac & 9.23                                 & >1y                                  & 26-40                                & Mar                                  & 12th                                 & 128.91                              \\\\\n",
       "\t10 & ba569354-5f6e-41ec-8b13-7aac0208ca44 & 9.17                                 & >1y                                  & 41-60                                & Mar                                  & Sch5/9                               & 133.78                              \\\\\n",
       "\t14 & bad0cac5-a70e-47b1-985f-864bdec12bd1 & 8.51                                 & 6m-1y                                & 18-25                                & Mar                                  & 10th                                 & 111.54                              \\\\\n",
       "\t20 & ac2226be-f31f-402d-784b-5565bf039a29 & 9.19                                 & >1y                                  & 26-40                                & Mar                                  & 10th                                 & 101.8                               \\\\\n",
       "\\end{tabular}\n"
      ],
      "text/markdown": [
       "\n",
       "| <!--/--> | Driver_sugar_id | OLA_Score_45 | AoP_Bucket | Age_Bucket | D_Marital | D_edu | LH | \n",
       "|---|---|---|---|---|---|\n",
       "| 3 | 55f4369a-e03e-486f-bcfd-4b4bde9b0002 | 8.52                                 | >1y                                  | 26-40                                | Mar                                  | 10th                                 | 128.64                               | \n",
       "| 4 | fb945193-39e2-40bd-ab7b-1836e1d7da9d | 9.00                                 | 2-4m                                 | 26-40                                | Sin                                  | 10th                                 | 125.46                               | \n",
       "| 7 | 9cbf74b6-939a-415c-aa78-6799e53a8aac | 9.23                                 | >1y                                  | 26-40                                | Mar                                  | 12th                                 | 128.91                               | \n",
       "| 10 | ba569354-5f6e-41ec-8b13-7aac0208ca44 | 9.17                                 | >1y                                  | 41-60                                | Mar                                  | Sch5/9                               | 133.78                               | \n",
       "| 14 | bad0cac5-a70e-47b1-985f-864bdec12bd1 | 8.51                                 | 6m-1y                                | 18-25                                | Mar                                  | 10th                                 | 111.54                               | \n",
       "| 20 | ac2226be-f31f-402d-784b-5565bf039a29 | 9.19                                 | >1y                                  | 26-40                                | Mar                                  | 10th                                 | 101.8                                | \n",
       "\n",
       "\n"
      ],
      "text/plain": [
       "   Driver_sugar_id                      OLA_Score_45 AoP_Bucket Age_Bucket\n",
       "3  55f4369a-e03e-486f-bcfd-4b4bde9b0002 8.52         >1y        26-40     \n",
       "4  fb945193-39e2-40bd-ab7b-1836e1d7da9d 9.00         2-4m       26-40     \n",
       "7  9cbf74b6-939a-415c-aa78-6799e53a8aac 9.23         >1y        26-40     \n",
       "10 ba569354-5f6e-41ec-8b13-7aac0208ca44 9.17         >1y        41-60     \n",
       "14 bad0cac5-a70e-47b1-985f-864bdec12bd1 8.51         6m-1y      18-25     \n",
       "20 ac2226be-f31f-402d-784b-5565bf039a29 9.19         >1y        26-40     \n",
       "   D_Marital D_edu  LH    \n",
       "3  Mar       10th   128.64\n",
       "4  Sin       10th   125.46\n",
       "7  Mar       12th   128.91\n",
       "10 Mar       Sch5/9 133.78\n",
       "14 Mar       10th   111.54\n",
       "20 Mar       10th   101.8 "
      ]
     },
     "metadata": {},
     "output_type": "display_data"
    }
   ],
   "source": [
    "#taking only relevant columns for OLA Score vs Demographic proflie\n",
    "data_sub=data[,c(1,7,19,21,23,24,25)]\n",
    "head(data_sub)"
   ]
  },
  {
   "cell_type": "code",
   "execution_count": 20,
   "metadata": {},
   "outputs": [
    {
     "data": {
      "text/plain": [
       "                             Driver_sugar_id   OLA_Score_45      AoP_Bucket   \n",
       " 69371dda-caa7-46bb-b14a-6ea92e4603e0:    4   Min.   : 0.970   >1y    :20958  \n",
       " 01c5710e-9119-417a-9500-a2d88d438143:    3   1st Qu.: 8.100   6m-1y  : 7133  \n",
       " 0a9efa08-926e-4af4-a684-f6b38d493f97:    3   Median : 8.560   2-4m   : 5046  \n",
       " 1dd4db8d-4abf-4070-81f6-5156cccb3ffc:    3   Mean   : 8.436   4-6m   : 4699  \n",
       " 34281b65-3f7e-483b-81ea-2559923528e3:    3   3rd Qu.: 8.920   45d-2m : 1417  \n",
       " 3ba003d8-3e12-9b8f-7c06-5564842dbbf2:    3   Max.   :10.000   30-45d : 1414  \n",
       " (Other)                             :42411                    (Other): 1763  \n",
       " Age_Bucket      D_Marital         D_edu             LH       \n",
       " >=60 :  113   Eng    :  379   10th   :17181   41.28  :   15  \n",
       " 18-25: 5958   Mar    :32343   12th   :10002   43.85  :   15  \n",
       " 26-40:30693   Sep/Div:  109   Grad/PG: 5530   45.95  :   15  \n",
       " 41-60: 5666   Sin    : 9531   Ilt    :  717   21.72  :   14  \n",
       "               Wid    :   68   Sch4   :  727   22.87  :   14  \n",
       "                               Sch5/9 : 8273   28.14  :   14  \n",
       "                                               (Other):42343  "
      ]
     },
     "metadata": {},
     "output_type": "display_data"
    }
   ],
   "source": [
    "#Data Summary \n",
    "summary(data_sub)"
   ]
  },
  {
   "cell_type": "markdown",
   "metadata": {},
   "source": [
    "### OLA Score vs Education"
   ]
  },
  {
   "cell_type": "code",
   "execution_count": 24,
   "metadata": {},
   "outputs": [
    {
     "data": {
      "text/html": [
       "8.435546311572"
      ],
      "text/latex": [
       "8.435546311572"
      ],
      "text/markdown": [
       "8.435546311572"
      ],
      "text/plain": [
       "[1] 8.435546"
      ]
     },
     "metadata": {},
     "output_type": "display_data"
    },
    {
     "data": {
      "text/html": [
       "<table>\n",
       "<thead><tr><th scope=col>D_edu</th><th scope=col>count</th><th scope=col>mean_OS</th><th scope=col>median(OLA_Score_45)</th><th scope=col>SD_OS</th></tr></thead>\n",
       "<tbody>\n",
       "\t<tr><td>10th     </td><td>17181    </td><td>8.431727 </td><td>8.56     </td><td>0.7218552</td></tr>\n",
       "\t<tr><td>12th     </td><td>10002    </td><td>8.423560 </td><td>8.56     </td><td>0.7414357</td></tr>\n",
       "\t<tr><td>Grad/PG  </td><td> 5530    </td><td>8.452206 </td><td>8.58     </td><td>0.7317527</td></tr>\n",
       "\t<tr><td>Ilt      </td><td>  717    </td><td>8.508187 </td><td>8.60     </td><td>0.6068412</td></tr>\n",
       "\t<tr><td>Sch4     </td><td>  727    </td><td>8.471747 </td><td>8.59     </td><td>0.6302403</td></tr>\n",
       "\t<tr><td>Sch5/9   </td><td> 8273    </td><td>8.437355 </td><td>8.56     </td><td>0.6797585</td></tr>\n",
       "</tbody>\n",
       "</table>\n"
      ],
      "text/latex": [
       "\\begin{tabular}{r|lllll}\n",
       " D\\_edu & count & mean\\_OS & median(OLA\\_Score\\_45) & SD\\_OS\\\\\n",
       "\\hline\n",
       "\t 10th      & 17181     & 8.431727  & 8.56      & 0.7218552\\\\\n",
       "\t 12th      & 10002     & 8.423560  & 8.56      & 0.7414357\\\\\n",
       "\t Grad/PG   &  5530     & 8.452206  & 8.58      & 0.7317527\\\\\n",
       "\t Ilt       &   717     & 8.508187  & 8.60      & 0.6068412\\\\\n",
       "\t Sch4      &   727     & 8.471747  & 8.59      & 0.6302403\\\\\n",
       "\t Sch5/9    &  8273     & 8.437355  & 8.56      & 0.6797585\\\\\n",
       "\\end{tabular}\n"
      ],
      "text/markdown": [
       "\n",
       "D_edu | count | mean_OS | median(OLA_Score_45) | SD_OS | \n",
       "|---|---|---|---|---|---|\n",
       "| 10th      | 17181     | 8.431727  | 8.56      | 0.7218552 | \n",
       "| 12th      | 10002     | 8.423560  | 8.56      | 0.7414357 | \n",
       "| Grad/PG   |  5530     | 8.452206  | 8.58      | 0.7317527 | \n",
       "| Ilt       |   717     | 8.508187  | 8.60      | 0.6068412 | \n",
       "| Sch4      |   727     | 8.471747  | 8.59      | 0.6302403 | \n",
       "| Sch5/9    |  8273     | 8.437355  | 8.56      | 0.6797585 | \n",
       "\n",
       "\n"
      ],
      "text/plain": [
       "  D_edu   count mean_OS  median(OLA_Score_45) SD_OS    \n",
       "1 10th    17181 8.431727 8.56                 0.7218552\n",
       "2 12th    10002 8.423560 8.56                 0.7414357\n",
       "3 Grad/PG  5530 8.452206 8.58                 0.7317527\n",
       "4 Ilt       717 8.508187 8.60                 0.6068412\n",
       "5 Sch4      727 8.471747 8.59                 0.6302403\n",
       "6 Sch5/9   8273 8.437355 8.56                 0.6797585"
      ]
     },
     "metadata": {},
     "output_type": "display_data"
    }
   ],
   "source": [
    "library(\"dplyr\")\n",
    "mean(data_sub$OLA_Score_45)\n",
    "data_sub %>%\n",
    "  group_by(D_edu) %>%\n",
    "   summarise(count=sum(OLA_Score_45>0) , mean_OS = mean(OLA_Score_45), median(OLA_Score_45), SD_OS = sd(OLA_Score_45))"
   ]
  },
  {
   "cell_type": "markdown",
   "metadata": {},
   "source": [
    "Illiterate partners are having better OLA Score on an average while "
   ]
  },
  {
   "cell_type": "code",
   "execution_count": 29,
   "metadata": {},
   "outputs": [
    {
     "data": {
      "image/png": "[encoded data removed]",
      "text/plain": [
       "plot without title"
      ]
     },
     "metadata": {},
     "output_type": "display_data"
    }
   ],
   "source": [
    "plot(data_sub$D_edu,data_sub$OLA_Score, ylim=c(6,10))\n"
   ]
  },
  {
   "cell_type": "code",
   "execution_count": 31,
   "metadata": {},
   "outputs": [
    {
     "data": {
      "image/png": "[encoded data removed]",
      "text/plain": [
       "Plot with title \"Histogram of data_sub.10th$OLA_Score\""
      ]
     },
     "metadata": {},
     "output_type": "display_data"
    }
   ],
   "source": [
    "data_sub.10th=subset(data_sub,data_sub$D_edu==\"10th\")\n",
    "hist(data_sub.10th$OLA_Score,breaks=100)\n"
   ]
  },
  {
   "cell_type": "markdown",
   "metadata": {},
   "source": [
    "### OLA Score vs Marital Status"
   ]
  },
  {
   "cell_type": "code",
   "execution_count": 26,
   "metadata": {},
   "outputs": [
    {
     "data": {
      "image/png": "[encoded data removed]",
      "text/plain": [
       "plot without title"
      ]
     },
     "metadata": {},
     "output_type": "display_data"
    }
   ],
   "source": [
    "plot(data_sub$D_Marital,data_sub$OLA_Score, ylim=c(6,10))"
   ]
  },
  {
   "cell_type": "markdown",
   "metadata": {},
   "source": [
    "### Ola Score vs Marital Status"
   ]
  },
  {
   "cell_type": "code",
   "execution_count": 28,
   "metadata": {
    "scrolled": true
   },
   "outputs": [
    {
     "data": {
      "text/html": [
       "<table>\n",
       "<thead><tr><th scope=col>D_Marital</th><th scope=col>count</th><th scope=col>mean_OS</th><th scope=col>median(OLA_Score_45)</th><th scope=col>SD_OS</th></tr></thead>\n",
       "<tbody>\n",
       "\t<tr><td>Eng      </td><td>  379    </td><td>8.426306 </td><td>8.55     </td><td>0.7217330</td></tr>\n",
       "\t<tr><td>Mar      </td><td>32343    </td><td>8.455451 </td><td>8.58     </td><td>0.7105727</td></tr>\n",
       "\t<tr><td>Sep/Div  </td><td>  109    </td><td>8.537248 </td><td>8.65     </td><td>0.5518351</td></tr>\n",
       "\t<tr><td>Sin      </td><td> 9531    </td><td>8.367119 </td><td>8.49     </td><td>0.7352761</td></tr>\n",
       "\t<tr><td>Wid      </td><td>   68    </td><td>8.447794 </td><td>8.51     </td><td>0.5757561</td></tr>\n",
       "</tbody>\n",
       "</table>\n"
      ],
      "text/latex": [
       "\\begin{tabular}{r|lllll}\n",
       " D\\_Marital & count & mean\\_OS & median(OLA\\_Score\\_45) & SD\\_OS\\\\\n",
       "\\hline\n",
       "\t Eng       &   379     & 8.426306  & 8.55      & 0.7217330\\\\\n",
       "\t Mar       & 32343     & 8.455451  & 8.58      & 0.7105727\\\\\n",
       "\t Sep/Div   &   109     & 8.537248  & 8.65      & 0.5518351\\\\\n",
       "\t Sin       &  9531     & 8.367119  & 8.49      & 0.7352761\\\\\n",
       "\t Wid       &    68     & 8.447794  & 8.51      & 0.5757561\\\\\n",
       "\\end{tabular}\n"
      ],
      "text/markdown": [
       "\n",
       "D_Marital | count | mean_OS | median(OLA_Score_45) | SD_OS | \n",
       "|---|---|---|---|---|\n",
       "| Eng       |   379     | 8.426306  | 8.55      | 0.7217330 | \n",
       "| Mar       | 32343     | 8.455451  | 8.58      | 0.7105727 | \n",
       "| Sep/Div   |   109     | 8.537248  | 8.65      | 0.5518351 | \n",
       "| Sin       |  9531     | 8.367119  | 8.49      | 0.7352761 | \n",
       "| Wid       |    68     | 8.447794  | 8.51      | 0.5757561 | \n",
       "\n",
       "\n"
      ],
      "text/plain": [
       "  D_Marital count mean_OS  median(OLA_Score_45) SD_OS    \n",
       "1 Eng         379 8.426306 8.55                 0.7217330\n",
       "2 Mar       32343 8.455451 8.58                 0.7105727\n",
       "3 Sep/Div     109 8.537248 8.65                 0.5518351\n",
       "4 Sin        9531 8.367119 8.49                 0.7352761\n",
       "5 Wid          68 8.447794 8.51                 0.5757561"
      ]
     },
     "metadata": {},
     "output_type": "display_data"
    }
   ],
   "source": [
    "library(\"dplyr\")\n",
    "data_sub %>%\n",
    "  group_by(D_Marital) %>%\n",
    "    summarise(count=sum(OLA_Score_45>0),mean_OS = mean(OLA_Score_45), median(OLA_Score_45), SD_OS = sd(OLA_Score_45))"
   ]
  },
  {
   "cell_type": "markdown",
   "metadata": {},
   "source": [
    "### OLA Score vs Partner's Age"
   ]
  },
  {
   "cell_type": "code",
   "execution_count": 62,
   "metadata": {},
   "outputs": [
    {
     "data": {
      "text/html": [
       "<table>\n",
       "<thead><tr><th scope=col>Age_Bucket</th><th scope=col>mean_OS</th><th scope=col>median(OLA_Score_45)</th><th scope=col>SD_OS</th></tr></thead>\n",
       "<tbody>\n",
       "\t<tr><td>&gt;=60  </td><td>8.306726 </td><td>8.42     </td><td>0.8531763</td></tr>\n",
       "\t<tr><td>18-25    </td><td>8.286064 </td><td>8.42     </td><td>0.7600853</td></tr>\n",
       "\t<tr><td>26-40    </td><td>8.459297 </td><td>8.59     </td><td>0.7039523</td></tr>\n",
       "\t<tr><td>41-60    </td><td>8.466645 </td><td>8.60     </td><td>0.7157901</td></tr>\n",
       "</tbody>\n",
       "</table>\n"
      ],
      "text/latex": [
       "\\begin{tabular}{r|llll}\n",
       " Age\\_Bucket & mean\\_OS & median(OLA\\_Score\\_45) & SD\\_OS\\\\\n",
       "\\hline\n",
       "\t >=60      & 8.306726  & 8.42      & 0.8531763\\\\\n",
       "\t 18-25     & 8.286064  & 8.42      & 0.7600853\\\\\n",
       "\t 26-40     & 8.459297  & 8.59      & 0.7039523\\\\\n",
       "\t 41-60     & 8.466645  & 8.60      & 0.7157901\\\\\n",
       "\\end{tabular}\n"
      ],
      "text/markdown": [
       "\n",
       "Age_Bucket | mean_OS | median(OLA_Score_45) | SD_OS | \n",
       "|---|---|---|---|\n",
       "| >=60      | 8.306726  | 8.42      | 0.8531763 | \n",
       "| 18-25     | 8.286064  | 8.42      | 0.7600853 | \n",
       "| 26-40     | 8.459297  | 8.59      | 0.7039523 | \n",
       "| 41-60     | 8.466645  | 8.60      | 0.7157901 | \n",
       "\n",
       "\n"
      ],
      "text/plain": [
       "  Age_Bucket mean_OS  median(OLA_Score_45) SD_OS    \n",
       "1 >=60       8.306726 8.42                 0.8531763\n",
       "2 18-25      8.286064 8.42                 0.7600853\n",
       "3 26-40      8.459297 8.59                 0.7039523\n",
       "4 41-60      8.466645 8.60                 0.7157901"
      ]
     },
     "metadata": {},
     "output_type": "display_data"
    }
   ],
   "source": [
    "library(\"dplyr\")\n",
    "data_sub %>%\n",
    "  group_by(Age_Bucket) %>%\n",
    "    summarise(count=sum(OLA_Score_45>0), mean_OS = mean(OLA_Score_45), median(OLA_Score_45), SD_OS = sd(OLA_Score_45))\n"
   ]
  },
  {
   "cell_type": "markdown",
   "metadata": {},
   "source": [
    "### OLA Score vs Age on Platform"
   ]
  },
  {
   "cell_type": "code",
   "execution_count": 61,
   "metadata": {},
   "outputs": [
    {
     "data": {
      "text/html": [
       "<table>\n",
       "<thead><tr><th scope=col>AoP_Bucket</th><th scope=col>mean_OS</th><th scope=col>median(OLA_Score_45)</th><th scope=col>SD_OS</th></tr></thead>\n",
       "<tbody>\n",
       "\t<tr><td><span style=white-space:pre-wrap>&gt;1y   </span></td><td>8.498636                                         </td><td>8.620                                            </td><td>0.6771781                                        </td></tr>\n",
       "\t<tr><td>0-15d    </td><td>8.316589 </td><td>8.440    </td><td>0.6944344</td></tr>\n",
       "\t<tr><td>15-30d   </td><td>8.265710 </td><td>8.400    </td><td>0.8830301</td></tr>\n",
       "\t<tr><td>2-4m     </td><td>8.316589 </td><td>8.455    </td><td>0.7657026</td></tr>\n",
       "\t<tr><td>30-45d   </td><td>8.270948 </td><td>8.410    </td><td>0.8223575</td></tr>\n",
       "\t<tr><td>4-6m     </td><td>8.357061 </td><td>8.510    </td><td>0.7677667</td></tr>\n",
       "\t<tr><td>45d-2m   </td><td>8.235646 </td><td>8.370    </td><td>0.8049807</td></tr>\n",
       "\t<tr><td>6m-1y    </td><td>8.495456 </td><td>8.600    </td><td>0.6558489</td></tr>\n",
       "</tbody>\n",
       "</table>\n"
      ],
      "text/latex": [
       "\\begin{tabular}{r|llll}\n",
       " AoP\\_Bucket & mean\\_OS & median(OLA\\_Score\\_45) & SD\\_OS\\\\\n",
       "\\hline\n",
       "\t >1y       & 8.498636  & 8.620     & 0.6771781\\\\\n",
       "\t 0-15d     & 8.316589  & 8.440     & 0.6944344\\\\\n",
       "\t 15-30d    & 8.265710  & 8.400     & 0.8830301\\\\\n",
       "\t 2-4m      & 8.316589  & 8.455     & 0.7657026\\\\\n",
       "\t 30-45d    & 8.270948  & 8.410     & 0.8223575\\\\\n",
       "\t 4-6m      & 8.357061  & 8.510     & 0.7677667\\\\\n",
       "\t 45d-2m    & 8.235646  & 8.370     & 0.8049807\\\\\n",
       "\t 6m-1y     & 8.495456  & 8.600     & 0.6558489\\\\\n",
       "\\end{tabular}\n"
      ],
      "text/markdown": [
       "\n",
       "AoP_Bucket | mean_OS | median(OLA_Score_45) | SD_OS | \n",
       "|---|---|---|---|---|---|---|---|\n",
       "| >1y       | 8.498636  | 8.620     | 0.6771781 | \n",
       "| 0-15d     | 8.316589  | 8.440     | 0.6944344 | \n",
       "| 15-30d    | 8.265710  | 8.400     | 0.8830301 | \n",
       "| 2-4m      | 8.316589  | 8.455     | 0.7657026 | \n",
       "| 30-45d    | 8.270948  | 8.410     | 0.8223575 | \n",
       "| 4-6m      | 8.357061  | 8.510     | 0.7677667 | \n",
       "| 45d-2m    | 8.235646  | 8.370     | 0.8049807 | \n",
       "| 6m-1y     | 8.495456  | 8.600     | 0.6558489 | \n",
       "\n",
       "\n"
      ],
      "text/plain": [
       "  AoP_Bucket mean_OS  median(OLA_Score_45) SD_OS    \n",
       "1 >1y        8.498636 8.620                0.6771781\n",
       "2 0-15d      8.316589 8.440                0.6944344\n",
       "3 15-30d     8.265710 8.400                0.8830301\n",
       "4 2-4m       8.316589 8.455                0.7657026\n",
       "5 30-45d     8.270948 8.410                0.8223575\n",
       "6 4-6m       8.357061 8.510                0.7677667\n",
       "7 45d-2m     8.235646 8.370                0.8049807\n",
       "8 6m-1y      8.495456 8.600                0.6558489"
      ]
     },
     "metadata": {},
     "output_type": "display_data"
    }
   ],
   "source": [
    "library(\"dplyr\")\n",
    "data_sub %>%\n",
    "  group_by(AoP_Bucket) %>%\n",
    "  summarise(count=sum(OLA_Score_45>0),mean_OS = mean(OLA_Score_45), median(OLA_Score_45), SD_OS = sd(OLA_Score_45))\n"
   ]
  },
  {
   "cell_type": "markdown",
   "metadata": {},
   "source": [
    "## Login Hours vs Demographic Profile"
   ]
  },
  {
   "cell_type": "code",
   "execution_count": 8,
   "metadata": {},
   "outputs": [
    {
     "data": {
      "text/html": [
       "<ol class=list-inline>\n",
       "\t<li>137044</li>\n",
       "\t<li>25</li>\n",
       "</ol>\n"
      ],
      "text/latex": [
       "\\begin{enumerate*}\n",
       "\\item 137044\n",
       "\\item 25\n",
       "\\end{enumerate*}\n"
      ],
      "text/markdown": [
       "1. 137044\n",
       "2. 25\n",
       "\n",
       "\n"
      ],
      "text/plain": [
       "[1] 137044     25"
      ]
     },
     "metadata": {},
     "output_type": "display_data"
    },
    {
     "data": {
      "text/html": [
       "'factor'"
      ],
      "text/latex": [
       "'factor'"
      ],
      "text/markdown": [
       "'factor'"
      ],
      "text/plain": [
       "[1] \"factor\""
      ]
     },
     "metadata": {},
     "output_type": "display_data"
    },
    {
     "data": {
      "text/html": [
       "<table>\n",
       "<thead><tr><th></th><th scope=col>Driver_sugar_id</th><th scope=col>OLA_Score_45</th><th scope=col>AoP_Bucket</th><th scope=col>Age_Bucket</th><th scope=col>D_Marital</th><th scope=col>D_edu</th><th scope=col>LH</th></tr></thead>\n",
       "<tbody>\n",
       "\t<tr><th scope=row>3</th><td>55f4369a-e03e-486f-bcfd-4b4bde9b0002            </td><td>8.52                                            </td><td><span style=white-space:pre-wrap>&gt;1y  </span></td><td>26-40                                           </td><td>Mar                                             </td><td><span style=white-space:pre-wrap>10th  </span>  </td><td>128.64                                          </td></tr>\n",
       "\t<tr><th scope=row>4</th><td>fb945193-39e2-40bd-ab7b-1836e1d7da9d</td><td>9.00                                </td><td>2-4m                                </td><td>26-40                               </td><td>Sin                                 </td><td>10th                                </td><td>125.46                              </td></tr>\n",
       "\t<tr><th scope=row>7</th><td>9cbf74b6-939a-415c-aa78-6799e53a8aac            </td><td>9.23                                            </td><td><span style=white-space:pre-wrap>&gt;1y  </span></td><td>26-40                                           </td><td>Mar                                             </td><td><span style=white-space:pre-wrap>12th  </span>  </td><td>128.91                                          </td></tr>\n",
       "\t<tr><th scope=row>10</th><td>ba569354-5f6e-41ec-8b13-7aac0208ca44            </td><td>9.17                                            </td><td><span style=white-space:pre-wrap>&gt;1y  </span></td><td>41-60                                           </td><td>Mar                                             </td><td>Sch5/9                                          </td><td>133.78                                          </td></tr>\n",
       "\t<tr><th scope=row>14</th><td>bad0cac5-a70e-47b1-985f-864bdec12bd1</td><td>8.51                                </td><td>6m-1y                               </td><td>18-25                               </td><td>Mar                                 </td><td>10th                                </td><td>111.54                              </td></tr>\n",
       "\t<tr><th scope=row>20</th><td>ac2226be-f31f-402d-784b-5565bf039a29            </td><td>9.19                                            </td><td><span style=white-space:pre-wrap>&gt;1y  </span></td><td>26-40                                           </td><td>Mar                                             </td><td><span style=white-space:pre-wrap>10th  </span>  </td><td>101.80                                          </td></tr>\n",
       "</tbody>\n",
       "</table>\n"
      ],
      "text/latex": [
       "\\begin{tabular}{r|lllllll}\n",
       "  & Driver\\_sugar\\_id & OLA\\_Score\\_45 & AoP\\_Bucket & Age\\_Bucket & D\\_Marital & D\\_edu & LH\\\\\n",
       "\\hline\n",
       "\t3 & 55f4369a-e03e-486f-bcfd-4b4bde9b0002 & 8.52                                 & >1y                                  & 26-40                                & Mar                                  & 10th                                 & 128.64                              \\\\\n",
       "\t4 & fb945193-39e2-40bd-ab7b-1836e1d7da9d & 9.00                                 & 2-4m                                 & 26-40                                & Sin                                  & 10th                                 & 125.46                              \\\\\n",
       "\t7 & 9cbf74b6-939a-415c-aa78-6799e53a8aac & 9.23                                 & >1y                                  & 26-40                                & Mar                                  & 12th                                 & 128.91                              \\\\\n",
       "\t10 & ba569354-5f6e-41ec-8b13-7aac0208ca44 & 9.17                                 & >1y                                  & 41-60                                & Mar                                  & Sch5/9                               & 133.78                              \\\\\n",
       "\t14 & bad0cac5-a70e-47b1-985f-864bdec12bd1 & 8.51                                 & 6m-1y                                & 18-25                                & Mar                                  & 10th                                 & 111.54                              \\\\\n",
       "\t20 & ac2226be-f31f-402d-784b-5565bf039a29 & 9.19                                 & >1y                                  & 26-40                                & Mar                                  & 10th                                 & 101.80                              \\\\\n",
       "\\end{tabular}\n"
      ],
      "text/markdown": [
       "\n",
       "| <!--/--> | Driver_sugar_id | OLA_Score_45 | AoP_Bucket | Age_Bucket | D_Marital | D_edu | LH | \n",
       "|---|---|---|---|---|---|\n",
       "| 3 | 55f4369a-e03e-486f-bcfd-4b4bde9b0002 | 8.52                                 | >1y                                  | 26-40                                | Mar                                  | 10th                                 | 128.64                               | \n",
       "| 4 | fb945193-39e2-40bd-ab7b-1836e1d7da9d | 9.00                                 | 2-4m                                 | 26-40                                | Sin                                  | 10th                                 | 125.46                               | \n",
       "| 7 | 9cbf74b6-939a-415c-aa78-6799e53a8aac | 9.23                                 | >1y                                  | 26-40                                | Mar                                  | 12th                                 | 128.91                               | \n",
       "| 10 | ba569354-5f6e-41ec-8b13-7aac0208ca44 | 9.17                                 | >1y                                  | 41-60                                | Mar                                  | Sch5/9                               | 133.78                               | \n",
       "| 14 | bad0cac5-a70e-47b1-985f-864bdec12bd1 | 8.51                                 | 6m-1y                                | 18-25                                | Mar                                  | 10th                                 | 111.54                               | \n",
       "| 20 | ac2226be-f31f-402d-784b-5565bf039a29 | 9.19                                 | >1y                                  | 26-40                                | Mar                                  | 10th                                 | 101.80                               | \n",
       "\n",
       "\n"
      ],
      "text/plain": [
       "   Driver_sugar_id                      OLA_Score_45 AoP_Bucket Age_Bucket\n",
       "3  55f4369a-e03e-486f-bcfd-4b4bde9b0002 8.52         >1y        26-40     \n",
       "4  fb945193-39e2-40bd-ab7b-1836e1d7da9d 9.00         2-4m       26-40     \n",
       "7  9cbf74b6-939a-415c-aa78-6799e53a8aac 9.23         >1y        26-40     \n",
       "10 ba569354-5f6e-41ec-8b13-7aac0208ca44 9.17         >1y        41-60     \n",
       "14 bad0cac5-a70e-47b1-985f-864bdec12bd1 8.51         6m-1y      18-25     \n",
       "20 ac2226be-f31f-402d-784b-5565bf039a29 9.19         >1y        26-40     \n",
       "   D_Marital D_edu  LH    \n",
       "3  Mar       10th   128.64\n",
       "4  Sin       10th   125.46\n",
       "7  Mar       12th   128.91\n",
       "10 Mar       Sch5/9 133.78\n",
       "14 Mar       10th   111.54\n",
       "20 Mar       10th   101.80"
      ]
     },
     "metadata": {},
     "output_type": "display_data"
    },
    {
     "data": {
      "text/html": [
       "<ol class=list-inline>\n",
       "\t<li>46570</li>\n",
       "\t<li>7</li>\n",
       "</ol>\n"
      ],
      "text/latex": [
       "\\begin{enumerate*}\n",
       "\\item 46570\n",
       "\\item 7\n",
       "\\end{enumerate*}\n"
      ],
      "text/markdown": [
       "1. 46570\n",
       "2. 7\n",
       "\n",
       "\n"
      ],
      "text/plain": [
       "[1] 46570     7"
      ]
     },
     "metadata": {},
     "output_type": "display_data"
    },
    {
     "data": {
      "text/html": [
       "0"
      ],
      "text/latex": [
       "0"
      ],
      "text/markdown": [
       "0"
      ],
      "text/plain": [
       "[1] 0"
      ]
     },
     "metadata": {},
     "output_type": "display_data"
    },
    {
     "data": {
      "text/html": [
       "'numeric'"
      ],
      "text/latex": [
       "'numeric'"
      ],
      "text/markdown": [
       "'numeric'"
      ],
      "text/plain": [
       "[1] \"numeric\""
      ]
     },
     "metadata": {},
     "output_type": "display_data"
    }
   ],
   "source": [
    "data_lh=subset(data,data$Leasing==\"NL\")\n",
    "dim(data_lh)\n",
    "data_lh=data_lh[,c(1,7,18,20,22,23,24)]\n",
    "data_lh=na.omit(data_lh)\n",
    "class(data_lh$LH)\n",
    "data_lh$LH=as.numeric(as.character(data_lh$LH))\n",
    "head(data_lh)\n",
    "dim(data_lh)\n",
    "sum(is.na(data_lh$LH))\n",
    "class(data_lh$LH)"
   ]
  },
  {
   "cell_type": "markdown",
   "metadata": {},
   "source": [
    "### Login Hours vs Education"
   ]
  },
  {
   "cell_type": "code",
   "execution_count": 9,
   "metadata": {},
   "outputs": [
    {
     "data": {
      "text/html": [
       "<table>\n",
       "<thead><tr><th scope=col>D_edu</th><th scope=col>mean_LH</th><th scope=col>median_LH</th><th scope=col>SD_LH</th></tr></thead>\n",
       "<tbody>\n",
       "\t<tr><td>10th    </td><td>41.51993</td><td>38.740  </td><td>27.10043</td></tr>\n",
       "\t<tr><td>12th    </td><td>39.57596</td><td>36.485  </td><td>26.27540</td></tr>\n",
       "\t<tr><td>Grad/PG </td><td>38.38626</td><td>34.775  </td><td>26.66746</td></tr>\n",
       "\t<tr><td>Ilt     </td><td>48.38273</td><td>45.800  </td><td>29.04055</td></tr>\n",
       "\t<tr><td>Sch4    </td><td>46.32159</td><td>44.890  </td><td>28.30693</td></tr>\n",
       "\t<tr><td>Sch5/9  </td><td>44.67877</td><td>42.680  </td><td>27.21490</td></tr>\n",
       "</tbody>\n",
       "</table>\n"
      ],
      "text/latex": [
       "\\begin{tabular}{r|llll}\n",
       " D\\_edu & mean\\_LH & median\\_LH & SD\\_LH\\\\\n",
       "\\hline\n",
       "\t 10th     & 41.51993 & 38.740   & 27.10043\\\\\n",
       "\t 12th     & 39.57596 & 36.485   & 26.27540\\\\\n",
       "\t Grad/PG  & 38.38626 & 34.775   & 26.66746\\\\\n",
       "\t Ilt      & 48.38273 & 45.800   & 29.04055\\\\\n",
       "\t Sch4     & 46.32159 & 44.890   & 28.30693\\\\\n",
       "\t Sch5/9   & 44.67877 & 42.680   & 27.21490\\\\\n",
       "\\end{tabular}\n"
      ],
      "text/markdown": [
       "\n",
       "D_edu | mean_LH | median_LH | SD_LH | \n",
       "|---|---|---|---|---|---|\n",
       "| 10th     | 41.51993 | 38.740   | 27.10043 | \n",
       "| 12th     | 39.57596 | 36.485   | 26.27540 | \n",
       "| Grad/PG  | 38.38626 | 34.775   | 26.66746 | \n",
       "| Ilt      | 48.38273 | 45.800   | 29.04055 | \n",
       "| Sch4     | 46.32159 | 44.890   | 28.30693 | \n",
       "| Sch5/9   | 44.67877 | 42.680   | 27.21490 | \n",
       "\n",
       "\n"
      ],
      "text/plain": [
       "  D_edu   mean_LH  median_LH SD_LH   \n",
       "1 10th    41.51993 38.740    27.10043\n",
       "2 12th    39.57596 36.485    26.27540\n",
       "3 Grad/PG 38.38626 34.775    26.66746\n",
       "4 Ilt     48.38273 45.800    29.04055\n",
       "5 Sch4    46.32159 44.890    28.30693\n",
       "6 Sch5/9  44.67877 42.680    27.21490"
      ]
     },
     "metadata": {},
     "output_type": "display_data"
    }
   ],
   "source": [
    "library(\"dplyr\")\n",
    "data_lh %>%\n",
    "  group_by(D_edu) %>%\n",
    "  summarise(count=sum(LH>0),mean_LH = mean(LH),  median_LH=median(LH), SD_LH=sd(LH))\n",
    "\n",
    "\n"
   ]
  },
  {
   "cell_type": "markdown",
   "metadata": {},
   "source": [
    "###  Login Hours vs Marital Status"
   ]
  },
  {
   "cell_type": "code",
   "execution_count": 10,
   "metadata": {},
   "outputs": [
    {
     "data": {
      "text/html": [
       "<table>\n",
       "<thead><tr><th scope=col>D_Marital</th><th scope=col>mean_LH</th><th scope=col>median_LH</th><th scope=col>SD_LH</th></tr></thead>\n",
       "<tbody>\n",
       "\t<tr><td>Eng     </td><td>41.70288</td><td>38.38   </td><td>26.64807</td></tr>\n",
       "\t<tr><td>Mar     </td><td>40.94040</td><td>38.03   </td><td>26.83053</td></tr>\n",
       "\t<tr><td>Sep/Div </td><td>41.51770</td><td>37.84   </td><td>28.19586</td></tr>\n",
       "\t<tr><td>Sin     </td><td>43.22748</td><td>40.45   </td><td>27.62288</td></tr>\n",
       "\t<tr><td>Wid     </td><td>49.11352</td><td>45.56   </td><td>25.25721</td></tr>\n",
       "</tbody>\n",
       "</table>\n"
      ],
      "text/latex": [
       "\\begin{tabular}{r|llll}\n",
       " D\\_Marital & mean\\_LH & median\\_LH & SD\\_LH\\\\\n",
       "\\hline\n",
       "\t Eng      & 41.70288 & 38.38    & 26.64807\\\\\n",
       "\t Mar      & 40.94040 & 38.03    & 26.83053\\\\\n",
       "\t Sep/Div  & 41.51770 & 37.84    & 28.19586\\\\\n",
       "\t Sin      & 43.22748 & 40.45    & 27.62288\\\\\n",
       "\t Wid      & 49.11352 & 45.56    & 25.25721\\\\\n",
       "\\end{tabular}\n"
      ],
      "text/markdown": [
       "\n",
       "D_Marital | mean_LH | median_LH | SD_LH | \n",
       "|---|---|---|---|---|\n",
       "| Eng      | 41.70288 | 38.38    | 26.64807 | \n",
       "| Mar      | 40.94040 | 38.03    | 26.83053 | \n",
       "| Sep/Div  | 41.51770 | 37.84    | 28.19586 | \n",
       "| Sin      | 43.22748 | 40.45    | 27.62288 | \n",
       "| Wid      | 49.11352 | 45.56    | 25.25721 | \n",
       "\n",
       "\n"
      ],
      "text/plain": [
       "  D_Marital mean_LH  median_LH SD_LH   \n",
       "1 Eng       41.70288 38.38     26.64807\n",
       "2 Mar       40.94040 38.03     26.83053\n",
       "3 Sep/Div   41.51770 37.84     28.19586\n",
       "4 Sin       43.22748 40.45     27.62288\n",
       "5 Wid       49.11352 45.56     25.25721"
      ]
     },
     "metadata": {},
     "output_type": "display_data"
    }
   ],
   "source": [
    "library(\"dplyr\")\n",
    "data_lh %>%\n",
    "  group_by(D_Marital) %>%\n",
    "  summarise(count=sum(LH>0),mean_LH = mean(LH),  median_LH=median(LH), SD_LH=sd(LH))\n",
    "\n",
    "\n"
   ]
  },
  {
   "cell_type": "markdown",
   "metadata": {},
   "source": [
    "### Login Hours vs Age Bucket"
   ]
  },
  {
   "cell_type": "code",
   "execution_count": 11,
   "metadata": {},
   "outputs": [
    {
     "data": {
      "text/html": [
       "<table>\n",
       "<thead><tr><th scope=col>Age_Bucket</th><th scope=col>mean_LH</th><th scope=col>median_LH</th><th scope=col>SD_LH</th></tr></thead>\n",
       "<tbody>\n",
       "\t<tr><td>&gt;=60 </td><td>39.70406</td><td>37.895  </td><td>26.29803</td></tr>\n",
       "\t<tr><td>18-25   </td><td>44.31299</td><td>41.870  </td><td>27.74782</td></tr>\n",
       "\t<tr><td>26-40   </td><td>41.16236</td><td>38.235  </td><td>26.99093</td></tr>\n",
       "\t<tr><td>41-60   </td><td>40.16758</td><td>37.370  </td><td>26.25617</td></tr>\n",
       "</tbody>\n",
       "</table>\n"
      ],
      "text/latex": [
       "\\begin{tabular}{r|llll}\n",
       " Age\\_Bucket & mean\\_LH & median\\_LH & SD\\_LH\\\\\n",
       "\\hline\n",
       "\t >=60     & 39.70406 & 37.895   & 26.29803\\\\\n",
       "\t 18-25    & 44.31299 & 41.870   & 27.74782\\\\\n",
       "\t 26-40    & 41.16236 & 38.235   & 26.99093\\\\\n",
       "\t 41-60    & 40.16758 & 37.370   & 26.25617\\\\\n",
       "\\end{tabular}\n"
      ],
      "text/markdown": [
       "\n",
       "Age_Bucket | mean_LH | median_LH | SD_LH | \n",
       "|---|---|---|---|\n",
       "| >=60     | 39.70406 | 37.895   | 26.29803 | \n",
       "| 18-25    | 44.31299 | 41.870   | 27.74782 | \n",
       "| 26-40    | 41.16236 | 38.235   | 26.99093 | \n",
       "| 41-60    | 40.16758 | 37.370   | 26.25617 | \n",
       "\n",
       "\n"
      ],
      "text/plain": [
       "  Age_Bucket mean_LH  median_LH SD_LH   \n",
       "1 >=60       39.70406 37.895    26.29803\n",
       "2 18-25      44.31299 41.870    27.74782\n",
       "3 26-40      41.16236 38.235    26.99093\n",
       "4 41-60      40.16758 37.370    26.25617"
      ]
     },
     "metadata": {},
     "output_type": "display_data"
    }
   ],
   "source": [
    "library(\"dplyr\")\n",
    "data_lh %>%\n",
    "  group_by(Age_Bucket) %>%\n",
    "  summarise(count=sum(LH>0),mean_LH = mean(LH),  median_LH=median(LH), SD_LH=sd(LH))\n",
    "\n",
    "\n"
   ]
  },
  {
   "cell_type": "markdown",
   "metadata": {},
   "source": [
    "# ANALYSIS BASED ON NEW OLA SCORE "
   ]
  },
  {
   "cell_type": "code",
   "execution_count": 34,
   "metadata": {},
   "outputs": [
    {
     "data": {
      "text/html": [
       "<table>\n",
       "<thead><tr><th></th><th scope=col>Driver_sugar_id</th><th scope=col>New_OS</th><th scope=col>AoP_Bucket</th><th scope=col>Age_Bucket</th><th scope=col>D_Marital</th><th scope=col>D_edu</th><th scope=col>LH</th></tr></thead>\n",
       "<tbody>\n",
       "\t<tr><th scope=row>3</th><td>55f4369a-e03e-486f-bcfd-4b4bde9b0002            </td><td>8.635478                                        </td><td><span style=white-space:pre-wrap>&gt;1y  </span></td><td>26-40                                           </td><td>Mar                                             </td><td><span style=white-space:pre-wrap>10th  </span>  </td><td>128.64                                          </td></tr>\n",
       "\t<tr><th scope=row>4</th><td>fb945193-39e2-40bd-ab7b-1836e1d7da9d</td><td>9.082847                            </td><td>2-4m                                </td><td>26-40                               </td><td>Sin                                 </td><td>10th                                </td><td>125.46                              </td></tr>\n",
       "\t<tr><th scope=row>7</th><td>9cbf74b6-939a-415c-aa78-6799e53a8aac            </td><td>8.819482                                        </td><td><span style=white-space:pre-wrap>&gt;1y  </span></td><td>26-40                                           </td><td>Mar                                             </td><td><span style=white-space:pre-wrap>12th  </span>  </td><td>128.91                                          </td></tr>\n",
       "\t<tr><th scope=row>10</th><td>ba569354-5f6e-41ec-8b13-7aac0208ca44            </td><td>8.512768                                        </td><td><span style=white-space:pre-wrap>&gt;1y  </span></td><td>41-60                                           </td><td>Mar                                             </td><td>Sch5/9                                          </td><td>133.78                                          </td></tr>\n",
       "\t<tr><th scope=row>14</th><td>bad0cac5-a70e-47b1-985f-864bdec12bd1</td><td>7.998842                            </td><td>6m-1y                               </td><td>18-25                               </td><td>Mar                                 </td><td>10th                                </td><td>111.54                              </td></tr>\n",
       "\t<tr><th scope=row>20</th><td>ac2226be-f31f-402d-784b-5565bf039a29            </td><td>8.754233                                        </td><td><span style=white-space:pre-wrap>&gt;1y  </span></td><td>26-40                                           </td><td>Mar                                             </td><td><span style=white-space:pre-wrap>10th  </span>  </td><td>101.8                                           </td></tr>\n",
       "</tbody>\n",
       "</table>\n"
      ],
      "text/latex": [
       "\\begin{tabular}{r|lllllll}\n",
       "  & Driver\\_sugar\\_id & New\\_OS & AoP\\_Bucket & Age\\_Bucket & D\\_Marital & D\\_edu & LH\\\\\n",
       "\\hline\n",
       "\t3 & 55f4369a-e03e-486f-bcfd-4b4bde9b0002 & 8.635478                             & >1y                                  & 26-40                                & Mar                                  & 10th                                 & 128.64                              \\\\\n",
       "\t4 & fb945193-39e2-40bd-ab7b-1836e1d7da9d & 9.082847                             & 2-4m                                 & 26-40                                & Sin                                  & 10th                                 & 125.46                              \\\\\n",
       "\t7 & 9cbf74b6-939a-415c-aa78-6799e53a8aac & 8.819482                             & >1y                                  & 26-40                                & Mar                                  & 12th                                 & 128.91                              \\\\\n",
       "\t10 & ba569354-5f6e-41ec-8b13-7aac0208ca44 & 8.512768                             & >1y                                  & 41-60                                & Mar                                  & Sch5/9                               & 133.78                              \\\\\n",
       "\t14 & bad0cac5-a70e-47b1-985f-864bdec12bd1 & 7.998842                             & 6m-1y                                & 18-25                                & Mar                                  & 10th                                 & 111.54                              \\\\\n",
       "\t20 & ac2226be-f31f-402d-784b-5565bf039a29 & 8.754233                             & >1y                                  & 26-40                                & Mar                                  & 10th                                 & 101.8                               \\\\\n",
       "\\end{tabular}\n"
      ],
      "text/markdown": [
       "\n",
       "| <!--/--> | Driver_sugar_id | New_OS | AoP_Bucket | Age_Bucket | D_Marital | D_edu | LH | \n",
       "|---|---|---|---|---|---|\n",
       "| 3 | 55f4369a-e03e-486f-bcfd-4b4bde9b0002 | 8.635478                             | >1y                                  | 26-40                                | Mar                                  | 10th                                 | 128.64                               | \n",
       "| 4 | fb945193-39e2-40bd-ab7b-1836e1d7da9d | 9.082847                             | 2-4m                                 | 26-40                                | Sin                                  | 10th                                 | 125.46                               | \n",
       "| 7 | 9cbf74b6-939a-415c-aa78-6799e53a8aac | 8.819482                             | >1y                                  | 26-40                                | Mar                                  | 12th                                 | 128.91                               | \n",
       "| 10 | ba569354-5f6e-41ec-8b13-7aac0208ca44 | 8.512768                             | >1y                                  | 41-60                                | Mar                                  | Sch5/9                               | 133.78                               | \n",
       "| 14 | bad0cac5-a70e-47b1-985f-864bdec12bd1 | 7.998842                             | 6m-1y                                | 18-25                                | Mar                                  | 10th                                 | 111.54                               | \n",
       "| 20 | ac2226be-f31f-402d-784b-5565bf039a29 | 8.754233                             | >1y                                  | 26-40                                | Mar                                  | 10th                                 | 101.8                                | \n",
       "\n",
       "\n"
      ],
      "text/plain": [
       "   Driver_sugar_id                      New_OS   AoP_Bucket Age_Bucket\n",
       "3  55f4369a-e03e-486f-bcfd-4b4bde9b0002 8.635478 >1y        26-40     \n",
       "4  fb945193-39e2-40bd-ab7b-1836e1d7da9d 9.082847 2-4m       26-40     \n",
       "7  9cbf74b6-939a-415c-aa78-6799e53a8aac 8.819482 >1y        26-40     \n",
       "10 ba569354-5f6e-41ec-8b13-7aac0208ca44 8.512768 >1y        41-60     \n",
       "14 bad0cac5-a70e-47b1-985f-864bdec12bd1 7.998842 6m-1y      18-25     \n",
       "20 ac2226be-f31f-402d-784b-5565bf039a29 8.754233 >1y        26-40     \n",
       "   D_Marital D_edu  LH    \n",
       "3  Mar       10th   128.64\n",
       "4  Sin       10th   125.46\n",
       "7  Mar       12th   128.91\n",
       "10 Mar       Sch5/9 133.78\n",
       "14 Mar       10th   111.54\n",
       "20 Mar       10th   101.8 "
      ]
     },
     "metadata": {},
     "output_type": "display_data"
    }
   ],
   "source": [
    "#taking only relevant columns for New OLA Score vs Demographic proflie\n",
    "data_sub=data[,c(1,8,19,21,23,24,25)]\n",
    "head(data_sub)"
   ]
  },
  {
   "cell_type": "markdown",
   "metadata": {},
   "source": [
    "## New OLA Score vs Education"
   ]
  },
  {
   "cell_type": "code",
   "execution_count": 35,
   "metadata": {},
   "outputs": [
    {
     "data": {
      "text/html": [
       "6.72545126036268"
      ],
      "text/latex": [
       "6.72545126036268"
      ],
      "text/markdown": [
       "6.72545126036268"
      ],
      "text/plain": [
       "[1] 6.725451"
      ]
     },
     "metadata": {},
     "output_type": "display_data"
    },
    {
     "data": {
      "text/html": [
       "<table>\n",
       "<thead><tr><th scope=col>D_edu</th><th scope=col>count</th><th scope=col>mean_OS</th><th scope=col>median(New_OS)</th><th scope=col>SD_OS</th></tr></thead>\n",
       "<tbody>\n",
       "\t<tr><td>10th    </td><td>15457   </td><td>6.744580</td><td>7.022861</td><td>1.372939</td></tr>\n",
       "\t<tr><td>12th    </td><td> 8997   </td><td>6.673456</td><td>6.942739</td><td>1.366327</td></tr>\n",
       "\t<tr><td>Grad/PG </td><td> 5023   </td><td>6.623433</td><td>6.870152</td><td>1.360749</td></tr>\n",
       "\t<tr><td>Ilt     </td><td>  634   </td><td>6.895210</td><td>7.214128</td><td>1.360909</td></tr>\n",
       "\t<tr><td>Sch4    </td><td>  655   </td><td>6.863285</td><td>7.098019</td><td>1.347938</td></tr>\n",
       "\t<tr><td>Sch5/9  </td><td> 7414   </td><td>6.791091</td><td>7.068716</td><td>1.350382</td></tr>\n",
       "</tbody>\n",
       "</table>\n"
      ],
      "text/latex": [
       "\\begin{tabular}{r|lllll}\n",
       " D\\_edu & count & mean\\_OS & median(New\\_OS) & SD\\_OS\\\\\n",
       "\\hline\n",
       "\t 10th     & 15457    & 6.744580 & 7.022861 & 1.372939\\\\\n",
       "\t 12th     &  8997    & 6.673456 & 6.942739 & 1.366327\\\\\n",
       "\t Grad/PG  &  5023    & 6.623433 & 6.870152 & 1.360749\\\\\n",
       "\t Ilt      &   634    & 6.895210 & 7.214128 & 1.360909\\\\\n",
       "\t Sch4     &   655    & 6.863285 & 7.098019 & 1.347938\\\\\n",
       "\t Sch5/9   &  7414    & 6.791091 & 7.068716 & 1.350382\\\\\n",
       "\\end{tabular}\n"
      ],
      "text/markdown": [
       "\n",
       "D_edu | count | mean_OS | median(New_OS) | SD_OS | \n",
       "|---|---|---|---|---|---|\n",
       "| 10th     | 15457    | 6.744580 | 7.022861 | 1.372939 | \n",
       "| 12th     |  8997    | 6.673456 | 6.942739 | 1.366327 | \n",
       "| Grad/PG  |  5023    | 6.623433 | 6.870152 | 1.360749 | \n",
       "| Ilt      |   634    | 6.895210 | 7.214128 | 1.360909 | \n",
       "| Sch4     |   655    | 6.863285 | 7.098019 | 1.347938 | \n",
       "| Sch5/9   |  7414    | 6.791091 | 7.068716 | 1.350382 | \n",
       "\n",
       "\n"
      ],
      "text/plain": [
       "  D_edu   count mean_OS  median(New_OS) SD_OS   \n",
       "1 10th    15457 6.744580 7.022861       1.372939\n",
       "2 12th     8997 6.673456 6.942739       1.366327\n",
       "3 Grad/PG  5023 6.623433 6.870152       1.360749\n",
       "4 Ilt       634 6.895210 7.214128       1.360909\n",
       "5 Sch4      655 6.863285 7.098019       1.347938\n",
       "6 Sch5/9   7414 6.791091 7.068716       1.350382"
      ]
     },
     "metadata": {},
     "output_type": "display_data"
    }
   ],
   "source": [
    "\n",
    "library(\"dplyr\")\n",
    "mean(data_sub$New_OS)\n",
    "data_sub %>%\n",
    "  group_by(D_edu) %>%\n",
    "   summarise(count=sum(New_OS>0) , mean_OS = mean(New_OS), median(New_OS), SD_OS = sd(New_OS))"
   ]
  },
  {
   "cell_type": "markdown",
   "metadata": {},
   "source": [
    "## New OLA Score vs Marital Status"
   ]
  },
  {
   "cell_type": "code",
   "execution_count": 37,
   "metadata": {},
   "outputs": [
    {
     "data": {
      "text/html": [
       "<table>\n",
       "<thead><tr><th scope=col>D_Marital</th><th scope=col>count</th><th scope=col>mean_OS</th><th scope=col>median(New_OS)</th><th scope=col>SD_OS</th></tr></thead>\n",
       "<tbody>\n",
       "\t<tr><td>Eng     </td><td>  349   </td><td>6.728974</td><td>6.972036</td><td>1.332782</td></tr>\n",
       "\t<tr><td>Mar     </td><td>29157   </td><td>6.728542</td><td>6.999346</td><td>1.365900</td></tr>\n",
       "\t<tr><td>Sep/Div </td><td>   97   </td><td>6.780439</td><td>6.996451</td><td>1.249924</td></tr>\n",
       "\t<tr><td>Sin     </td><td> 8513   </td><td>6.710844</td><td>7.005882</td><td>1.369847</td></tr>\n",
       "\t<tr><td>Wid     </td><td>   64   </td><td>7.157945</td><td>7.477521</td><td>1.256867</td></tr>\n",
       "</tbody>\n",
       "</table>\n"
      ],
      "text/latex": [
       "\\begin{tabular}{r|lllll}\n",
       " D\\_Marital & count & mean\\_OS & median(New\\_OS) & SD\\_OS\\\\\n",
       "\\hline\n",
       "\t Eng      &   349    & 6.728974 & 6.972036 & 1.332782\\\\\n",
       "\t Mar      & 29157    & 6.728542 & 6.999346 & 1.365900\\\\\n",
       "\t Sep/Div  &    97    & 6.780439 & 6.996451 & 1.249924\\\\\n",
       "\t Sin      &  8513    & 6.710844 & 7.005882 & 1.369847\\\\\n",
       "\t Wid      &    64    & 7.157945 & 7.477521 & 1.256867\\\\\n",
       "\\end{tabular}\n"
      ],
      "text/markdown": [
       "\n",
       "D_Marital | count | mean_OS | median(New_OS) | SD_OS | \n",
       "|---|---|---|---|---|\n",
       "| Eng      |   349    | 6.728974 | 6.972036 | 1.332782 | \n",
       "| Mar      | 29157    | 6.728542 | 6.999346 | 1.365900 | \n",
       "| Sep/Div  |    97    | 6.780439 | 6.996451 | 1.249924 | \n",
       "| Sin      |  8513    | 6.710844 | 7.005882 | 1.369847 | \n",
       "| Wid      |    64    | 7.157945 | 7.477521 | 1.256867 | \n",
       "\n",
       "\n"
      ],
      "text/plain": [
       "  D_Marital count mean_OS  median(New_OS) SD_OS   \n",
       "1 Eng         349 6.728974 6.972036       1.332782\n",
       "2 Mar       29157 6.728542 6.999346       1.365900\n",
       "3 Sep/Div      97 6.780439 6.996451       1.249924\n",
       "4 Sin        8513 6.710844 7.005882       1.369847\n",
       "5 Wid          64 7.157945 7.477521       1.256867"
      ]
     },
     "metadata": {},
     "output_type": "display_data"
    }
   ],
   "source": [
    "library(\"dplyr\")\n",
    "data_sub %>%\n",
    "  group_by(D_Marital) %>%\n",
    "    summarise(count=sum(New_OS>0),mean_OS = mean(New_OS), median(New_OS), SD_OS = sd(New_OS))"
   ]
  },
  {
   "cell_type": "markdown",
   "metadata": {},
   "source": [
    "## New OLA Score vs Partner's Age"
   ]
  },
  {
   "cell_type": "code",
   "execution_count": 38,
   "metadata": {},
   "outputs": [
    {
     "data": {
      "text/html": [
       "<table>\n",
       "<thead><tr><th scope=col>Age_Bucket</th><th scope=col>count</th><th scope=col>mean_OS</th><th scope=col>median(New_OS)</th><th scope=col>SD_OS</th></tr></thead>\n",
       "<tbody>\n",
       "\t<tr><td>&gt;=60                                      </td><td><span style=white-space:pre-wrap>  102</span></td><td>6.628572                                     </td><td>7.000712                                     </td><td>1.412818                                     </td></tr>\n",
       "\t<tr><td>18-25   </td><td> 5360   </td><td>6.647502</td><td>6.925342</td><td>1.374854</td></tr>\n",
       "\t<tr><td>26-40   </td><td>27652   </td><td>6.732537</td><td>7.010500</td><td>1.360423</td></tr>\n",
       "\t<tr><td>41-60   </td><td> 5066   </td><td>6.771197</td><td>7.038806</td><td>1.383769</td></tr>\n",
       "</tbody>\n",
       "</table>\n"
      ],
      "text/latex": [
       "\\begin{tabular}{r|lllll}\n",
       " Age\\_Bucket & count & mean\\_OS & median(New\\_OS) & SD\\_OS\\\\\n",
       "\\hline\n",
       "\t >=60     &   102    & 6.628572 & 7.000712 & 1.412818\\\\\n",
       "\t 18-25    &  5360    & 6.647502 & 6.925342 & 1.374854\\\\\n",
       "\t 26-40    & 27652    & 6.732537 & 7.010500 & 1.360423\\\\\n",
       "\t 41-60    &  5066    & 6.771197 & 7.038806 & 1.383769\\\\\n",
       "\\end{tabular}\n"
      ],
      "text/markdown": [
       "\n",
       "Age_Bucket | count | mean_OS | median(New_OS) | SD_OS | \n",
       "|---|---|---|---|\n",
       "| >=60     |   102    | 6.628572 | 7.000712 | 1.412818 | \n",
       "| 18-25    |  5360    | 6.647502 | 6.925342 | 1.374854 | \n",
       "| 26-40    | 27652    | 6.732537 | 7.010500 | 1.360423 | \n",
       "| 41-60    |  5066    | 6.771197 | 7.038806 | 1.383769 | \n",
       "\n",
       "\n"
      ],
      "text/plain": [
       "  Age_Bucket count mean_OS  median(New_OS) SD_OS   \n",
       "1 >=60         102 6.628572 7.000712       1.412818\n",
       "2 18-25       5360 6.647502 6.925342       1.374854\n",
       "3 26-40      27652 6.732537 7.010500       1.360423\n",
       "4 41-60       5066 6.771197 7.038806       1.383769"
      ]
     },
     "metadata": {},
     "output_type": "display_data"
    }
   ],
   "source": [
    "library(\"dplyr\")\n",
    "data_sub %>%\n",
    "  group_by(Age_Bucket) %>%\n",
    "    summarise(count=sum(New_OS>0), mean_OS = mean(New_OS), median(New_OS), SD_OS = sd(New_OS))"
   ]
  }
 ],
 "metadata": {
  "kernelspec": {
   "display_name": "R",
   "language": "R",
   "name": "ir"
  },
  "language_info": {
   "codemirror_mode": "r",
   "file_extension": ".r",
   "mimetype": "text/x-r-source",
   "name": "R",
   "pygments_lexer": "r",
   "version": "3.4.1"
  }
 },
 "nbformat": 4,
 "nbformat_minor": 2
}
