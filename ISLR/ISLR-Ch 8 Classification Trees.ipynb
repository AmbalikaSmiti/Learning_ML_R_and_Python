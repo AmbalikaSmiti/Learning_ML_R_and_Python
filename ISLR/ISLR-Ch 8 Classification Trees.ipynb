{
 "cells": [
  {
   "cell_type": "markdown",
   "metadata": {},
   "source": [
    "# Fitting Classification Trees\n",
    "The tree library is used to construct classification and regression trees"
   ]
  },
  {
   "cell_type": "code",
   "execution_count": 62,
   "metadata": {
    "collapsed": true
   },
   "outputs": [],
   "source": [
    "library(tree)\n",
    "rm(list=ls())"
   ]
  },
  {
   "cell_type": "code",
   "execution_count": 63,
   "metadata": {},
   "outputs": [
    {
     "name": "stderr",
     "output_type": "stream",
     "text": [
      "The following objects are masked from Carseats (pos = 3):\n",
      "\n",
      "    Advertising, Age, CompPrice, Education, Income, Population, Price,\n",
      "    Sales, ShelveLoc, Urban, US\n",
      "\n",
      "The following objects are masked from Carseats (pos = 5):\n",
      "\n",
      "    Advertising, Age, CompPrice, Education, Income, Population, Price,\n",
      "    Sales, ShelveLoc, Urban, US\n",
      "\n",
      "The following objects are masked from Carseats (pos = 6):\n",
      "\n",
      "    Advertising, Age, CompPrice, Education, Income, Population, Price,\n",
      "    Sales, ShelveLoc, Urban, US\n",
      "\n",
      "The following objects are masked from Carseats (pos = 7):\n",
      "\n",
      "    Advertising, Age, CompPrice, Education, Income, Population, Price,\n",
      "    Sales, ShelveLoc, Urban, US\n",
      "\n",
      "The following objects are masked from Carseats (pos = 8):\n",
      "\n",
      "    Advertising, Age, CompPrice, Education, Income, Population, Price,\n",
      "    Sales, ShelveLoc, Urban, US\n",
      "\n",
      "The following objects are masked from Carseats (pos = 9):\n",
      "\n",
      "    Advertising, Age, CompPrice, Education, Income, Population, Price,\n",
      "    Sales, ShelveLoc, Urban, US\n",
      "\n"
     ]
    }
   ],
   "source": [
    "#Carseats data\n",
    "library(ISLR)\n",
    "attach(Carseats)\n",
    "High=ifelse (Sales<=8,\"No\",\"Yes\") # created output column"
   ]
  },
  {
   "cell_type": "code",
   "execution_count": 64,
   "metadata": {},
   "outputs": [
    {
     "data": {
      "text/html": [
       "<table>\n",
       "<thead><tr><th scope=col>Sales</th><th scope=col>CompPrice</th><th scope=col>Income</th><th scope=col>Advertising</th><th scope=col>Population</th><th scope=col>Price</th><th scope=col>ShelveLoc</th><th scope=col>Age</th><th scope=col>Education</th><th scope=col>Urban</th><th scope=col>US</th><th scope=col>High</th></tr></thead>\n",
       "<tbody>\n",
       "\t<tr><td> 9.50 </td><td>138   </td><td> 73   </td><td>11    </td><td>276   </td><td>120   </td><td>Bad   </td><td>42    </td><td>17    </td><td>Yes   </td><td>Yes   </td><td>Yes   </td></tr>\n",
       "\t<tr><td>11.22 </td><td>111   </td><td> 48   </td><td>16    </td><td>260   </td><td> 83   </td><td>Good  </td><td>65    </td><td>10    </td><td>Yes   </td><td>Yes   </td><td>Yes   </td></tr>\n",
       "\t<tr><td>10.06 </td><td>113   </td><td> 35   </td><td>10    </td><td>269   </td><td> 80   </td><td>Medium</td><td>59    </td><td>12    </td><td>Yes   </td><td>Yes   </td><td>Yes   </td></tr>\n",
       "\t<tr><td> 7.40 </td><td>117   </td><td>100   </td><td> 4    </td><td>466   </td><td> 97   </td><td>Medium</td><td>55    </td><td>14    </td><td>Yes   </td><td>Yes   </td><td>No    </td></tr>\n",
       "\t<tr><td> 4.15 </td><td>141   </td><td> 64   </td><td> 3    </td><td>340   </td><td>128   </td><td>Bad   </td><td>38    </td><td>13    </td><td>Yes   </td><td>No    </td><td>No    </td></tr>\n",
       "\t<tr><td>10.81 </td><td>124   </td><td>113   </td><td>13    </td><td>501   </td><td> 72   </td><td>Bad   </td><td>78    </td><td>16    </td><td>No    </td><td>Yes   </td><td>Yes   </td></tr>\n",
       "</tbody>\n",
       "</table>\n"
      ],
      "text/latex": [
       "\\begin{tabular}{r|llllllllllll}\n",
       " Sales & CompPrice & Income & Advertising & Population & Price & ShelveLoc & Age & Education & Urban & US & High\\\\\n",
       "\\hline\n",
       "\t  9.50  & 138    &  73    & 11     & 276    & 120    & Bad    & 42     & 17     & Yes    & Yes    & Yes   \\\\\n",
       "\t 11.22  & 111    &  48    & 16     & 260    &  83    & Good   & 65     & 10     & Yes    & Yes    & Yes   \\\\\n",
       "\t 10.06  & 113    &  35    & 10     & 269    &  80    & Medium & 59     & 12     & Yes    & Yes    & Yes   \\\\\n",
       "\t  7.40  & 117    & 100    &  4     & 466    &  97    & Medium & 55     & 14     & Yes    & Yes    & No    \\\\\n",
       "\t  4.15  & 141    &  64    &  3     & 340    & 128    & Bad    & 38     & 13     & Yes    & No     & No    \\\\\n",
       "\t 10.81  & 124    & 113    & 13     & 501    &  72    & Bad    & 78     & 16     & No     & Yes    & Yes   \\\\\n",
       "\\end{tabular}\n"
      ],
      "text/markdown": [
       "\n",
       "Sales | CompPrice | Income | Advertising | Population | Price | ShelveLoc | Age | Education | Urban | US | High | \n",
       "|---|---|---|---|---|---|\n",
       "|  9.50  | 138    |  73    | 11     | 276    | 120    | Bad    | 42     | 17     | Yes    | Yes    | Yes    | \n",
       "| 11.22  | 111    |  48    | 16     | 260    |  83    | Good   | 65     | 10     | Yes    | Yes    | Yes    | \n",
       "| 10.06  | 113    |  35    | 10     | 269    |  80    | Medium | 59     | 12     | Yes    | Yes    | Yes    | \n",
       "|  7.40  | 117    | 100    |  4     | 466    |  97    | Medium | 55     | 14     | Yes    | Yes    | No     | \n",
       "|  4.15  | 141    |  64    |  3     | 340    | 128    | Bad    | 38     | 13     | Yes    | No     | No     | \n",
       "| 10.81  | 124    | 113    | 13     | 501    |  72    | Bad    | 78     | 16     | No     | Yes    | Yes    | \n",
       "\n",
       "\n"
      ],
      "text/plain": [
       "  Sales CompPrice Income Advertising Population Price ShelveLoc Age Education\n",
       "1  9.50 138        73    11          276        120   Bad       42  17       \n",
       "2 11.22 111        48    16          260         83   Good      65  10       \n",
       "3 10.06 113        35    10          269         80   Medium    59  12       \n",
       "4  7.40 117       100     4          466         97   Medium    55  14       \n",
       "5  4.15 141        64     3          340        128   Bad       38  13       \n",
       "6 10.81 124       113    13          501         72   Bad       78  16       \n",
       "  Urban US  High\n",
       "1 Yes   Yes Yes \n",
       "2 Yes   Yes Yes \n",
       "3 Yes   Yes Yes \n",
       "4 Yes   Yes No  \n",
       "5 Yes   No  No  \n",
       "6 No    Yes Yes "
      ]
     },
     "metadata": {},
     "output_type": "display_data"
    },
    {
     "name": "stdout",
     "output_type": "stream",
     "text": [
      "'data.frame':\t400 obs. of  12 variables:\n",
      " $ Sales      : num  9.5 11.22 10.06 7.4 4.15 ...\n",
      " $ CompPrice  : num  138 111 113 117 141 124 115 136 132 132 ...\n",
      " $ Income     : num  73 48 35 100 64 113 105 81 110 113 ...\n",
      " $ Advertising: num  11 16 10 4 3 13 0 15 0 0 ...\n",
      " $ Population : num  276 260 269 466 340 501 45 425 108 131 ...\n",
      " $ Price      : num  120 83 80 97 128 72 108 120 124 124 ...\n",
      " $ ShelveLoc  : Factor w/ 3 levels \"Bad\",\"Good\",\"Medium\": 1 2 3 3 1 1 3 2 3 3 ...\n",
      " $ Age        : num  42 65 59 55 38 78 71 67 76 76 ...\n",
      " $ Education  : num  17 10 12 14 13 16 15 10 10 17 ...\n",
      " $ Urban      : Factor w/ 2 levels \"No\",\"Yes\": 2 2 2 2 2 1 2 2 1 1 ...\n",
      " $ US         : Factor w/ 2 levels \"No\",\"Yes\": 2 2 2 2 1 2 1 2 1 2 ...\n",
      " $ High       : Factor w/ 2 levels \"No\",\"Yes\": 2 2 2 1 1 2 1 2 1 1 ...\n"
     ]
    }
   ],
   "source": [
    "# we use the data.frame() function to merge High with the rest of the Carseats data.\n",
    "Carseats=data.frame(Carseats,High)\n",
    "head(Carseats)\n",
    "str(Carseats)"
   ]
  },
  {
   "cell_type": "code",
   "execution_count": 25,
   "metadata": {},
   "outputs": [
    {
     "data": {
      "text/plain": [
       "\n",
       "Classification tree:\n",
       "tree(formula = High ~ . - Sales, data = Carseats)\n",
       "Variables actually used in tree construction:\n",
       "[1] \"ShelveLoc\"   \"Price\"       \"Income\"      \"CompPrice\"   \"Population\" \n",
       "[6] \"Advertising\" \"Age\"         \"US\"         \n",
       "Number of terminal nodes:  27 \n",
       "Residual mean deviance:  0.4575 = 170.7 / 373 \n",
       "Misclassification error rate: 0.09 = 36 / 400 "
      ]
     },
     "metadata": {},
     "output_type": "display_data"
    }
   ],
   "source": [
    "# tree() function to fit a classification tree \n",
    "tree.carseats=tree(High~.-Sales,Carseats)\n",
    "summary(tree.carseats)"
   ]
  },
  {
   "cell_type": "raw",
   "metadata": {},
   "source": [
    "A small deviance indicates a tree that provides a good fit to the (training) data. We use the plot() function to display the tree structure, and the text() function to display the node labels. The argument\n",
    "pretty=0 instructs R to include the category names for any qualitative predictors, rather than simply displaying a letter for each category."
   ]
  },
  {
   "cell_type": "code",
   "execution_count": 26,
   "metadata": {},
   "outputs": [
    {
     "data": {
      "image/png": "[encoded data removed]",
      "text/plain": [
       "plot without title"
      ]
     },
     "metadata": {},
     "output_type": "display_data"
    }
   ],
   "source": [
    "plot(tree.carseats)\n",
    "text(tree.carseats,pretty=0)"
   ]
  },
  {
   "cell_type": "code",
   "execution_count": 27,
   "metadata": {},
   "outputs": [
    {
     "data": {
      "text/plain": [
       "node), split, n, deviance, yval, (yprob)\n",
       "      * denotes terminal node\n",
       "\n",
       "  1) root 400 541.500 No ( 0.59000 0.41000 )  \n",
       "    2) ShelveLoc: Bad,Medium 315 390.600 No ( 0.68889 0.31111 )  \n",
       "      4) Price < 92.5 46  56.530 Yes ( 0.30435 0.69565 )  \n",
       "        8) Income < 57 10  12.220 No ( 0.70000 0.30000 )  \n",
       "         16) CompPrice < 110.5 5   0.000 No ( 1.00000 0.00000 ) *\n",
       "         17) CompPrice > 110.5 5   6.730 Yes ( 0.40000 0.60000 ) *\n",
       "        9) Income > 57 36  35.470 Yes ( 0.19444 0.80556 )  \n",
       "         18) Population < 207.5 16  21.170 Yes ( 0.37500 0.62500 ) *\n",
       "         19) Population > 207.5 20   7.941 Yes ( 0.05000 0.95000 ) *\n",
       "      5) Price > 92.5 269 299.800 No ( 0.75465 0.24535 )  \n",
       "       10) Advertising < 13.5 224 213.200 No ( 0.81696 0.18304 )  \n",
       "         20) CompPrice < 124.5 96  44.890 No ( 0.93750 0.06250 )  \n",
       "           40) Price < 106.5 38  33.150 No ( 0.84211 0.15789 )  \n",
       "             80) Population < 177 12  16.300 No ( 0.58333 0.41667 )  \n",
       "              160) Income < 60.5 6   0.000 No ( 1.00000 0.00000 ) *\n",
       "              161) Income > 60.5 6   5.407 Yes ( 0.16667 0.83333 ) *\n",
       "             81) Population > 177 26   8.477 No ( 0.96154 0.03846 ) *\n",
       "           41) Price > 106.5 58   0.000 No ( 1.00000 0.00000 ) *\n",
       "         21) CompPrice > 124.5 128 150.200 No ( 0.72656 0.27344 )  \n",
       "           42) Price < 122.5 51  70.680 Yes ( 0.49020 0.50980 )  \n",
       "             84) ShelveLoc: Bad 11   6.702 No ( 0.90909 0.09091 ) *\n",
       "             85) ShelveLoc: Medium 40  52.930 Yes ( 0.37500 0.62500 )  \n",
       "              170) Price < 109.5 16   7.481 Yes ( 0.06250 0.93750 ) *\n",
       "              171) Price > 109.5 24  32.600 No ( 0.58333 0.41667 )  \n",
       "                342) Age < 49.5 13  16.050 Yes ( 0.30769 0.69231 ) *\n",
       "                343) Age > 49.5 11   6.702 No ( 0.90909 0.09091 ) *\n",
       "           43) Price > 122.5 77  55.540 No ( 0.88312 0.11688 )  \n",
       "             86) CompPrice < 147.5 58  17.400 No ( 0.96552 0.03448 ) *\n",
       "             87) CompPrice > 147.5 19  25.010 No ( 0.63158 0.36842 )  \n",
       "              174) Price < 147 12  16.300 Yes ( 0.41667 0.58333 )  \n",
       "                348) CompPrice < 152.5 7   5.742 Yes ( 0.14286 0.85714 ) *\n",
       "                349) CompPrice > 152.5 5   5.004 No ( 0.80000 0.20000 ) *\n",
       "              175) Price > 147 7   0.000 No ( 1.00000 0.00000 ) *\n",
       "       11) Advertising > 13.5 45  61.830 Yes ( 0.44444 0.55556 )  \n",
       "         22) Age < 54.5 25  25.020 Yes ( 0.20000 0.80000 )  \n",
       "           44) CompPrice < 130.5 14  18.250 Yes ( 0.35714 0.64286 )  \n",
       "             88) Income < 100 9  12.370 No ( 0.55556 0.44444 ) *\n",
       "             89) Income > 100 5   0.000 Yes ( 0.00000 1.00000 ) *\n",
       "           45) CompPrice > 130.5 11   0.000 Yes ( 0.00000 1.00000 ) *\n",
       "         23) Age > 54.5 20  22.490 No ( 0.75000 0.25000 )  \n",
       "           46) CompPrice < 122.5 10   0.000 No ( 1.00000 0.00000 ) *\n",
       "           47) CompPrice > 122.5 10  13.860 No ( 0.50000 0.50000 )  \n",
       "             94) Price < 125 5   0.000 Yes ( 0.00000 1.00000 ) *\n",
       "             95) Price > 125 5   0.000 No ( 1.00000 0.00000 ) *\n",
       "    3) ShelveLoc: Good 85  90.330 Yes ( 0.22353 0.77647 )  \n",
       "      6) Price < 135 68  49.260 Yes ( 0.11765 0.88235 )  \n",
       "       12) US: No 17  22.070 Yes ( 0.35294 0.64706 )  \n",
       "         24) Price < 109 8   0.000 Yes ( 0.00000 1.00000 ) *\n",
       "         25) Price > 109 9  11.460 No ( 0.66667 0.33333 ) *\n",
       "       13) US: Yes 51  16.880 Yes ( 0.03922 0.96078 ) *\n",
       "      7) Price > 135 17  22.070 No ( 0.64706 0.35294 )  \n",
       "       14) Income < 46 6   0.000 No ( 1.00000 0.00000 ) *\n",
       "       15) Income > 46 11  15.160 Yes ( 0.45455 0.54545 ) *"
      ]
     },
     "metadata": {},
     "output_type": "display_data"
    }
   ],
   "source": [
    "tree.carseats"
   ]
  },
  {
   "cell_type": "code",
   "execution_count": 30,
   "metadata": {},
   "outputs": [
    {
     "data": {
      "text/plain": [
       "         High.test\n",
       "tree.pred No Yes\n",
       "      No  86  27\n",
       "      Yes 30  57"
      ]
     },
     "metadata": {},
     "output_type": "display_data"
    }
   ],
   "source": [
    "# spltting training and test data\n",
    "set.seed(2)\n",
    "train=sample(1:nrow(Carseats),200)\n",
    "Carseats.test=Carseats[-train,]\n",
    "High.test=High[-train]\n",
    "tree.carseats=tree(High~.-Sales,Carseats, subset=train)\n",
    "tree.pred=predict(tree.carseats, Carseats.test, type='class')\n",
    "table(tree.pred, High.test)\n",
    "\n"
   ]
  },
  {
   "cell_type": "code",
   "execution_count": 31,
   "metadata": {},
   "outputs": [
    {
     "data": {
      "text/html": [
       "0.715"
      ],
      "text/latex": [
       "0.715"
      ],
      "text/markdown": [
       "0.715"
      ],
      "text/plain": [
       "[1] 0.715"
      ]
     },
     "metadata": {},
     "output_type": "display_data"
    }
   ],
   "source": [
    "(86+57)/200"
   ]
  },
  {
   "cell_type": "code",
   "execution_count": 32,
   "metadata": {},
   "outputs": [
    {
     "data": {
      "text/html": [
       "<ol class=list-inline>\n",
       "\t<li>'size'</li>\n",
       "\t<li>'dev'</li>\n",
       "\t<li>'k'</li>\n",
       "\t<li>'method'</li>\n",
       "</ol>\n"
      ],
      "text/latex": [
       "\\begin{enumerate*}\n",
       "\\item 'size'\n",
       "\\item 'dev'\n",
       "\\item 'k'\n",
       "\\item 'method'\n",
       "\\end{enumerate*}\n"
      ],
      "text/markdown": [
       "1. 'size'\n",
       "2. 'dev'\n",
       "3. 'k'\n",
       "4. 'method'\n",
       "\n",
       "\n"
      ],
      "text/plain": [
       "[1] \"size\"   \"dev\"    \"k\"      \"method\""
      ]
     },
     "metadata": {},
     "output_type": "display_data"
    }
   ],
   "source": [
    "set.seed(3)\n",
    "#tree pruning\n",
    "cv.carseats=cv.tree(tree.carseats,FUN=prune.misclass)\n",
    "names(cv.carseats)\n"
   ]
  },
  {
   "cell_type": "code",
   "execution_count": 33,
   "metadata": {},
   "outputs": [
    {
     "data": {
      "text/plain": [
       "$size\n",
       "[1] 19 17 14 13  9  7  3  2  1\n",
       "\n",
       "$dev\n",
       "[1] 55 55 53 52 50 56 69 65 80\n",
       "\n",
       "$k\n",
       "[1]       -Inf  0.0000000  0.6666667  1.0000000  1.7500000  2.0000000  4.2500000\n",
       "[8]  5.0000000 23.0000000\n",
       "\n",
       "$method\n",
       "[1] \"misclass\"\n",
       "\n",
       "attr(,\"class\")\n",
       "[1] \"prune\"         \"tree.sequence\""
      ]
     },
     "metadata": {},
     "output_type": "display_data"
    }
   ],
   "source": [
    "cv.carseats"
   ]
  },
  {
   "cell_type": "code",
   "execution_count": null,
   "metadata": {
    "collapsed": true
   },
   "outputs": [],
   "source": []
  },
  {
   "cell_type": "markdown",
   "metadata": {},
   "source": [
    "The tree with 9 terminal nodes results in the lowest cross-validation error rate, with 50 cross-validation errors"
   ]
  },
  {
   "cell_type": "code",
   "execution_count": 34,
   "metadata": {},
   "outputs": [
    {
     "data": {
      "image/png": "[encoded data removed]",
      "text/plain": [
       "plot without title"
      ]
     },
     "metadata": {},
     "output_type": "display_data"
    }
   ],
   "source": [
    "#We plot the error rate as a function of both size and k.\n",
    "par(mfrow=c(1,2))\n",
    "plot(cv.carseats$size, cv.carseats$dev, type=\"b\")\n",
    "plot(cv.carseats$k, cv.carseats$k, type=\"b\")\n"
   ]
  },
  {
   "cell_type": "markdown",
   "metadata": {},
   "source": [
    "We now apply the prune.misclass() function in order to prune the tree to obtain the nine-node tree."
   ]
  },
  {
   "cell_type": "code",
   "execution_count": 35,
   "metadata": {},
   "outputs": [
    {
     "data": {
      "image/png": "[encoded data removed]",
      "text/plain": [
       "plot without title"
      ]
     },
     "metadata": {},
     "output_type": "display_data"
    }
   ],
   "source": [
    "prune.carseats=prune.misclass(tree.carseats,best=9)\n",
    "plot(prune.carseats)\n",
    "text(prune.carseats, pretty=0)"
   ]
  },
  {
   "cell_type": "code",
   "execution_count": 36,
   "metadata": {},
   "outputs": [
    {
     "data": {
      "text/plain": [
       "         High.test\n",
       "tree.pred No Yes\n",
       "      No  94  24\n",
       "      Yes 22  60"
      ]
     },
     "metadata": {},
     "output_type": "display_data"
    }
   ],
   "source": [
    "tree.pred=predict(prune.carseats, Carseats.test,type=\"class\")\n",
    "table(tree.pred,High.test)"
   ]
  },
  {
   "cell_type": "code",
   "execution_count": 40,
   "metadata": {},
   "outputs": [
    {
     "data": {
      "text/html": [
       "0.77"
      ],
      "text/latex": [
       "0.77"
      ],
      "text/markdown": [
       "0.77"
      ],
      "text/plain": [
       "[1] 0.77"
      ]
     },
     "metadata": {},
     "output_type": "display_data"
    }
   ],
   "source": [
    "#accuracy\n",
    "(94+60)/200\n",
    "# after pruning accuracy improved from 71.5 to 77%"
   ]
  },
  {
   "cell_type": "code",
   "execution_count": 42,
   "metadata": {},
   "outputs": [
    {
     "data": {
      "text/plain": [
       "         High.test\n",
       "tree.pred No Yes\n",
       "      No  86  22\n",
       "      Yes 30  62"
      ]
     },
     "metadata": {},
     "output_type": "display_data"
    },
    {
     "data": {
      "image/png": "[encoded data removed]",
      "text/plain": [
       "plot without title"
      ]
     },
     "metadata": {},
     "output_type": "display_data"
    }
   ],
   "source": [
    "#testing on larger tree\n",
    "prune.carseats=prune.misclass(tree.carseats,best=15)\n",
    "plot(prune.carseats)\n",
    "text(prune.carseats, pretty=0)\n",
    "tree.pred=predict(prune.carseats, Carseats.test,type=\"class\")\n",
    "table(tree.pred,High.test)\n"
   ]
  },
  {
   "cell_type": "code",
   "execution_count": 43,
   "metadata": {},
   "outputs": [
    {
     "data": {
      "text/html": [
       "0.74"
      ],
      "text/latex": [
       "0.74"
      ],
      "text/markdown": [
       "0.74"
      ],
      "text/plain": [
       "[1] 0.74"
      ]
     },
     "metadata": {},
     "output_type": "display_data"
    }
   ],
   "source": [
    "(86+62)/200\n",
    "# reduced to 74%"
   ]
  }
 ],
 "metadata": {
  "kernelspec": {
   "display_name": "R",
   "language": "R",
   "name": "ir"
  },
  "language_info": {
   "codemirror_mode": "r",
   "file_extension": ".r",
   "mimetype": "text/x-r-source",
   "name": "R",
   "pygments_lexer": "r",
   "version": "3.4.1"
  }
 },
 "nbformat": 4,
 "nbformat_minor": 2
}
