{
 "cells": [
  {
   "cell_type": "code",
   "execution_count": 1,
   "metadata": {
    "collapsed": true
   },
   "outputs": [],
   "source": [
    "setwd(\"D:/Dropbox/Data Science and Analytics/ESSEC-Strategic Business Analytics/Marketing Analytics\")"
   ]
  },
  {
   "cell_type": "code",
   "execution_count": 10,
   "metadata": {},
   "outputs": [
    {
     "data": {
      "text/html": [
       "<table>\n",
       "<thead><tr><th scope=col>V1</th><th scope=col>V2</th><th scope=col>V3</th></tr></thead>\n",
       "<tbody>\n",
       "\t<tr><td> 760      </td><td> 25       </td><td>2009-11-06</td></tr>\n",
       "\t<tr><td> 860      </td><td> 50       </td><td>2012-09-28</td></tr>\n",
       "\t<tr><td>1200      </td><td>100       </td><td>2005-10-25</td></tr>\n",
       "\t<tr><td>1420      </td><td> 50       </td><td>2009-07-09</td></tr>\n",
       "\t<tr><td>1940      </td><td> 70       </td><td>2013-01-25</td></tr>\n",
       "\t<tr><td>1960      </td><td> 40       </td><td>2013-10-29</td></tr>\n",
       "</tbody>\n",
       "</table>\n"
      ],
      "text/latex": [
       "\\begin{tabular}{r|lll}\n",
       " V1 & V2 & V3\\\\\n",
       "\\hline\n",
       "\t  760       &  25        & 2009-11-06\\\\\n",
       "\t  860       &  50        & 2012-09-28\\\\\n",
       "\t 1200       & 100        & 2005-10-25\\\\\n",
       "\t 1420       &  50        & 2009-07-09\\\\\n",
       "\t 1940       &  70        & 2013-01-25\\\\\n",
       "\t 1960       &  40        & 2013-10-29\\\\\n",
       "\\end{tabular}\n"
      ],
      "text/markdown": [
       "\n",
       "V1 | V2 | V3 | \n",
       "|---|---|---|---|---|---|\n",
       "|  760       |  25        | 2009-11-06 | \n",
       "|  860       |  50        | 2012-09-28 | \n",
       "| 1200       | 100        | 2005-10-25 | \n",
       "| 1420       |  50        | 2009-07-09 | \n",
       "| 1940       |  70        | 2013-01-25 | \n",
       "| 1960       |  40        | 2013-10-29 | \n",
       "\n",
       "\n"
      ],
      "text/plain": [
       "  V1   V2  V3        \n",
       "1  760  25 2009-11-06\n",
       "2  860  50 2012-09-28\n",
       "3 1200 100 2005-10-25\n",
       "4 1420  50 2009-07-09\n",
       "5 1940  70 2013-01-25\n",
       "6 1960  40 2013-10-29"
      ]
     },
     "metadata": {},
     "output_type": "display_data"
    }
   ],
   "source": [
    "data=read.delim(file=\"purchases.txt\",header=FALSE, sep='\\t',dec='.')\n",
    "head(data)"
   ]
  },
  {
   "cell_type": "code",
   "execution_count": 11,
   "metadata": {},
   "outputs": [
    {
     "data": {
      "text/plain": [
       "       V1               V2                   V3       \n",
       " Min.   :    10   Min.   :   5.00   2013-12-31:  864  \n",
       " 1st Qu.: 57720   1st Qu.:  25.00   2006-12-31:  584  \n",
       " Median :102440   Median :  30.00   2012-12-31:  583  \n",
       " Mean   :108935   Mean   :  62.34   2011-12-31:  510  \n",
       " 3rd Qu.:160525   3rd Qu.:  60.00   2008-12-31:  503  \n",
       " Max.   :264200   Max.   :4500.00   2014-12-31:  485  \n",
       "                                    (Other)   :47714  "
      ]
     },
     "metadata": {},
     "output_type": "display_data"
    }
   ],
   "source": [
    "summary(data)"
   ]
  },
  {
   "cell_type": "code",
   "execution_count": 12,
   "metadata": {},
   "outputs": [
    {
     "data": {
      "text/html": [
       "<table>\n",
       "<thead><tr><th scope=col>customer_id</th><th scope=col>purchase_amount</th><th scope=col>date_of_purchase</th><th scope=col>year_of_purchase</th></tr></thead>\n",
       "<tbody>\n",
       "\t<tr><td> 760      </td><td> 25       </td><td>2009-11-06</td><td>2009      </td></tr>\n",
       "\t<tr><td> 860      </td><td> 50       </td><td>2012-09-28</td><td>2012      </td></tr>\n",
       "\t<tr><td>1200      </td><td>100       </td><td>2005-10-25</td><td>2005      </td></tr>\n",
       "\t<tr><td>1420      </td><td> 50       </td><td>2009-07-09</td><td>2009      </td></tr>\n",
       "\t<tr><td>1940      </td><td> 70       </td><td>2013-01-25</td><td>2013      </td></tr>\n",
       "\t<tr><td>1960      </td><td> 40       </td><td>2013-10-29</td><td>2013      </td></tr>\n",
       "</tbody>\n",
       "</table>\n"
      ],
      "text/latex": [
       "\\begin{tabular}{r|llll}\n",
       " customer\\_id & purchase\\_amount & date\\_of\\_purchase & year\\_of\\_purchase\\\\\n",
       "\\hline\n",
       "\t  760       &  25        & 2009-11-06 & 2009      \\\\\n",
       "\t  860       &  50        & 2012-09-28 & 2012      \\\\\n",
       "\t 1200       & 100        & 2005-10-25 & 2005      \\\\\n",
       "\t 1420       &  50        & 2009-07-09 & 2009      \\\\\n",
       "\t 1940       &  70        & 2013-01-25 & 2013      \\\\\n",
       "\t 1960       &  40        & 2013-10-29 & 2013      \\\\\n",
       "\\end{tabular}\n"
      ],
      "text/markdown": [
       "\n",
       "customer_id | purchase_amount | date_of_purchase | year_of_purchase | \n",
       "|---|---|---|---|---|---|\n",
       "|  760       |  25        | 2009-11-06 | 2009       | \n",
       "|  860       |  50        | 2012-09-28 | 2012       | \n",
       "| 1200       | 100        | 2005-10-25 | 2005       | \n",
       "| 1420       |  50        | 2009-07-09 | 2009       | \n",
       "| 1940       |  70        | 2013-01-25 | 2013       | \n",
       "| 1960       |  40        | 2013-10-29 | 2013       | \n",
       "\n",
       "\n"
      ],
      "text/plain": [
       "  customer_id purchase_amount date_of_purchase year_of_purchase\n",
       "1  760         25             2009-11-06       2009            \n",
       "2  860         50             2012-09-28       2012            \n",
       "3 1200        100             2005-10-25       2005            \n",
       "4 1420         50             2009-07-09       2009            \n",
       "5 1940         70             2013-01-25       2013            \n",
       "6 1960         40             2013-10-29       2013            "
      ]
     },
     "metadata": {},
     "output_type": "display_data"
    }
   ],
   "source": [
    "colnames(data)=c('customer_id','purchase_amount','date_of_purchase')\n",
    "data$date_of_purchase=as.Date(data$date_of_purchase,'%Y-%m-%d')\n",
    "data$year_of_purchase=as.numeric(format(data$date_of_purchase,'%Y'))\n",
    "#display dataset after transformation\n",
    "head(data)"
   ]
  },
  {
   "cell_type": "code",
   "execution_count": 13,
   "metadata": {},
   "outputs": [
    {
     "data": {
      "text/plain": [
       "  customer_id     purchase_amount   date_of_purchase     year_of_purchase\n",
       " Min.   :    10   Min.   :   5.00   Min.   :2005-01-02   Min.   :2005    \n",
       " 1st Qu.: 57720   1st Qu.:  25.00   1st Qu.:2009-01-17   1st Qu.:2009    \n",
       " Median :102440   Median :  30.00   Median :2011-11-23   Median :2011    \n",
       " Mean   :108935   Mean   :  62.34   Mean   :2011-07-14   Mean   :2011    \n",
       " 3rd Qu.:160525   3rd Qu.:  60.00   3rd Qu.:2013-12-29   3rd Qu.:2013    \n",
       " Max.   :264200   Max.   :4500.00   Max.   :2015-12-31   Max.   :2015    "
      ]
     },
     "metadata": {},
     "output_type": "display_data"
    }
   ],
   "source": [
    "summary(data)"
   ]
  },
  {
   "cell_type": "code",
   "execution_count": 16,
   "metadata": {},
   "outputs": [
    {
     "name": "stderr",
     "output_type": "stream",
     "text": [
      "Warning message:\n",
      "\"package 'sqldf' was built under R version 3.4.2\"Loading required package: gsubfn\n",
      "Warning message:\n",
      "\"package 'gsubfn' was built under R version 3.4.2\"Loading required package: proto\n",
      "Warning message:\n",
      "\"package 'proto' was built under R version 3.4.2\"Could not load tcltk.  Will use slower R code instead.\n",
      "Loading required package: RSQLite\n"
     ]
    }
   ],
   "source": [
    "#explore data using sql statements\n",
    "library(sqldf)\n",
    "x=sqldf(\"select year_of_purchase, count(year_of_purchase) as counter from data\n",
    "       group by 1 \n",
    "       order by 1\")"
   ]
  },
  {
   "cell_type": "code",
   "execution_count": 17,
   "metadata": {},
   "outputs": [
    {
     "data": {
      "image/png": "[encoded data removed]",
      "text/plain": [
       "plot without title"
      ]
     },
     "metadata": {},
     "output_type": "display_data"
    }
   ],
   "source": [
    "barplot(x$counter,names.arg=x$year_of_purchase)"
   ]
  },
  {
   "cell_type": "code",
   "execution_count": 18,
   "metadata": {
    "collapsed": true
   },
   "outputs": [],
   "source": [
    "x=sqldf(\"select year_of_purchase, avg(purchase_amount) as avg_amount\n",
    "from data\n",
    "group by 1\n",
    "order by 1\")"
   ]
  },
  {
   "cell_type": "code",
   "execution_count": 19,
   "metadata": {},
   "outputs": [
    {
     "data": {
      "image/png": "[encoded data removed]",
      "text/plain": [
       "plot without title"
      ]
     },
     "metadata": {},
     "output_type": "display_data"
    }
   ],
   "source": [
    "barplot(x$avg_amount,names.arg=x$year_of_purchase)"
   ]
  },
  {
   "cell_type": "code",
   "execution_count": 21,
   "metadata": {
    "collapsed": true
   },
   "outputs": [],
   "source": [
    "x=sqldf(\"select year_of_purchase, count(year_of_purchase) as counter, avg(purchase_amount) as avg_amount, \n",
    "sum(purchase_amount) as total_amount from data\n",
    "group by 1\n",
    "order by 1\")\n"
   ]
  },
  {
   "cell_type": "code",
   "execution_count": 23,
   "metadata": {
    "scrolled": true
   },
   "outputs": [
    {
     "name": "stdout",
     "output_type": "stream",
     "text": [
      "   year_of_purchase counter avg_amount total_amount\n",
      "1              2005    1470   55.82612      82064.4\n",
      "2              2006    2182   52.25045     114010.5\n",
      "3              2007    4674   49.26401     230260.0\n",
      "4              2008    4331   53.07178     229853.9\n",
      "5              2009    5054   50.74525     256466.5\n",
      "6              2010    4939   58.74001     290116.9\n",
      "7              2011    4785   63.51930     303939.8\n",
      "8              2012    5960   62.91331     374963.3\n",
      "9              2013    5912   67.93136     401610.2\n",
      "10             2014    5739   75.39035     432665.2\n",
      "11             2015    6197   77.19770     478394.1\n"
     ]
    }
   ],
   "source": [
    "print(x)"
   ]
  },
  {
   "cell_type": "code",
   "execution_count": null,
   "metadata": {
    "collapsed": true
   },
   "outputs": [],
   "source": []
  }
 ],
 "metadata": {
  "kernelspec": {
   "display_name": "R",
   "language": "R",
   "name": "ir"
  },
  "language_info": {
   "codemirror_mode": "r",
   "file_extension": ".r",
   "mimetype": "text/x-r-source",
   "name": "R",
   "pygments_lexer": "r",
   "version": "3.4.1"
  }
 },
 "nbformat": 4,
 "nbformat_minor": 2
}
