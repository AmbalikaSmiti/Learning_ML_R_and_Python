{
 "cells": [
  {
   "cell_type": "code",
   "execution_count": 1,
   "metadata": {},
   "outputs": [],
   "source": [
    "setwd(\"C:/Users/ambalika.smiti/Desktop/Ambalika/OLA OFFICE WORK/Feedbacks_new\")"
   ]
  },
  {
   "cell_type": "code",
   "execution_count": 24,
   "metadata": {},
   "outputs": [],
   "source": [
    "data=read.csv(\"Driver_Profile_for_Quality_Analysis.csv\")\n",
    "data=data[,-c(20:23)]"
   ]
  },
  {
   "cell_type": "code",
   "execution_count": 26,
   "metadata": {},
   "outputs": [
    {
     "data": {
      "text/html": [
       "149367"
      ],
      "text/latex": [
       "149367"
      ],
      "text/markdown": [
       "149367"
      ],
      "text/plain": [
       "[1] 149367"
      ]
     },
     "metadata": {},
     "output_type": "display_data"
    },
    {
     "data": {
      "text/html": [
       "19"
      ],
      "text/latex": [
       "19"
      ],
      "text/markdown": [
       "19"
      ],
      "text/plain": [
       "[1] 19"
      ]
     },
     "metadata": {},
     "output_type": "display_data"
    },
    {
     "data": {
      "text/html": [
       "<table>\n",
       "<thead><tr><th scope=col>Driver_sugar_id</th><th scope=col>DL_number</th><th scope=col>Driver_city</th><th scope=col>Car</th><th scope=col>BAD_GUYS</th><th scope=col>OLA_Score_45</th><th scope=col>Rides</th><th scope=col>X12Rating</th><th scope=col>UB</th><th scope=col>CQ</th><th scope=col>DP</th><th scope=col>UB12</th><th scope=col>CQ12</th><th scope=col>DP12</th><th scope=col>Rtag</th><th scope=col>D_AoP</th><th scope=col>D_Age</th><th scope=col>D_Marital</th><th scope=col>D_edu</th></tr></thead>\n",
       "<tbody>\n",
       "\t<tr><td>39c78410-5f47-4ca1-b285-312042e59cc8</td><td>WB01200804137326                    </td><td>Kolkata                             </td><td>WB25G5108                           </td><td>0                                   </td><td>8.44                                </td><td>196.3                               </td><td>5.3                                 </td><td>2.00                                </td><td>1.00                                </td><td>1.00                                </td><td>1.00                                </td><td>0.67                                </td><td>0.33                                </td><td>R1                                  </td><td>52                                  </td><td>NA                                  </td><td>NA                                  </td><td>NA                                  </td></tr>\n",
       "\t<tr><td>26c03b70-3e79-4f74-9be6-15cabb0f2c2e</td><td>MH1420080077995                     </td><td>Pune                                </td><td>MH12NX1416                          </td><td>0                                   </td><td>9.00                                </td><td>196.0                               </td><td>4.0                                 </td><td>3.33                                </td><td>1.33                                </td><td>2.00                                </td><td>1.33                                </td><td>0.33                                </td><td>0.00                                </td><td>R1                                  </td><td>389                                 </td><td>NA                                  </td><td>NA                                  </td><td>NA                                  </td></tr>\n",
       "\t<tr><td>55f4369a-e03e-486f-bcfd-4b4bde9b0002</td><td>TN0220060024403                     </td><td>Chennai                             </td><td>TN11U8082                           </td><td>0                                   </td><td>8.52                                </td><td>191.0                               </td><td>3.3                                 </td><td>0.33                                </td><td>0.33                                </td><td>1.00                                </td><td>0.00                                </td><td>0.00                                </td><td>0.33                                </td><td>R1                                  </td><td>482                                 </td><td>33                                  </td><td>Married                             </td><td>SSC/HSC(10thpass)                   </td></tr>\n",
       "\t<tr><td>fb945193-39e2-40bd-ab7b-1836e1d7da9d</td><td>MH1320100024711                     </td><td>Pune                                </td><td>MH14GD2950                          </td><td>0                                   </td><td>9.00                                </td><td>190.7                               </td><td>4.7                                 </td><td>3.33                                </td><td>0.33                                </td><td>7.33                                </td><td>3.00                                </td><td>0.33                                </td><td>1.00                                </td><td>R1                                  </td><td>112                                 </td><td>30                                  </td><td>Single                              </td><td>SSC/HSC(10thpass)                   </td></tr>\n",
       "\t<tr><td>216354d8-0e92-4200-99d1-565a2eb8a724</td><td>TN2520160002431                     </td><td>Bangalore                           </td><td>KA03AC2182                          </td><td>0                                   </td><td>8.38                                </td><td>190.7                               </td><td>2.3                                 </td><td>4.00                                </td><td>2.67                                </td><td>1.67                                </td><td>1.33                                </td><td>0.00                                </td><td>0.00                                </td><td>R1                                  </td><td>118                                 </td><td>NA                                  </td><td>NA                                  </td><td>NA                                  </td></tr>\n",
       "\t<tr><td>1bafcebd-a88e-4c3c-89cd-73be4d0973b2</td><td>TS00220140010081                    </td><td>Hyderabad                           </td><td>TS08AETR4205                        </td><td>0                                   </td><td>8.73                                </td><td>189.0                               </td><td>6.0                                 </td><td>2.67                                </td><td>0.33                                </td><td>3.67                                </td><td>1.67                                </td><td>0.00                                </td><td>0.00                                </td><td>R1                                  </td><td>304                                 </td><td>NA                                  </td><td>NA                                  </td><td>NA                                  </td></tr>\n",
       "</tbody>\n",
       "</table>\n"
      ],
      "text/latex": [
       "\\begin{tabular}{r|lllllllllllllllllll}\n",
       " Driver\\_sugar\\_id & DL\\_number & Driver\\_city & Car & BAD\\_GUYS & OLA\\_Score\\_45 & Rides & X12Rating & UB & CQ & DP & UB12 & CQ12 & DP12 & Rtag & D\\_AoP & D\\_Age & D\\_Marital & D\\_edu\\\\\n",
       "\\hline\n",
       "\t 39c78410-5f47-4ca1-b285-312042e59cc8 & WB01200804137326                     & Kolkata                              & WB25G5108                            & 0                                    & 8.44                                 & 196.3                                & 5.3                                  & 2.00                                 & 1.00                                 & 1.00                                 & 1.00                                 & 0.67                                 & 0.33                                 & R1                                   & 52                                   & NA                                   & NA                                   & NA                                  \\\\\n",
       "\t 26c03b70-3e79-4f74-9be6-15cabb0f2c2e & MH1420080077995                      & Pune                                 & MH12NX1416                           & 0                                    & 9.00                                 & 196.0                                & 4.0                                  & 3.33                                 & 1.33                                 & 2.00                                 & 1.33                                 & 0.33                                 & 0.00                                 & R1                                   & 389                                  & NA                                   & NA                                   & NA                                  \\\\\n",
       "\t 55f4369a-e03e-486f-bcfd-4b4bde9b0002 & TN0220060024403                      & Chennai                              & TN11U8082                            & 0                                    & 8.52                                 & 191.0                                & 3.3                                  & 0.33                                 & 0.33                                 & 1.00                                 & 0.00                                 & 0.00                                 & 0.33                                 & R1                                   & 482                                  & 33                                   & Married                              & SSC/HSC(10thpass)                   \\\\\n",
       "\t fb945193-39e2-40bd-ab7b-1836e1d7da9d & MH1320100024711                      & Pune                                 & MH14GD2950                           & 0                                    & 9.00                                 & 190.7                                & 4.7                                  & 3.33                                 & 0.33                                 & 7.33                                 & 3.00                                 & 0.33                                 & 1.00                                 & R1                                   & 112                                  & 30                                   & Single                               & SSC/HSC(10thpass)                   \\\\\n",
       "\t 216354d8-0e92-4200-99d1-565a2eb8a724 & TN2520160002431                      & Bangalore                            & KA03AC2182                           & 0                                    & 8.38                                 & 190.7                                & 2.3                                  & 4.00                                 & 2.67                                 & 1.67                                 & 1.33                                 & 0.00                                 & 0.00                                 & R1                                   & 118                                  & NA                                   & NA                                   & NA                                  \\\\\n",
       "\t 1bafcebd-a88e-4c3c-89cd-73be4d0973b2 & TS00220140010081                     & Hyderabad                            & TS08AETR4205                         & 0                                    & 8.73                                 & 189.0                                & 6.0                                  & 2.67                                 & 0.33                                 & 3.67                                 & 1.67                                 & 0.00                                 & 0.00                                 & R1                                   & 304                                  & NA                                   & NA                                   & NA                                  \\\\\n",
       "\\end{tabular}\n"
      ],
      "text/markdown": [
       "\n",
       "Driver_sugar_id | DL_number | Driver_city | Car | BAD_GUYS | OLA_Score_45 | Rides | X12Rating | UB | CQ | DP | UB12 | CQ12 | DP12 | Rtag | D_AoP | D_Age | D_Marital | D_edu | \n",
       "|---|---|---|---|---|---|\n",
       "| 39c78410-5f47-4ca1-b285-312042e59cc8 | WB01200804137326                     | Kolkata                              | WB25G5108                            | 0                                    | 8.44                                 | 196.3                                | 5.3                                  | 2.00                                 | 1.00                                 | 1.00                                 | 1.00                                 | 0.67                                 | 0.33                                 | R1                                   | 52                                   | NA                                   | NA                                   | NA                                   | \n",
       "| 26c03b70-3e79-4f74-9be6-15cabb0f2c2e | MH1420080077995                      | Pune                                 | MH12NX1416                           | 0                                    | 9.00                                 | 196.0                                | 4.0                                  | 3.33                                 | 1.33                                 | 2.00                                 | 1.33                                 | 0.33                                 | 0.00                                 | R1                                   | 389                                  | NA                                   | NA                                   | NA                                   | \n",
       "| 55f4369a-e03e-486f-bcfd-4b4bde9b0002 | TN0220060024403                      | Chennai                              | TN11U8082                            | 0                                    | 8.52                                 | 191.0                                | 3.3                                  | 0.33                                 | 0.33                                 | 1.00                                 | 0.00                                 | 0.00                                 | 0.33                                 | R1                                   | 482                                  | 33                                   | Married                              | SSC/HSC(10thpass)                    | \n",
       "| fb945193-39e2-40bd-ab7b-1836e1d7da9d | MH1320100024711                      | Pune                                 | MH14GD2950                           | 0                                    | 9.00                                 | 190.7                                | 4.7                                  | 3.33                                 | 0.33                                 | 7.33                                 | 3.00                                 | 0.33                                 | 1.00                                 | R1                                   | 112                                  | 30                                   | Single                               | SSC/HSC(10thpass)                    | \n",
       "| 216354d8-0e92-4200-99d1-565a2eb8a724 | TN2520160002431                      | Bangalore                            | KA03AC2182                           | 0                                    | 8.38                                 | 190.7                                | 2.3                                  | 4.00                                 | 2.67                                 | 1.67                                 | 1.33                                 | 0.00                                 | 0.00                                 | R1                                   | 118                                  | NA                                   | NA                                   | NA                                   | \n",
       "| 1bafcebd-a88e-4c3c-89cd-73be4d0973b2 | TS00220140010081                     | Hyderabad                            | TS08AETR4205                         | 0                                    | 8.73                                 | 189.0                                | 6.0                                  | 2.67                                 | 0.33                                 | 3.67                                 | 1.67                                 | 0.00                                 | 0.00                                 | R1                                   | 304                                  | NA                                   | NA                                   | NA                                   | \n",
       "\n",
       "\n"
      ],
      "text/plain": [
       "  Driver_sugar_id                      DL_number        Driver_city\n",
       "1 39c78410-5f47-4ca1-b285-312042e59cc8 WB01200804137326 Kolkata    \n",
       "2 26c03b70-3e79-4f74-9be6-15cabb0f2c2e MH1420080077995  Pune       \n",
       "3 55f4369a-e03e-486f-bcfd-4b4bde9b0002 TN0220060024403  Chennai    \n",
       "4 fb945193-39e2-40bd-ab7b-1836e1d7da9d MH1320100024711  Pune       \n",
       "5 216354d8-0e92-4200-99d1-565a2eb8a724 TN2520160002431  Bangalore  \n",
       "6 1bafcebd-a88e-4c3c-89cd-73be4d0973b2 TS00220140010081 Hyderabad  \n",
       "  Car          BAD_GUYS OLA_Score_45 Rides X12Rating UB   CQ   DP   UB12 CQ12\n",
       "1 WB25G5108    0        8.44         196.3 5.3       2.00 1.00 1.00 1.00 0.67\n",
       "2 MH12NX1416   0        9.00         196.0 4.0       3.33 1.33 2.00 1.33 0.33\n",
       "3 TN11U8082    0        8.52         191.0 3.3       0.33 0.33 1.00 0.00 0.00\n",
       "4 MH14GD2950   0        9.00         190.7 4.7       3.33 0.33 7.33 3.00 0.33\n",
       "5 KA03AC2182   0        8.38         190.7 2.3       4.00 2.67 1.67 1.33 0.00\n",
       "6 TS08AETR4205 0        8.73         189.0 6.0       2.67 0.33 3.67 1.67 0.00\n",
       "  DP12 Rtag D_AoP D_Age D_Marital D_edu            \n",
       "1 0.33 R1   52    NA    NA        NA               \n",
       "2 0.00 R1   389   NA    NA        NA               \n",
       "3 0.33 R1   482   33    Married   SSC/HSC(10thpass)\n",
       "4 1.00 R1   112   30    Single    SSC/HSC(10thpass)\n",
       "5 0.00 R1   118   NA    NA        NA               \n",
       "6 0.00 R1   304   NA    NA        NA               "
      ]
     },
     "metadata": {},
     "output_type": "display_data"
    }
   ],
   "source": [
    "nrow(data)\n",
    "ncol(data)\n",
    "head(data)\n"
   ]
  },
  {
   "cell_type": "code",
   "execution_count": 27,
   "metadata": {},
   "outputs": [
    {
     "data": {
      "text/html": [
       "101045"
      ],
      "text/latex": [
       "101045"
      ],
      "text/markdown": [
       "101045"
      ],
      "text/plain": [
       "[1] 101045"
      ]
     },
     "metadata": {},
     "output_type": "display_data"
    }
   ],
   "source": [
    "ok=complete.cases(data)\n",
    "sum(!ok)"
   ]
  },
  {
   "cell_type": "code",
   "execution_count": 29,
   "metadata": {},
   "outputs": [],
   "source": [
    "data.complete=data[ok,]"
   ]
  },
  {
   "cell_type": "code",
   "execution_count": 30,
   "metadata": {},
   "outputs": [
    {
     "data": {
      "text/html": [
       "48322"
      ],
      "text/latex": [
       "48322"
      ],
      "text/markdown": [
       "48322"
      ],
      "text/plain": [
       "[1] 48322"
      ]
     },
     "metadata": {},
     "output_type": "display_data"
    }
   ],
   "source": [
    "nrow(data.complete)"
   ]
  }
 ],
 "metadata": {
  "kernelspec": {
   "display_name": "R",
   "language": "R",
   "name": "ir"
  },
  "language_info": {
   "codemirror_mode": "r",
   "file_extension": ".r",
   "mimetype": "text/x-r-source",
   "name": "R",
   "pygments_lexer": "r",
   "version": "3.4.1"
  }
 },
 "nbformat": 4,
 "nbformat_minor": 2
}
