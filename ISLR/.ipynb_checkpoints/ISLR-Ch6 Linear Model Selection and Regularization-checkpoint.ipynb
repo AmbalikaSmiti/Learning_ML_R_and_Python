{
 "cells": [
  {
   "cell_type": "markdown",
   "metadata": {},
   "source": [
    "# Linear Model Selection and Regularization"
   ]
  },
  {
   "cell_type": "code",
   "execution_count": 1,
   "metadata": {},
   "outputs": [
    {
     "name": "stderr",
     "output_type": "stream",
     "text": [
      "Warning message:\n",
      "\"package 'ISLR' was built under R version 3.4.2\""
     ]
    },
    {
     "data": {
      "text/html": [
       "<ol class=list-inline>\n",
       "\t<li>322</li>\n",
       "\t<li>20</li>\n",
       "</ol>\n"
      ],
      "text/latex": [
       "\\begin{enumerate*}\n",
       "\\item 322\n",
       "\\item 20\n",
       "\\end{enumerate*}\n"
      ],
      "text/markdown": [
       "1. 322\n",
       "2. 20\n",
       "\n",
       "\n"
      ],
      "text/plain": [
       "[1] 322  20"
      ]
     },
     "metadata": {},
     "output_type": "display_data"
    },
    {
     "data": {
      "text/html": [
       "59"
      ],
      "text/latex": [
       "59"
      ],
      "text/markdown": [
       "59"
      ],
      "text/plain": [
       "[1] 59"
      ]
     },
     "metadata": {},
     "output_type": "display_data"
    },
    {
     "data": {
      "text/html": [
       "59"
      ],
      "text/latex": [
       "59"
      ],
      "text/markdown": [
       "59"
      ],
      "text/plain": [
       "[1] 59"
      ]
     },
     "metadata": {},
     "output_type": "display_data"
    },
    {
     "data": {
      "text/plain": [
       "     AtBat            Hits         HmRun            Runs       \n",
       " Min.   : 16.0   Min.   :  1   Min.   : 0.00   Min.   :  0.00  \n",
       " 1st Qu.:255.2   1st Qu.: 64   1st Qu.: 4.00   1st Qu.: 30.25  \n",
       " Median :379.5   Median : 96   Median : 8.00   Median : 48.00  \n",
       " Mean   :380.9   Mean   :101   Mean   :10.77   Mean   : 50.91  \n",
       " 3rd Qu.:512.0   3rd Qu.:137   3rd Qu.:16.00   3rd Qu.: 69.00  \n",
       " Max.   :687.0   Max.   :238   Max.   :40.00   Max.   :130.00  \n",
       "                                                               \n",
       "      RBI             Walks            Years            CAtBat       \n",
       " Min.   :  0.00   Min.   :  0.00   Min.   : 1.000   Min.   :   19.0  \n",
       " 1st Qu.: 28.00   1st Qu.: 22.00   1st Qu.: 4.000   1st Qu.:  816.8  \n",
       " Median : 44.00   Median : 35.00   Median : 6.000   Median : 1928.0  \n",
       " Mean   : 48.03   Mean   : 38.74   Mean   : 7.444   Mean   : 2648.7  \n",
       " 3rd Qu.: 64.75   3rd Qu.: 53.00   3rd Qu.:11.000   3rd Qu.: 3924.2  \n",
       " Max.   :121.00   Max.   :105.00   Max.   :24.000   Max.   :14053.0  \n",
       "                                                                     \n",
       "     CHits            CHmRun           CRuns             CRBI        \n",
       " Min.   :   4.0   Min.   :  0.00   Min.   :   1.0   Min.   :   0.00  \n",
       " 1st Qu.: 209.0   1st Qu.: 14.00   1st Qu.: 100.2   1st Qu.:  88.75  \n",
       " Median : 508.0   Median : 37.50   Median : 247.0   Median : 220.50  \n",
       " Mean   : 717.6   Mean   : 69.49   Mean   : 358.8   Mean   : 330.12  \n",
       " 3rd Qu.:1059.2   3rd Qu.: 90.00   3rd Qu.: 526.2   3rd Qu.: 426.25  \n",
       " Max.   :4256.0   Max.   :548.00   Max.   :2165.0   Max.   :1659.00  \n",
       "                                                                     \n",
       "     CWalks        League  Division    PutOuts          Assists     \n",
       " Min.   :   0.00   A:175   E:157    Min.   :   0.0   Min.   :  0.0  \n",
       " 1st Qu.:  67.25   N:147   W:165    1st Qu.: 109.2   1st Qu.:  7.0  \n",
       " Median : 170.50                    Median : 212.0   Median : 39.5  \n",
       " Mean   : 260.24                    Mean   : 288.9   Mean   :106.9  \n",
       " 3rd Qu.: 339.25                    3rd Qu.: 325.0   3rd Qu.:166.0  \n",
       " Max.   :1566.00                    Max.   :1378.0   Max.   :492.0  \n",
       "                                                                    \n",
       "     Errors          Salary       NewLeague\n",
       " Min.   : 0.00   Min.   :  67.5   A:176    \n",
       " 1st Qu.: 3.00   1st Qu.: 190.0   N:146    \n",
       " Median : 6.00   Median : 425.0            \n",
       " Mean   : 8.04   Mean   : 535.9            \n",
       " 3rd Qu.:11.00   3rd Qu.: 750.0            \n",
       " Max.   :32.00   Max.   :2460.0            \n",
       "                 NA's   :59                "
      ]
     },
     "metadata": {},
     "output_type": "display_data"
    }
   ],
   "source": [
    "\n",
    "library(ISLR)\n",
    "# names(Hitters)\n",
    "dim(Hitters) #322 rows, 20 columns\n",
    "sum(is.na(Hitters)) # 59 rows with NA values in one of the colummns\n",
    "sum(is.na(Hitters$Salary))\n",
    "summary(Hitters)"
   ]
  },
  {
   "cell_type": "code",
   "execution_count": 2,
   "metadata": {
    "collapsed": true
   },
   "outputs": [],
   "source": [
    "fix(Hitters)\n",
    "attach(Hitters)"
   ]
  },
  {
   "cell_type": "code",
   "execution_count": 4,
   "metadata": {},
   "outputs": [
    {
     "data": {
      "text/html": [
       "<ol class=list-inline>\n",
       "\t<li>263</li>\n",
       "\t<li>20</li>\n",
       "</ol>\n"
      ],
      "text/latex": [
       "\\begin{enumerate*}\n",
       "\\item 263\n",
       "\\item 20\n",
       "\\end{enumerate*}\n"
      ],
      "text/markdown": [
       "1. 263\n",
       "2. 20\n",
       "\n",
       "\n"
      ],
      "text/plain": [
       "[1] 263  20"
      ]
     },
     "metadata": {},
     "output_type": "display_data"
    },
    {
     "data": {
      "text/html": [
       "0"
      ],
      "text/latex": [
       "0"
      ],
      "text/markdown": [
       "0"
      ],
      "text/plain": [
       "[1] 0"
      ]
     },
     "metadata": {},
     "output_type": "display_data"
    },
    {
     "data": {
      "text/plain": [
       "     AtBat            Hits           HmRun            Runs       \n",
       " Min.   : 19.0   Min.   :  1.0   Min.   : 0.00   Min.   :  0.00  \n",
       " 1st Qu.:282.5   1st Qu.: 71.5   1st Qu.: 5.00   1st Qu.: 33.50  \n",
       " Median :413.0   Median :103.0   Median : 9.00   Median : 52.00  \n",
       " Mean   :403.6   Mean   :107.8   Mean   :11.62   Mean   : 54.75  \n",
       " 3rd Qu.:526.0   3rd Qu.:141.5   3rd Qu.:18.00   3rd Qu.: 73.00  \n",
       " Max.   :687.0   Max.   :238.0   Max.   :40.00   Max.   :130.00  \n",
       "      RBI             Walks            Years            CAtBat       \n",
       " Min.   :  0.00   Min.   :  0.00   Min.   : 1.000   Min.   :   19.0  \n",
       " 1st Qu.: 30.00   1st Qu.: 23.00   1st Qu.: 4.000   1st Qu.:  842.5  \n",
       " Median : 47.00   Median : 37.00   Median : 6.000   Median : 1931.0  \n",
       " Mean   : 51.49   Mean   : 41.11   Mean   : 7.312   Mean   : 2657.5  \n",
       " 3rd Qu.: 71.00   3rd Qu.: 57.00   3rd Qu.:10.000   3rd Qu.: 3890.5  \n",
       " Max.   :121.00   Max.   :105.00   Max.   :24.000   Max.   :14053.0  \n",
       "     CHits            CHmRun           CRuns             CRBI       \n",
       " Min.   :   4.0   Min.   :  0.00   Min.   :   2.0   Min.   :   3.0  \n",
       " 1st Qu.: 212.0   1st Qu.: 15.00   1st Qu.: 105.5   1st Qu.:  95.0  \n",
       " Median : 516.0   Median : 40.00   Median : 250.0   Median : 230.0  \n",
       " Mean   : 722.2   Mean   : 69.24   Mean   : 361.2   Mean   : 330.4  \n",
       " 3rd Qu.:1054.0   3rd Qu.: 92.50   3rd Qu.: 497.5   3rd Qu.: 424.5  \n",
       " Max.   :4256.0   Max.   :548.00   Max.   :2165.0   Max.   :1659.0  \n",
       "     CWalks       League  Division    PutOuts          Assists     \n",
       " Min.   :   1.0   A:139   E:129    Min.   :   0.0   Min.   :  0.0  \n",
       " 1st Qu.:  71.0   N:124   W:134    1st Qu.: 113.5   1st Qu.:  8.0  \n",
       " Median : 174.0                    Median : 224.0   Median : 45.0  \n",
       " Mean   : 260.3                    Mean   : 290.7   Mean   :118.8  \n",
       " 3rd Qu.: 328.5                    3rd Qu.: 322.5   3rd Qu.:192.0  \n",
       " Max.   :1566.0                    Max.   :1377.0   Max.   :492.0  \n",
       "     Errors           Salary       NewLeague\n",
       " Min.   : 0.000   Min.   :  67.5   A:141    \n",
       " 1st Qu.: 3.000   1st Qu.: 190.0   N:122    \n",
       " Median : 7.000   Median : 425.0            \n",
       " Mean   : 8.593   Mean   : 535.9            \n",
       " 3rd Qu.:13.000   3rd Qu.: 750.0            \n",
       " Max.   :32.000   Max.   :2460.0            "
      ]
     },
     "metadata": {},
     "output_type": "display_data"
    }
   ],
   "source": [
    "Hitters=na.omit(Hitters) #remove rows with NA values\n",
    "dim(Hitters) #dimensions after removing the NA rows\n",
    "sum(is.na(Hitters))\n",
    "summary(Hitters)"
   ]
  },
  {
   "cell_type": "markdown",
   "metadata": {},
   "source": [
    "regsubsets() function (part of the leaps library) performs best subset selection by identifying the best model that contains a given number of predictors, where best is quantified using RSS. The syntax is the same as for lm(). The summary() command outputs the best set of variables for each model size."
   ]
  },
  {
   "cell_type": "markdown",
   "metadata": {},
   "source": [
    "## Best Subset Selection "
   ]
  },
  {
   "cell_type": "code",
   "execution_count": 6,
   "metadata": {
    "collapsed": true
   },
   "outputs": [],
   "source": [
    "library(leaps)"
   ]
  },
  {
   "cell_type": "code",
   "execution_count": 7,
   "metadata": {},
   "outputs": [
    {
     "data": {
      "text/plain": [
       "Subset selection object\n",
       "Call: regsubsets.formula(Salary ~ ., Hitters)\n",
       "19 Variables  (and intercept)\n",
       "           Forced in Forced out\n",
       "AtBat          FALSE      FALSE\n",
       "Hits           FALSE      FALSE\n",
       "HmRun          FALSE      FALSE\n",
       "Runs           FALSE      FALSE\n",
       "RBI            FALSE      FALSE\n",
       "Walks          FALSE      FALSE\n",
       "Years          FALSE      FALSE\n",
       "CAtBat         FALSE      FALSE\n",
       "CHits          FALSE      FALSE\n",
       "CHmRun         FALSE      FALSE\n",
       "CRuns          FALSE      FALSE\n",
       "CRBI           FALSE      FALSE\n",
       "CWalks         FALSE      FALSE\n",
       "LeagueN        FALSE      FALSE\n",
       "DivisionW      FALSE      FALSE\n",
       "PutOuts        FALSE      FALSE\n",
       "Assists        FALSE      FALSE\n",
       "Errors         FALSE      FALSE\n",
       "NewLeagueN     FALSE      FALSE\n",
       "1 subsets of each size up to 8\n",
       "Selection Algorithm: exhaustive\n",
       "         AtBat Hits HmRun Runs RBI Walks Years CAtBat CHits CHmRun CRuns CRBI\n",
       "1  ( 1 ) \" \"   \" \"  \" \"   \" \"  \" \" \" \"   \" \"   \" \"    \" \"   \" \"    \" \"   \"*\" \n",
       "2  ( 1 ) \" \"   \"*\"  \" \"   \" \"  \" \" \" \"   \" \"   \" \"    \" \"   \" \"    \" \"   \"*\" \n",
       "3  ( 1 ) \" \"   \"*\"  \" \"   \" \"  \" \" \" \"   \" \"   \" \"    \" \"   \" \"    \" \"   \"*\" \n",
       "4  ( 1 ) \" \"   \"*\"  \" \"   \" \"  \" \" \" \"   \" \"   \" \"    \" \"   \" \"    \" \"   \"*\" \n",
       "5  ( 1 ) \"*\"   \"*\"  \" \"   \" \"  \" \" \" \"   \" \"   \" \"    \" \"   \" \"    \" \"   \"*\" \n",
       "6  ( 1 ) \"*\"   \"*\"  \" \"   \" \"  \" \" \"*\"   \" \"   \" \"    \" \"   \" \"    \" \"   \"*\" \n",
       "7  ( 1 ) \" \"   \"*\"  \" \"   \" \"  \" \" \"*\"   \" \"   \"*\"    \"*\"   \"*\"    \" \"   \" \" \n",
       "8  ( 1 ) \"*\"   \"*\"  \" \"   \" \"  \" \" \"*\"   \" \"   \" \"    \" \"   \"*\"    \"*\"   \" \" \n",
       "         CWalks LeagueN DivisionW PutOuts Assists Errors NewLeagueN\n",
       "1  ( 1 ) \" \"    \" \"     \" \"       \" \"     \" \"     \" \"    \" \"       \n",
       "2  ( 1 ) \" \"    \" \"     \" \"       \" \"     \" \"     \" \"    \" \"       \n",
       "3  ( 1 ) \" \"    \" \"     \" \"       \"*\"     \" \"     \" \"    \" \"       \n",
       "4  ( 1 ) \" \"    \" \"     \"*\"       \"*\"     \" \"     \" \"    \" \"       \n",
       "5  ( 1 ) \" \"    \" \"     \"*\"       \"*\"     \" \"     \" \"    \" \"       \n",
       "6  ( 1 ) \" \"    \" \"     \"*\"       \"*\"     \" \"     \" \"    \" \"       \n",
       "7  ( 1 ) \" \"    \" \"     \"*\"       \"*\"     \" \"     \" \"    \" \"       \n",
       "8  ( 1 ) \"*\"    \" \"     \"*\"       \"*\"     \" \"     \" \"    \" \"       "
      ]
     },
     "metadata": {},
     "output_type": "display_data"
    }
   ],
   "source": [
    "#taking all input variables to predict salary using Best Subset selection model\n",
    "regit.full=regsubsets(Salary~.,Hitters)\n",
    "summary(regit.full) #outputs the best set of variables for each model size\n",
    "# An asterisk indicates that a given variable is included in the corresponding model."
   ]
  },
  {
   "cell_type": "raw",
   "metadata": {},
   "source": [
    "By default, regsubsets() only reports results up to the best eight-variable model. But the nvmax option can be used\n",
    "in order to return as many variables as are desired. Here we fit up to a 19-variable model"
   ]
  },
  {
   "cell_type": "code",
   "execution_count": 8,
   "metadata": {
    "collapsed": true
   },
   "outputs": [],
   "source": [
    "#taking all input variables to predict salary using Best Subset selection model\n",
    "regit.full=regsubsets(Salary~.,Hitters,nvmax=19) #nvmax shows all models upto 19 predictors\n",
    "reg.summary=summary(regit.full) #outputs the best set of variables for each model size\n",
    "# An asterisk indicates that a given variable is included in the corresponding model."
   ]
  },
  {
   "cell_type": "code",
   "execution_count": 11,
   "metadata": {},
   "outputs": [
    {
     "data": {
      "text/html": [
       "<ol class=list-inline>\n",
       "\t<li>'which'</li>\n",
       "\t<li>'rsq'</li>\n",
       "\t<li>'rss'</li>\n",
       "\t<li>'adjr2'</li>\n",
       "\t<li>'cp'</li>\n",
       "\t<li>'bic'</li>\n",
       "\t<li>'outmat'</li>\n",
       "\t<li>'obj'</li>\n",
       "</ol>\n"
      ],
      "text/latex": [
       "\\begin{enumerate*}\n",
       "\\item 'which'\n",
       "\\item 'rsq'\n",
       "\\item 'rss'\n",
       "\\item 'adjr2'\n",
       "\\item 'cp'\n",
       "\\item 'bic'\n",
       "\\item 'outmat'\n",
       "\\item 'obj'\n",
       "\\end{enumerate*}\n"
      ],
      "text/markdown": [
       "1. 'which'\n",
       "2. 'rsq'\n",
       "3. 'rss'\n",
       "4. 'adjr2'\n",
       "5. 'cp'\n",
       "6. 'bic'\n",
       "7. 'outmat'\n",
       "8. 'obj'\n",
       "\n",
       "\n"
      ],
      "text/plain": [
       "[1] \"which\"  \"rsq\"    \"rss\"    \"adjr2\"  \"cp\"     \"bic\"    \"outmat\" \"obj\"   "
      ]
     },
     "metadata": {},
     "output_type": "display_data"
    }
   ],
   "source": [
    "# The summary() function also returns R2, RSS, adjusted R2, Cp, and BIC.\n",
    "names(reg.summary)"
   ]
  },
  {
   "cell_type": "code",
   "execution_count": 13,
   "metadata": {},
   "outputs": [
    {
     "data": {
      "text/html": [
       "<ol class=list-inline>\n",
       "\t<li>0.321</li>\n",
       "\t<li>0.425</li>\n",
       "\t<li>0.451</li>\n",
       "\t<li>0.475</li>\n",
       "\t<li>0.491</li>\n",
       "\t<li>0.509</li>\n",
       "\t<li>0.514</li>\n",
       "\t<li>0.529</li>\n",
       "\t<li>0.535</li>\n",
       "\t<li>0.54</li>\n",
       "\t<li>0.543</li>\n",
       "\t<li>0.544</li>\n",
       "\t<li>0.544</li>\n",
       "\t<li>0.545</li>\n",
       "\t<li>0.545</li>\n",
       "\t<li>0.546</li>\n",
       "\t<li>0.546</li>\n",
       "\t<li>0.546</li>\n",
       "\t<li>0.546</li>\n",
       "</ol>\n"
      ],
      "text/latex": [
       "\\begin{enumerate*}\n",
       "\\item 0.321\n",
       "\\item 0.425\n",
       "\\item 0.451\n",
       "\\item 0.475\n",
       "\\item 0.491\n",
       "\\item 0.509\n",
       "\\item 0.514\n",
       "\\item 0.529\n",
       "\\item 0.535\n",
       "\\item 0.54\n",
       "\\item 0.543\n",
       "\\item 0.544\n",
       "\\item 0.544\n",
       "\\item 0.545\n",
       "\\item 0.545\n",
       "\\item 0.546\n",
       "\\item 0.546\n",
       "\\item 0.546\n",
       "\\item 0.546\n",
       "\\end{enumerate*}\n"
      ],
      "text/markdown": [
       "1. 0.321\n",
       "2. 0.425\n",
       "3. 0.451\n",
       "4. 0.475\n",
       "5. 0.491\n",
       "6. 0.509\n",
       "7. 0.514\n",
       "8. 0.529\n",
       "9. 0.535\n",
       "10. 0.54\n",
       "11. 0.543\n",
       "12. 0.544\n",
       "13. 0.544\n",
       "14. 0.545\n",
       "15. 0.545\n",
       "16. 0.546\n",
       "17. 0.546\n",
       "18. 0.546\n",
       "19. 0.546\n",
       "\n",
       "\n"
      ],
      "text/plain": [
       " [1] 0.321 0.425 0.451 0.475 0.491 0.509 0.514 0.529 0.535 0.540 0.543 0.544\n",
       "[13] 0.544 0.545 0.545 0.546 0.546 0.546 0.546"
      ]
     },
     "metadata": {},
     "output_type": "display_data"
    }
   ],
   "source": [
    "round(reg.summary$rsq,3)\n",
    "#R2 statistic increases monotonically as more variables are included"
   ]
  },
  {
   "cell_type": "raw",
   "metadata": {},
   "source": [
    "Plotting RSS, adjusted R2, Cp, and BIC for all of the models at once will help us decide which model to select. Note the type=\"l\" option tells R to connect the plotted points with lines"
   ]
  },
  {
   "cell_type": "raw",
   "metadata": {},
   "source": [
    "The points() command works like the plot() command, except that it puts points on a plot that has already been created, instead of creating a new plot. The which.max() function can be used to identify the location of the maximum point of a vector. We will now plot a red dot to indicate the model with the largest adjusted R2 statistic."
   ]
  },
  {
   "cell_type": "code",
   "execution_count": 26,
   "metadata": {},
   "outputs": [
    {
     "name": "stdout",
     "output_type": "stream",
     "text": [
      "[1] \"Adjusted RSQ is maximum at\"\n"
     ]
    },
    {
     "data": {
      "text/html": [
       "11"
      ],
      "text/latex": [
       "11"
      ],
      "text/markdown": [
       "11"
      ],
      "text/plain": [
       "[1] 11"
      ]
     },
     "metadata": {},
     "output_type": "display_data"
    },
    {
     "name": "stdout",
     "output_type": "stream",
     "text": [
      "[1] \"Cp is minimum at\"\n"
     ]
    },
    {
     "data": {
      "text/html": [
       "10"
      ],
      "text/latex": [
       "10"
      ],
      "text/markdown": [
       "10"
      ],
      "text/plain": [
       "[1] 10"
      ]
     },
     "metadata": {},
     "output_type": "display_data"
    },
    {
     "name": "stdout",
     "output_type": "stream",
     "text": [
      "[1] \"BIC is minimum at\"\n"
     ]
    },
    {
     "data": {
      "text/html": [
       "6"
      ],
      "text/latex": [
       "6"
      ],
      "text/markdown": [
       "6"
      ],
      "text/plain": [
       "[1] 6"
      ]
     },
     "metadata": {},
     "output_type": "display_data"
    },
    {
     "data": {
      "image/png": "[encoded data removed]",
      "text/plain": [
       "plot without title"
      ]
     },
     "metadata": {},
     "output_type": "display_data"
    }
   ],
   "source": [
    "par(mfrow=c(2,2))\n",
    "plot(reg.summary$rss,xlab=\"Number of Variable\", ylab=\"RSS\", type=\"l\")\n",
    "\n",
    "# Adjusted R-square plot and the point at which it is maximum\n",
    "plot(reg.summary$adjr2,xlab=\"Number of Variable\", ylab=\"Adjusted RSQ\", type=\"l\")\n",
    "adjr2max=which.max(reg.summary$adjr2)\n",
    "print(\"Adjusted RSQ is maximum at\")\n",
    "adjr2max\n",
    "points(adjr2max, reg.summary$adjr2[adjr2max],col=\"red\", cex=2, pch=20)\n",
    "\n",
    "\n",
    "# Cp plot and the point at which it is minimum\n",
    "plot(reg.summary$cp,xlab=\"Number of Variable\", ylab=\"Cp\", type=\"l\")\n",
    "cpmin=which.min(reg.summary$cp)\n",
    "print(\"Cp is minimum at\")\n",
    "cpmin\n",
    "points(cpmin, reg.summary$cp[cpmin],col=\"red\", cex=2, pch=20)\n",
    "\n",
    "\n",
    "# BIC plot and the point at which it is minimum\n",
    "plot(reg.summary$bic,xlab=\"Number of Variable\", ylab=\"BIC\", type=\"l\")\n",
    "bicmin=which.min(reg.summary$bic)\n",
    "print(\"BIC is minimum at\")\n",
    "bicmin\n",
    "points(bicmin, reg.summary$bic[bicmin],col=\"red\", cex=2, pch=20)\n",
    "\n"
   ]
  },
  {
   "cell_type": "markdown",
   "metadata": {},
   "source": [
    "The regsubsets() function has a built-in plot() command which can\n",
    "be used to display the selected variables for the best model with a given\n",
    "number of predictors, ranked according to the BIC, Cp, adjusted R2, or\n",
    "AIC\n",
    "\n",
    "The top row of each plot contains a black square for each variable selected\n",
    "according to the optimal model associated with that statistic."
   ]
  },
  {
   "cell_type": "code",
   "execution_count": 27,
   "metadata": {},
   "outputs": [
    {
     "data": {
      "image/png": "[encoded data removed]",
      "text/plain": [
       "plot without title"
      ]
     },
     "metadata": {},
     "output_type": "display_data"
    }
   ],
   "source": [
    "plot(regit.full, scale=\"r2\")"
   ]
  },
  {
   "cell_type": "code",
   "execution_count": 28,
   "metadata": {},
   "outputs": [
    {
     "data": {
      "image/png": "[encoded data removed]",
      "text/plain": [
       "plot without title"
      ]
     },
     "metadata": {},
     "output_type": "display_data"
    }
   ],
   "source": [
    "plot(regit.full, scale=\"adjr2\")"
   ]
  },
  {
   "cell_type": "code",
   "execution_count": 30,
   "metadata": {},
   "outputs": [
    {
     "data": {
      "image/png": "[encoded data removed]",
      "text/plain": [
       "plot without title"
      ]
     },
     "metadata": {},
     "output_type": "display_data"
    }
   ],
   "source": [
    "plot(regit.full, scale=\"Cp\")"
   ]
  },
  {
   "cell_type": "code",
   "execution_count": 31,
   "metadata": {},
   "outputs": [
    {
     "data": {
      "image/png": "[encoded data removed]",
      "text/plain": [
       "plot without title"
      ]
     },
     "metadata": {},
     "output_type": "display_data"
    }
   ],
   "source": [
    "plot(regit.full, scale=\"bic\")\n",
    "# model with lowest BIC is 6 variable model which includes variables- AtBat, Hits,Walks, CRBI,DivisionW, PutOuts"
   ]
  },
  {
   "cell_type": "code",
   "execution_count": null,
   "metadata": {
    "collapsed": true
   },
   "outputs": [],
   "source": []
  },
  {
   "cell_type": "code",
   "execution_count": 33,
   "metadata": {},
   "outputs": [
    {
     "data": {
      "text/html": [
       "<dl class=dl-horizontal>\n",
       "\t<dt>(Intercept)</dt>\n",
       "\t\t<dd>91.51</dd>\n",
       "\t<dt>AtBat</dt>\n",
       "\t\t<dd>-1.87</dd>\n",
       "\t<dt>Hits</dt>\n",
       "\t\t<dd>7.6</dd>\n",
       "\t<dt>Walks</dt>\n",
       "\t\t<dd>3.7</dd>\n",
       "\t<dt>CRBI</dt>\n",
       "\t\t<dd>0.64</dd>\n",
       "\t<dt>DivisionW</dt>\n",
       "\t\t<dd>-122.95</dd>\n",
       "\t<dt>PutOuts</dt>\n",
       "\t\t<dd>0.26</dd>\n",
       "</dl>\n"
      ],
      "text/latex": [
       "\\begin{description*}\n",
       "\\item[(Intercept)] 91.51\n",
       "\\item[AtBat] -1.87\n",
       "\\item[Hits] 7.6\n",
       "\\item[Walks] 3.7\n",
       "\\item[CRBI] 0.64\n",
       "\\item[DivisionW] -122.95\n",
       "\\item[PutOuts] 0.26\n",
       "\\end{description*}\n"
      ],
      "text/markdown": [
       "(Intercept)\n",
       ":   91.51AtBat\n",
       ":   -1.87Hits\n",
       ":   7.6Walks\n",
       ":   3.7CRBI\n",
       ":   0.64DivisionW\n",
       ":   -122.95PutOuts\n",
       ":   0.26\n",
       "\n"
      ],
      "text/plain": [
       "(Intercept)       AtBat        Hits       Walks        CRBI   DivisionW \n",
       "      91.51       -1.87        7.60        3.70        0.64     -122.95 \n",
       "    PutOuts \n",
       "       0.26 "
      ]
     },
     "metadata": {},
     "output_type": "display_data"
    }
   ],
   "source": [
    "# coef() function can be to used see the coefficient estimates associated with this model\n",
    "round(coef(regit.full ,6),2)"
   ]
  },
  {
   "cell_type": "markdown",
   "metadata": {},
   "source": [
    "## Forward and Backward Stepwise Selection"
   ]
  },
  {
   "cell_type": "code",
   "execution_count": 6,
   "metadata": {},
   "outputs": [
    {
     "name": "stderr",
     "output_type": "stream",
     "text": [
      "Warning message:\n",
      "\"package 'leaps' was built under R version 3.4.2\""
     ]
    },
    {
     "data": {
      "text/plain": [
       "Subset selection object\n",
       "Call: regsubsets.formula(Salary ~ ., data = Hitters, method = \"forward\", \n",
       "    nvmax = 19)\n",
       "19 Variables  (and intercept)\n",
       "           Forced in Forced out\n",
       "AtBat          FALSE      FALSE\n",
       "Hits           FALSE      FALSE\n",
       "HmRun          FALSE      FALSE\n",
       "Runs           FALSE      FALSE\n",
       "RBI            FALSE      FALSE\n",
       "Walks          FALSE      FALSE\n",
       "Years          FALSE      FALSE\n",
       "CAtBat         FALSE      FALSE\n",
       "CHits          FALSE      FALSE\n",
       "CHmRun         FALSE      FALSE\n",
       "CRuns          FALSE      FALSE\n",
       "CRBI           FALSE      FALSE\n",
       "CWalks         FALSE      FALSE\n",
       "LeagueN        FALSE      FALSE\n",
       "DivisionW      FALSE      FALSE\n",
       "PutOuts        FALSE      FALSE\n",
       "Assists        FALSE      FALSE\n",
       "Errors         FALSE      FALSE\n",
       "NewLeagueN     FALSE      FALSE\n",
       "1 subsets of each size up to 19\n",
       "Selection Algorithm: forward\n",
       "          AtBat Hits HmRun Runs RBI Walks Years CAtBat CHits CHmRun CRuns CRBI\n",
       "1  ( 1 )  \" \"   \" \"  \" \"   \" \"  \" \" \" \"   \" \"   \" \"    \" \"   \" \"    \" \"   \"*\" \n",
       "2  ( 1 )  \" \"   \"*\"  \" \"   \" \"  \" \" \" \"   \" \"   \" \"    \" \"   \" \"    \" \"   \"*\" \n",
       "3  ( 1 )  \" \"   \"*\"  \" \"   \" \"  \" \" \" \"   \" \"   \" \"    \" \"   \" \"    \" \"   \"*\" \n",
       "4  ( 1 )  \" \"   \"*\"  \" \"   \" \"  \" \" \" \"   \" \"   \" \"    \" \"   \" \"    \" \"   \"*\" \n",
       "5  ( 1 )  \"*\"   \"*\"  \" \"   \" \"  \" \" \" \"   \" \"   \" \"    \" \"   \" \"    \" \"   \"*\" \n",
       "6  ( 1 )  \"*\"   \"*\"  \" \"   \" \"  \" \" \"*\"   \" \"   \" \"    \" \"   \" \"    \" \"   \"*\" \n",
       "7  ( 1 )  \"*\"   \"*\"  \" \"   \" \"  \" \" \"*\"   \" \"   \" \"    \" \"   \" \"    \" \"   \"*\" \n",
       "8  ( 1 )  \"*\"   \"*\"  \" \"   \" \"  \" \" \"*\"   \" \"   \" \"    \" \"   \" \"    \"*\"   \"*\" \n",
       "9  ( 1 )  \"*\"   \"*\"  \" \"   \" \"  \" \" \"*\"   \" \"   \"*\"    \" \"   \" \"    \"*\"   \"*\" \n",
       "10  ( 1 ) \"*\"   \"*\"  \" \"   \" \"  \" \" \"*\"   \" \"   \"*\"    \" \"   \" \"    \"*\"   \"*\" \n",
       "11  ( 1 ) \"*\"   \"*\"  \" \"   \" \"  \" \" \"*\"   \" \"   \"*\"    \" \"   \" \"    \"*\"   \"*\" \n",
       "12  ( 1 ) \"*\"   \"*\"  \" \"   \"*\"  \" \" \"*\"   \" \"   \"*\"    \" \"   \" \"    \"*\"   \"*\" \n",
       "13  ( 1 ) \"*\"   \"*\"  \" \"   \"*\"  \" \" \"*\"   \" \"   \"*\"    \" \"   \" \"    \"*\"   \"*\" \n",
       "14  ( 1 ) \"*\"   \"*\"  \"*\"   \"*\"  \" \" \"*\"   \" \"   \"*\"    \" \"   \" \"    \"*\"   \"*\" \n",
       "15  ( 1 ) \"*\"   \"*\"  \"*\"   \"*\"  \" \" \"*\"   \" \"   \"*\"    \"*\"   \" \"    \"*\"   \"*\" \n",
       "16  ( 1 ) \"*\"   \"*\"  \"*\"   \"*\"  \"*\" \"*\"   \" \"   \"*\"    \"*\"   \" \"    \"*\"   \"*\" \n",
       "17  ( 1 ) \"*\"   \"*\"  \"*\"   \"*\"  \"*\" \"*\"   \" \"   \"*\"    \"*\"   \" \"    \"*\"   \"*\" \n",
       "18  ( 1 ) \"*\"   \"*\"  \"*\"   \"*\"  \"*\" \"*\"   \"*\"   \"*\"    \"*\"   \" \"    \"*\"   \"*\" \n",
       "19  ( 1 ) \"*\"   \"*\"  \"*\"   \"*\"  \"*\" \"*\"   \"*\"   \"*\"    \"*\"   \"*\"    \"*\"   \"*\" \n",
       "          CWalks LeagueN DivisionW PutOuts Assists Errors NewLeagueN\n",
       "1  ( 1 )  \" \"    \" \"     \" \"       \" \"     \" \"     \" \"    \" \"       \n",
       "2  ( 1 )  \" \"    \" \"     \" \"       \" \"     \" \"     \" \"    \" \"       \n",
       "3  ( 1 )  \" \"    \" \"     \" \"       \"*\"     \" \"     \" \"    \" \"       \n",
       "4  ( 1 )  \" \"    \" \"     \"*\"       \"*\"     \" \"     \" \"    \" \"       \n",
       "5  ( 1 )  \" \"    \" \"     \"*\"       \"*\"     \" \"     \" \"    \" \"       \n",
       "6  ( 1 )  \" \"    \" \"     \"*\"       \"*\"     \" \"     \" \"    \" \"       \n",
       "7  ( 1 )  \"*\"    \" \"     \"*\"       \"*\"     \" \"     \" \"    \" \"       \n",
       "8  ( 1 )  \"*\"    \" \"     \"*\"       \"*\"     \" \"     \" \"    \" \"       \n",
       "9  ( 1 )  \"*\"    \" \"     \"*\"       \"*\"     \" \"     \" \"    \" \"       \n",
       "10  ( 1 ) \"*\"    \" \"     \"*\"       \"*\"     \"*\"     \" \"    \" \"       \n",
       "11  ( 1 ) \"*\"    \"*\"     \"*\"       \"*\"     \"*\"     \" \"    \" \"       \n",
       "12  ( 1 ) \"*\"    \"*\"     \"*\"       \"*\"     \"*\"     \" \"    \" \"       \n",
       "13  ( 1 ) \"*\"    \"*\"     \"*\"       \"*\"     \"*\"     \"*\"    \" \"       \n",
       "14  ( 1 ) \"*\"    \"*\"     \"*\"       \"*\"     \"*\"     \"*\"    \" \"       \n",
       "15  ( 1 ) \"*\"    \"*\"     \"*\"       \"*\"     \"*\"     \"*\"    \" \"       \n",
       "16  ( 1 ) \"*\"    \"*\"     \"*\"       \"*\"     \"*\"     \"*\"    \" \"       \n",
       "17  ( 1 ) \"*\"    \"*\"     \"*\"       \"*\"     \"*\"     \"*\"    \"*\"       \n",
       "18  ( 1 ) \"*\"    \"*\"     \"*\"       \"*\"     \"*\"     \"*\"    \"*\"       \n",
       "19  ( 1 ) \"*\"    \"*\"     \"*\"       \"*\"     \"*\"     \"*\"    \"*\"       "
      ]
     },
     "metadata": {},
     "output_type": "display_data"
    }
   ],
   "source": [
    "library(leaps)\n",
    "regfit.fwd=regsubsets(Salary~.,data=Hitters, method='forward', nvmax=19)\n",
    "summary(regfit.fwd)"
   ]
  },
  {
   "cell_type": "code",
   "execution_count": 7,
   "metadata": {},
   "outputs": [
    {
     "data": {
      "text/plain": [
       "Subset selection object\n",
       "Call: regsubsets.formula(Salary ~ ., data = Hitters, method = \"backward\", \n",
       "    nvmax = 19)\n",
       "19 Variables  (and intercept)\n",
       "           Forced in Forced out\n",
       "AtBat          FALSE      FALSE\n",
       "Hits           FALSE      FALSE\n",
       "HmRun          FALSE      FALSE\n",
       "Runs           FALSE      FALSE\n",
       "RBI            FALSE      FALSE\n",
       "Walks          FALSE      FALSE\n",
       "Years          FALSE      FALSE\n",
       "CAtBat         FALSE      FALSE\n",
       "CHits          FALSE      FALSE\n",
       "CHmRun         FALSE      FALSE\n",
       "CRuns          FALSE      FALSE\n",
       "CRBI           FALSE      FALSE\n",
       "CWalks         FALSE      FALSE\n",
       "LeagueN        FALSE      FALSE\n",
       "DivisionW      FALSE      FALSE\n",
       "PutOuts        FALSE      FALSE\n",
       "Assists        FALSE      FALSE\n",
       "Errors         FALSE      FALSE\n",
       "NewLeagueN     FALSE      FALSE\n",
       "1 subsets of each size up to 19\n",
       "Selection Algorithm: backward\n",
       "          AtBat Hits HmRun Runs RBI Walks Years CAtBat CHits CHmRun CRuns CRBI\n",
       "1  ( 1 )  \" \"   \" \"  \" \"   \" \"  \" \" \" \"   \" \"   \" \"    \" \"   \" \"    \"*\"   \" \" \n",
       "2  ( 1 )  \" \"   \"*\"  \" \"   \" \"  \" \" \" \"   \" \"   \" \"    \" \"   \" \"    \"*\"   \" \" \n",
       "3  ( 1 )  \" \"   \"*\"  \" \"   \" \"  \" \" \" \"   \" \"   \" \"    \" \"   \" \"    \"*\"   \" \" \n",
       "4  ( 1 )  \"*\"   \"*\"  \" \"   \" \"  \" \" \" \"   \" \"   \" \"    \" \"   \" \"    \"*\"   \" \" \n",
       "5  ( 1 )  \"*\"   \"*\"  \" \"   \" \"  \" \" \"*\"   \" \"   \" \"    \" \"   \" \"    \"*\"   \" \" \n",
       "6  ( 1 )  \"*\"   \"*\"  \" \"   \" \"  \" \" \"*\"   \" \"   \" \"    \" \"   \" \"    \"*\"   \" \" \n",
       "7  ( 1 )  \"*\"   \"*\"  \" \"   \" \"  \" \" \"*\"   \" \"   \" \"    \" \"   \" \"    \"*\"   \" \" \n",
       "8  ( 1 )  \"*\"   \"*\"  \" \"   \" \"  \" \" \"*\"   \" \"   \" \"    \" \"   \" \"    \"*\"   \"*\" \n",
       "9  ( 1 )  \"*\"   \"*\"  \" \"   \" \"  \" \" \"*\"   \" \"   \"*\"    \" \"   \" \"    \"*\"   \"*\" \n",
       "10  ( 1 ) \"*\"   \"*\"  \" \"   \" \"  \" \" \"*\"   \" \"   \"*\"    \" \"   \" \"    \"*\"   \"*\" \n",
       "11  ( 1 ) \"*\"   \"*\"  \" \"   \" \"  \" \" \"*\"   \" \"   \"*\"    \" \"   \" \"    \"*\"   \"*\" \n",
       "12  ( 1 ) \"*\"   \"*\"  \" \"   \"*\"  \" \" \"*\"   \" \"   \"*\"    \" \"   \" \"    \"*\"   \"*\" \n",
       "13  ( 1 ) \"*\"   \"*\"  \" \"   \"*\"  \" \" \"*\"   \" \"   \"*\"    \" \"   \" \"    \"*\"   \"*\" \n",
       "14  ( 1 ) \"*\"   \"*\"  \"*\"   \"*\"  \" \" \"*\"   \" \"   \"*\"    \" \"   \" \"    \"*\"   \"*\" \n",
       "15  ( 1 ) \"*\"   \"*\"  \"*\"   \"*\"  \" \" \"*\"   \" \"   \"*\"    \"*\"   \" \"    \"*\"   \"*\" \n",
       "16  ( 1 ) \"*\"   \"*\"  \"*\"   \"*\"  \"*\" \"*\"   \" \"   \"*\"    \"*\"   \" \"    \"*\"   \"*\" \n",
       "17  ( 1 ) \"*\"   \"*\"  \"*\"   \"*\"  \"*\" \"*\"   \" \"   \"*\"    \"*\"   \" \"    \"*\"   \"*\" \n",
       "18  ( 1 ) \"*\"   \"*\"  \"*\"   \"*\"  \"*\" \"*\"   \"*\"   \"*\"    \"*\"   \" \"    \"*\"   \"*\" \n",
       "19  ( 1 ) \"*\"   \"*\"  \"*\"   \"*\"  \"*\" \"*\"   \"*\"   \"*\"    \"*\"   \"*\"    \"*\"   \"*\" \n",
       "          CWalks LeagueN DivisionW PutOuts Assists Errors NewLeagueN\n",
       "1  ( 1 )  \" \"    \" \"     \" \"       \" \"     \" \"     \" \"    \" \"       \n",
       "2  ( 1 )  \" \"    \" \"     \" \"       \" \"     \" \"     \" \"    \" \"       \n",
       "3  ( 1 )  \" \"    \" \"     \" \"       \"*\"     \" \"     \" \"    \" \"       \n",
       "4  ( 1 )  \" \"    \" \"     \" \"       \"*\"     \" \"     \" \"    \" \"       \n",
       "5  ( 1 )  \" \"    \" \"     \" \"       \"*\"     \" \"     \" \"    \" \"       \n",
       "6  ( 1 )  \" \"    \" \"     \"*\"       \"*\"     \" \"     \" \"    \" \"       \n",
       "7  ( 1 )  \"*\"    \" \"     \"*\"       \"*\"     \" \"     \" \"    \" \"       \n",
       "8  ( 1 )  \"*\"    \" \"     \"*\"       \"*\"     \" \"     \" \"    \" \"       \n",
       "9  ( 1 )  \"*\"    \" \"     \"*\"       \"*\"     \" \"     \" \"    \" \"       \n",
       "10  ( 1 ) \"*\"    \" \"     \"*\"       \"*\"     \"*\"     \" \"    \" \"       \n",
       "11  ( 1 ) \"*\"    \"*\"     \"*\"       \"*\"     \"*\"     \" \"    \" \"       \n",
       "12  ( 1 ) \"*\"    \"*\"     \"*\"       \"*\"     \"*\"     \" \"    \" \"       \n",
       "13  ( 1 ) \"*\"    \"*\"     \"*\"       \"*\"     \"*\"     \"*\"    \" \"       \n",
       "14  ( 1 ) \"*\"    \"*\"     \"*\"       \"*\"     \"*\"     \"*\"    \" \"       \n",
       "15  ( 1 ) \"*\"    \"*\"     \"*\"       \"*\"     \"*\"     \"*\"    \" \"       \n",
       "16  ( 1 ) \"*\"    \"*\"     \"*\"       \"*\"     \"*\"     \"*\"    \" \"       \n",
       "17  ( 1 ) \"*\"    \"*\"     \"*\"       \"*\"     \"*\"     \"*\"    \"*\"       \n",
       "18  ( 1 ) \"*\"    \"*\"     \"*\"       \"*\"     \"*\"     \"*\"    \"*\"       \n",
       "19  ( 1 ) \"*\"    \"*\"     \"*\"       \"*\"     \"*\"     \"*\"    \"*\"       "
      ]
     },
     "metadata": {},
     "output_type": "display_data"
    }
   ],
   "source": [
    "# Backward stepwise selection\n",
    "regfit.bwd=regsubsets(Salary~.,data=Hitters, method='backward', nvmax=19)\n",
    "summary(regfit.bwd)"
   ]
  },
  {
   "cell_type": "code",
   "execution_count": 9,
   "metadata": {},
   "outputs": [
    {
     "data": {
      "text/html": [
       "<dl class=dl-horizontal>\n",
       "\t<dt>(Intercept)</dt>\n",
       "\t\t<dd>79.4509472435319</dd>\n",
       "\t<dt>Hits</dt>\n",
       "\t\t<dd>1.28335125463328</dd>\n",
       "\t<dt>Walks</dt>\n",
       "\t\t<dd>3.22742638972714</dd>\n",
       "\t<dt>CAtBat</dt>\n",
       "\t\t<dd>-0.375235019565453</dd>\n",
       "\t<dt>CHits</dt>\n",
       "\t\t<dd>1.49570730989869</dd>\n",
       "\t<dt>CHmRun</dt>\n",
       "\t\t<dd>1.44205381889666</dd>\n",
       "\t<dt>DivisionW</dt>\n",
       "\t\t<dd>-129.986643165116</dd>\n",
       "\t<dt>PutOuts</dt>\n",
       "\t\t<dd>0.236681317525621</dd>\n",
       "</dl>\n"
      ],
      "text/latex": [
       "\\begin{description*}\n",
       "\\item[(Intercept)] 79.4509472435319\n",
       "\\item[Hits] 1.28335125463328\n",
       "\\item[Walks] 3.22742638972714\n",
       "\\item[CAtBat] -0.375235019565453\n",
       "\\item[CHits] 1.49570730989869\n",
       "\\item[CHmRun] 1.44205381889666\n",
       "\\item[DivisionW] -129.986643165116\n",
       "\\item[PutOuts] 0.236681317525621\n",
       "\\end{description*}\n"
      ],
      "text/markdown": [
       "(Intercept)\n",
       ":   79.4509472435319Hits\n",
       ":   1.28335125463328Walks\n",
       ":   3.22742638972714CAtBat\n",
       ":   -0.375235019565453CHits\n",
       ":   1.49570730989869CHmRun\n",
       ":   1.44205381889666DivisionW\n",
       ":   -129.986643165116PutOuts\n",
       ":   0.236681317525621\n",
       "\n"
      ],
      "text/plain": [
       " (Intercept)         Hits        Walks       CAtBat        CHits       CHmRun \n",
       "  79.4509472    1.2833513    3.2274264   -0.3752350    1.4957073    1.4420538 \n",
       "   DivisionW      PutOuts \n",
       "-129.9866432    0.2366813 "
      ]
     },
     "metadata": {},
     "output_type": "display_data"
    },
    {
     "data": {
      "text/html": [
       "<dl class=dl-horizontal>\n",
       "\t<dt>(Intercept)</dt>\n",
       "\t\t<dd>109.787306240078</dd>\n",
       "\t<dt>AtBat</dt>\n",
       "\t\t<dd>-1.95888512315655</dd>\n",
       "\t<dt>Hits</dt>\n",
       "\t\t<dd>7.44987721841218</dd>\n",
       "\t<dt>Walks</dt>\n",
       "\t\t<dd>4.91314009272066</dd>\n",
       "\t<dt>CRBI</dt>\n",
       "\t\t<dd>0.853762209061578</dd>\n",
       "\t<dt>CWalks</dt>\n",
       "\t\t<dd>-0.305307000381738</dd>\n",
       "\t<dt>DivisionW</dt>\n",
       "\t\t<dd>-127.122392777488</dd>\n",
       "\t<dt>PutOuts</dt>\n",
       "\t\t<dd>0.253340431147386</dd>\n",
       "</dl>\n"
      ],
      "text/latex": [
       "\\begin{description*}\n",
       "\\item[(Intercept)] 109.787306240078\n",
       "\\item[AtBat] -1.95888512315655\n",
       "\\item[Hits] 7.44987721841218\n",
       "\\item[Walks] 4.91314009272066\n",
       "\\item[CRBI] 0.853762209061578\n",
       "\\item[CWalks] -0.305307000381738\n",
       "\\item[DivisionW] -127.122392777488\n",
       "\\item[PutOuts] 0.253340431147386\n",
       "\\end{description*}\n"
      ],
      "text/markdown": [
       "(Intercept)\n",
       ":   109.787306240078AtBat\n",
       ":   -1.95888512315655Hits\n",
       ":   7.44987721841218Walks\n",
       ":   4.91314009272066CRBI\n",
       ":   0.853762209061578CWalks\n",
       ":   -0.305307000381738DivisionW\n",
       ":   -127.122392777488PutOuts\n",
       ":   0.253340431147386\n",
       "\n"
      ],
      "text/plain": [
       " (Intercept)        AtBat         Hits        Walks         CRBI       CWalks \n",
       " 109.7873062   -1.9588851    7.4498772    4.9131401    0.8537622   -0.3053070 \n",
       "   DivisionW      PutOuts \n",
       "-127.1223928    0.2533404 "
      ]
     },
     "metadata": {},
     "output_type": "display_data"
    },
    {
     "data": {
      "text/html": [
       "<dl class=dl-horizontal>\n",
       "\t<dt>(Intercept)</dt>\n",
       "\t\t<dd>105.648748778828</dd>\n",
       "\t<dt>AtBat</dt>\n",
       "\t\t<dd>-1.97628381026618</dd>\n",
       "\t<dt>Hits</dt>\n",
       "\t\t<dd>6.75749144281392</dd>\n",
       "\t<dt>Walks</dt>\n",
       "\t\t<dd>6.05586912154598</dd>\n",
       "\t<dt>CRuns</dt>\n",
       "\t\t<dd>1.12930946903271</dd>\n",
       "\t<dt>CWalks</dt>\n",
       "\t\t<dd>-0.71633458662198</dd>\n",
       "\t<dt>DivisionW</dt>\n",
       "\t\t<dd>-116.16921690431</dd>\n",
       "\t<dt>PutOuts</dt>\n",
       "\t\t<dd>0.302884743257576</dd>\n",
       "</dl>\n"
      ],
      "text/latex": [
       "\\begin{description*}\n",
       "\\item[(Intercept)] 105.648748778828\n",
       "\\item[AtBat] -1.97628381026618\n",
       "\\item[Hits] 6.75749144281392\n",
       "\\item[Walks] 6.05586912154598\n",
       "\\item[CRuns] 1.12930946903271\n",
       "\\item[CWalks] -0.71633458662198\n",
       "\\item[DivisionW] -116.16921690431\n",
       "\\item[PutOuts] 0.302884743257576\n",
       "\\end{description*}\n"
      ],
      "text/markdown": [
       "(Intercept)\n",
       ":   105.648748778828AtBat\n",
       ":   -1.97628381026618Hits\n",
       ":   6.75749144281392Walks\n",
       ":   6.05586912154598CRuns\n",
       ":   1.12930946903271CWalks\n",
       ":   -0.71633458662198DivisionW\n",
       ":   -116.16921690431PutOuts\n",
       ":   0.302884743257576\n",
       "\n"
      ],
      "text/plain": [
       " (Intercept)        AtBat         Hits        Walks        CRuns       CWalks \n",
       " 105.6487488   -1.9762838    6.7574914    6.0558691    1.1293095   -0.7163346 \n",
       "   DivisionW      PutOuts \n",
       "-116.1692169    0.3028847 "
      ]
     },
     "metadata": {},
     "output_type": "display_data"
    }
   ],
   "source": [
    "coef(regit.full,7)\n",
    "coef(regfit.fwd,7)\n",
    "coef(regfit.bwd,7)"
   ]
  },
  {
   "cell_type": "code",
   "execution_count": 10,
   "metadata": {},
   "outputs": [
    {
     "data": {
      "image/png": "[encoded data removed]",
      "text/plain": [
       "plot without title"
      ]
     },
     "metadata": {},
     "output_type": "display_data"
    }
   ],
   "source": [
    "plot(regfit.fwd,scale=\"bic\")"
   ]
  },
  {
   "cell_type": "markdown",
   "metadata": {},
   "source": [
    "## 6.5.3 Choosing Among Models Using the Validation Set Approach and Cross-Validation"
   ]
  },
  {
   "cell_type": "raw",
   "metadata": {},
   "source": [
    "In order to use the validation set approach, we begin by splitting the\n",
    "observations into a training set and a test set"
   ]
  },
  {
   "cell_type": "code",
   "execution_count": 11,
   "metadata": {
    "collapsed": true
   },
   "outputs": [],
   "source": [
    "set.seed(1)"
   ]
  },
  {
   "cell_type": "code",
   "execution_count": 13,
   "metadata": {},
   "outputs": [],
   "source": [
    "train=sample(c(TRUE,FALSE),nrow(Hitters),rep=TRUE)\n",
    "test=!train"
   ]
  },
  {
   "cell_type": "code",
   "execution_count": 14,
   "metadata": {
    "collapsed": true
   },
   "outputs": [],
   "source": [
    "regfit.best=regsubsets(Salary~.,data=Hitters, subset=train, nvmax=19)"
   ]
  },
  {
   "cell_type": "code",
   "execution_count": 15,
   "metadata": {},
   "outputs": [
    {
     "data": {
      "text/plain": [
       "Subset selection object\n",
       "Call: regsubsets.formula(Salary ~ ., data = Hitters, subset = train, \n",
       "    nvmax = 19)\n",
       "19 Variables  (and intercept)\n",
       "           Forced in Forced out\n",
       "AtBat          FALSE      FALSE\n",
       "Hits           FALSE      FALSE\n",
       "HmRun          FALSE      FALSE\n",
       "Runs           FALSE      FALSE\n",
       "RBI            FALSE      FALSE\n",
       "Walks          FALSE      FALSE\n",
       "Years          FALSE      FALSE\n",
       "CAtBat         FALSE      FALSE\n",
       "CHits          FALSE      FALSE\n",
       "CHmRun         FALSE      FALSE\n",
       "CRuns          FALSE      FALSE\n",
       "CRBI           FALSE      FALSE\n",
       "CWalks         FALSE      FALSE\n",
       "LeagueN        FALSE      FALSE\n",
       "DivisionW      FALSE      FALSE\n",
       "PutOuts        FALSE      FALSE\n",
       "Assists        FALSE      FALSE\n",
       "Errors         FALSE      FALSE\n",
       "NewLeagueN     FALSE      FALSE\n",
       "1 subsets of each size up to 19\n",
       "Selection Algorithm: exhaustive\n",
       "          AtBat Hits HmRun Runs RBI Walks Years CAtBat CHits CHmRun CRuns CRBI\n",
       "1  ( 1 )  \" \"   \"*\"  \" \"   \" \"  \" \" \" \"   \" \"   \" \"    \" \"   \" \"    \" \"   \" \" \n",
       "2  ( 1 )  \" \"   \"*\"  \" \"   \" \"  \" \" \" \"   \" \"   \" \"    \"*\"   \" \"    \" \"   \" \" \n",
       "3  ( 1 )  \" \"   \"*\"  \" \"   \" \"  \" \" \" \"   \" \"   \" \"    \"*\"   \" \"    \" \"   \" \" \n",
       "4  ( 1 )  \" \"   \"*\"  \" \"   \" \"  \" \" \" \"   \" \"   \"*\"    \"*\"   \" \"    \" \"   \" \" \n",
       "5  ( 1 )  \" \"   \"*\"  \" \"   \" \"  \" \" \" \"   \" \"   \"*\"    \"*\"   \" \"    \" \"   \" \" \n",
       "6  ( 1 )  \" \"   \"*\"  \" \"   \" \"  \" \" \" \"   \" \"   \"*\"    \"*\"   \" \"    \" \"   \" \" \n",
       "7  ( 1 )  \"*\"   \"*\"  \"*\"   \" \"  \" \" \" \"   \" \"   \"*\"    \"*\"   \" \"    \" \"   \" \" \n",
       "8  ( 1 )  \"*\"   \"*\"  \" \"   \" \"  \" \" \"*\"   \" \"   \" \"    \"*\"   \"*\"    \" \"   \" \" \n",
       "9  ( 1 )  \"*\"   \"*\"  \" \"   \" \"  \" \" \"*\"   \" \"   \"*\"    \"*\"   \"*\"    \" \"   \" \" \n",
       "10  ( 1 ) \"*\"   \"*\"  \" \"   \" \"  \" \" \"*\"   \" \"   \"*\"    \"*\"   \"*\"    \" \"   \" \" \n",
       "11  ( 1 ) \"*\"   \"*\"  \" \"   \" \"  \" \" \"*\"   \" \"   \"*\"    \"*\"   \"*\"    \" \"   \" \" \n",
       "12  ( 1 ) \"*\"   \"*\"  \" \"   \" \"  \" \" \"*\"   \" \"   \"*\"    \"*\"   \"*\"    \" \"   \" \" \n",
       "13  ( 1 ) \"*\"   \"*\"  \" \"   \" \"  \" \" \"*\"   \" \"   \"*\"    \"*\"   \"*\"    \" \"   \"*\" \n",
       "14  ( 1 ) \"*\"   \"*\"  \" \"   \" \"  \" \" \"*\"   \" \"   \"*\"    \"*\"   \"*\"    \"*\"   \"*\" \n",
       "15  ( 1 ) \"*\"   \"*\"  \" \"   \" \"  \"*\" \"*\"   \" \"   \"*\"    \"*\"   \"*\"    \"*\"   \"*\" \n",
       "16  ( 1 ) \"*\"   \"*\"  \" \"   \" \"  \"*\" \"*\"   \"*\"   \"*\"    \"*\"   \"*\"    \"*\"   \"*\" \n",
       "17  ( 1 ) \"*\"   \"*\"  \" \"   \" \"  \"*\" \"*\"   \"*\"   \"*\"    \"*\"   \"*\"    \"*\"   \"*\" \n",
       "18  ( 1 ) \"*\"   \"*\"  \" \"   \"*\"  \"*\" \"*\"   \"*\"   \"*\"    \"*\"   \"*\"    \"*\"   \"*\" \n",
       "19  ( 1 ) \"*\"   \"*\"  \"*\"   \"*\"  \"*\" \"*\"   \"*\"   \"*\"    \"*\"   \"*\"    \"*\"   \"*\" \n",
       "          CWalks LeagueN DivisionW PutOuts Assists Errors NewLeagueN\n",
       "1  ( 1 )  \" \"    \" \"     \" \"       \" \"     \" \"     \" \"    \" \"       \n",
       "2  ( 1 )  \" \"    \" \"     \" \"       \" \"     \" \"     \" \"    \" \"       \n",
       "3  ( 1 )  \" \"    \" \"     \" \"       \" \"     \"*\"     \" \"    \" \"       \n",
       "4  ( 1 )  \" \"    \" \"     \" \"       \"*\"     \" \"     \" \"    \" \"       \n",
       "5  ( 1 )  \" \"    \" \"     \" \"       \"*\"     \"*\"     \" \"    \" \"       \n",
       "6  ( 1 )  \" \"    \"*\"     \" \"       \"*\"     \"*\"     \" \"    \" \"       \n",
       "7  ( 1 )  \" \"    \"*\"     \" \"       \"*\"     \" \"     \" \"    \" \"       \n",
       "8  ( 1 )  \"*\"    \"*\"     \" \"       \"*\"     \" \"     \" \"    \" \"       \n",
       "9  ( 1 )  \"*\"    \"*\"     \" \"       \"*\"     \" \"     \" \"    \" \"       \n",
       "10  ( 1 ) \"*\"    \"*\"     \"*\"       \"*\"     \" \"     \" \"    \" \"       \n",
       "11  ( 1 ) \"*\"    \"*\"     \"*\"       \"*\"     \" \"     \"*\"    \" \"       \n",
       "12  ( 1 ) \"*\"    \"*\"     \"*\"       \"*\"     \" \"     \"*\"    \"*\"       \n",
       "13  ( 1 ) \"*\"    \"*\"     \"*\"       \"*\"     \" \"     \"*\"    \"*\"       \n",
       "14  ( 1 ) \"*\"    \"*\"     \"*\"       \"*\"     \" \"     \"*\"    \"*\"       \n",
       "15  ( 1 ) \"*\"    \"*\"     \"*\"       \"*\"     \" \"     \"*\"    \"*\"       \n",
       "16  ( 1 ) \"*\"    \"*\"     \"*\"       \"*\"     \" \"     \"*\"    \"*\"       \n",
       "17  ( 1 ) \"*\"    \"*\"     \"*\"       \"*\"     \"*\"     \"*\"    \"*\"       \n",
       "18  ( 1 ) \"*\"    \"*\"     \"*\"       \"*\"     \"*\"     \"*\"    \"*\"       \n",
       "19  ( 1 ) \"*\"    \"*\"     \"*\"       \"*\"     \"*\"     \"*\"    \"*\"       "
      ]
     },
     "metadata": {},
     "output_type": "display_data"
    }
   ],
   "source": [
    "summary(regfit.best)"
   ]
  },
  {
   "cell_type": "code",
   "execution_count": 16,
   "metadata": {
    "collapsed": true
   },
   "outputs": [],
   "source": [
    "test.mat=model.matrix(Salary~.,data=Hitters[test,])"
   ]
  },
  {
   "cell_type": "code",
   "execution_count": 18,
   "metadata": {},
   "outputs": [
    {
     "data": {
      "text/html": [
       "<dl class=dl-horizontal>\n",
       "\t<dt>(Intercept)</dt>\n",
       "\t\t<dd>-188.858735689004</dd>\n",
       "\t<dt>Hits</dt>\n",
       "\t\t<dd>4.66459811212871</dd>\n",
       "\t<dt>CHits</dt>\n",
       "\t\t<dd>0.286012344953081</dd>\n",
       "</dl>\n"
      ],
      "text/latex": [
       "\\begin{description*}\n",
       "\\item[(Intercept)] -188.858735689004\n",
       "\\item[Hits] 4.66459811212871\n",
       "\\item[CHits] 0.286012344953081\n",
       "\\end{description*}\n"
      ],
      "text/markdown": [
       "(Intercept)\n",
       ":   -188.858735689004Hits\n",
       ":   4.66459811212871CHits\n",
       ":   0.286012344953081\n",
       "\n"
      ],
      "text/plain": [
       " (Intercept)         Hits        CHits \n",
       "-188.8587357    4.6645981    0.2860123 "
      ]
     },
     "metadata": {},
     "output_type": "display_data"
    }
   ],
   "source": [
    "  coefi=coef(regfit.best,2)\n",
    "coefi"
   ]
  },
  {
   "cell_type": "code",
   "execution_count": 19,
   "metadata": {
    "collapsed": true
   },
   "outputs": [],
   "source": [
    "#storing validation error for each model with 1 to 19 variables\n",
    "val.errors=rep(NA,19)\n",
    "for(i in 1:19) {\n",
    "    coefi=coef(regfit.best,i)\n",
    "    pred=test.mat[,names(coefi)]%*%coefi\n",
    "    val.errors[i]=mean((Hitters$Salary[test]-pred)^2)\n",
    "}"
   ]
  },
  {
   "cell_type": "code",
   "execution_count": 20,
   "metadata": {},
   "outputs": [
    {
     "data": {
      "text/html": [
       "<ol class=list-inline>\n",
       "\t<li>220968.010570781</li>\n",
       "\t<li>169157.080938694</li>\n",
       "\t<li>178518.155945132</li>\n",
       "\t<li>163426.079195481</li>\n",
       "\t<li>168418.096758255</li>\n",
       "\t<li>171270.594721366</li>\n",
       "\t<li>162377.082699745</li>\n",
       "\t<li>157909.280553932</li>\n",
       "\t<li>154055.716825013</li>\n",
       "\t<li>148162.052539399</li>\n",
       "\t<li>151156.401317955</li>\n",
       "\t<li>151742.451908185</li>\n",
       "\t<li>152214.450874715</li>\n",
       "\t<li>157358.654080678</li>\n",
       "\t<li>158541.407297311</li>\n",
       "\t<li>158743.3209425</li>\n",
       "\t<li>159972.673927589</li>\n",
       "\t<li>159859.793366072</li>\n",
       "\t<li>160105.640513861</li>\n",
       "</ol>\n"
      ],
      "text/latex": [
       "\\begin{enumerate*}\n",
       "\\item 220968.010570781\n",
       "\\item 169157.080938694\n",
       "\\item 178518.155945132\n",
       "\\item 163426.079195481\n",
       "\\item 168418.096758255\n",
       "\\item 171270.594721366\n",
       "\\item 162377.082699745\n",
       "\\item 157909.280553932\n",
       "\\item 154055.716825013\n",
       "\\item 148162.052539399\n",
       "\\item 151156.401317955\n",
       "\\item 151742.451908185\n",
       "\\item 152214.450874715\n",
       "\\item 157358.654080678\n",
       "\\item 158541.407297311\n",
       "\\item 158743.3209425\n",
       "\\item 159972.673927589\n",
       "\\item 159859.793366072\n",
       "\\item 160105.640513861\n",
       "\\end{enumerate*}\n"
      ],
      "text/markdown": [
       "1. 220968.010570781\n",
       "2. 169157.080938694\n",
       "3. 178518.155945132\n",
       "4. 163426.079195481\n",
       "5. 168418.096758255\n",
       "6. 171270.594721366\n",
       "7. 162377.082699745\n",
       "8. 157909.280553932\n",
       "9. 154055.716825013\n",
       "10. 148162.052539399\n",
       "11. 151156.401317955\n",
       "12. 151742.451908185\n",
       "13. 152214.450874715\n",
       "14. 157358.654080678\n",
       "15. 158541.407297311\n",
       "16. 158743.3209425\n",
       "17. 159972.673927589\n",
       "18. 159859.793366072\n",
       "19. 160105.640513861\n",
       "\n",
       "\n"
      ],
      "text/plain": [
       " [1] 220968.0 169157.1 178518.2 163426.1 168418.1 171270.6 162377.1 157909.3\n",
       " [9] 154055.7 148162.1 151156.4 151742.5 152214.5 157358.7 158541.4 158743.3\n",
       "[17] 159972.7 159859.8 160105.6"
      ]
     },
     "metadata": {},
     "output_type": "display_data"
    }
   ],
   "source": [
    "val.errors"
   ]
  },
  {
   "cell_type": "code",
   "execution_count": 21,
   "metadata": {},
   "outputs": [
    {
     "data": {
      "text/html": [
       "10"
      ],
      "text/latex": [
       "10"
      ],
      "text/markdown": [
       "10"
      ],
      "text/plain": [
       "[1] 10"
      ]
     },
     "metadata": {},
     "output_type": "display_data"
    }
   ],
   "source": [
    "which.min(val.errors)\n",
    "# shows the validation error is least for 10 variable model"
   ]
  },
  {
   "cell_type": "code",
   "execution_count": 22,
   "metadata": {},
   "outputs": [
    {
     "data": {
      "text/html": [
       "<dl class=dl-horizontal>\n",
       "\t<dt>(Intercept)</dt>\n",
       "\t\t<dd>-80.2751498545584</dd>\n",
       "\t<dt>AtBat</dt>\n",
       "\t\t<dd>-1.46838155352597</dd>\n",
       "\t<dt>Hits</dt>\n",
       "\t\t<dd>7.16253138932867</dd>\n",
       "\t<dt>Walks</dt>\n",
       "\t\t<dd>3.64303449365111</dd>\n",
       "\t<dt>CAtBat</dt>\n",
       "\t\t<dd>-0.185569803428967</dd>\n",
       "\t<dt>CHits</dt>\n",
       "\t\t<dd>1.10532384927797</dd>\n",
       "\t<dt>CHmRun</dt>\n",
       "\t\t<dd>1.38448634401015</dd>\n",
       "\t<dt>CWalks</dt>\n",
       "\t\t<dd>-0.74831695417675</dd>\n",
       "\t<dt>LeagueN</dt>\n",
       "\t\t<dd>84.5576102976496</dd>\n",
       "\t<dt>DivisionW</dt>\n",
       "\t\t<dd>-53.0289658320235</dd>\n",
       "\t<dt>PutOuts</dt>\n",
       "\t\t<dd>0.238166218963617</dd>\n",
       "</dl>\n"
      ],
      "text/latex": [
       "\\begin{description*}\n",
       "\\item[(Intercept)] -80.2751498545584\n",
       "\\item[AtBat] -1.46838155352597\n",
       "\\item[Hits] 7.16253138932867\n",
       "\\item[Walks] 3.64303449365111\n",
       "\\item[CAtBat] -0.185569803428967\n",
       "\\item[CHits] 1.10532384927797\n",
       "\\item[CHmRun] 1.38448634401015\n",
       "\\item[CWalks] -0.74831695417675\n",
       "\\item[LeagueN] 84.5576102976496\n",
       "\\item[DivisionW] -53.0289658320235\n",
       "\\item[PutOuts] 0.238166218963617\n",
       "\\end{description*}\n"
      ],
      "text/markdown": [
       "(Intercept)\n",
       ":   -80.2751498545584AtBat\n",
       ":   -1.46838155352597Hits\n",
       ":   7.16253138932867Walks\n",
       ":   3.64303449365111CAtBat\n",
       ":   -0.185569803428967CHits\n",
       ":   1.10532384927797CHmRun\n",
       ":   1.38448634401015CWalks\n",
       ":   -0.74831695417675LeagueN\n",
       ":   84.5576102976496DivisionW\n",
       ":   -53.0289658320235PutOuts\n",
       ":   0.238166218963617\n",
       "\n"
      ],
      "text/plain": [
       "(Intercept)       AtBat        Hits       Walks      CAtBat       CHits \n",
       "-80.2751499  -1.4683816   7.1625314   3.6430345  -0.1855698   1.1053238 \n",
       "     CHmRun      CWalks     LeagueN   DivisionW     PutOuts \n",
       "  1.3844863  -0.7483170  84.5576103 -53.0289658   0.2381662 "
      ]
     },
     "metadata": {},
     "output_type": "display_data"
    }
   ],
   "source": [
    "coef(regfit.best,10)"
   ]
  },
  {
   "cell_type": "markdown",
   "metadata": {},
   "source": [
    "## write our own predict method."
   ]
  },
  {
   "cell_type": "code",
   "execution_count": 29,
   "metadata": {
    "collapsed": true
   },
   "outputs": [],
   "source": [
    "predict.regsubsets=function(object,newdata,id,...) {\n",
    "    form=as.formula(object$call[[2]])\n",
    "    mat=model.matrix(form, newdata)\n",
    "    coefi=coef(object,id=id)\n",
    "    xvars=names(coefi)\n",
    "    mat[,xvars]%*%coefi\n",
    "}"
   ]
  },
  {
   "cell_type": "markdown",
   "metadata": {},
   "source": [
    "Finally, we perform best subset selection on the full data set, and select\n",
    "the best ten-variable model"
   ]
  },
  {
   "cell_type": "code",
   "execution_count": 23,
   "metadata": {
    "collapsed": true
   },
   "outputs": [],
   "source": [
    "regfit.best=regsubsets(Salary~.,data=Hitters, nvmax=19)"
   ]
  },
  {
   "cell_type": "code",
   "execution_count": 24,
   "metadata": {},
   "outputs": [
    {
     "data": {
      "text/html": [
       "<dl class=dl-horizontal>\n",
       "\t<dt>(Intercept)</dt>\n",
       "\t\t<dd>162.535442040545</dd>\n",
       "\t<dt>AtBat</dt>\n",
       "\t\t<dd>-2.16865005340437</dd>\n",
       "\t<dt>Hits</dt>\n",
       "\t\t<dd>6.91801749476659</dd>\n",
       "\t<dt>Walks</dt>\n",
       "\t\t<dd>5.7732246470264</dd>\n",
       "\t<dt>CAtBat</dt>\n",
       "\t\t<dd>-0.130079783913646</dd>\n",
       "\t<dt>CRuns</dt>\n",
       "\t\t<dd>1.40824900877044</dd>\n",
       "\t<dt>CRBI</dt>\n",
       "\t\t<dd>0.774312153250204</dd>\n",
       "\t<dt>CWalks</dt>\n",
       "\t\t<dd>-0.830826351501743</dd>\n",
       "\t<dt>DivisionW</dt>\n",
       "\t\t<dd>-112.380057493543</dd>\n",
       "\t<dt>PutOuts</dt>\n",
       "\t\t<dd>0.297372596603942</dd>\n",
       "\t<dt>Assists</dt>\n",
       "\t\t<dd>0.283168028635278</dd>\n",
       "</dl>\n"
      ],
      "text/latex": [
       "\\begin{description*}\n",
       "\\item[(Intercept)] 162.535442040545\n",
       "\\item[AtBat] -2.16865005340437\n",
       "\\item[Hits] 6.91801749476659\n",
       "\\item[Walks] 5.7732246470264\n",
       "\\item[CAtBat] -0.130079783913646\n",
       "\\item[CRuns] 1.40824900877044\n",
       "\\item[CRBI] 0.774312153250204\n",
       "\\item[CWalks] -0.830826351501743\n",
       "\\item[DivisionW] -112.380057493543\n",
       "\\item[PutOuts] 0.297372596603942\n",
       "\\item[Assists] 0.283168028635278\n",
       "\\end{description*}\n"
      ],
      "text/markdown": [
       "(Intercept)\n",
       ":   162.535442040545AtBat\n",
       ":   -2.16865005340437Hits\n",
       ":   6.91801749476659Walks\n",
       ":   5.7732246470264CAtBat\n",
       ":   -0.130079783913646CRuns\n",
       ":   1.40824900877044CRBI\n",
       ":   0.774312153250204CWalks\n",
       ":   -0.830826351501743DivisionW\n",
       ":   -112.380057493543PutOuts\n",
       ":   0.297372596603942Assists\n",
       ":   0.283168028635278\n",
       "\n"
      ],
      "text/plain": [
       " (Intercept)        AtBat         Hits        Walks       CAtBat        CRuns \n",
       " 162.5354420   -2.1686501    6.9180175    5.7732246   -0.1300798    1.4082490 \n",
       "        CRBI       CWalks    DivisionW      PutOuts      Assists \n",
       "   0.7743122   -0.8308264 -112.3800575    0.2973726    0.2831680 "
      ]
     },
     "metadata": {},
     "output_type": "display_data"
    }
   ],
   "source": [
    "coef(regfit.best,10)"
   ]
  },
  {
   "cell_type": "code",
   "execution_count": 25,
   "metadata": {
    "collapsed": true
   },
   "outputs": [],
   "source": [
    "k=10\n",
    "set.seed(1)\n",
    "folds=sample(1:k,nrow(Hitters),replace=TRUE)\n",
    "cv.errors=matrix(NA,k,19,dimnames=list(NULL,paste(1:19)))"
   ]
  },
  {
   "cell_type": "code",
   "execution_count": 30,
   "metadata": {},
   "outputs": [],
   "source": [
    "for (j in 1:k){\n",
    "    best.fit = regsubsets ( Salary∼., data= Hitters [ folds !=j ,], nvmax =19)\n",
    "    for (i in 1:19) {\n",
    "        pred= predict.regsubsets(best.fit , Hitters [ folds ==j,], id=i)\n",
    "        cv.errors [j,i]= mean( ( Hitters$Salary[ folds ==j]-pred)^2)\n",
    "    }\n",
    "}"
   ]
  },
  {
   "cell_type": "code",
   "execution_count": 31,
   "metadata": {},
   "outputs": [
    {
     "data": {
      "text/html": [
       "<dl class=dl-horizontal>\n",
       "\t<dt>1</dt>\n",
       "\t\t<dd>160093.486398318</dd>\n",
       "\t<dt>2</dt>\n",
       "\t\t<dd>140196.773091529</dd>\n",
       "\t<dt>3</dt>\n",
       "\t\t<dd>153116.968353284</dd>\n",
       "\t<dt>4</dt>\n",
       "\t\t<dd>151159.338649923</dd>\n",
       "\t<dt>5</dt>\n",
       "\t\t<dd>146841.301803275</dd>\n",
       "\t<dt>6</dt>\n",
       "\t\t<dd>138302.632366087</dd>\n",
       "\t<dt>7</dt>\n",
       "\t\t<dd>144346.225347738</dd>\n",
       "\t<dt>8</dt>\n",
       "\t\t<dd>130207.693625525</dd>\n",
       "\t<dt>9</dt>\n",
       "\t\t<dd>129459.613710927</dd>\n",
       "\t<dt>10</dt>\n",
       "\t\t<dd>125334.660569683</dd>\n",
       "\t<dt>11</dt>\n",
       "\t\t<dd>125153.816649585</dd>\n",
       "\t<dt>12</dt>\n",
       "\t\t<dd>128273.547905646</dd>\n",
       "\t<dt>13</dt>\n",
       "\t\t<dd>133461.030824061</dd>\n",
       "\t<dt>14</dt>\n",
       "\t\t<dd>133974.608481698</dd>\n",
       "\t<dt>15</dt>\n",
       "\t\t<dd>131825.723993328</dd>\n",
       "\t<dt>16</dt>\n",
       "\t\t<dd>131882.769468209</dd>\n",
       "\t<dt>17</dt>\n",
       "\t\t<dd>132750.868578319</dd>\n",
       "\t<dt>18</dt>\n",
       "\t\t<dd>133096.230787088</dd>\n",
       "\t<dt>19</dt>\n",
       "\t\t<dd>132804.718368856</dd>\n",
       "</dl>\n"
      ],
      "text/latex": [
       "\\begin{description*}\n",
       "\\item[1] 160093.486398318\n",
       "\\item[2] 140196.773091529\n",
       "\\item[3] 153116.968353284\n",
       "\\item[4] 151159.338649923\n",
       "\\item[5] 146841.301803275\n",
       "\\item[6] 138302.632366087\n",
       "\\item[7] 144346.225347738\n",
       "\\item[8] 130207.693625525\n",
       "\\item[9] 129459.613710927\n",
       "\\item[10] 125334.660569683\n",
       "\\item[11] 125153.816649585\n",
       "\\item[12] 128273.547905646\n",
       "\\item[13] 133461.030824061\n",
       "\\item[14] 133974.608481698\n",
       "\\item[15] 131825.723993328\n",
       "\\item[16] 131882.769468209\n",
       "\\item[17] 132750.868578319\n",
       "\\item[18] 133096.230787088\n",
       "\\item[19] 132804.718368856\n",
       "\\end{description*}\n"
      ],
      "text/markdown": [
       "1\n",
       ":   160093.4863983182\n",
       ":   140196.7730915293\n",
       ":   153116.9683532844\n",
       ":   151159.3386499235\n",
       ":   146841.3018032756\n",
       ":   138302.6323660877\n",
       ":   144346.2253477388\n",
       ":   130207.6936255259\n",
       ":   129459.61371092710\n",
       ":   125334.66056968311\n",
       ":   125153.81664958512\n",
       ":   128273.54790564613\n",
       ":   133461.03082406114\n",
       ":   133974.60848169815\n",
       ":   131825.72399332816\n",
       ":   131882.76946820917\n",
       ":   132750.86857831918\n",
       ":   133096.23078708819\n",
       ":   132804.718368856\n",
       "\n"
      ],
      "text/plain": [
       "       1        2        3        4        5        6        7        8 \n",
       "160093.5 140196.8 153117.0 151159.3 146841.3 138302.6 144346.2 130207.7 \n",
       "       9       10       11       12       13       14       15       16 \n",
       "129459.6 125334.7 125153.8 128273.5 133461.0 133974.6 131825.7 131882.8 \n",
       "      17       18       19 \n",
       "132750.9 133096.2 132804.7 "
      ]
     },
     "metadata": {},
     "output_type": "display_data"
    }
   ],
   "source": [
    "mean.cv.errors = apply(cv.errors ,2, mean)\n",
    "mean.cv.errors\n"
   ]
  },
  {
   "cell_type": "code",
   "execution_count": 33,
   "metadata": {},
   "outputs": [
    {
     "data": {
      "image/png": "[encoded data removed]",
      "text/plain": [
       "plot without title"
      ]
     },
     "metadata": {},
     "output_type": "display_data"
    }
   ],
   "source": [
    "par(mfrow =c(1 ,1) )\n",
    "plot(mean.cv.errors ,type ='b')"
   ]
  },
  {
   "cell_type": "markdown",
   "metadata": {},
   "source": [
    "We see that cross-validation selects an 11-variable model. We now perform\n",
    "best subset selection on the full data set in order to obtain the 11-variable\n",
    "model."
   ]
  },
  {
   "cell_type": "code",
   "execution_count": 34,
   "metadata": {},
   "outputs": [
    {
     "data": {
      "text/html": [
       "<dl class=dl-horizontal>\n",
       "\t<dt>(Intercept)</dt>\n",
       "\t\t<dd>135.751219457458</dd>\n",
       "\t<dt>AtBat</dt>\n",
       "\t\t<dd>-2.12774819603869</dd>\n",
       "\t<dt>Hits</dt>\n",
       "\t\t<dd>6.92369939666552</dd>\n",
       "\t<dt>Walks</dt>\n",
       "\t\t<dd>5.62027551957861</dd>\n",
       "\t<dt>CAtBat</dt>\n",
       "\t\t<dd>-0.138991434861849</dd>\n",
       "\t<dt>CRuns</dt>\n",
       "\t\t<dd>1.45533103037942</dd>\n",
       "\t<dt>CRBI</dt>\n",
       "\t\t<dd>0.785252782049429</dd>\n",
       "\t<dt>CWalks</dt>\n",
       "\t\t<dd>-0.822855923951907</dd>\n",
       "\t<dt>LeagueN</dt>\n",
       "\t\t<dd>43.1116151638512</dd>\n",
       "\t<dt>DivisionW</dt>\n",
       "\t\t<dd>-111.14602518374</dd>\n",
       "\t<dt>PutOuts</dt>\n",
       "\t\t<dd>0.289408680295373</dd>\n",
       "\t<dt>Assists</dt>\n",
       "\t\t<dd>0.26882769003494</dd>\n",
       "</dl>\n"
      ],
      "text/latex": [
       "\\begin{description*}\n",
       "\\item[(Intercept)] 135.751219457458\n",
       "\\item[AtBat] -2.12774819603869\n",
       "\\item[Hits] 6.92369939666552\n",
       "\\item[Walks] 5.62027551957861\n",
       "\\item[CAtBat] -0.138991434861849\n",
       "\\item[CRuns] 1.45533103037942\n",
       "\\item[CRBI] 0.785252782049429\n",
       "\\item[CWalks] -0.822855923951907\n",
       "\\item[LeagueN] 43.1116151638512\n",
       "\\item[DivisionW] -111.14602518374\n",
       "\\item[PutOuts] 0.289408680295373\n",
       "\\item[Assists] 0.26882769003494\n",
       "\\end{description*}\n"
      ],
      "text/markdown": [
       "(Intercept)\n",
       ":   135.751219457458AtBat\n",
       ":   -2.12774819603869Hits\n",
       ":   6.92369939666552Walks\n",
       ":   5.62027551957861CAtBat\n",
       ":   -0.138991434861849CRuns\n",
       ":   1.45533103037942CRBI\n",
       ":   0.785252782049429CWalks\n",
       ":   -0.822855923951907LeagueN\n",
       ":   43.1116151638512DivisionW\n",
       ":   -111.14602518374PutOuts\n",
       ":   0.289408680295373Assists\n",
       ":   0.26882769003494\n",
       "\n"
      ],
      "text/plain": [
       " (Intercept)        AtBat         Hits        Walks       CAtBat        CRuns \n",
       " 135.7512195   -2.1277482    6.9236994    5.6202755   -0.1389914    1.4553310 \n",
       "        CRBI       CWalks      LeagueN    DivisionW      PutOuts      Assists \n",
       "   0.7852528   -0.8228559   43.1116152 -111.1460252    0.2894087    0.2688277 "
      ]
     },
     "metadata": {},
     "output_type": "display_data"
    }
   ],
   "source": [
    "reg.best= regsubsets ( Salary∼., data=Hitters , nvmax =19)\n",
    "coef(reg.best ,11)"
   ]
  },
  {
   "cell_type": "code",
   "execution_count": 3,
   "metadata": {},
   "outputs": [
    {
     "name": "stderr",
     "output_type": "stream",
     "text": [
      "Warning message:\n",
      "\"package 'glmnet' was built under R version 3.4.2\"Loading required package: Matrix\n",
      "Loading required package: foreach\n",
      "Warning message:\n",
      "\"package 'foreach' was built under R version 3.4.2\"Loaded glmnet 2.0-13\n",
      "\n"
     ]
    }
   ],
   "source": [
    "# glmnet pakage for ridge and lasso\n",
    "library(glmnet)"
   ]
  },
  {
   "cell_type": "code",
   "execution_count": 4,
   "metadata": {
    "collapsed": true
   },
   "outputs": [],
   "source": [
    "x=model.matrix(Salary~.,Hitters)[,-1]\n",
    "y=Hitters$Salary"
   ]
  },
  {
   "cell_type": "code",
   "execution_count": 12,
   "metadata": {},
   "outputs": [
    {
     "data": {
      "text/html": [
       "<ol class=list-inline>\n",
       "\t<li>20</li>\n",
       "\t<li>100</li>\n",
       "</ol>\n"
      ],
      "text/latex": [
       "\\begin{enumerate*}\n",
       "\\item 20\n",
       "\\item 100\n",
       "\\end{enumerate*}\n"
      ],
      "text/markdown": [
       "1. 20\n",
       "2. 100\n",
       "\n",
       "\n"
      ],
      "text/plain": [
       "[1]  20 100"
      ]
     },
     "metadata": {},
     "output_type": "display_data"
    }
   ],
   "source": [
    "#Rideg regression\n",
    "# grid of values ranging from λ = 10^10 to λ = 10^−2\n",
    "grid=10^seq(10,-2,length=100)\n",
    "# alpha=0 -> ridge regression model , alpha=1 -> lasso model\n",
    "ridge.mod=glmnet(x,y,alpha=0,lambda=grid)\n",
    "#default is ridge regression in glmnet function, standardised variables is also default\n",
    "dim(coef(ridge.mod))\n"
   ]
  },
  {
   "cell_type": "code",
   "execution_count": 13,
   "metadata": {},
   "outputs": [
    {
     "data": {
      "text/html": [
       "<ol class=list-inline>\n",
       "\t<li>'a0'</li>\n",
       "\t<li>'beta'</li>\n",
       "\t<li>'df'</li>\n",
       "\t<li>'dim'</li>\n",
       "\t<li>'lambda'</li>\n",
       "\t<li>'dev.ratio'</li>\n",
       "\t<li>'nulldev'</li>\n",
       "\t<li>'npasses'</li>\n",
       "\t<li>'jerr'</li>\n",
       "\t<li>'offset'</li>\n",
       "\t<li>'call'</li>\n",
       "\t<li>'nobs'</li>\n",
       "</ol>\n"
      ],
      "text/latex": [
       "\\begin{enumerate*}\n",
       "\\item 'a0'\n",
       "\\item 'beta'\n",
       "\\item 'df'\n",
       "\\item 'dim'\n",
       "\\item 'lambda'\n",
       "\\item 'dev.ratio'\n",
       "\\item 'nulldev'\n",
       "\\item 'npasses'\n",
       "\\item 'jerr'\n",
       "\\item 'offset'\n",
       "\\item 'call'\n",
       "\\item 'nobs'\n",
       "\\end{enumerate*}\n"
      ],
      "text/markdown": [
       "1. 'a0'\n",
       "2. 'beta'\n",
       "3. 'df'\n",
       "4. 'dim'\n",
       "5. 'lambda'\n",
       "6. 'dev.ratio'\n",
       "7. 'nulldev'\n",
       "8. 'npasses'\n",
       "9. 'jerr'\n",
       "10. 'offset'\n",
       "11. 'call'\n",
       "12. 'nobs'\n",
       "\n",
       "\n"
      ],
      "text/plain": [
       " [1] \"a0\"        \"beta\"      \"df\"        \"dim\"       \"lambda\"    \"dev.ratio\"\n",
       " [7] \"nulldev\"   \"npasses\"   \"jerr\"      \"offset\"    \"call\"      \"nobs\"     "
      ]
     },
     "metadata": {},
     "output_type": "display_data"
    },
    {
     "data": {
      "text/html": [
       "11497.5699539774"
      ],
      "text/latex": [
       "11497.5699539774"
      ],
      "text/markdown": [
       "11497.5699539774"
      ],
      "text/plain": [
       "[1] 11497.57"
      ]
     },
     "metadata": {},
     "output_type": "display_data"
    },
    {
     "data": {
      "text/html": [
       "<dl class=dl-horizontal>\n",
       "\t<dt>(Intercept)</dt>\n",
       "\t\t<dd>407.356050200416</dd>\n",
       "\t<dt>AtBat</dt>\n",
       "\t\t<dd>0.0369571817501359</dd>\n",
       "\t<dt>Hits</dt>\n",
       "\t\t<dd>0.138180343807892</dd>\n",
       "\t<dt>HmRun</dt>\n",
       "\t\t<dd>0.524629975886911</dd>\n",
       "\t<dt>Runs</dt>\n",
       "\t\t<dd>0.230701522621179</dd>\n",
       "\t<dt>RBI</dt>\n",
       "\t\t<dd>0.239841458504058</dd>\n",
       "\t<dt>Walks</dt>\n",
       "\t\t<dd>0.289618741049884</dd>\n",
       "\t<dt>Years</dt>\n",
       "\t\t<dd>1.10770292908555</dd>\n",
       "\t<dt>CAtBat</dt>\n",
       "\t\t<dd>0.00313181522151328</dd>\n",
       "\t<dt>CHits</dt>\n",
       "\t\t<dd>0.0116536373557531</dd>\n",
       "\t<dt>CHmRun</dt>\n",
       "\t\t<dd>0.0875456697555949</dd>\n",
       "\t<dt>CRuns</dt>\n",
       "\t\t<dd>0.0233798823693758</dd>\n",
       "\t<dt>CRBI</dt>\n",
       "\t\t<dd>0.0241383203685686</dd>\n",
       "\t<dt>CWalks</dt>\n",
       "\t\t<dd>0.0250154205993732</dd>\n",
       "\t<dt>LeagueN</dt>\n",
       "\t\t<dd>0.0850281135625444</dd>\n",
       "\t<dt>DivisionW</dt>\n",
       "\t\t<dd>-6.21544097273146</dd>\n",
       "\t<dt>PutOuts</dt>\n",
       "\t\t<dd>0.0164825767604547</dd>\n",
       "\t<dt>Assists</dt>\n",
       "\t\t<dd>0.00261298804528183</dd>\n",
       "\t<dt>Errors</dt>\n",
       "\t\t<dd>-0.0205026903654579</dd>\n",
       "\t<dt>NewLeagueN</dt>\n",
       "\t\t<dd>0.301433531372699</dd>\n",
       "</dl>\n"
      ],
      "text/latex": [
       "\\begin{description*}\n",
       "\\item[(Intercept)] 407.356050200416\n",
       "\\item[AtBat] 0.0369571817501359\n",
       "\\item[Hits] 0.138180343807892\n",
       "\\item[HmRun] 0.524629975886911\n",
       "\\item[Runs] 0.230701522621179\n",
       "\\item[RBI] 0.239841458504058\n",
       "\\item[Walks] 0.289618741049884\n",
       "\\item[Years] 1.10770292908555\n",
       "\\item[CAtBat] 0.00313181522151328\n",
       "\\item[CHits] 0.0116536373557531\n",
       "\\item[CHmRun] 0.0875456697555949\n",
       "\\item[CRuns] 0.0233798823693758\n",
       "\\item[CRBI] 0.0241383203685686\n",
       "\\item[CWalks] 0.0250154205993732\n",
       "\\item[LeagueN] 0.0850281135625444\n",
       "\\item[DivisionW] -6.21544097273146\n",
       "\\item[PutOuts] 0.0164825767604547\n",
       "\\item[Assists] 0.00261298804528183\n",
       "\\item[Errors] -0.0205026903654579\n",
       "\\item[NewLeagueN] 0.301433531372699\n",
       "\\end{description*}\n"
      ],
      "text/markdown": [
       "(Intercept)\n",
       ":   407.356050200416AtBat\n",
       ":   0.0369571817501359Hits\n",
       ":   0.138180343807892HmRun\n",
       ":   0.524629975886911Runs\n",
       ":   0.230701522621179RBI\n",
       ":   0.239841458504058Walks\n",
       ":   0.289618741049884Years\n",
       ":   1.10770292908555CAtBat\n",
       ":   0.00313181522151328CHits\n",
       ":   0.0116536373557531CHmRun\n",
       ":   0.0875456697555949CRuns\n",
       ":   0.0233798823693758CRBI\n",
       ":   0.0241383203685686CWalks\n",
       ":   0.0250154205993732LeagueN\n",
       ":   0.0850281135625444DivisionW\n",
       ":   -6.21544097273146PutOuts\n",
       ":   0.0164825767604547Assists\n",
       ":   0.00261298804528183Errors\n",
       ":   -0.0205026903654579NewLeagueN\n",
       ":   0.301433531372699\n",
       "\n"
      ],
      "text/plain": [
       "  (Intercept)         AtBat          Hits         HmRun          Runs \n",
       "407.356050200   0.036957182   0.138180344   0.524629976   0.230701523 \n",
       "          RBI         Walks         Years        CAtBat         CHits \n",
       "  0.239841459   0.289618741   1.107702929   0.003131815   0.011653637 \n",
       "       CHmRun         CRuns          CRBI        CWalks       LeagueN \n",
       "  0.087545670   0.023379882   0.024138320   0.025015421   0.085028114 \n",
       "    DivisionW       PutOuts       Assists        Errors    NewLeagueN \n",
       " -6.215440973   0.016482577   0.002612988  -0.020502690   0.301433531 "
      ]
     },
     "metadata": {},
     "output_type": "display_data"
    },
    {
     "data": {
      "text/html": [
       "6.36061242142791"
      ],
      "text/latex": [
       "6.36061242142791"
      ],
      "text/markdown": [
       "6.36061242142791"
      ],
      "text/plain": [
       "[1] 6.360612"
      ]
     },
     "metadata": {},
     "output_type": "display_data"
    }
   ],
   "source": [
    "names(ridge.mod)\n",
    "ridge.mod$lambda[50]\n",
    "coef(ridge.mod)[,50]\n",
    "sqrt(sum(coef( ridge.mod )[-1,50]^2))\n"
   ]
  },
  {
   "cell_type": "code",
   "execution_count": 16,
   "metadata": {},
   "outputs": [
    {
     "data": {
      "text/html": [
       "705.480231071865"
      ],
      "text/latex": [
       "705.480231071865"
      ],
      "text/markdown": [
       "705.480231071865"
      ],
      "text/plain": [
       "[1] 705.4802"
      ]
     },
     "metadata": {},
     "output_type": "display_data"
    },
    {
     "data": {
      "text/html": [
       "<dl class=dl-horizontal>\n",
       "\t<dt>(Intercept)</dt>\n",
       "\t\t<dd>54.3251995018372</dd>\n",
       "\t<dt>AtBat</dt>\n",
       "\t\t<dd>0.112111145878249</dd>\n",
       "\t<dt>Hits</dt>\n",
       "\t\t<dd>0.656224085323628</dd>\n",
       "\t<dt>HmRun</dt>\n",
       "\t\t<dd>1.17980909638777</dd>\n",
       "\t<dt>Runs</dt>\n",
       "\t\t<dd>0.937697128927054</dd>\n",
       "\t<dt>RBI</dt>\n",
       "\t\t<dd>0.847185458771521</dd>\n",
       "\t<dt>Walks</dt>\n",
       "\t\t<dd>1.31987948048781</dd>\n",
       "\t<dt>Years</dt>\n",
       "\t\t<dd>2.59640424574253</dd>\n",
       "\t<dt>CAtBat</dt>\n",
       "\t\t<dd>0.0108341254432856</dd>\n",
       "\t<dt>CHits</dt>\n",
       "\t\t<dd>0.0467455700054452</dd>\n",
       "\t<dt>CHmRun</dt>\n",
       "\t\t<dd>0.337773183143353</dd>\n",
       "\t<dt>CRuns</dt>\n",
       "\t\t<dd>0.0935552830000676</dd>\n",
       "\t<dt>CRBI</dt>\n",
       "\t\t<dd>0.0978040232271687</dd>\n",
       "\t<dt>CWalks</dt>\n",
       "\t\t<dd>0.0718961166304866</dd>\n",
       "\t<dt>LeagueN</dt>\n",
       "\t\t<dd>13.6837019095343</dd>\n",
       "\t<dt>DivisionW</dt>\n",
       "\t\t<dd>-54.658777504592</dd>\n",
       "\t<dt>PutOuts</dt>\n",
       "\t\t<dd>0.118522894134745</dd>\n",
       "\t<dt>Assists</dt>\n",
       "\t\t<dd>0.01606037317599</dd>\n",
       "\t<dt>Errors</dt>\n",
       "\t\t<dd>-0.703586547290985</dd>\n",
       "\t<dt>NewLeagueN</dt>\n",
       "\t\t<dd>8.61181213448926</dd>\n",
       "</dl>\n"
      ],
      "text/latex": [
       "\\begin{description*}\n",
       "\\item[(Intercept)] 54.3251995018372\n",
       "\\item[AtBat] 0.112111145878249\n",
       "\\item[Hits] 0.656224085323628\n",
       "\\item[HmRun] 1.17980909638777\n",
       "\\item[Runs] 0.937697128927054\n",
       "\\item[RBI] 0.847185458771521\n",
       "\\item[Walks] 1.31987948048781\n",
       "\\item[Years] 2.59640424574253\n",
       "\\item[CAtBat] 0.0108341254432856\n",
       "\\item[CHits] 0.0467455700054452\n",
       "\\item[CHmRun] 0.337773183143353\n",
       "\\item[CRuns] 0.0935552830000676\n",
       "\\item[CRBI] 0.0978040232271687\n",
       "\\item[CWalks] 0.0718961166304866\n",
       "\\item[LeagueN] 13.6837019095343\n",
       "\\item[DivisionW] -54.658777504592\n",
       "\\item[PutOuts] 0.118522894134745\n",
       "\\item[Assists] 0.01606037317599\n",
       "\\item[Errors] -0.703586547290985\n",
       "\\item[NewLeagueN] 8.61181213448926\n",
       "\\end{description*}\n"
      ],
      "text/markdown": [
       "(Intercept)\n",
       ":   54.3251995018372AtBat\n",
       ":   0.112111145878249Hits\n",
       ":   0.656224085323628HmRun\n",
       ":   1.17980909638777Runs\n",
       ":   0.937697128927054RBI\n",
       ":   0.847185458771521Walks\n",
       ":   1.31987948048781Years\n",
       ":   2.59640424574253CAtBat\n",
       ":   0.0108341254432856CHits\n",
       ":   0.0467455700054452CHmRun\n",
       ":   0.337773183143353CRuns\n",
       ":   0.0935552830000676CRBI\n",
       ":   0.0978040232271687CWalks\n",
       ":   0.0718961166304866LeagueN\n",
       ":   13.6837019095343DivisionW\n",
       ":   -54.658777504592PutOuts\n",
       ":   0.118522894134745Assists\n",
       ":   0.01606037317599Errors\n",
       ":   -0.703586547290985NewLeagueN\n",
       ":   8.61181213448926\n",
       "\n"
      ],
      "text/plain": [
       " (Intercept)        AtBat         Hits        HmRun         Runs          RBI \n",
       " 54.32519950   0.11211115   0.65622409   1.17980910   0.93769713   0.84718546 \n",
       "       Walks        Years       CAtBat        CHits       CHmRun        CRuns \n",
       "  1.31987948   2.59640425   0.01083413   0.04674557   0.33777318   0.09355528 \n",
       "        CRBI       CWalks      LeagueN    DivisionW      PutOuts      Assists \n",
       "  0.09780402   0.07189612  13.68370191 -54.65877750   0.11852289   0.01606037 \n",
       "      Errors   NewLeagueN \n",
       " -0.70358655   8.61181213 "
      ]
     },
     "metadata": {},
     "output_type": "display_data"
    },
    {
     "data": {
      "text/html": [
       "57.110014262533"
      ],
      "text/latex": [
       "57.110014262533"
      ],
      "text/markdown": [
       "57.110014262533"
      ],
      "text/plain": [
       "[1] 57.11001"
      ]
     },
     "metadata": {},
     "output_type": "display_data"
    }
   ],
   "source": [
    "ridge.mod$lambda [60]\n",
    "coef(ridge.mod)[ ,60]\n",
    "sqrt(sum(coef(ridge.mod)[-1,60]^2))"
   ]
  },
  {
   "cell_type": "code",
   "execution_count": 17,
   "metadata": {},
   "outputs": [
    {
     "data": {
      "text/html": [
       "<dl class=dl-horizontal>\n",
       "\t<dt>(Intercept)</dt>\n",
       "\t\t<dd>48.7661032921608</dd>\n",
       "\t<dt>AtBat</dt>\n",
       "\t\t<dd>-0.358099859376738</dd>\n",
       "\t<dt>Hits</dt>\n",
       "\t\t<dd>1.96935928646357</dd>\n",
       "\t<dt>HmRun</dt>\n",
       "\t\t<dd>-1.27824798145678</dd>\n",
       "\t<dt>Runs</dt>\n",
       "\t\t<dd>1.14589163211962</dd>\n",
       "\t<dt>RBI</dt>\n",
       "\t\t<dd>0.803829228437672</dd>\n",
       "\t<dt>Walks</dt>\n",
       "\t\t<dd>2.71618579623371</dd>\n",
       "\t<dt>Years</dt>\n",
       "\t\t<dd>-6.21831921727865</dd>\n",
       "\t<dt>CAtBat</dt>\n",
       "\t\t<dd>0.00544783719814918</dd>\n",
       "\t<dt>CHits</dt>\n",
       "\t\t<dd>0.10648951402342</dd>\n",
       "\t<dt>CHmRun</dt>\n",
       "\t\t<dd>0.624485956082661</dd>\n",
       "\t<dt>CRuns</dt>\n",
       "\t\t<dd>0.221498463760022</dd>\n",
       "\t<dt>CRBI</dt>\n",
       "\t\t<dd>0.218691380321248</dd>\n",
       "\t<dt>CWalks</dt>\n",
       "\t\t<dd>-0.150024548516927</dd>\n",
       "\t<dt>LeagueN</dt>\n",
       "\t\t<dd>45.9258855144158</dd>\n",
       "\t<dt>DivisionW</dt>\n",
       "\t\t<dd>-118.201136816368</dd>\n",
       "\t<dt>PutOuts</dt>\n",
       "\t\t<dd>0.250232154092559</dd>\n",
       "\t<dt>Assists</dt>\n",
       "\t\t<dd>0.121566461346767</dd>\n",
       "\t<dt>Errors</dt>\n",
       "\t\t<dd>-3.27859954463555</dd>\n",
       "\t<dt>NewLeagueN</dt>\n",
       "\t\t<dd>-9.4966803100264</dd>\n",
       "</dl>\n"
      ],
      "text/latex": [
       "\\begin{description*}\n",
       "\\item[(Intercept)] 48.7661032921608\n",
       "\\item[AtBat] -0.358099859376738\n",
       "\\item[Hits] 1.96935928646357\n",
       "\\item[HmRun] -1.27824798145678\n",
       "\\item[Runs] 1.14589163211962\n",
       "\\item[RBI] 0.803829228437672\n",
       "\\item[Walks] 2.71618579623371\n",
       "\\item[Years] -6.21831921727865\n",
       "\\item[CAtBat] 0.00544783719814918\n",
       "\\item[CHits] 0.10648951402342\n",
       "\\item[CHmRun] 0.624485956082661\n",
       "\\item[CRuns] 0.221498463760022\n",
       "\\item[CRBI] 0.218691380321248\n",
       "\\item[CWalks] -0.150024548516927\n",
       "\\item[LeagueN] 45.9258855144158\n",
       "\\item[DivisionW] -118.201136816368\n",
       "\\item[PutOuts] 0.250232154092559\n",
       "\\item[Assists] 0.121566461346767\n",
       "\\item[Errors] -3.27859954463555\n",
       "\\item[NewLeagueN] -9.4966803100264\n",
       "\\end{description*}\n"
      ],
      "text/markdown": [
       "(Intercept)\n",
       ":   48.7661032921608AtBat\n",
       ":   -0.358099859376738Hits\n",
       ":   1.96935928646357HmRun\n",
       ":   -1.27824798145678Runs\n",
       ":   1.14589163211962RBI\n",
       ":   0.803829228437672Walks\n",
       ":   2.71618579623371Years\n",
       ":   -6.21831921727865CAtBat\n",
       ":   0.00544783719814918CHits\n",
       ":   0.10648951402342CHmRun\n",
       ":   0.624485956082661CRuns\n",
       ":   0.221498463760022CRBI\n",
       ":   0.218691380321248CWalks\n",
       ":   -0.150024548516927LeagueN\n",
       ":   45.9258855144158DivisionW\n",
       ":   -118.201136816368PutOuts\n",
       ":   0.250232154092559Assists\n",
       ":   0.121566461346767Errors\n",
       ":   -3.27859954463555NewLeagueN\n",
       ":   -9.4966803100264\n",
       "\n"
      ],
      "text/plain": [
       "  (Intercept)         AtBat          Hits         HmRun          Runs \n",
       " 4.876610e+01 -3.580999e-01  1.969359e+00 -1.278248e+00  1.145892e+00 \n",
       "          RBI         Walks         Years        CAtBat         CHits \n",
       " 8.038292e-01  2.716186e+00 -6.218319e+00  5.447837e-03  1.064895e-01 \n",
       "       CHmRun         CRuns          CRBI        CWalks       LeagueN \n",
       " 6.244860e-01  2.214985e-01  2.186914e-01 -1.500245e-01  4.592589e+01 \n",
       "    DivisionW       PutOuts       Assists        Errors    NewLeagueN \n",
       "-1.182011e+02  2.502322e-01  1.215665e-01 -3.278600e+00 -9.496680e+00 "
      ]
     },
     "metadata": {},
     "output_type": "display_data"
    }
   ],
   "source": [
    "predict(ridge.mod,s=50,type=\"coefficients\")[1:20,]"
   ]
  },
  {
   "cell_type": "code",
   "execution_count": 18,
   "metadata": {
    "collapsed": true
   },
   "outputs": [],
   "source": [
    "set.seed(1)\n",
    "train=sample(1:nrow(x),nrow(x)/2)\n",
    "test=-train\n",
    "y.test=y[test]"
   ]
  },
  {
   "cell_type": "code",
   "execution_count": 29,
   "metadata": {},
   "outputs": [
    {
     "data": {
      "text/html": [
       "101036.832669597"
      ],
      "text/latex": [
       "101036.832669597"
      ],
      "text/markdown": [
       "101036.832669597"
      ],
      "text/plain": [
       "[1] 101036.8"
      ]
     },
     "metadata": {},
     "output_type": "display_data"
    },
    {
     "data": {
      "text/html": [
       "193253.113067991"
      ],
      "text/latex": [
       "193253.113067991"
      ],
      "text/markdown": [
       "193253.113067991"
      ],
      "text/plain": [
       "[1] 193253.1"
      ]
     },
     "metadata": {},
     "output_type": "display_data"
    },
    {
     "data": {
      "text/html": [
       "193253.05679545"
      ],
      "text/latex": [
       "193253.05679545"
      ],
      "text/markdown": [
       "193253.05679545"
      ],
      "text/plain": [
       "[1] 193253.1"
      ]
     },
     "metadata": {},
     "output_type": "display_data"
    },
    {
     "data": {
      "text/html": [
       "114723.615178307"
      ],
      "text/latex": [
       "114723.615178307"
      ],
      "text/markdown": [
       "114723.615178307"
      ],
      "text/plain": [
       "[1] 114723.6"
      ]
     },
     "metadata": {},
     "output_type": "display_data"
    },
    {
     "data": {
      "text/plain": [
       "\n",
       "Call:\n",
       "lm(formula = y ~ x, subset = train)\n",
       "\n",
       "Coefficients:\n",
       "(Intercept)       xAtBat        xHits       xHmRun        xRuns         xRBI  \n",
       "  299.42849     -2.54027      8.36682     11.64512     -9.09923      2.44105  \n",
       "     xWalks       xYears      xCAtBat       xCHits      xCHmRun       xCRuns  \n",
       "    9.23440    -22.93673     -0.18154     -0.11598     -1.33888      3.32838  \n",
       "      xCRBI      xCWalks     xLeagueN   xDivisionW     xPutOuts     xAssists  \n",
       "    0.07536     -1.07841     59.76065    -98.86233      0.34087      0.34165  \n",
       "    xErrors  xNewLeagueN  \n",
       "   -0.64207     -0.67442  \n"
      ]
     },
     "metadata": {},
     "output_type": "display_data"
    },
    {
     "ename": "ERROR",
     "evalue": "Error: used coef.glmnet() or predict.glmnet() with `exact=TRUE` so must in addition supply original argument(s)  x and y  in order to safely rerun glmnet\n",
     "output_type": "error",
     "traceback": [
      "Error: used coef.glmnet() or predict.glmnet() with `exact=TRUE` so must in addition supply original argument(s)  x and y  in order to safely rerun glmnet\nTraceback:\n",
      "1. predict(ridge.mod, s = 0, exact = T, type = \"coefficients\")",
      "2. predict.elnet(ridge.mod, s = 0, exact = T, type = \"coefficients\")",
      "3. NextMethod(\"predict\")",
      "4. predict.glmnet(ridge.mod, s = 0, exact = T, type = \"coefficients\")",
      "5. check_dots(object, ...)",
      "6. stop(paste(\"used coef.glmnet() or predict.glmnet() with `exact=TRUE` so must in addition supply original argument(s) \", \n .     paste(margs, collapse = \" and \"), \" in order to safely rerun glmnet\"), \n .     call. = FALSE)"
     ]
    }
   ],
   "source": [
    "ridge.mod=glmnet(x[train,],y[train],alpha=0,lambda=grid, thresh=1e-12)\n",
    "ridge.pred=predict(ridge.mod, s=4, newx=x[test,])\n",
    "mean((ridge.pred-y.test)^2) #MSE\n",
    "mean((mean(y[train])-y.test)^2)\n",
    "ridge.pred= predict(ridge.mod ,s=1e10 , newx=x[test,]) #taking very large value of lambda\n",
    "mean((ridge.pred-y.test)^2)\n",
    "#  least squares is simply ridge regression with λ = 0.\n",
    "ridge.pred= predict(ridge.mod ,s=0 , newx=x[test,]) #taking very large value of lambda\n",
    "mean((ridge.pred-y.test)^2)\n",
    "library(ISLR)\n",
    "library (MASS)\n",
    "lm(y∼x, subset=train )\n",
    "predict(ridge.mod,s=0, exact=T, type =\"coefficients\")[1:20,]"
   ]
  },
  {
   "cell_type": "code",
   "execution_count": 32,
   "metadata": {},
   "outputs": [
    {
     "data": {
      "text/html": [
       "211.741584781282"
      ],
      "text/latex": [
       "211.741584781282"
      ],
      "text/markdown": [
       "211.741584781282"
      ],
      "text/plain": [
       "[1] 211.7416"
      ]
     },
     "metadata": {},
     "output_type": "display_data"
    },
    {
     "data": {
      "text/html": [
       "96015.5127255327"
      ],
      "text/latex": [
       "96015.5127255327"
      ],
      "text/markdown": [
       "96015.5127255327"
      ],
      "text/plain": [
       "[1] 96015.51"
      ]
     },
     "metadata": {},
     "output_type": "display_data"
    },
    {
     "data": {
      "image/png": "[encoded data removed]",
      "text/plain": [
       "plot without title"
      ]
     },
     "metadata": {},
     "output_type": "display_data"
    }
   ],
   "source": [
    "set.seed (1)\n",
    "cv.out =cv.glmnet(x[train ,], y[train ], alpha =0)\n",
    "plot(cv.out )\n",
    "bestlam =cv.out$lambda.min\n",
    "bestlam\n",
    "ridge.pred= predict (ridge.mod ,s=bestlam , newx=x[test ,])\n",
    "mean((ridge.pred-y.test)^2)"
   ]
  },
  {
   "cell_type": "code",
   "execution_count": 35,
   "metadata": {},
   "outputs": [
    {
     "data": {
      "text/html": [
       "<dl class=dl-horizontal>\n",
       "\t<dt>(Intercept)</dt>\n",
       "\t\t<dd>9.88487156523819</dd>\n",
       "\t<dt>AtBat</dt>\n",
       "\t\t<dd>0.0314399123075993</dd>\n",
       "\t<dt>Hits</dt>\n",
       "\t\t<dd>1.00882875071523</dd>\n",
       "\t<dt>HmRun</dt>\n",
       "\t\t<dd>0.139276236015288</dd>\n",
       "\t<dt>Runs</dt>\n",
       "\t\t<dd>1.11320780992504</dd>\n",
       "\t<dt>RBI</dt>\n",
       "\t\t<dd>0.873189900643772</dd>\n",
       "\t<dt>Walks</dt>\n",
       "\t\t<dd>1.80410229199678</dd>\n",
       "\t<dt>Years</dt>\n",
       "\t\t<dd>0.130743811114436</dd>\n",
       "\t<dt>CAtBat</dt>\n",
       "\t\t<dd>0.0111397797786966</dd>\n",
       "\t<dt>CHits</dt>\n",
       "\t\t<dd>0.0648984331610168</dd>\n",
       "\t<dt>CHmRun</dt>\n",
       "\t\t<dd>0.451585462080598</dd>\n",
       "\t<dt>CRuns</dt>\n",
       "\t\t<dd>0.12900049045775</dd>\n",
       "\t<dt>CRBI</dt>\n",
       "\t\t<dd>0.13737711633305</dd>\n",
       "\t<dt>CWalks</dt>\n",
       "\t\t<dd>0.0290857160383186</dd>\n",
       "\t<dt>LeagueN</dt>\n",
       "\t\t<dd>27.1822753486268</dd>\n",
       "\t<dt>DivisionW</dt>\n",
       "\t\t<dd>-91.6341129943135</dd>\n",
       "\t<dt>PutOuts</dt>\n",
       "\t\t<dd>0.191492519898057</dd>\n",
       "\t<dt>Assists</dt>\n",
       "\t\t<dd>0.0425453623726451</dd>\n",
       "\t<dt>Errors</dt>\n",
       "\t\t<dd>-1.81244470270312</dd>\n",
       "\t<dt>NewLeagueN</dt>\n",
       "\t\t<dd>7.2120838996523</dd>\n",
       "</dl>\n"
      ],
      "text/latex": [
       "\\begin{description*}\n",
       "\\item[(Intercept)] 9.88487156523819\n",
       "\\item[AtBat] 0.0314399123075993\n",
       "\\item[Hits] 1.00882875071523\n",
       "\\item[HmRun] 0.139276236015288\n",
       "\\item[Runs] 1.11320780992504\n",
       "\\item[RBI] 0.873189900643772\n",
       "\\item[Walks] 1.80410229199678\n",
       "\\item[Years] 0.130743811114436\n",
       "\\item[CAtBat] 0.0111397797786966\n",
       "\\item[CHits] 0.0648984331610168\n",
       "\\item[CHmRun] 0.451585462080598\n",
       "\\item[CRuns] 0.12900049045775\n",
       "\\item[CRBI] 0.13737711633305\n",
       "\\item[CWalks] 0.0290857160383186\n",
       "\\item[LeagueN] 27.1822753486268\n",
       "\\item[DivisionW] -91.6341129943135\n",
       "\\item[PutOuts] 0.191492519898057\n",
       "\\item[Assists] 0.0425453623726451\n",
       "\\item[Errors] -1.81244470270312\n",
       "\\item[NewLeagueN] 7.2120838996523\n",
       "\\end{description*}\n"
      ],
      "text/markdown": [
       "(Intercept)\n",
       ":   9.88487156523819AtBat\n",
       ":   0.0314399123075993Hits\n",
       ":   1.00882875071523HmRun\n",
       ":   0.139276236015288Runs\n",
       ":   1.11320780992504RBI\n",
       ":   0.873189900643772Walks\n",
       ":   1.80410229199678Years\n",
       ":   0.130743811114436CAtBat\n",
       ":   0.0111397797786966CHits\n",
       ":   0.0648984331610168CHmRun\n",
       ":   0.451585462080598CRuns\n",
       ":   0.12900049045775CRBI\n",
       ":   0.13737711633305CWalks\n",
       ":   0.0290857160383186LeagueN\n",
       ":   27.1822753486268DivisionW\n",
       ":   -91.6341129943135PutOuts\n",
       ":   0.191492519898057Assists\n",
       ":   0.0425453623726451Errors\n",
       ":   -1.81244470270312NewLeagueN\n",
       ":   7.2120838996523\n",
       "\n"
      ],
      "text/plain": [
       " (Intercept)        AtBat         Hits        HmRun         Runs          RBI \n",
       "  9.88487157   0.03143991   1.00882875   0.13927624   1.11320781   0.87318990 \n",
       "       Walks        Years       CAtBat        CHits       CHmRun        CRuns \n",
       "  1.80410229   0.13074381   0.01113978   0.06489843   0.45158546   0.12900049 \n",
       "        CRBI       CWalks      LeagueN    DivisionW      PutOuts      Assists \n",
       "  0.13737712   0.02908572  27.18227535 -91.63411299   0.19149252   0.04254536 \n",
       "      Errors   NewLeagueN \n",
       " -1.81244470   7.21208390 "
      ]
     },
     "metadata": {},
     "output_type": "display_data"
    }
   ],
   "source": [
    "# refit our ridge regression model on the full data set,\n",
    "# using the value of λ chosen by cross-validation, \n",
    "out=glmnet(x,y, alpha =0)\n",
    "predict(out,type =\"coefficients\",s= bestlam )[1:20,]"
   ]
  },
  {
   "cell_type": "code",
   "execution_count": null,
   "metadata": {
    "collapsed": true
   },
   "outputs": [],
   "source": []
  },
  {
   "cell_type": "code",
   "execution_count": 37,
   "metadata": {
    "scrolled": true
   },
   "outputs": [
    {
     "data": {
      "image/png": "[encoded data removed]",
      "text/plain": [
       "plot without title"
      ]
     },
     "metadata": {},
     "output_type": "display_data"
    },
    {
     "data": {
      "text/html": [
       "16.7801584809522"
      ],
      "text/latex": [
       "16.7801584809522"
      ],
      "text/markdown": [
       "16.7801584809522"
      ],
      "text/plain": [
       "[1] 16.78016"
      ]
     },
     "metadata": {},
     "output_type": "display_data"
    },
    {
     "data": {
      "text/html": [
       "100743.446221539"
      ],
      "text/latex": [
       "100743.446221539"
      ],
      "text/markdown": [
       "100743.446221539"
      ],
      "text/plain": [
       "[1] 100743.4"
      ]
     },
     "metadata": {},
     "output_type": "display_data"
    },
    {
     "data": {
      "image/png": "[encoded data removed]",
      "text/plain": [
       "plot without title"
      ]
     },
     "metadata": {},
     "output_type": "display_data"
    }
   ],
   "source": [
    "#Lasso\n",
    "lasso.mod=glmnet(x[train,], y[train],alpha=1, lambda=grid)\n",
    "plot(lasso.mod) #coefficient plot\n",
    "# cross-validation and compute the associated test error.\n",
    "set.seed (1)\n",
    "cv.out =cv.glmnet(x[train ,], y[train ], alpha =1)\n",
    "plot(cv.out )\n",
    "bestlam =cv.out$lambda.min\n",
    "bestlam\n",
    "lasso.pred= predict (lasso.mod ,s=bestlam , newx=x[test ,])\n",
    "mean((lasso.pred-y.test)^2)"
   ]
  },
  {
   "cell_type": "code",
   "execution_count": 39,
   "metadata": {},
   "outputs": [
    {
     "data": {
      "text/html": [
       "<dl class=dl-horizontal>\n",
       "\t<dt>(Intercept)</dt>\n",
       "\t\t<dd>18.5394843700404</dd>\n",
       "\t<dt>AtBat</dt>\n",
       "\t\t<dd>0</dd>\n",
       "\t<dt>Hits</dt>\n",
       "\t\t<dd>1.87353897868797</dd>\n",
       "\t<dt>HmRun</dt>\n",
       "\t\t<dd>0</dd>\n",
       "\t<dt>Runs</dt>\n",
       "\t\t<dd>0</dd>\n",
       "\t<dt>RBI</dt>\n",
       "\t\t<dd>0</dd>\n",
       "\t<dt>Walks</dt>\n",
       "\t\t<dd>2.21784439442808</dd>\n",
       "\t<dt>Years</dt>\n",
       "\t\t<dd>0</dd>\n",
       "\t<dt>CAtBat</dt>\n",
       "\t\t<dd>0</dd>\n",
       "\t<dt>CHits</dt>\n",
       "\t\t<dd>0</dd>\n",
       "\t<dt>CHmRun</dt>\n",
       "\t\t<dd>0</dd>\n",
       "\t<dt>CRuns</dt>\n",
       "\t\t<dd>0.207125172948793</dd>\n",
       "\t<dt>CRBI</dt>\n",
       "\t\t<dd>0.413013208899728</dd>\n",
       "\t<dt>CWalks</dt>\n",
       "\t\t<dd>0</dd>\n",
       "\t<dt>LeagueN</dt>\n",
       "\t\t<dd>3.26666772880497</dd>\n",
       "\t<dt>DivisionW</dt>\n",
       "\t\t<dd>-103.484545814138</dd>\n",
       "\t<dt>PutOuts</dt>\n",
       "\t\t<dd>0.220428413476128</dd>\n",
       "\t<dt>Assists</dt>\n",
       "\t\t<dd>0</dd>\n",
       "\t<dt>Errors</dt>\n",
       "\t\t<dd>0</dd>\n",
       "\t<dt>NewLeagueN</dt>\n",
       "\t\t<dd>0</dd>\n",
       "</dl>\n"
      ],
      "text/latex": [
       "\\begin{description*}\n",
       "\\item[(Intercept)] 18.5394843700404\n",
       "\\item[AtBat] 0\n",
       "\\item[Hits] 1.87353897868797\n",
       "\\item[HmRun] 0\n",
       "\\item[Runs] 0\n",
       "\\item[RBI] 0\n",
       "\\item[Walks] 2.21784439442808\n",
       "\\item[Years] 0\n",
       "\\item[CAtBat] 0\n",
       "\\item[CHits] 0\n",
       "\\item[CHmRun] 0\n",
       "\\item[CRuns] 0.207125172948793\n",
       "\\item[CRBI] 0.413013208899728\n",
       "\\item[CWalks] 0\n",
       "\\item[LeagueN] 3.26666772880497\n",
       "\\item[DivisionW] -103.484545814138\n",
       "\\item[PutOuts] 0.220428413476128\n",
       "\\item[Assists] 0\n",
       "\\item[Errors] 0\n",
       "\\item[NewLeagueN] 0\n",
       "\\end{description*}\n"
      ],
      "text/markdown": [
       "(Intercept)\n",
       ":   18.5394843700404AtBat\n",
       ":   0Hits\n",
       ":   1.87353897868797HmRun\n",
       ":   0Runs\n",
       ":   0RBI\n",
       ":   0Walks\n",
       ":   2.21784439442808Years\n",
       ":   0CAtBat\n",
       ":   0CHits\n",
       ":   0CHmRun\n",
       ":   0CRuns\n",
       ":   0.207125172948793CRBI\n",
       ":   0.413013208899728CWalks\n",
       ":   0LeagueN\n",
       ":   3.26666772880497DivisionW\n",
       ":   -103.484545814138PutOuts\n",
       ":   0.220428413476128Assists\n",
       ":   0Errors\n",
       ":   0NewLeagueN\n",
       ":   0\n",
       "\n"
      ],
      "text/plain": [
       " (Intercept)        AtBat         Hits        HmRun         Runs          RBI \n",
       "  18.5394844    0.0000000    1.8735390    0.0000000    0.0000000    0.0000000 \n",
       "       Walks        Years       CAtBat        CHits       CHmRun        CRuns \n",
       "   2.2178444    0.0000000    0.0000000    0.0000000    0.0000000    0.2071252 \n",
       "        CRBI       CWalks      LeagueN    DivisionW      PutOuts      Assists \n",
       "   0.4130132    0.0000000    3.2666677 -103.4845458    0.2204284    0.0000000 \n",
       "      Errors   NewLeagueN \n",
       "   0.0000000    0.0000000 "
      ]
     },
     "metadata": {},
     "output_type": "display_data"
    },
    {
     "data": {
      "text/html": [
       "<dl class=dl-horizontal>\n",
       "\t<dt>(Intercept)</dt>\n",
       "\t\t<dd>18.5394843700404</dd>\n",
       "\t<dt>Hits</dt>\n",
       "\t\t<dd>1.87353897868797</dd>\n",
       "\t<dt>Walks</dt>\n",
       "\t\t<dd>2.21784439442808</dd>\n",
       "\t<dt>CRuns</dt>\n",
       "\t\t<dd>0.207125172948793</dd>\n",
       "\t<dt>CRBI</dt>\n",
       "\t\t<dd>0.413013208899728</dd>\n",
       "\t<dt>LeagueN</dt>\n",
       "\t\t<dd>3.26666772880497</dd>\n",
       "\t<dt>DivisionW</dt>\n",
       "\t\t<dd>-103.484545814138</dd>\n",
       "\t<dt>PutOuts</dt>\n",
       "\t\t<dd>0.220428413476128</dd>\n",
       "</dl>\n"
      ],
      "text/latex": [
       "\\begin{description*}\n",
       "\\item[(Intercept)] 18.5394843700404\n",
       "\\item[Hits] 1.87353897868797\n",
       "\\item[Walks] 2.21784439442808\n",
       "\\item[CRuns] 0.207125172948793\n",
       "\\item[CRBI] 0.413013208899728\n",
       "\\item[LeagueN] 3.26666772880497\n",
       "\\item[DivisionW] -103.484545814138\n",
       "\\item[PutOuts] 0.220428413476128\n",
       "\\end{description*}\n"
      ],
      "text/markdown": [
       "(Intercept)\n",
       ":   18.5394843700404Hits\n",
       ":   1.87353897868797Walks\n",
       ":   2.21784439442808CRuns\n",
       ":   0.207125172948793CRBI\n",
       ":   0.413013208899728LeagueN\n",
       ":   3.26666772880497DivisionW\n",
       ":   -103.484545814138PutOuts\n",
       ":   0.220428413476128\n",
       "\n"
      ],
      "text/plain": [
       " (Intercept)         Hits        Walks        CRuns         CRBI      LeagueN \n",
       "  18.5394844    1.8735390    2.2178444    0.2071252    0.4130132    3.2666677 \n",
       "   DivisionW      PutOuts \n",
       "-103.4845458    0.2204284 "
      ]
     },
     "metadata": {},
     "output_type": "display_data"
    }
   ],
   "source": [
    "# refit our lasso regression model on the full data set,\n",
    "# using the value of λ chosen by cross-validation, \n",
    "out=glmnet(x,y, alpha =1,lambda=grid)\n",
    "lasso.coef=predict(out,type =\"coefficients\",s= bestlam )[1:20,]\n",
    "lasso.coef\n",
    "lasso.coef[lasso.coef!=0]"
   ]
  }
 ],
 "metadata": {
  "kernelspec": {
   "display_name": "R",
   "language": "R",
   "name": "ir"
  },
  "language_info": {
   "codemirror_mode": "r",
   "file_extension": ".r",
   "mimetype": "text/x-r-source",
   "name": "R",
   "pygments_lexer": "r",
   "version": "3.4.1"
  }
 },
 "nbformat": 4,
 "nbformat_minor": 2
}
