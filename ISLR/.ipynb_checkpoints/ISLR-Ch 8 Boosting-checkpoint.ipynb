{
 "cells": [
  {
   "cell_type": "markdown",
   "metadata": {},
   "source": [
    "# Boosting\n",
    "- For regression Problem:  distribution=\"gaussian\"\n",
    "- For Binary classification: distribution=\"bernoulli\"\n",
    "- n.trees=5000 indicates that we want 5000 trees\n",
    "- interaction.depth=4 limits the depth of each tree"
   ]
  },
  {
   "cell_type": "code",
   "execution_count": 3,
   "metadata": {},
   "outputs": [
    {
     "data": {
      "text/html": [
       "<table>\n",
       "<thead><tr><th></th><th scope=col>var</th><th scope=col>rel.inf</th></tr></thead>\n",
       "<tbody>\n",
       "\t<tr><th scope=row>lstat</th><td>lstat      </td><td>45.96792013</td></tr>\n",
       "\t<tr><th scope=row>rm</th><td>rm         </td><td>31.22018272</td></tr>\n",
       "\t<tr><th scope=row>dis</th><td>dis        </td><td> 6.80567724</td></tr>\n",
       "\t<tr><th scope=row>crim</th><td>crim       </td><td> 4.07534048</td></tr>\n",
       "\t<tr><th scope=row>nox</th><td>nox        </td><td> 2.56586166</td></tr>\n",
       "\t<tr><th scope=row>ptratio</th><td>ptratio    </td><td> 2.26983216</td></tr>\n",
       "\t<tr><th scope=row>black</th><td>black      </td><td> 1.78740116</td></tr>\n",
       "\t<tr><th scope=row>age</th><td>age        </td><td> 1.64495723</td></tr>\n",
       "\t<tr><th scope=row>tax</th><td>tax        </td><td> 1.36917603</td></tr>\n",
       "\t<tr><th scope=row>indus</th><td>indus      </td><td> 1.27052715</td></tr>\n",
       "\t<tr><th scope=row>chas</th><td>chas       </td><td> 0.80066528</td></tr>\n",
       "\t<tr><th scope=row>rad</th><td>rad        </td><td> 0.20727091</td></tr>\n",
       "\t<tr><th scope=row>zn</th><td>zn         </td><td> 0.01518785</td></tr>\n",
       "</tbody>\n",
       "</table>\n"
      ],
      "text/latex": [
       "\\begin{tabular}{r|ll}\n",
       "  & var & rel.inf\\\\\n",
       "\\hline\n",
       "\tlstat & lstat       & 45.96792013\\\\\n",
       "\trm & rm          & 31.22018272\\\\\n",
       "\tdis & dis         &  6.80567724\\\\\n",
       "\tcrim & crim        &  4.07534048\\\\\n",
       "\tnox & nox         &  2.56586166\\\\\n",
       "\tptratio & ptratio     &  2.26983216\\\\\n",
       "\tblack & black       &  1.78740116\\\\\n",
       "\tage & age         &  1.64495723\\\\\n",
       "\ttax & tax         &  1.36917603\\\\\n",
       "\tindus & indus       &  1.27052715\\\\\n",
       "\tchas & chas        &  0.80066528\\\\\n",
       "\trad & rad         &  0.20727091\\\\\n",
       "\tzn & zn          &  0.01518785\\\\\n",
       "\\end{tabular}\n"
      ],
      "text/markdown": [
       "\n",
       "| <!--/--> | var | rel.inf | \n",
       "|---|---|---|---|---|---|---|---|---|---|---|---|---|\n",
       "| lstat | lstat       | 45.96792013 | \n",
       "| rm | rm          | 31.22018272 | \n",
       "| dis | dis         |  6.80567724 | \n",
       "| crim | crim        |  4.07534048 | \n",
       "| nox | nox         |  2.56586166 | \n",
       "| ptratio | ptratio     |  2.26983216 | \n",
       "| black | black       |  1.78740116 | \n",
       "| age | age         |  1.64495723 | \n",
       "| tax | tax         |  1.36917603 | \n",
       "| indus | indus       |  1.27052715 | \n",
       "| chas | chas        |  0.80066528 | \n",
       "| rad | rad         |  0.20727091 | \n",
       "| zn | zn          |  0.01518785 | \n",
       "\n",
       "\n"
      ],
      "text/plain": [
       "        var     rel.inf    \n",
       "lstat   lstat   45.96792013\n",
       "rm      rm      31.22018272\n",
       "dis     dis      6.80567724\n",
       "crim    crim     4.07534048\n",
       "nox     nox      2.56586166\n",
       "ptratio ptratio  2.26983216\n",
       "black   black    1.78740116\n",
       "age     age      1.64495723\n",
       "tax     tax      1.36917603\n",
       "indus   indus    1.27052715\n",
       "chas    chas     0.80066528\n",
       "rad     rad      0.20727091\n",
       "zn      zn       0.01518785"
      ]
     },
     "metadata": {},
     "output_type": "display_data"
    },
    {
     "data": {
      "image/png": "[encoded data removed]",
      "text/plain": [
       "plot without title"
      ]
     },
     "metadata": {},
     "output_type": "display_data"
    }
   ],
   "source": [
    "# gbm package\n",
    "library(gbm)\n",
    "library(MASS)\n",
    "set.seed(1)\n",
    "train=sample(1:nrow(Boston),nrow(Boston)/2)\n",
    "boost.boston=gbm(medv~.,data=Boston[train,],distribution=\"gaussian\",n.trees=5000,interaction.depth=4)\n",
    "# summary() function produces a relative influence plot and also outputs the relative influence statistics.\n",
    "summary(boost.boston)\n"
   ]
  },
  {
   "cell_type": "code",
   "execution_count": 4,
   "metadata": {},
   "outputs": [
    {
     "data": {
      "image/png": "[encoded data removed]",
      "text/plain": [
       "plot without title"
      ]
     },
     "metadata": {},
     "output_type": "display_data"
    }
   ],
   "source": [
    "#partial dependence plots\n",
    "par(mfrow=c(1,2))\n",
    "plot(boost.boston,i=\"rm\")\n",
    "plot(boost.boston,i=\"lstat\")\n"
   ]
  },
  {
   "cell_type": "code",
   "execution_count": 7,
   "metadata": {},
   "outputs": [
    {
     "data": {
      "text/html": [
       "11.8469398169183"
      ],
      "text/latex": [
       "11.8469398169183"
      ],
      "text/markdown": [
       "11.8469398169183"
      ],
      "text/plain": [
       "[1] 11.84694"
      ]
     },
     "metadata": {},
     "output_type": "display_data"
    }
   ],
   "source": [
    "# predict\n",
    "yhat=predict(boost.boston, newdata=Boston[-train,],n.trees=5000)\n",
    "mean((yhat-Boston[-train,\"medv\"])^2)"
   ]
  },
  {
   "cell_type": "markdown",
   "metadata": {},
   "source": [
    "If we want to, we can perform boosting\n",
    "with a different value of the shrinkage parameter λ in (8.10). The default\n",
    "value is 0.001, but this is easily modified. Here we take λ = 0.2."
   ]
  },
  {
   "cell_type": "code",
   "execution_count": 11,
   "metadata": {},
   "outputs": [
    {
     "data": {
      "text/html": [
       "11.4231242657504"
      ],
      "text/latex": [
       "11.4231242657504"
      ],
      "text/markdown": [
       "11.4231242657504"
      ],
      "text/plain": [
       "[1] 11.42312"
      ]
     },
     "metadata": {},
     "output_type": "display_data"
    }
   ],
   "source": [
    "boost.boston=gbm(medv~.,data=Boston[train,],distribution=\"gaussian\",n.trees=5000,interaction.depth=4,shrinkage=0.2,verbose=F)\n",
    "yhat.boston=predict(boost.boston, newdata=Boston[-train,],n.trees=5000)\n",
    "mean((yhat.boston-Boston[-train,\"medv\"])^2)"
   ]
  }
 ],
 "metadata": {
  "kernelspec": {
   "display_name": "R",
   "language": "R",
   "name": "ir"
  },
  "language_info": {
   "codemirror_mode": "r",
   "file_extension": ".r",
   "mimetype": "text/x-r-source",
   "name": "R",
   "pygments_lexer": "r",
   "version": "3.4.1"
  }
 },
 "nbformat": 4,
 "nbformat_minor": 2
}
