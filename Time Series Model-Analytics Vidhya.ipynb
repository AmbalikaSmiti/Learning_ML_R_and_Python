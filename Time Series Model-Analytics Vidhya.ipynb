{
 "cells": [
  {
   "cell_type": "code",
   "execution_count": null,
   "metadata": {
    "collapsed": true
   },
   "outputs": [],
   "source": [
    "# time series model- analytics Vidhya\n",
    "data(AirPassengers)\n",
    "class(AirPassengers) \n",
    "start(AirPassengers) #start of time series\n",
    "end(AirPassengers) #end of time series\n",
    "frequency(AirPassengers) #The cycle of this time series is 12months in a year\n",
    "summary(AirPassengers)\n",
    "plot(AirPassengers) #plot the time series\n",
    "abline(reg=lm(AirPassengers~time(AirPassengers))) #fit a regression model\n",
    "cycle(AirPassengers) #This will print the cycle across years.\n",
    "plot(aggregate(AirPassengers,FUN=mean)) #This will aggregate the cycles and display a year on year trend\n",
    "boxplot(AirPassengers~cycle(AirPassengers)) #Box plot across months will give us a sense on seasonal effect\n",
    "install.packages(\"tseries\")\n",
    "library(tseries)\n",
    "adf.test(diff(log(AirPassengers)), alternative=\"stationary\", k=0) #Augmented Dickey-Fuller Test\n",
    "acf(log(AirPassengers))\n",
    "acf(diff(log(AirPassengers)))\n",
    "pacf(diff(log(AirPassengers)))\n",
    "(fit <- arima(log(AirPassengers), c(0, 1, 1),seasonal = list(order = c(0, 1, 1), period = 12)))\n",
    "pred <- predict(fit, n.ahead = 10*12)\n",
    "ts.plot(AirPassengers,2.718^pred$pred, log = \"y\", lty = c(1,3))\n",
    "#lty mean line type\n",
    "adf.test(AirPassengers)\n",
    "adf.test(log(AirPassengers))\n",
    "adf.test(diff(log(AirPassengers)))\n"
   ]
  },
  {
   "cell_type": "code",
   "execution_count": null,
   "metadata": {
    "collapsed": true
   },
   "outputs": [],
   "source": []
  }
 ],
 "metadata": {
  "kernelspec": {
   "display_name": "R",
   "language": "R",
   "name": "ir"
  },
  "language_info": {
   "codemirror_mode": "r",
   "file_extension": ".r",
   "mimetype": "text/x-r-source",
   "name": "R",
   "pygments_lexer": "r",
   "version": "3.4.1"
  }
 },
 "nbformat": 4,
 "nbformat_minor": 2
}
