{
 "cells": [
  {
   "cell_type": "markdown",
   "metadata": {},
   "source": [
    "# Classification Problem\n",
    "- Inspection Required or not required"
   ]
  },
  {
   "cell_type": "code",
   "execution_count": 1,
   "metadata": {
    "collapsed": true
   },
   "outputs": [],
   "source": [
    "setwd(\"D:/Downloads/Case Study - Quality Performance\")"
   ]
  },
  {
   "cell_type": "code",
   "execution_count": 6,
   "metadata": {
    "collapsed": true
   },
   "outputs": [],
   "source": [
    "#reading the csv file\n",
    "data=read.csv(\"Inspection_Data.csv\")"
   ]
  },
  {
   "cell_type": "code",
   "execution_count": 7,
   "metadata": {},
   "outputs": [
    {
     "data": {
      "text/html": [
       "<table>\n",
       "<thead><tr><th scope=col>DIVISION</th><th scope=col>SUB_DIVISION</th><th scope=col>PO_NUMBER</th><th scope=col>ITEM_SEQUENCE</th><th scope=col>ITEM_NUMBER</th><th scope=col>CUSTOMER_CODE</th><th scope=col>SUPPLIER_CODE</th><th scope=col>FACTORY_CODE</th><th scope=col>PRODUCTION_COUNTRY_CODE</th><th scope=col>PRODUCT_FAMILY</th><th scope=col>...</th><th scope=col>PRODUCT_GENDER</th><th scope=col>SCHEDULE_DATE</th><th scope=col>SHIPMENT_DATE</th><th scope=col>FOB</th><th scope=col>ORDER_QUANTITY</th><th scope=col>INSPECTION_NO</th><th scope=col>INSPECTION_DATE</th><th scope=col>FIRST_INSPECTION</th><th scope=col>INSPECTION_RESULT</th><th scope=col>INSPECTOR_CODE</th></tr></thead>\n",
       "<tbody>\n",
       "\t<tr><td>F1          </td><td>U1          </td><td>J4793       </td><td>1           </td><td>WKRU2291    </td><td>C1          </td><td>R14         </td><td>T10         </td><td>CHI         </td><td>Accessories </td><td>...         </td><td>Women       </td><td>6/22/2015   </td><td>6/19/2015   </td><td>34566.84    </td><td> 924        </td><td>1506-0-57959</td><td>6/17/2015   </td><td>Y           </td><td>Pass        </td><td>U46         </td></tr>\n",
       "\t<tr><td>F1          </td><td>U1          </td><td>J808        </td><td>1           </td><td>4JRU0269    </td><td>C1          </td><td>R13         </td><td>T22         </td><td>CHI         </td><td>Accessories </td><td>...         </td><td>Women       </td><td>2/15/2015   </td><td>2/10/2015   </td><td> 3552.00    </td><td> 222        </td><td>1502-0-46248</td><td>2/8/2015    </td><td>Y           </td><td>Pass        </td><td>U36         </td></tr>\n",
       "\t<tr><td>F1          </td><td>U1          </td><td>J6248       </td><td>1           </td><td>PXRU5837    </td><td>C1          </td><td>R17         </td><td>T23         </td><td>CHI         </td><td>Accessories </td><td>...         </td><td>Women       </td><td>9/14/2015   </td><td>9/10/2015   </td><td>  540.72    </td><td>   4        </td><td>1509-0-23929</td><td>9/8/2015    </td><td>Y           </td><td>Pass        </td><td>U43         </td></tr>\n",
       "\t<tr><td>F1          </td><td>U1          </td><td>J3066       </td><td>1           </td><td>PXRU5576    </td><td>C1          </td><td>R17         </td><td>T23         </td><td>CHI         </td><td>Accessories </td><td>...         </td><td>Women       </td><td>6/8/2015    </td><td>6/2/2015    </td><td>12804.56    </td><td> 184        </td><td>1505-0-67724</td><td>5/25/2015   </td><td>Y           </td><td>Pass        </td><td>U43         </td></tr>\n",
       "\t<tr><td>F1          </td><td>U1          </td><td>J2439       </td><td>1           </td><td>WKRU3013    </td><td>C1          </td><td>R3          </td><td>T6          </td><td>CHI         </td><td>Accessories </td><td>...         </td><td>Women       </td><td>4/4/2015    </td><td>4/13/2015   </td><td>55110.00    </td><td>1000        </td><td>1503-0-40641</td><td>3/17/2015   </td><td>Y           </td><td>Pass        </td><td>U42         </td></tr>\n",
       "\t<tr><td>F1          </td><td>U1          </td><td>J1022       </td><td>1           </td><td>PXRU5386    </td><td>C1          </td><td>R15         </td><td>T4          </td><td>CHI         </td><td>Accessories </td><td>...         </td><td>Women       </td><td>2/23/2015   </td><td>2/10/2015   </td><td>41348.92    </td><td>1069        </td><td>1502-0-19007</td><td>2/3/2015    </td><td>Y           </td><td>Pass        </td><td>U9          </td></tr>\n",
       "</tbody>\n",
       "</table>\n"
      ],
      "text/latex": [
       "\\begin{tabular}{r|llllllllllllllllllllll}\n",
       " DIVISION & SUB\\_DIVISION & PO\\_NUMBER & ITEM\\_SEQUENCE & ITEM\\_NUMBER & CUSTOMER\\_CODE & SUPPLIER\\_CODE & FACTORY\\_CODE & PRODUCTION\\_COUNTRY\\_CODE & PRODUCT\\_FAMILY & ... & PRODUCT\\_GENDER & SCHEDULE\\_DATE & SHIPMENT\\_DATE & FOB & ORDER\\_QUANTITY & INSPECTION\\_NO & INSPECTION\\_DATE & FIRST\\_INSPECTION & INSPECTION\\_RESULT & INSPECTOR\\_CODE\\\\\n",
       "\\hline\n",
       "\t F1           & U1           & J4793        & 1            & WKRU2291     & C1           & R14          & T10          & CHI          & Accessories  & ...          & Women        & 6/22/2015    & 6/19/2015    & 34566.84     &  924         & 1506-0-57959 & 6/17/2015    & Y            & Pass         & U46         \\\\\n",
       "\t F1           & U1           & J808         & 1            & 4JRU0269     & C1           & R13          & T22          & CHI          & Accessories  & ...          & Women        & 2/15/2015    & 2/10/2015    &  3552.00     &  222         & 1502-0-46248 & 2/8/2015     & Y            & Pass         & U36         \\\\\n",
       "\t F1           & U1           & J6248        & 1            & PXRU5837     & C1           & R17          & T23          & CHI          & Accessories  & ...          & Women        & 9/14/2015    & 9/10/2015    &   540.72     &    4         & 1509-0-23929 & 9/8/2015     & Y            & Pass         & U43         \\\\\n",
       "\t F1           & U1           & J3066        & 1            & PXRU5576     & C1           & R17          & T23          & CHI          & Accessories  & ...          & Women        & 6/8/2015     & 6/2/2015     & 12804.56     &  184         & 1505-0-67724 & 5/25/2015    & Y            & Pass         & U43         \\\\\n",
       "\t F1           & U1           & J2439        & 1            & WKRU3013     & C1           & R3           & T6           & CHI          & Accessories  & ...          & Women        & 4/4/2015     & 4/13/2015    & 55110.00     & 1000         & 1503-0-40641 & 3/17/2015    & Y            & Pass         & U42         \\\\\n",
       "\t F1           & U1           & J1022        & 1            & PXRU5386     & C1           & R15          & T4           & CHI          & Accessories  & ...          & Women        & 2/23/2015    & 2/10/2015    & 41348.92     & 1069         & 1502-0-19007 & 2/3/2015     & Y            & Pass         & U9          \\\\\n",
       "\\end{tabular}\n"
      ],
      "text/markdown": [
       "\n",
       "DIVISION | SUB_DIVISION | PO_NUMBER | ITEM_SEQUENCE | ITEM_NUMBER | CUSTOMER_CODE | SUPPLIER_CODE | FACTORY_CODE | PRODUCTION_COUNTRY_CODE | PRODUCT_FAMILY | ... | PRODUCT_GENDER | SCHEDULE_DATE | SHIPMENT_DATE | FOB | ORDER_QUANTITY | INSPECTION_NO | INSPECTION_DATE | FIRST_INSPECTION | INSPECTION_RESULT | INSPECTOR_CODE | \n",
       "|---|---|---|---|---|---|\n",
       "| F1           | U1           | J4793        | 1            | WKRU2291     | C1           | R14          | T10          | CHI          | Accessories  | ...          | Women        | 6/22/2015    | 6/19/2015    | 34566.84     |  924         | 1506-0-57959 | 6/17/2015    | Y            | Pass         | U46          | \n",
       "| F1           | U1           | J808         | 1            | 4JRU0269     | C1           | R13          | T22          | CHI          | Accessories  | ...          | Women        | 2/15/2015    | 2/10/2015    |  3552.00     |  222         | 1502-0-46248 | 2/8/2015     | Y            | Pass         | U36          | \n",
       "| F1           | U1           | J6248        | 1            | PXRU5837     | C1           | R17          | T23          | CHI          | Accessories  | ...          | Women        | 9/14/2015    | 9/10/2015    |   540.72     |    4         | 1509-0-23929 | 9/8/2015     | Y            | Pass         | U43          | \n",
       "| F1           | U1           | J3066        | 1            | PXRU5576     | C1           | R17          | T23          | CHI          | Accessories  | ...          | Women        | 6/8/2015     | 6/2/2015     | 12804.56     |  184         | 1505-0-67724 | 5/25/2015    | Y            | Pass         | U43          | \n",
       "| F1           | U1           | J2439        | 1            | WKRU3013     | C1           | R3           | T6           | CHI          | Accessories  | ...          | Women        | 4/4/2015     | 4/13/2015    | 55110.00     | 1000         | 1503-0-40641 | 3/17/2015    | Y            | Pass         | U42          | \n",
       "| F1           | U1           | J1022        | 1            | PXRU5386     | C1           | R15          | T4           | CHI          | Accessories  | ...          | Women        | 2/23/2015    | 2/10/2015    | 41348.92     | 1069         | 1502-0-19007 | 2/3/2015     | Y            | Pass         | U9           | \n",
       "\n",
       "\n"
      ],
      "text/plain": [
       "  DIVISION SUB_DIVISION PO_NUMBER ITEM_SEQUENCE ITEM_NUMBER CUSTOMER_CODE\n",
       "1 F1       U1           J4793     1             WKRU2291    C1           \n",
       "2 F1       U1           J808      1             4JRU0269    C1           \n",
       "3 F1       U1           J6248     1             PXRU5837    C1           \n",
       "4 F1       U1           J3066     1             PXRU5576    C1           \n",
       "5 F1       U1           J2439     1             WKRU3013    C1           \n",
       "6 F1       U1           J1022     1             PXRU5386    C1           \n",
       "  SUPPLIER_CODE FACTORY_CODE PRODUCTION_COUNTRY_CODE PRODUCT_FAMILY ...\n",
       "1 R14           T10          CHI                     Accessories    ...\n",
       "2 R13           T22          CHI                     Accessories    ...\n",
       "3 R17           T23          CHI                     Accessories    ...\n",
       "4 R17           T23          CHI                     Accessories    ...\n",
       "5 R3            T6           CHI                     Accessories    ...\n",
       "6 R15           T4           CHI                     Accessories    ...\n",
       "  PRODUCT_GENDER SCHEDULE_DATE SHIPMENT_DATE FOB      ORDER_QUANTITY\n",
       "1 Women          6/22/2015     6/19/2015     34566.84  924          \n",
       "2 Women          2/15/2015     2/10/2015      3552.00  222          \n",
       "3 Women          9/14/2015     9/10/2015       540.72    4          \n",
       "4 Women          6/8/2015      6/2/2015      12804.56  184          \n",
       "5 Women          4/4/2015      4/13/2015     55110.00 1000          \n",
       "6 Women          2/23/2015     2/10/2015     41348.92 1069          \n",
       "  INSPECTION_NO INSPECTION_DATE FIRST_INSPECTION INSPECTION_RESULT\n",
       "1 1506-0-57959  6/17/2015       Y                Pass             \n",
       "2 1502-0-46248  2/8/2015        Y                Pass             \n",
       "3 1509-0-23929  9/8/2015        Y                Pass             \n",
       "4 1505-0-67724  5/25/2015       Y                Pass             \n",
       "5 1503-0-40641  3/17/2015       Y                Pass             \n",
       "6 1502-0-19007  2/3/2015        Y                Pass             \n",
       "  INSPECTOR_CODE\n",
       "1 U46           \n",
       "2 U36           \n",
       "3 U43           \n",
       "4 U43           \n",
       "5 U42           \n",
       "6 U9            "
      ]
     },
     "metadata": {},
     "output_type": "display_data"
    }
   ],
   "source": [
    "#check few data points\n",
    "head(data)"
   ]
  },
  {
   "cell_type": "code",
   "execution_count": 8,
   "metadata": {},
   "outputs": [
    {
     "data": {
      "text/html": [
       "<ol class=list-inline>\n",
       "\t<li>'DIVISION'</li>\n",
       "\t<li>'SUB_DIVISION'</li>\n",
       "\t<li>'PO_NUMBER'</li>\n",
       "\t<li>'ITEM_SEQUENCE'</li>\n",
       "\t<li>'ITEM_NUMBER'</li>\n",
       "\t<li>'CUSTOMER_CODE'</li>\n",
       "\t<li>'SUPPLIER_CODE'</li>\n",
       "\t<li>'FACTORY_CODE'</li>\n",
       "\t<li>'PRODUCTION_COUNTRY_CODE'</li>\n",
       "\t<li>'PRODUCT_FAMILY'</li>\n",
       "\t<li>'PRODUCT_GROUP'</li>\n",
       "\t<li>'PRODUCT_SUBGROUP'</li>\n",
       "\t<li>'PRODUCT_GENDER'</li>\n",
       "\t<li>'SCHEDULE_DATE'</li>\n",
       "\t<li>'SHIPMENT_DATE'</li>\n",
       "\t<li>'FOB'</li>\n",
       "\t<li>'ORDER_QUANTITY'</li>\n",
       "\t<li>'INSPECTION_NO'</li>\n",
       "\t<li>'INSPECTION_DATE'</li>\n",
       "\t<li>'FIRST_INSPECTION'</li>\n",
       "\t<li>'INSPECTION_RESULT'</li>\n",
       "\t<li>'INSPECTOR_CODE'</li>\n",
       "</ol>\n"
      ],
      "text/latex": [
       "\\begin{enumerate*}\n",
       "\\item 'DIVISION'\n",
       "\\item 'SUB\\_DIVISION'\n",
       "\\item 'PO\\_NUMBER'\n",
       "\\item 'ITEM\\_SEQUENCE'\n",
       "\\item 'ITEM\\_NUMBER'\n",
       "\\item 'CUSTOMER\\_CODE'\n",
       "\\item 'SUPPLIER\\_CODE'\n",
       "\\item 'FACTORY\\_CODE'\n",
       "\\item 'PRODUCTION\\_COUNTRY\\_CODE'\n",
       "\\item 'PRODUCT\\_FAMILY'\n",
       "\\item 'PRODUCT\\_GROUP'\n",
       "\\item 'PRODUCT\\_SUBGROUP'\n",
       "\\item 'PRODUCT\\_GENDER'\n",
       "\\item 'SCHEDULE\\_DATE'\n",
       "\\item 'SHIPMENT\\_DATE'\n",
       "\\item 'FOB'\n",
       "\\item 'ORDER\\_QUANTITY'\n",
       "\\item 'INSPECTION\\_NO'\n",
       "\\item 'INSPECTION\\_DATE'\n",
       "\\item 'FIRST\\_INSPECTION'\n",
       "\\item 'INSPECTION\\_RESULT'\n",
       "\\item 'INSPECTOR\\_CODE'\n",
       "\\end{enumerate*}\n"
      ],
      "text/markdown": [
       "1. 'DIVISION'\n",
       "2. 'SUB_DIVISION'\n",
       "3. 'PO_NUMBER'\n",
       "4. 'ITEM_SEQUENCE'\n",
       "5. 'ITEM_NUMBER'\n",
       "6. 'CUSTOMER_CODE'\n",
       "7. 'SUPPLIER_CODE'\n",
       "8. 'FACTORY_CODE'\n",
       "9. 'PRODUCTION_COUNTRY_CODE'\n",
       "10. 'PRODUCT_FAMILY'\n",
       "11. 'PRODUCT_GROUP'\n",
       "12. 'PRODUCT_SUBGROUP'\n",
       "13. 'PRODUCT_GENDER'\n",
       "14. 'SCHEDULE_DATE'\n",
       "15. 'SHIPMENT_DATE'\n",
       "16. 'FOB'\n",
       "17. 'ORDER_QUANTITY'\n",
       "18. 'INSPECTION_NO'\n",
       "19. 'INSPECTION_DATE'\n",
       "20. 'FIRST_INSPECTION'\n",
       "21. 'INSPECTION_RESULT'\n",
       "22. 'INSPECTOR_CODE'\n",
       "\n",
       "\n"
      ],
      "text/plain": [
       " [1] \"DIVISION\"                \"SUB_DIVISION\"           \n",
       " [3] \"PO_NUMBER\"               \"ITEM_SEQUENCE\"          \n",
       " [5] \"ITEM_NUMBER\"             \"CUSTOMER_CODE\"          \n",
       " [7] \"SUPPLIER_CODE\"           \"FACTORY_CODE\"           \n",
       " [9] \"PRODUCTION_COUNTRY_CODE\" \"PRODUCT_FAMILY\"         \n",
       "[11] \"PRODUCT_GROUP\"           \"PRODUCT_SUBGROUP\"       \n",
       "[13] \"PRODUCT_GENDER\"          \"SCHEDULE_DATE\"          \n",
       "[15] \"SHIPMENT_DATE\"           \"FOB\"                    \n",
       "[17] \"ORDER_QUANTITY\"          \"INSPECTION_NO\"          \n",
       "[19] \"INSPECTION_DATE\"         \"FIRST_INSPECTION\"       \n",
       "[21] \"INSPECTION_RESULT\"       \"INSPECTOR_CODE\"         "
      ]
     },
     "metadata": {},
     "output_type": "display_data"
    }
   ],
   "source": [
    "#data summary\n",
    "names(data)\n",
    "#summary(data)\n",
    "data=data[,-c(1,3,4,5,6,10,14,15,18,19)]\n"
   ]
  },
  {
   "cell_type": "code",
   "execution_count": 13,
   "metadata": {},
   "outputs": [
    {
     "data": {
      "text/html": [
       "<ol class=list-inline>\n",
       "\t<li>'SUB_DIVISION'</li>\n",
       "\t<li>'SUPPLIER_CODE'</li>\n",
       "\t<li>'FACTORY_CODE'</li>\n",
       "\t<li>'PRODUCTION_COUNTRY_CODE'</li>\n",
       "\t<li>'PRODUCT_GROUP'</li>\n",
       "\t<li>'PRODUCT_SUBGROUP'</li>\n",
       "\t<li>'PRODUCT_GENDER'</li>\n",
       "\t<li>'FOB'</li>\n",
       "\t<li>'ORDER_QUANTITY'</li>\n",
       "\t<li>'FIRST_INSPECTION'</li>\n",
       "\t<li>'INSPECTION_RESULT'</li>\n",
       "\t<li>'INSPECTOR_CODE'</li>\n",
       "</ol>\n"
      ],
      "text/latex": [
       "\\begin{enumerate*}\n",
       "\\item 'SUB\\_DIVISION'\n",
       "\\item 'SUPPLIER\\_CODE'\n",
       "\\item 'FACTORY\\_CODE'\n",
       "\\item 'PRODUCTION\\_COUNTRY\\_CODE'\n",
       "\\item 'PRODUCT\\_GROUP'\n",
       "\\item 'PRODUCT\\_SUBGROUP'\n",
       "\\item 'PRODUCT\\_GENDER'\n",
       "\\item 'FOB'\n",
       "\\item 'ORDER\\_QUANTITY'\n",
       "\\item 'FIRST\\_INSPECTION'\n",
       "\\item 'INSPECTION\\_RESULT'\n",
       "\\item 'INSPECTOR\\_CODE'\n",
       "\\end{enumerate*}\n"
      ],
      "text/markdown": [
       "1. 'SUB_DIVISION'\n",
       "2. 'SUPPLIER_CODE'\n",
       "3. 'FACTORY_CODE'\n",
       "4. 'PRODUCTION_COUNTRY_CODE'\n",
       "5. 'PRODUCT_GROUP'\n",
       "6. 'PRODUCT_SUBGROUP'\n",
       "7. 'PRODUCT_GENDER'\n",
       "8. 'FOB'\n",
       "9. 'ORDER_QUANTITY'\n",
       "10. 'FIRST_INSPECTION'\n",
       "11. 'INSPECTION_RESULT'\n",
       "12. 'INSPECTOR_CODE'\n",
       "\n",
       "\n"
      ],
      "text/plain": [
       " [1] \"SUB_DIVISION\"            \"SUPPLIER_CODE\"          \n",
       " [3] \"FACTORY_CODE\"            \"PRODUCTION_COUNTRY_CODE\"\n",
       " [5] \"PRODUCT_GROUP\"           \"PRODUCT_SUBGROUP\"       \n",
       " [7] \"PRODUCT_GENDER\"          \"FOB\"                    \n",
       " [9] \"ORDER_QUANTITY\"          \"FIRST_INSPECTION\"       \n",
       "[11] \"INSPECTION_RESULT\"       \"INSPECTOR_CODE\"         "
      ]
     },
     "metadata": {},
     "output_type": "display_data"
    },
    {
     "data": {
      "text/html": [
       "28421"
      ],
      "text/latex": [
       "28421"
      ],
      "text/markdown": [
       "28421"
      ],
      "text/plain": [
       "[1] 28421"
      ]
     },
     "metadata": {},
     "output_type": "display_data"
    },
    {
     "data": {
      "text/html": [
       "12"
      ],
      "text/latex": [
       "12"
      ],
      "text/markdown": [
       "12"
      ],
      "text/plain": [
       "[1] 12"
      ]
     },
     "metadata": {},
     "output_type": "display_data"
    },
    {
     "data": {
      "text/html": [
       "'factor'"
      ],
      "text/latex": [
       "'factor'"
      ],
      "text/markdown": [
       "'factor'"
      ],
      "text/plain": [
       "[1] \"factor\""
      ]
     },
     "metadata": {},
     "output_type": "display_data"
    }
   ],
   "source": [
    "names(data)\n",
    "# summary(data)\n",
    "nrow(data)\n",
    "ncol(data)\n",
    "# output metric\n",
    "y=data[,11]\n",
    "class(y)"
   ]
  },
  {
   "cell_type": "code",
   "execution_count": 14,
   "metadata": {},
   "outputs": [
    {
     "data": {
      "text/html": [
       "<ol class=list-inline>\n",
       "\t<li>'Fail'</li>\n",
       "\t<li>'Pass'</li>\n",
       "</ol>\n"
      ],
      "text/latex": [
       "\\begin{enumerate*}\n",
       "\\item 'Fail'\n",
       "\\item 'Pass'\n",
       "\\end{enumerate*}\n"
      ],
      "text/markdown": [
       "1. 'Fail'\n",
       "2. 'Pass'\n",
       "\n",
       "\n"
      ],
      "text/plain": [
       "[1] \"Fail\" \"Pass\""
      ]
     },
     "metadata": {},
     "output_type": "display_data"
    },
    {
     "data": {
      "text/html": [
       "<ol class=list-inline>\n",
       "\t<li>'0'</li>\n",
       "\t<li>'1'</li>\n",
       "</ol>\n"
      ],
      "text/latex": [
       "\\begin{enumerate*}\n",
       "\\item '0'\n",
       "\\item '1'\n",
       "\\end{enumerate*}\n"
      ],
      "text/markdown": [
       "1. '0'\n",
       "2. '1'\n",
       "\n",
       "\n"
      ],
      "text/plain": [
       "[1] \"0\" \"1\""
      ]
     },
     "metadata": {},
     "output_type": "display_data"
    },
    {
     "data": {
      "text/html": [
       "<ol class=list-inline>\n",
       "\t<li>1</li>\n",
       "\t<li>1</li>\n",
       "\t<li>1</li>\n",
       "\t<li>1</li>\n",
       "\t<li>1</li>\n",
       "\t<li>1</li>\n",
       "</ol>\n"
      ],
      "text/latex": [
       "\\begin{enumerate*}\n",
       "\\item 1\n",
       "\\item 1\n",
       "\\item 1\n",
       "\\item 1\n",
       "\\item 1\n",
       "\\item 1\n",
       "\\end{enumerate*}\n"
      ],
      "text/markdown": [
       "1. 1\n",
       "2. 1\n",
       "3. 1\n",
       "4. 1\n",
       "5. 1\n",
       "6. 1\n",
       "\n",
       "\n"
      ],
      "text/plain": [
       "[1] 1 1 1 1 1 1\n",
       "Levels: 0 1"
      ]
     },
     "metadata": {},
     "output_type": "display_data"
    }
   ],
   "source": [
    "# relable Y- Pass to 1 and Fail to 0\n",
    "levels(y)\n",
    "levels(y)<-c(0,1)\n",
    "levels(y)\n",
    "head(y)"
   ]
  },
  {
   "cell_type": "code",
   "execution_count": 15,
   "metadata": {
    "scrolled": true
   },
   "outputs": [
    {
     "name": "stdout",
     "output_type": "stream",
     "text": [
      "'data.frame':\t28421 obs. of  12 variables:\n",
      " $ SUB_DIVISION           : Factor w/ 2 levels \"U1\",\"U2\": 1 1 1 1 1 1 1 1 1 1 ...\n",
      " $ SUPPLIER_CODE          : Factor w/ 20 levels \"R1\",\"R10\",\"R11\",..: 6 5 9 9 14 7 7 7 9 6 ...\n",
      " $ FACTORY_CODE           : Factor w/ 34 levels \"T1\",\"T10\",\"T11\",..: 2 15 16 16 31 29 29 29 18 22 ...\n",
      " $ PRODUCTION_COUNTRY_CODE: Factor w/ 5 levels \"BAN\",\"CHI\",\"INA\",..: 2 2 2 2 2 2 2 2 2 5 ...\n",
      " $ PRODUCT_GROUP          : Factor w/ 2 levels \"Bags\",\"Handbag\": 1 1 1 1 1 1 1 1 1 1 ...\n",
      " $ PRODUCT_SUBGROUP       : Factor w/ 8 levels \"Audio / Visual Equipment Bag\",..: 6 4 6 6 6 6 6 6 6 6 ...\n",
      " $ PRODUCT_GENDER         : Factor w/ 3 levels \"Men\",\"Unisex\",..: 3 3 3 3 3 3 3 3 3 3 ...\n",
      " $ FOB                    : num  34567 3552 541 12805 55110 ...\n",
      " $ ORDER_QUANTITY         : int  924 222 4 184 1000 1069 263 550 27 24 ...\n",
      " $ FIRST_INSPECTION       : Factor w/ 2 levels \"N\",\"Y\": 2 2 2 2 2 2 2 2 2 2 ...\n",
      " $ INSPECTION_RESULT      : Factor w/ 2 levels \"Fail\",\"Pass\": 2 2 2 2 2 2 2 2 2 2 ...\n",
      " $ INSPECTOR_CODE         : Factor w/ 50 levels \"U1\",\"U10\",\"U11\",..: 41 30 38 38 37 50 50 40 47 7 ...\n"
     ]
    }
   ],
   "source": [
    "# Exploring the data\n",
    "#summary(data)\n",
    "str(data)"
   ]
  },
  {
   "cell_type": "code",
   "execution_count": 16,
   "metadata": {},
   "outputs": [],
   "source": [
    "# Import tree library\n",
    "library(tree)"
   ]
  },
  {
   "cell_type": "code",
   "execution_count": 24,
   "metadata": {},
   "outputs": [
    {
     "data": {
      "text/plain": [
       "\n",
       "Classification tree:\n",
       "tree(formula = INSPECTION_RESULT ~ ., data = data)\n",
       "Variables actually used in tree construction:\n",
       "[1] \"SUPPLIER_CODE\"           \"PRODUCTION_COUNTRY_CODE\"\n",
       "Number of terminal nodes:  5 \n",
       "Residual mean deviance:  0.2715 = 7714 / 28420 \n",
       "Misclassification error rate: 0.04201 = 1194 / 28421 "
      ]
     },
     "metadata": {},
     "output_type": "display_data"
    }
   ],
   "source": [
    "# tree() function to fit a classification tree \n",
    "data=data[,-c(3,12)]\n",
    "tree.data=tree(INSPECTION_RESULT~.,data)\n",
    "summary(tree.data)"
   ]
  },
  {
   "cell_type": "raw",
   "metadata": {},
   "source": [
    "A small deviance indicates a tree that provides a good fit to the (training) data. \n",
    "We use the plot() function to display the tree structure, and the text() function to display the node labels. The argument\n",
    "pretty=0 instructs R to include the category names for any qualitative predictors, rather than simply displaying a letter for each category.\n"
   ]
  },
  {
   "cell_type": "code",
   "execution_count": 25,
   "metadata": {},
   "outputs": [
    {
     "data": {
      "image/png": "[encoded data removed]",
      "text/plain": [
       "plot without title"
      ]
     },
     "metadata": {},
     "output_type": "display_data"
    }
   ],
   "source": [
    "plot(tree.data)\n",
    "text(tree.data,pretty=0)"
   ]
  },
  {
   "cell_type": "code",
   "execution_count": 29,
   "metadata": {},
   "outputs": [
    {
     "data": {
      "text/plain": [
       "         y.test\n",
       "tree.pred  Fail  Pass\n",
       "     Fail     0     0\n",
       "     Pass   632 13789"
      ]
     },
     "metadata": {},
     "output_type": "display_data"
    }
   ],
   "source": [
    "# spltting training and test data\n",
    "set.seed(2)\n",
    "train=sample(1:nrow(data),14000)\n",
    "data.test=data[-train,]\n",
    "y.test=data$INSPECTION_RESULT[-train]\n",
    "tree.data=tree(INSPECTION_RESULT~.,data, subset=train)\n",
    "tree.pred=predict(tree.data, data.test, type='class')\n",
    "table(tree.pred, y.test)"
   ]
  },
  {
   "cell_type": "code",
   "execution_count": 31,
   "metadata": {},
   "outputs": [
    {
     "data": {
      "text/html": [
       "0.485169416980402"
      ],
      "text/latex": [
       "0.485169416980402"
      ],
      "text/markdown": [
       "0.485169416980402"
      ],
      "text/plain": [
       "[1] 0.4851694"
      ]
     },
     "metadata": {},
     "output_type": "display_data"
    }
   ],
   "source": [
    "13789/nrow(data)"
   ]
  },
  {
   "cell_type": "code",
   "execution_count": null,
   "metadata": {
    "collapsed": true
   },
   "outputs": [],
   "source": []
  },
  {
   "cell_type": "code",
   "execution_count": null,
   "metadata": {
    "collapsed": true
   },
   "outputs": [],
   "source": []
  },
  {
   "cell_type": "code",
   "execution_count": null,
   "metadata": {
    "collapsed": true
   },
   "outputs": [],
   "source": []
  },
  {
   "cell_type": "code",
   "execution_count": null,
   "metadata": {
    "collapsed": true,
    "scrolled": false
   },
   "outputs": [],
   "source": [
    "# visually look at the dataset\n",
    "library(ggplot2)\n",
    "qplot(PRODUCT_SUBGROUP  ,ORDER_QUANTITY,colour=INSPECTION_RESULT,data=data)"
   ]
  },
  {
   "cell_type": "code",
   "execution_count": 5,
   "metadata": {},
   "outputs": [
    {
     "name": "stderr",
     "output_type": "stream",
     "text": [
      "Loading required package: lattice\n",
      "Loading required package: ggplot2\n",
      "Warning message:\n",
      "\"package 'ggplot2' was built under R version 3.4.3\""
     ]
    }
   ],
   "source": [
    "# importing the library\n",
    "library(rpart)\n",
    "library(caret)"
   ]
  },
  {
   "cell_type": "code",
   "execution_count": 6,
   "metadata": {
    "collapsed": true
   },
   "outputs": [],
   "source": [
    "#create training and validation sets\n",
    "train.flag <- createDataPartition(y=data$INSPECTION_RESULT,p=0.5,list=FALSE)\n",
    "training <- data[train.flag,]\n",
    "Validation <- data[-train.flag,]"
   ]
  },
  {
   "cell_type": "markdown",
   "metadata": {},
   "source": [
    "## Building a CART model "
   ]
  },
  {
   "cell_type": "code",
   "execution_count": 7,
   "metadata": {},
   "outputs": [
    {
     "name": "stderr",
     "output_type": "stream",
     "text": [
      "IOPub data rate exceeded.\n",
      "The notebook server will temporarily stop sending output\n",
      "to the client in order to avoid crashing it.\n",
      "To change this limit, set the config variable\n",
      "`--NotebookApp.iopub_data_rate_limit`.\n"
     ]
    }
   ],
   "source": [
    "modfit <- train(INSPECTION_RESULT~.,method=\"rpart\",data=training) \n",
    "summary(modfit)"
   ]
  },
  {
   "cell_type": "code",
   "execution_count": null,
   "metadata": {},
   "outputs": [
    {
     "name": "stderr",
     "output_type": "stream",
     "text": [
      "IOPub data rate exceeded.\n",
      "The notebook server will temporarily stop sending output\n",
      "to the client in order to avoid crashing it.\n",
      "To change this limit, set the config variable\n",
      "`--NotebookApp.iopub_data_rate_limit`.\n",
      "Warning message:\n",
      "\"package 'rattle' was built under R version 3.4.3\"Warning message:\n",
      "\"Failed to load RGtk2 dynamic library, attempting to install it.\"Please install GTK+ from http://ftp.gnome.org/pub/gnome/binaries/win64/gtk+/2.22/gtk+-bundle_2.22.1-20101229_win64.zip\n",
      "If the package still does not load, please ensure that GTK+ is installed and that it is on your PATH environment variable\n",
      "IN ANY CASE, RESTART R BEFORE TRYING TO LOAD THE PACKAGE AGAIN\n",
      "Warning message:\n",
      "\"Failed to load RGtk2 dynamic library, attempting to install it.\"Please install GTK+ from http://ftp.gnome.org/pub/gnome/binaries/win64/gtk+/2.22/gtk+-bundle_2.22.1-20101229_win64.zip\n",
      "If the package still does not load, please ensure that GTK+ is installed and that it is on your PATH environment variable\n",
      "IN ANY CASE, RESTART R BEFORE TRYING TO LOAD THE PACKAGE AGAIN\n",
      "Warning message:\n",
      "\"Failed to load RGtk2 dynamic library, attempting to install it.\"Please install GTK+ from http://ftp.gnome.org/pub/gnome/binaries/win64/gtk+/2.22/gtk+-bundle_2.22.1-20101229_win64.zip\n",
      "If the package still does not load, please ensure that GTK+ is installed and that it is on your PATH environment variable\n",
      "IN ANY CASE, RESTART R BEFORE TRYING TO LOAD THE PACKAGE AGAIN\n",
      "Warning message:\n",
      "\"Failed to load RGtk2 dynamic library, attempting to install it.\"Please install GTK+ from http://ftp.gnome.org/pub/gnome/binaries/win64/gtk+/2.22/gtk+-bundle_2.22.1-20101229_win64.zip\n",
      "If the package still does not load, please ensure that GTK+ is installed and that it is on your PATH environment variable\n",
      "IN ANY CASE, RESTART R BEFORE TRYING TO LOAD THE PACKAGE AGAIN\n",
      "Warning message:\n",
      "\"Failed to load RGtk2 dynamic library, attempting to install it.\"Please install GTK+ from http://ftp.gnome.org/pub/gnome/binaries/win64/gtk+/2.22/gtk+-bundle_2.22.1-20101229_win64.zip\n",
      "If the package still does not load, please ensure that GTK+ is installed and that it is on your PATH environment variable\n",
      "IN ANY CASE, RESTART R BEFORE TRYING TO LOAD THE PACKAGE AGAIN\n",
      "Warning message:\n",
      "\"Failed to load RGtk2 dynamic library, attempting to install it.\"Please install GTK+ from http://ftp.gnome.org/pub/gnome/binaries/win64/gtk+/2.22/gtk+-bundle_2.22.1-20101229_win64.zip\n",
      "If the package still does not load, please ensure that GTK+ is installed and that it is on your PATH environment variable\n",
      "IN ANY CASE, RESTART R BEFORE TRYING TO LOAD THE PACKAGE AGAIN\n",
      "Warning message:\n",
      "\"Failed to load RGtk2 dynamic library, attempting to install it.\"Please install GTK+ from http://ftp.gnome.org/pub/gnome/binaries/win64/gtk+/2.22/gtk+-bundle_2.22.1-20101229_win64.zip\n",
      "If the package still does not load, please ensure that GTK+ is installed and that it is on your PATH environment variable\n",
      "IN ANY CASE, RESTART R BEFORE TRYING TO LOAD THE PACKAGE AGAIN\n",
      "Warning message:\n",
      "\"Failed to load RGtk2 dynamic library, attempting to install it.\"Please install GTK+ from http://ftp.gnome.org/pub/gnome/binaries/win64/gtk+/2.22/gtk+-bundle_2.22.1-20101229_win64.zip\n",
      "If the package still does not load, please ensure that GTK+ is installed and that it is on your PATH environment variable\n",
      "IN ANY CASE, RESTART R BEFORE TRYING TO LOAD THE PACKAGE AGAIN\n",
      "Warning message:\n",
      "\"Failed to load RGtk2 dynamic library, attempting to install it.\"Please install GTK+ from http://ftp.gnome.org/pub/gnome/binaries/win64/gtk+/2.22/gtk+-bundle_2.22.1-20101229_win64.zip\n",
      "If the package still does not load, please ensure that GTK+ is installed and that it is on your PATH environment variable\n",
      "IN ANY CASE, RESTART R BEFORE TRYING TO LOAD THE PACKAGE AGAIN\n",
      "Warning message:\n",
      "\"Failed to load RGtk2 dynamic library, attempting to install it.\"Please install GTK+ from http://ftp.gnome.org/pub/gnome/binaries/win64/gtk+/2.22/gtk+-bundle_2.22.1-20101229_win64.zip\n",
      "If the package still does not load, please ensure that GTK+ is installed and that it is on your PATH environment variable\n",
      "IN ANY CASE, RESTART R BEFORE TRYING TO LOAD THE PACKAGE AGAIN\n",
      "Warning message:\n",
      "\"Failed to load RGtk2 dynamic library, attempting to install it.\"Please install GTK+ from http://ftp.gnome.org/pub/gnome/binaries/win64/gtk+/2.22/gtk+-bundle_2.22.1-20101229_win64.zip\n",
      "If the package still does not load, please ensure that GTK+ is installed and that it is on your PATH environment variable\n",
      "IN ANY CASE, RESTART R BEFORE TRYING TO LOAD THE PACKAGE AGAIN\n",
      "Warning message:\n",
      "\"Failed to load RGtk2 dynamic library, attempting to install it.\"Please install GTK+ from http://ftp.gnome.org/pub/gnome/binaries/win64/gtk+/2.22/gtk+-bundle_2.22.1-20101229_win64.zip\n",
      "If the package still does not load, please ensure that GTK+ is installed and that it is on your PATH environment variable\n",
      "IN ANY CASE, RESTART R BEFORE TRYING TO LOAD THE PACKAGE AGAIN\n",
      "Warning message:\n",
      "\"Failed to load RGtk2 dynamic library, attempting to install it.\"Please install GTK+ from http://ftp.gnome.org/pub/gnome/binaries/win64/gtk+/2.22/gtk+-bundle_2.22.1-20101229_win64.zip\n",
      "If the package still does not load, please ensure that GTK+ is installed and that it is on your PATH environment variable\n",
      "IN ANY CASE, RESTART R BEFORE TRYING TO LOAD THE PACKAGE AGAIN\n",
      "Warning message:\n",
      "\"Failed to load RGtk2 dynamic library, attempting to install it.\"Please install GTK+ from http://ftp.gnome.org/pub/gnome/binaries/win64/gtk+/2.22/gtk+-bundle_2.22.1-20101229_win64.zip\n",
      "If the package still does not load, please ensure that GTK+ is installed and that it is on your PATH environment variable\n",
      "IN ANY CASE, RESTART R BEFORE TRYING TO LOAD THE PACKAGE AGAIN\n",
      "Warning message:\n",
      "\"Failed to load RGtk2 dynamic library, attempting to install it.\"Please install GTK+ from http://ftp.gnome.org/pub/gnome/binaries/win64/gtk+/2.22/gtk+-bundle_2.22.1-20101229_win64.zip\n",
      "If the package still does not load, please ensure that GTK+ is installed and that it is on your PATH environment variable\n",
      "IN ANY CASE, RESTART R BEFORE TRYING TO LOAD THE PACKAGE AGAIN\n",
      "Warning message:\n",
      "\"Failed to load RGtk2 dynamic library, attempting to install it.\"Please install GTK+ from http://ftp.gnome.org/pub/gnome/binaries/win64/gtk+/2.22/gtk+-bundle_2.22.1-20101229_win64.zip\n",
      "If the package still does not load, please ensure that GTK+ is installed and that it is on your PATH environment variable\n",
      "IN ANY CASE, RESTART R BEFORE TRYING TO LOAD THE PACKAGE AGAIN\n",
      "Warning message:\n",
      "\"Failed to load RGtk2 dynamic library, attempting to install it.\"Please install GTK+ from http://ftp.gnome.org/pub/gnome/binaries/win64/gtk+/2.22/gtk+-bundle_2.22.1-20101229_win64.zip\n",
      "If the package still does not load, please ensure that GTK+ is installed and that it is on your PATH environment variable\n",
      "IN ANY CASE, RESTART R BEFORE TRYING TO LOAD THE PACKAGE AGAIN\n",
      "Warning message:\n",
      "\"Failed to load RGtk2 dynamic library, attempting to install it.\"Please install GTK+ from http://ftp.gnome.org/pub/gnome/binaries/win64/gtk+/2.22/gtk+-bundle_2.22.1-20101229_win64.zip\n",
      "If the package still does not load, please ensure that GTK+ is installed and that it is on your PATH environment variable\n",
      "IN ANY CASE, RESTART R BEFORE TRYING TO LOAD THE PACKAGE AGAIN\n",
      "Warning message:\n",
      "\"Failed to load RGtk2 dynamic library, attempting to install it.\"Please install GTK+ from http://ftp.gnome.org/pub/gnome/binaries/win64/gtk+/2.22/gtk+-bundle_2.22.1-20101229_win64.zip\n",
      "If the package still does not load, please ensure that GTK+ is installed and that it is on your PATH environment variable\n",
      "IN ANY CASE, RESTART R BEFORE TRYING TO LOAD THE PACKAGE AGAIN\n",
      "Warning message:\n",
      "\"Failed to load RGtk2 dynamic library, attempting to install it.\"Please install GTK+ from http://ftp.gnome.org/pub/gnome/binaries/win64/gtk+/2.22/gtk+-bundle_2.22.1-20101229_win64.zip\n",
      "If the package still does not load, please ensure that GTK+ is installed and that it is on your PATH environment variable\n",
      "IN ANY CASE, RESTART R BEFORE TRYING TO LOAD THE PACKAGE AGAIN\n",
      "Warning message:\n",
      "\"Failed to load RGtk2 dynamic library, attempting to install it.\"Please install GTK+ from http://ftp.gnome.org/pub/gnome/binaries/win64/gtk+/2.22/gtk+-bundle_2.22.1-20101229_win64.zip\n"
     ]
    },
    {
     "name": "stderr",
     "output_type": "stream",
     "text": [
      "If the package still does not load, please ensure that GTK+ is installed and that it is on your PATH environment variable\n",
      "IN ANY CASE, RESTART R BEFORE TRYING TO LOAD THE PACKAGE AGAIN\n",
      "Warning message:\n",
      "\"Failed to load RGtk2 dynamic library, attempting to install it.\"Please install GTK+ from http://ftp.gnome.org/pub/gnome/binaries/win64/gtk+/2.22/gtk+-bundle_2.22.1-20101229_win64.zip\n",
      "If the package still does not load, please ensure that GTK+ is installed and that it is on your PATH environment variable\n",
      "IN ANY CASE, RESTART R BEFORE TRYING TO LOAD THE PACKAGE AGAIN\n",
      "Warning message:\n",
      "\"Failed to load RGtk2 dynamic library, attempting to install it.\"Please install GTK+ from http://ftp.gnome.org/pub/gnome/binaries/win64/gtk+/2.22/gtk+-bundle_2.22.1-20101229_win64.zip\n",
      "If the package still does not load, please ensure that GTK+ is installed and that it is on your PATH environment variable\n",
      "IN ANY CASE, RESTART R BEFORE TRYING TO LOAD THE PACKAGE AGAIN\n",
      "Warning message:\n",
      "\"Failed to load RGtk2 dynamic library, attempting to install it.\"Please install GTK+ from http://ftp.gnome.org/pub/gnome/binaries/win64/gtk+/2.22/gtk+-bundle_2.22.1-20101229_win64.zip\n",
      "If the package still does not load, please ensure that GTK+ is installed and that it is on your PATH environment variable\n",
      "IN ANY CASE, RESTART R BEFORE TRYING TO LOAD THE PACKAGE AGAIN\n",
      "Warning message:\n",
      "\"Failed to load RGtk2 dynamic library, attempting to install it.\"Please install GTK+ from http://ftp.gnome.org/pub/gnome/binaries/win64/gtk+/2.22/gtk+-bundle_2.22.1-20101229_win64.zip\n",
      "If the package still does not load, please ensure that GTK+ is installed and that it is on your PATH environment variable\n",
      "IN ANY CASE, RESTART R BEFORE TRYING TO LOAD THE PACKAGE AGAIN\n",
      "Warning message:\n",
      "\"Failed to load RGtk2 dynamic library, attempting to install it.\"Please install GTK+ from http://ftp.gnome.org/pub/gnome/binaries/win64/gtk+/2.22/gtk+-bundle_2.22.1-20101229_win64.zip\n",
      "If the package still does not load, please ensure that GTK+ is installed and that it is on your PATH environment variable\n",
      "IN ANY CASE, RESTART R BEFORE TRYING TO LOAD THE PACKAGE AGAIN\n",
      "Warning message:\n",
      "\"Failed to load RGtk2 dynamic library, attempting to install it.\"Please install GTK+ from http://ftp.gnome.org/pub/gnome/binaries/win64/gtk+/2.22/gtk+-bundle_2.22.1-20101229_win64.zip\n",
      "If the package still does not load, please ensure that GTK+ is installed and that it is on your PATH environment variable\n",
      "IN ANY CASE, RESTART R BEFORE TRYING TO LOAD THE PACKAGE AGAIN\n",
      "Warning message:\n",
      "\"Failed to load RGtk2 dynamic library, attempting to install it.\"Please install GTK+ from http://ftp.gnome.org/pub/gnome/binaries/win64/gtk+/2.22/gtk+-bundle_2.22.1-20101229_win64.zip\n",
      "If the package still does not load, please ensure that GTK+ is installed and that it is on your PATH environment variable\n",
      "IN ANY CASE, RESTART R BEFORE TRYING TO LOAD THE PACKAGE AGAIN\n",
      "Warning message:\n",
      "\"Failed to load RGtk2 dynamic library, attempting to install it.\"Please install GTK+ from http://ftp.gnome.org/pub/gnome/binaries/win64/gtk+/2.22/gtk+-bundle_2.22.1-20101229_win64.zip\n",
      "If the package still does not load, please ensure that GTK+ is installed and that it is on your PATH environment variable\n",
      "IN ANY CASE, RESTART R BEFORE TRYING TO LOAD THE PACKAGE AGAIN\n",
      "Warning message:\n",
      "\"Failed to load RGtk2 dynamic library, attempting to install it.\"Please install GTK+ from http://ftp.gnome.org/pub/gnome/binaries/win64/gtk+/2.22/gtk+-bundle_2.22.1-20101229_win64.zip\n",
      "If the package still does not load, please ensure that GTK+ is installed and that it is on your PATH environment variable\n",
      "IN ANY CASE, RESTART R BEFORE TRYING TO LOAD THE PACKAGE AGAIN\n",
      "Warning message:\n",
      "\"Failed to load RGtk2 dynamic library, attempting to install it.\"Please install GTK+ from http://ftp.gnome.org/pub/gnome/binaries/win64/gtk+/2.22/gtk+-bundle_2.22.1-20101229_win64.zip\n",
      "If the package still does not load, please ensure that GTK+ is installed and that it is on your PATH environment variable\n",
      "IN ANY CASE, RESTART R BEFORE TRYING TO LOAD THE PACKAGE AGAIN\n",
      "Warning message:\n",
      "\"Failed to load RGtk2 dynamic library, attempting to install it.\"Please install GTK+ from http://ftp.gnome.org/pub/gnome/binaries/win64/gtk+/2.22/gtk+-bundle_2.22.1-20101229_win64.zip\n",
      "If the package still does not load, please ensure that GTK+ is installed and that it is on your PATH environment variable\n",
      "IN ANY CASE, RESTART R BEFORE TRYING TO LOAD THE PACKAGE AGAIN\n",
      "Warning message:\n",
      "\"Failed to load RGtk2 dynamic library, attempting to install it.\"Please install GTK+ from http://ftp.gnome.org/pub/gnome/binaries/win64/gtk+/2.22/gtk+-bundle_2.22.1-20101229_win64.zip\n",
      "If the package still does not load, please ensure that GTK+ is installed and that it is on your PATH environment variable\n",
      "IN ANY CASE, RESTART R BEFORE TRYING TO LOAD THE PACKAGE AGAIN\n",
      "Warning message:\n",
      "\"Failed to load RGtk2 dynamic library, attempting to install it.\"Please install GTK+ from http://ftp.gnome.org/pub/gnome/binaries/win64/gtk+/2.22/gtk+-bundle_2.22.1-20101229_win64.zip\n",
      "If the package still does not load, please ensure that GTK+ is installed and that it is on your PATH environment variable\n",
      "IN ANY CASE, RESTART R BEFORE TRYING TO LOAD THE PACKAGE AGAIN\n",
      "Warning message:\n",
      "\"Failed to load RGtk2 dynamic library, attempting to install it.\"Please install GTK+ from http://ftp.gnome.org/pub/gnome/binaries/win64/gtk+/2.22/gtk+-bundle_2.22.1-20101229_win64.zip\n",
      "If the package still does not load, please ensure that GTK+ is installed and that it is on your PATH environment variable\n",
      "IN ANY CASE, RESTART R BEFORE TRYING TO LOAD THE PACKAGE AGAIN\n",
      "Warning message:\n",
      "\"Failed to load RGtk2 dynamic library, attempting to install it.\"Please install GTK+ from http://ftp.gnome.org/pub/gnome/binaries/win64/gtk+/2.22/gtk+-bundle_2.22.1-20101229_win64.zip\n",
      "If the package still does not load, please ensure that GTK+ is installed and that it is on your PATH environment variable\n",
      "IN ANY CASE, RESTART R BEFORE TRYING TO LOAD THE PACKAGE AGAIN\n",
      "Warning message:\n",
      "\"Failed to load RGtk2 dynamic library, attempting to install it.\"Please install GTK+ from http://ftp.gnome.org/pub/gnome/binaries/win64/gtk+/2.22/gtk+-bundle_2.22.1-20101229_win64.zip\n",
      "If the package still does not load, please ensure that GTK+ is installed and that it is on your PATH environment variable\n",
      "IN ANY CASE, RESTART R BEFORE TRYING TO LOAD THE PACKAGE AGAIN\n",
      "Warning message:\n",
      "\"Failed to load RGtk2 dynamic library, attempting to install it.\"Please install GTK+ from http://ftp.gnome.org/pub/gnome/binaries/win64/gtk+/2.22/gtk+-bundle_2.22.1-20101229_win64.zip\n",
      "If the package still does not load, please ensure that GTK+ is installed and that it is on your PATH environment variable\n",
      "IN ANY CASE, RESTART R BEFORE TRYING TO LOAD THE PACKAGE AGAIN\n",
      "Warning message:\n",
      "\"Failed to load RGtk2 dynamic library, attempting to install it.\"Please install GTK+ from http://ftp.gnome.org/pub/gnome/binaries/win64/gtk+/2.22/gtk+-bundle_2.22.1-20101229_win64.zip\n",
      "If the package still does not load, please ensure that GTK+ is installed and that it is on your PATH environment variable\n",
      "IN ANY CASE, RESTART R BEFORE TRYING TO LOAD THE PACKAGE AGAIN\n",
      "Warning message:\n",
      "\"Failed to load RGtk2 dynamic library, attempting to install it.\"Please install GTK+ from http://ftp.gnome.org/pub/gnome/binaries/win64/gtk+/2.22/gtk+-bundle_2.22.1-20101229_win64.zip\n",
      "If the package still does not load, please ensure that GTK+ is installed and that it is on your PATH environment variable\n",
      "IN ANY CASE, RESTART R BEFORE TRYING TO LOAD THE PACKAGE AGAIN\n",
      "Warning message:\n",
      "\"Failed to load RGtk2 dynamic library, attempting to install it.\"Please install GTK+ from http://ftp.gnome.org/pub/gnome/binaries/win64/gtk+/2.22/gtk+-bundle_2.22.1-20101229_win64.zip\n",
      "If the package still does not load, please ensure that GTK+ is installed and that it is on your PATH environment variable\n",
      "IN ANY CASE, RESTART R BEFORE TRYING TO LOAD THE PACKAGE AGAIN\n",
      "Warning message:\n",
      "\"Failed to load RGtk2 dynamic library, attempting to install it.\"Please install GTK+ from http://ftp.gnome.org/pub/gnome/binaries/win64/gtk+/2.22/gtk+-bundle_2.22.1-20101229_win64.zip\n",
      "If the package still does not load, please ensure that GTK+ is installed and that it is on your PATH environment variable\n"
     ]
    },
    {
     "name": "stderr",
     "output_type": "stream",
     "text": [
      "IN ANY CASE, RESTART R BEFORE TRYING TO LOAD THE PACKAGE AGAIN\n",
      "Warning message:\n",
      "\"Failed to load RGtk2 dynamic library, attempting to install it.\"Please install GTK+ from http://ftp.gnome.org/pub/gnome/binaries/win64/gtk+/2.22/gtk+-bundle_2.22.1-20101229_win64.zip\n",
      "If the package still does not load, please ensure that GTK+ is installed and that it is on your PATH environment variable\n",
      "IN ANY CASE, RESTART R BEFORE TRYING TO LOAD THE PACKAGE AGAIN\n",
      "Warning message:\n",
      "\"Failed to load RGtk2 dynamic library, attempting to install it.\"Please install GTK+ from http://ftp.gnome.org/pub/gnome/binaries/win64/gtk+/2.22/gtk+-bundle_2.22.1-20101229_win64.zip\n",
      "If the package still does not load, please ensure that GTK+ is installed and that it is on your PATH environment variable\n",
      "IN ANY CASE, RESTART R BEFORE TRYING TO LOAD THE PACKAGE AGAIN\n",
      "Warning message:\n",
      "\"Failed to load RGtk2 dynamic library, attempting to install it.\"Please install GTK+ from http://ftp.gnome.org/pub/gnome/binaries/win64/gtk+/2.22/gtk+-bundle_2.22.1-20101229_win64.zip\n",
      "If the package still does not load, please ensure that GTK+ is installed and that it is on your PATH environment variable\n",
      "IN ANY CASE, RESTART R BEFORE TRYING TO LOAD THE PACKAGE AGAIN\n",
      "Warning message:\n",
      "\"Failed to load RGtk2 dynamic library, attempting to install it.\"Please install GTK+ from http://ftp.gnome.org/pub/gnome/binaries/win64/gtk+/2.22/gtk+-bundle_2.22.1-20101229_win64.zip\n",
      "If the package still does not load, please ensure that GTK+ is installed and that it is on your PATH environment variable\n",
      "IN ANY CASE, RESTART R BEFORE TRYING TO LOAD THE PACKAGE AGAIN\n",
      "Warning message:\n",
      "\"Failed to load RGtk2 dynamic library, attempting to install it.\"Please install GTK+ from http://ftp.gnome.org/pub/gnome/binaries/win64/gtk+/2.22/gtk+-bundle_2.22.1-20101229_win64.zip\n",
      "If the package still does not load, please ensure that GTK+ is installed and that it is on your PATH environment variable\n",
      "IN ANY CASE, RESTART R BEFORE TRYING TO LOAD THE PACKAGE AGAIN\n",
      "Warning message:\n",
      "\"Failed to load RGtk2 dynamic library, attempting to install it.\"Please install GTK+ from http://ftp.gnome.org/pub/gnome/binaries/win64/gtk+/2.22/gtk+-bundle_2.22.1-20101229_win64.zip\n",
      "If the package still does not load, please ensure that GTK+ is installed and that it is on your PATH environment variable\n",
      "IN ANY CASE, RESTART R BEFORE TRYING TO LOAD THE PACKAGE AGAIN\n",
      "Warning message:\n",
      "\"Failed to load RGtk2 dynamic library, attempting to install it.\"Please install GTK+ from http://ftp.gnome.org/pub/gnome/binaries/win64/gtk+/2.22/gtk+-bundle_2.22.1-20101229_win64.zip\n",
      "If the package still does not load, please ensure that GTK+ is installed and that it is on your PATH environment variable\n",
      "IN ANY CASE, RESTART R BEFORE TRYING TO LOAD THE PACKAGE AGAIN\n"
     ]
    }
   ],
   "source": [
    "library(rattle)\n",
    "fancyRpartPlot(modfit$finalModel)"
   ]
  },
  {
   "cell_type": "code",
   "execution_count": 19,
   "metadata": {},
   "outputs": [
    {
     "name": "stdout",
     "output_type": "stream",
     "text": [
      "Call:\n",
      "rpart(formula = y_train ~ ., data = X, method = \"class\")\n",
      "  n= 28421 \n",
      "\n",
      "    CP nsplit rel error xerror       xstd\n",
      "1 1.00      0         1      1 0.02832553\n",
      "2 0.01      1         0      0 0.00000000\n",
      "\n",
      "Variable importance\n",
      "INSPECTION_RESULT \n",
      "              100 \n",
      "\n",
      "Node number 1: 28421 observations,    complexity param=1\n",
      "  predicted class=Pass  expected loss=0.04201119  P(node) =1\n",
      "    class counts:  1194 27227\n",
      "   probabilities: 0.042 0.958 \n",
      "  left son=2 (1194 obs) right son=3 (27227 obs)\n",
      "  Primary splits:\n",
      "      INSPECTION_RESULT       splits as  LR, improve=2287.6770, (0 missing)\n",
      "      INSPECTOR_CODE          splits as  RRRRRRRRLLRRRRRRLLRRRRRRRRRRRRRRRRRRRRRRRRRRRRRRRR, improve= 250.9004, (0 missing)\n",
      "      FACTORY_CODE            splits as  RRRRRRRRRRRRRRRRRRLRRRRRRRRRRLRRRR, improve= 197.6064, (0 missing)\n",
      "      PRODUCTION_COUNTRY_CODE splits as  RRRRL, improve= 165.6825, (0 missing)\n",
      "      SUPPLIER_CODE           splits as  RLRRRLRRRRRRRRRRRRRR, improve= 151.5572, (0 missing)\n",
      "\n",
      "Node number 2: 1194 observations\n",
      "  predicted class=Fail  expected loss=0  P(node) =0.04201119\n",
      "    class counts:  1194     0\n",
      "   probabilities: 1.000 0.000 \n",
      "\n",
      "Node number 3: 27227 observations\n",
      "  predicted class=Pass  expected loss=0  P(node) =0.9579888\n",
      "    class counts:     0 27227\n",
      "   probabilities: 0.000 1.000 \n",
      "\n"
     ]
    }
   ],
   "source": [
    "#grow tree\n",
    "fit<-rpart(y_train~.,data=X, method=\"class\")\n",
    "summary(fit)"
   ]
  },
  {
   "cell_type": "code",
   "execution_count": null,
   "metadata": {
    "collapsed": true
   },
   "outputs": [],
   "source": [
    "#predict output\n",
    "predicted=predict(fit,x_test)"
   ]
  },
  {
   "cell_type": "code",
   "execution_count": null,
   "metadata": {
    "collapsed": true
   },
   "outputs": [],
   "source": [
    "#split train test data"
   ]
  },
  {
   "cell_type": "code",
   "execution_count": 22,
   "metadata": {},
   "outputs": [
    {
     "data": {
      "text/plain": [
       "                Length Class  Mode     \n",
       "call                4  -none- call     \n",
       "type                1  -none- character\n",
       "predicted       28421  factor numeric  \n",
       "err.rate         1500  -none- numeric  \n",
       "confusion           6  -none- numeric  \n",
       "votes           56842  matrix numeric  \n",
       "oob.times       28421  -none- numeric  \n",
       "classes             2  -none- character\n",
       "importance         12  -none- numeric  \n",
       "importanceSD        0  -none- NULL     \n",
       "localImportance     0  -none- NULL     \n",
       "proximity           0  -none- NULL     \n",
       "ntree               1  -none- numeric  \n",
       "mtry                1  -none- numeric  \n",
       "forest             14  -none- list     \n",
       "y               28421  factor numeric  \n",
       "test                0  -none- NULL     \n",
       "inbag               0  -none- NULL     \n",
       "terms               3  terms  call     "
      ]
     },
     "metadata": {},
     "output_type": "display_data"
    }
   ],
   "source": [
    "#random forest codes\n",
    "library(randomForest)\n",
    "#fitting model\n",
    "random.fit<-randomForest(y~.,X,ntree=500)\n",
    "summary(random.fit)"
   ]
  },
  {
   "cell_type": "code",
   "execution_count": null,
   "metadata": {
    "collapsed": true
   },
   "outputs": [],
   "source": [
    "#Predict Output \n",
    "predicted= predict(fit,x_test)"
   ]
  },
  {
   "cell_type": "markdown",
   "metadata": {},
   "source": [
    "# GBM in R\n",
    "GBM Algorithm for two classes\n",
    "1. Initialize the outcome\n",
    "2. Iterate from 1 to total number of trees\n",
    "  2.1 Update the weights for targets based on previous run (higher for the ones mis-classified)\n",
    "  2.2 Fit the model on selected subsample of data\n",
    "  2.3 Make predictions on the full set of observations\n",
    "  2.4 Update the output with current results taking into account the learning rate\n",
    "3. Return the final output."
   ]
  },
  {
   "cell_type": "code",
   "execution_count": null,
   "metadata": {
    "collapsed": true
   },
   "outputs": [],
   "source": [
    "# GBM in R (with cross validation)\n",
    "library(caret)\n",
    "fitControl <- trainControl(method = \"cv\",\n",
    "                           number = 10, #5folds)\n",
    "tune_Grid <-  expand.grid(interaction.depth = 2,\n",
    "                            n.trees = 500,\n",
    "                            shrinkage = 0.1,\n",
    "                            n.minobsinnode = 10)\n",
    "set.seed(825)\n",
    " fit <- train(y_train ~ ., data = train,\n",
    "                 method = \"gbm\",\n",
    "                 trControl = fitControl,\n",
    "                 verbose = FALSE,\n",
    "                 tuneGrid = gbmGrid)\n",
    "predicted= predict(fit,test,type= \"prob\")[,2] "
   ]
  }
 ],
 "metadata": {
  "kernelspec": {
   "display_name": "R",
   "language": "R",
   "name": "ir"
  },
  "language_info": {
   "codemirror_mode": "r",
   "file_extension": ".r",
   "mimetype": "text/x-r-source",
   "name": "R",
   "pygments_lexer": "r",
   "version": "3.4.1"
  }
 },
 "nbformat": 4,
 "nbformat_minor": 2
}
