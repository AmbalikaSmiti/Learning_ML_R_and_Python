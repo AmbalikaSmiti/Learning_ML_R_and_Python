{
 "cells": [
  {
   "cell_type": "markdown",
   "metadata": {},
   "source": [
    "# Linear Model Selection and Regularization"
   ]
  },
  {
   "cell_type": "code",
   "execution_count": 1,
   "metadata": {},
   "outputs": [
    {
     "name": "stderr",
     "output_type": "stream",
     "text": [
      "Warning message:\n",
      "\"package 'ISLR' was built under R version 3.4.2\""
     ]
    },
    {
     "data": {
      "text/html": [
       "<ol class=list-inline>\n",
       "\t<li>'AtBat'</li>\n",
       "\t<li>'Hits'</li>\n",
       "\t<li>'HmRun'</li>\n",
       "\t<li>'Runs'</li>\n",
       "\t<li>'RBI'</li>\n",
       "\t<li>'Walks'</li>\n",
       "\t<li>'Years'</li>\n",
       "\t<li>'CAtBat'</li>\n",
       "\t<li>'CHits'</li>\n",
       "\t<li>'CHmRun'</li>\n",
       "\t<li>'CRuns'</li>\n",
       "\t<li>'CRBI'</li>\n",
       "\t<li>'CWalks'</li>\n",
       "\t<li>'League'</li>\n",
       "\t<li>'Division'</li>\n",
       "\t<li>'PutOuts'</li>\n",
       "\t<li>'Assists'</li>\n",
       "\t<li>'Errors'</li>\n",
       "\t<li>'Salary'</li>\n",
       "\t<li>'NewLeague'</li>\n",
       "</ol>\n"
      ],
      "text/latex": [
       "\\begin{enumerate*}\n",
       "\\item 'AtBat'\n",
       "\\item 'Hits'\n",
       "\\item 'HmRun'\n",
       "\\item 'Runs'\n",
       "\\item 'RBI'\n",
       "\\item 'Walks'\n",
       "\\item 'Years'\n",
       "\\item 'CAtBat'\n",
       "\\item 'CHits'\n",
       "\\item 'CHmRun'\n",
       "\\item 'CRuns'\n",
       "\\item 'CRBI'\n",
       "\\item 'CWalks'\n",
       "\\item 'League'\n",
       "\\item 'Division'\n",
       "\\item 'PutOuts'\n",
       "\\item 'Assists'\n",
       "\\item 'Errors'\n",
       "\\item 'Salary'\n",
       "\\item 'NewLeague'\n",
       "\\end{enumerate*}\n"
      ],
      "text/markdown": [
       "1. 'AtBat'\n",
       "2. 'Hits'\n",
       "3. 'HmRun'\n",
       "4. 'Runs'\n",
       "5. 'RBI'\n",
       "6. 'Walks'\n",
       "7. 'Years'\n",
       "8. 'CAtBat'\n",
       "9. 'CHits'\n",
       "10. 'CHmRun'\n",
       "11. 'CRuns'\n",
       "12. 'CRBI'\n",
       "13. 'CWalks'\n",
       "14. 'League'\n",
       "15. 'Division'\n",
       "16. 'PutOuts'\n",
       "17. 'Assists'\n",
       "18. 'Errors'\n",
       "19. 'Salary'\n",
       "20. 'NewLeague'\n",
       "\n",
       "\n"
      ],
      "text/plain": [
       " [1] \"AtBat\"     \"Hits\"      \"HmRun\"     \"Runs\"      \"RBI\"       \"Walks\"    \n",
       " [7] \"Years\"     \"CAtBat\"    \"CHits\"     \"CHmRun\"    \"CRuns\"     \"CRBI\"     \n",
       "[13] \"CWalks\"    \"League\"    \"Division\"  \"PutOuts\"   \"Assists\"   \"Errors\"   \n",
       "[19] \"Salary\"    \"NewLeague\""
      ]
     },
     "metadata": {},
     "output_type": "display_data"
    },
    {
     "data": {
      "text/html": [
       "<ol class=list-inline>\n",
       "\t<li>322</li>\n",
       "\t<li>20</li>\n",
       "</ol>\n"
      ],
      "text/latex": [
       "\\begin{enumerate*}\n",
       "\\item 322\n",
       "\\item 20\n",
       "\\end{enumerate*}\n"
      ],
      "text/markdown": [
       "1. 322\n",
       "2. 20\n",
       "\n",
       "\n"
      ],
      "text/plain": [
       "[1] 322  20"
      ]
     },
     "metadata": {},
     "output_type": "display_data"
    },
    {
     "data": {
      "text/html": [
       "59"
      ],
      "text/latex": [
       "59"
      ],
      "text/markdown": [
       "59"
      ],
      "text/plain": [
       "[1] 59"
      ]
     },
     "metadata": {},
     "output_type": "display_data"
    },
    {
     "data": {
      "text/plain": [
       "     AtBat            Hits         HmRun            Runs       \n",
       " Min.   : 16.0   Min.   :  1   Min.   : 0.00   Min.   :  0.00  \n",
       " 1st Qu.:255.2   1st Qu.: 64   1st Qu.: 4.00   1st Qu.: 30.25  \n",
       " Median :379.5   Median : 96   Median : 8.00   Median : 48.00  \n",
       " Mean   :380.9   Mean   :101   Mean   :10.77   Mean   : 50.91  \n",
       " 3rd Qu.:512.0   3rd Qu.:137   3rd Qu.:16.00   3rd Qu.: 69.00  \n",
       " Max.   :687.0   Max.   :238   Max.   :40.00   Max.   :130.00  \n",
       "                                                               \n",
       "      RBI             Walks            Years            CAtBat       \n",
       " Min.   :  0.00   Min.   :  0.00   Min.   : 1.000   Min.   :   19.0  \n",
       " 1st Qu.: 28.00   1st Qu.: 22.00   1st Qu.: 4.000   1st Qu.:  816.8  \n",
       " Median : 44.00   Median : 35.00   Median : 6.000   Median : 1928.0  \n",
       " Mean   : 48.03   Mean   : 38.74   Mean   : 7.444   Mean   : 2648.7  \n",
       " 3rd Qu.: 64.75   3rd Qu.: 53.00   3rd Qu.:11.000   3rd Qu.: 3924.2  \n",
       " Max.   :121.00   Max.   :105.00   Max.   :24.000   Max.   :14053.0  \n",
       "                                                                     \n",
       "     CHits            CHmRun           CRuns             CRBI        \n",
       " Min.   :   4.0   Min.   :  0.00   Min.   :   1.0   Min.   :   0.00  \n",
       " 1st Qu.: 209.0   1st Qu.: 14.00   1st Qu.: 100.2   1st Qu.:  88.75  \n",
       " Median : 508.0   Median : 37.50   Median : 247.0   Median : 220.50  \n",
       " Mean   : 717.6   Mean   : 69.49   Mean   : 358.8   Mean   : 330.12  \n",
       " 3rd Qu.:1059.2   3rd Qu.: 90.00   3rd Qu.: 526.2   3rd Qu.: 426.25  \n",
       " Max.   :4256.0   Max.   :548.00   Max.   :2165.0   Max.   :1659.00  \n",
       "                                                                     \n",
       "     CWalks        League  Division    PutOuts          Assists     \n",
       " Min.   :   0.00   A:175   E:157    Min.   :   0.0   Min.   :  0.0  \n",
       " 1st Qu.:  67.25   N:147   W:165    1st Qu.: 109.2   1st Qu.:  7.0  \n",
       " Median : 170.50                    Median : 212.0   Median : 39.5  \n",
       " Mean   : 260.24                    Mean   : 288.9   Mean   :106.9  \n",
       " 3rd Qu.: 339.25                    3rd Qu.: 325.0   3rd Qu.:166.0  \n",
       " Max.   :1566.00                    Max.   :1378.0   Max.   :492.0  \n",
       "                                                                    \n",
       "     Errors          Salary       NewLeague\n",
       " Min.   : 0.00   Min.   :  67.5   A:176    \n",
       " 1st Qu.: 3.00   1st Qu.: 190.0   N:146    \n",
       " Median : 6.00   Median : 425.0            \n",
       " Mean   : 8.04   Mean   : 535.9            \n",
       " 3rd Qu.:11.00   3rd Qu.: 750.0            \n",
       " Max.   :32.00   Max.   :2460.0            \n",
       "                 NA's   :59                "
      ]
     },
     "metadata": {},
     "output_type": "display_data"
    }
   ],
   "source": [
    "\n",
    "library(ISLR)\n",
    "names(Hitters)\n",
    "dim(Hitters)\n",
    "sum(is.na(Hitters))\n",
    "summary(Hitters)"
   ]
  },
  {
   "cell_type": "code",
   "execution_count": 2,
   "metadata": {},
   "outputs": [
    {
     "data": {
      "text/html": [
       "<ol class=list-inline>\n",
       "\t<li>263</li>\n",
       "\t<li>20</li>\n",
       "</ol>\n"
      ],
      "text/latex": [
       "\\begin{enumerate*}\n",
       "\\item 263\n",
       "\\item 20\n",
       "\\end{enumerate*}\n"
      ],
      "text/markdown": [
       "1. 263\n",
       "2. 20\n",
       "\n",
       "\n"
      ],
      "text/plain": [
       "[1] 263  20"
      ]
     },
     "metadata": {},
     "output_type": "display_data"
    },
    {
     "data": {
      "text/html": [
       "0"
      ],
      "text/latex": [
       "0"
      ],
      "text/markdown": [
       "0"
      ],
      "text/plain": [
       "[1] 0"
      ]
     },
     "metadata": {},
     "output_type": "display_data"
    },
    {
     "data": {
      "text/plain": [
       "     AtBat            Hits           HmRun            Runs       \n",
       " Min.   : 19.0   Min.   :  1.0   Min.   : 0.00   Min.   :  0.00  \n",
       " 1st Qu.:282.5   1st Qu.: 71.5   1st Qu.: 5.00   1st Qu.: 33.50  \n",
       " Median :413.0   Median :103.0   Median : 9.00   Median : 52.00  \n",
       " Mean   :403.6   Mean   :107.8   Mean   :11.62   Mean   : 54.75  \n",
       " 3rd Qu.:526.0   3rd Qu.:141.5   3rd Qu.:18.00   3rd Qu.: 73.00  \n",
       " Max.   :687.0   Max.   :238.0   Max.   :40.00   Max.   :130.00  \n",
       "      RBI             Walks            Years            CAtBat       \n",
       " Min.   :  0.00   Min.   :  0.00   Min.   : 1.000   Min.   :   19.0  \n",
       " 1st Qu.: 30.00   1st Qu.: 23.00   1st Qu.: 4.000   1st Qu.:  842.5  \n",
       " Median : 47.00   Median : 37.00   Median : 6.000   Median : 1931.0  \n",
       " Mean   : 51.49   Mean   : 41.11   Mean   : 7.312   Mean   : 2657.5  \n",
       " 3rd Qu.: 71.00   3rd Qu.: 57.00   3rd Qu.:10.000   3rd Qu.: 3890.5  \n",
       " Max.   :121.00   Max.   :105.00   Max.   :24.000   Max.   :14053.0  \n",
       "     CHits            CHmRun           CRuns             CRBI       \n",
       " Min.   :   4.0   Min.   :  0.00   Min.   :   2.0   Min.   :   3.0  \n",
       " 1st Qu.: 212.0   1st Qu.: 15.00   1st Qu.: 105.5   1st Qu.:  95.0  \n",
       " Median : 516.0   Median : 40.00   Median : 250.0   Median : 230.0  \n",
       " Mean   : 722.2   Mean   : 69.24   Mean   : 361.2   Mean   : 330.4  \n",
       " 3rd Qu.:1054.0   3rd Qu.: 92.50   3rd Qu.: 497.5   3rd Qu.: 424.5  \n",
       " Max.   :4256.0   Max.   :548.00   Max.   :2165.0   Max.   :1659.0  \n",
       "     CWalks       League  Division    PutOuts          Assists     \n",
       " Min.   :   1.0   A:139   E:129    Min.   :   0.0   Min.   :  0.0  \n",
       " 1st Qu.:  71.0   N:124   W:134    1st Qu.: 113.5   1st Qu.:  8.0  \n",
       " Median : 174.0                    Median : 224.0   Median : 45.0  \n",
       " Mean   : 260.3                    Mean   : 290.7   Mean   :118.8  \n",
       " 3rd Qu.: 328.5                    3rd Qu.: 322.5   3rd Qu.:192.0  \n",
       " Max.   :1566.0                    Max.   :1377.0   Max.   :492.0  \n",
       "     Errors           Salary       NewLeague\n",
       " Min.   : 0.000   Min.   :  67.5   A:141    \n",
       " 1st Qu.: 3.000   1st Qu.: 190.0   N:122    \n",
       " Median : 7.000   Median : 425.0            \n",
       " Mean   : 8.593   Mean   : 535.9            \n",
       " 3rd Qu.:13.000   3rd Qu.: 750.0            \n",
       " Max.   :32.000   Max.   :2460.0            "
      ]
     },
     "metadata": {},
     "output_type": "display_data"
    }
   ],
   "source": [
    "Hitters=na.omit(Hitters)\n",
    "dim(Hitters)\n",
    "sum(is.na(Hitters))\n",
    "summary(Hitters)"
   ]
  },
  {
   "cell_type": "code",
   "execution_count": 3,
   "metadata": {},
   "outputs": [
    {
     "name": "stderr",
     "output_type": "stream",
     "text": [
      "Warning message:\n",
      "\"package 'glmnet' was built under R version 3.4.2\"Loading required package: Matrix\n",
      "Loading required package: foreach\n",
      "Warning message:\n",
      "\"package 'foreach' was built under R version 3.4.2\"Loaded glmnet 2.0-13\n",
      "\n"
     ]
    }
   ],
   "source": [
    "# glmnet pakage for ridge and lasso\n",
    "library(glmnet)"
   ]
  },
  {
   "cell_type": "code",
   "execution_count": 4,
   "metadata": {
    "collapsed": true
   },
   "outputs": [],
   "source": [
    "x=model.matrix(Salary~.,Hitters)[,-1]\n",
    "y=Hitters$Salary"
   ]
  },
  {
   "cell_type": "code",
   "execution_count": 12,
   "metadata": {},
   "outputs": [
    {
     "data": {
      "text/html": [
       "<ol class=list-inline>\n",
       "\t<li>20</li>\n",
       "\t<li>100</li>\n",
       "</ol>\n"
      ],
      "text/latex": [
       "\\begin{enumerate*}\n",
       "\\item 20\n",
       "\\item 100\n",
       "\\end{enumerate*}\n"
      ],
      "text/markdown": [
       "1. 20\n",
       "2. 100\n",
       "\n",
       "\n"
      ],
      "text/plain": [
       "[1]  20 100"
      ]
     },
     "metadata": {},
     "output_type": "display_data"
    }
   ],
   "source": [
    "#Rideg regression\n",
    "# grid of values ranging from λ = 10^10 to λ = 10^−2\n",
    "grid=10^seq(10,-2,length=100)\n",
    "# alpha=0 -> ridge regression model , alpha=1 -> lasso model\n",
    "ridge.mod=glmnet(x,y,alpha=0,lambda=grid)\n",
    "#default is ridge regression in glmnet function, standardised variables is also default\n",
    "dim(coef(ridge.mod))\n"
   ]
  },
  {
   "cell_type": "code",
   "execution_count": 13,
   "metadata": {},
   "outputs": [
    {
     "data": {
      "text/html": [
       "<ol class=list-inline>\n",
       "\t<li>'a0'</li>\n",
       "\t<li>'beta'</li>\n",
       "\t<li>'df'</li>\n",
       "\t<li>'dim'</li>\n",
       "\t<li>'lambda'</li>\n",
       "\t<li>'dev.ratio'</li>\n",
       "\t<li>'nulldev'</li>\n",
       "\t<li>'npasses'</li>\n",
       "\t<li>'jerr'</li>\n",
       "\t<li>'offset'</li>\n",
       "\t<li>'call'</li>\n",
       "\t<li>'nobs'</li>\n",
       "</ol>\n"
      ],
      "text/latex": [
       "\\begin{enumerate*}\n",
       "\\item 'a0'\n",
       "\\item 'beta'\n",
       "\\item 'df'\n",
       "\\item 'dim'\n",
       "\\item 'lambda'\n",
       "\\item 'dev.ratio'\n",
       "\\item 'nulldev'\n",
       "\\item 'npasses'\n",
       "\\item 'jerr'\n",
       "\\item 'offset'\n",
       "\\item 'call'\n",
       "\\item 'nobs'\n",
       "\\end{enumerate*}\n"
      ],
      "text/markdown": [
       "1. 'a0'\n",
       "2. 'beta'\n",
       "3. 'df'\n",
       "4. 'dim'\n",
       "5. 'lambda'\n",
       "6. 'dev.ratio'\n",
       "7. 'nulldev'\n",
       "8. 'npasses'\n",
       "9. 'jerr'\n",
       "10. 'offset'\n",
       "11. 'call'\n",
       "12. 'nobs'\n",
       "\n",
       "\n"
      ],
      "text/plain": [
       " [1] \"a0\"        \"beta\"      \"df\"        \"dim\"       \"lambda\"    \"dev.ratio\"\n",
       " [7] \"nulldev\"   \"npasses\"   \"jerr\"      \"offset\"    \"call\"      \"nobs\"     "
      ]
     },
     "metadata": {},
     "output_type": "display_data"
    },
    {
     "data": {
      "text/html": [
       "11497.5699539774"
      ],
      "text/latex": [
       "11497.5699539774"
      ],
      "text/markdown": [
       "11497.5699539774"
      ],
      "text/plain": [
       "[1] 11497.57"
      ]
     },
     "metadata": {},
     "output_type": "display_data"
    },
    {
     "data": {
      "text/html": [
       "<dl class=dl-horizontal>\n",
       "\t<dt>(Intercept)</dt>\n",
       "\t\t<dd>407.356050200416</dd>\n",
       "\t<dt>AtBat</dt>\n",
       "\t\t<dd>0.0369571817501359</dd>\n",
       "\t<dt>Hits</dt>\n",
       "\t\t<dd>0.138180343807892</dd>\n",
       "\t<dt>HmRun</dt>\n",
       "\t\t<dd>0.524629975886911</dd>\n",
       "\t<dt>Runs</dt>\n",
       "\t\t<dd>0.230701522621179</dd>\n",
       "\t<dt>RBI</dt>\n",
       "\t\t<dd>0.239841458504058</dd>\n",
       "\t<dt>Walks</dt>\n",
       "\t\t<dd>0.289618741049884</dd>\n",
       "\t<dt>Years</dt>\n",
       "\t\t<dd>1.10770292908555</dd>\n",
       "\t<dt>CAtBat</dt>\n",
       "\t\t<dd>0.00313181522151328</dd>\n",
       "\t<dt>CHits</dt>\n",
       "\t\t<dd>0.0116536373557531</dd>\n",
       "\t<dt>CHmRun</dt>\n",
       "\t\t<dd>0.0875456697555949</dd>\n",
       "\t<dt>CRuns</dt>\n",
       "\t\t<dd>0.0233798823693758</dd>\n",
       "\t<dt>CRBI</dt>\n",
       "\t\t<dd>0.0241383203685686</dd>\n",
       "\t<dt>CWalks</dt>\n",
       "\t\t<dd>0.0250154205993732</dd>\n",
       "\t<dt>LeagueN</dt>\n",
       "\t\t<dd>0.0850281135625444</dd>\n",
       "\t<dt>DivisionW</dt>\n",
       "\t\t<dd>-6.21544097273146</dd>\n",
       "\t<dt>PutOuts</dt>\n",
       "\t\t<dd>0.0164825767604547</dd>\n",
       "\t<dt>Assists</dt>\n",
       "\t\t<dd>0.00261298804528183</dd>\n",
       "\t<dt>Errors</dt>\n",
       "\t\t<dd>-0.0205026903654579</dd>\n",
       "\t<dt>NewLeagueN</dt>\n",
       "\t\t<dd>0.301433531372699</dd>\n",
       "</dl>\n"
      ],
      "text/latex": [
       "\\begin{description*}\n",
       "\\item[(Intercept)] 407.356050200416\n",
       "\\item[AtBat] 0.0369571817501359\n",
       "\\item[Hits] 0.138180343807892\n",
       "\\item[HmRun] 0.524629975886911\n",
       "\\item[Runs] 0.230701522621179\n",
       "\\item[RBI] 0.239841458504058\n",
       "\\item[Walks] 0.289618741049884\n",
       "\\item[Years] 1.10770292908555\n",
       "\\item[CAtBat] 0.00313181522151328\n",
       "\\item[CHits] 0.0116536373557531\n",
       "\\item[CHmRun] 0.0875456697555949\n",
       "\\item[CRuns] 0.0233798823693758\n",
       "\\item[CRBI] 0.0241383203685686\n",
       "\\item[CWalks] 0.0250154205993732\n",
       "\\item[LeagueN] 0.0850281135625444\n",
       "\\item[DivisionW] -6.21544097273146\n",
       "\\item[PutOuts] 0.0164825767604547\n",
       "\\item[Assists] 0.00261298804528183\n",
       "\\item[Errors] -0.0205026903654579\n",
       "\\item[NewLeagueN] 0.301433531372699\n",
       "\\end{description*}\n"
      ],
      "text/markdown": [
       "(Intercept)\n",
       ":   407.356050200416AtBat\n",
       ":   0.0369571817501359Hits\n",
       ":   0.138180343807892HmRun\n",
       ":   0.524629975886911Runs\n",
       ":   0.230701522621179RBI\n",
       ":   0.239841458504058Walks\n",
       ":   0.289618741049884Years\n",
       ":   1.10770292908555CAtBat\n",
       ":   0.00313181522151328CHits\n",
       ":   0.0116536373557531CHmRun\n",
       ":   0.0875456697555949CRuns\n",
       ":   0.0233798823693758CRBI\n",
       ":   0.0241383203685686CWalks\n",
       ":   0.0250154205993732LeagueN\n",
       ":   0.0850281135625444DivisionW\n",
       ":   -6.21544097273146PutOuts\n",
       ":   0.0164825767604547Assists\n",
       ":   0.00261298804528183Errors\n",
       ":   -0.0205026903654579NewLeagueN\n",
       ":   0.301433531372699\n",
       "\n"
      ],
      "text/plain": [
       "  (Intercept)         AtBat          Hits         HmRun          Runs \n",
       "407.356050200   0.036957182   0.138180344   0.524629976   0.230701523 \n",
       "          RBI         Walks         Years        CAtBat         CHits \n",
       "  0.239841459   0.289618741   1.107702929   0.003131815   0.011653637 \n",
       "       CHmRun         CRuns          CRBI        CWalks       LeagueN \n",
       "  0.087545670   0.023379882   0.024138320   0.025015421   0.085028114 \n",
       "    DivisionW       PutOuts       Assists        Errors    NewLeagueN \n",
       " -6.215440973   0.016482577   0.002612988  -0.020502690   0.301433531 "
      ]
     },
     "metadata": {},
     "output_type": "display_data"
    },
    {
     "data": {
      "text/html": [
       "6.36061242142791"
      ],
      "text/latex": [
       "6.36061242142791"
      ],
      "text/markdown": [
       "6.36061242142791"
      ],
      "text/plain": [
       "[1] 6.360612"
      ]
     },
     "metadata": {},
     "output_type": "display_data"
    }
   ],
   "source": [
    "names(ridge.mod)\n",
    "ridge.mod$lambda[50]\n",
    "coef(ridge.mod)[,50]\n",
    "sqrt(sum(coef( ridge.mod )[-1,50]^2))\n"
   ]
  },
  {
   "cell_type": "code",
   "execution_count": 16,
   "metadata": {},
   "outputs": [
    {
     "data": {
      "text/html": [
       "705.480231071865"
      ],
      "text/latex": [
       "705.480231071865"
      ],
      "text/markdown": [
       "705.480231071865"
      ],
      "text/plain": [
       "[1] 705.4802"
      ]
     },
     "metadata": {},
     "output_type": "display_data"
    },
    {
     "data": {
      "text/html": [
       "<dl class=dl-horizontal>\n",
       "\t<dt>(Intercept)</dt>\n",
       "\t\t<dd>54.3251995018372</dd>\n",
       "\t<dt>AtBat</dt>\n",
       "\t\t<dd>0.112111145878249</dd>\n",
       "\t<dt>Hits</dt>\n",
       "\t\t<dd>0.656224085323628</dd>\n",
       "\t<dt>HmRun</dt>\n",
       "\t\t<dd>1.17980909638777</dd>\n",
       "\t<dt>Runs</dt>\n",
       "\t\t<dd>0.937697128927054</dd>\n",
       "\t<dt>RBI</dt>\n",
       "\t\t<dd>0.847185458771521</dd>\n",
       "\t<dt>Walks</dt>\n",
       "\t\t<dd>1.31987948048781</dd>\n",
       "\t<dt>Years</dt>\n",
       "\t\t<dd>2.59640424574253</dd>\n",
       "\t<dt>CAtBat</dt>\n",
       "\t\t<dd>0.0108341254432856</dd>\n",
       "\t<dt>CHits</dt>\n",
       "\t\t<dd>0.0467455700054452</dd>\n",
       "\t<dt>CHmRun</dt>\n",
       "\t\t<dd>0.337773183143353</dd>\n",
       "\t<dt>CRuns</dt>\n",
       "\t\t<dd>0.0935552830000676</dd>\n",
       "\t<dt>CRBI</dt>\n",
       "\t\t<dd>0.0978040232271687</dd>\n",
       "\t<dt>CWalks</dt>\n",
       "\t\t<dd>0.0718961166304866</dd>\n",
       "\t<dt>LeagueN</dt>\n",
       "\t\t<dd>13.6837019095343</dd>\n",
       "\t<dt>DivisionW</dt>\n",
       "\t\t<dd>-54.658777504592</dd>\n",
       "\t<dt>PutOuts</dt>\n",
       "\t\t<dd>0.118522894134745</dd>\n",
       "\t<dt>Assists</dt>\n",
       "\t\t<dd>0.01606037317599</dd>\n",
       "\t<dt>Errors</dt>\n",
       "\t\t<dd>-0.703586547290985</dd>\n",
       "\t<dt>NewLeagueN</dt>\n",
       "\t\t<dd>8.61181213448926</dd>\n",
       "</dl>\n"
      ],
      "text/latex": [
       "\\begin{description*}\n",
       "\\item[(Intercept)] 54.3251995018372\n",
       "\\item[AtBat] 0.112111145878249\n",
       "\\item[Hits] 0.656224085323628\n",
       "\\item[HmRun] 1.17980909638777\n",
       "\\item[Runs] 0.937697128927054\n",
       "\\item[RBI] 0.847185458771521\n",
       "\\item[Walks] 1.31987948048781\n",
       "\\item[Years] 2.59640424574253\n",
       "\\item[CAtBat] 0.0108341254432856\n",
       "\\item[CHits] 0.0467455700054452\n",
       "\\item[CHmRun] 0.337773183143353\n",
       "\\item[CRuns] 0.0935552830000676\n",
       "\\item[CRBI] 0.0978040232271687\n",
       "\\item[CWalks] 0.0718961166304866\n",
       "\\item[LeagueN] 13.6837019095343\n",
       "\\item[DivisionW] -54.658777504592\n",
       "\\item[PutOuts] 0.118522894134745\n",
       "\\item[Assists] 0.01606037317599\n",
       "\\item[Errors] -0.703586547290985\n",
       "\\item[NewLeagueN] 8.61181213448926\n",
       "\\end{description*}\n"
      ],
      "text/markdown": [
       "(Intercept)\n",
       ":   54.3251995018372AtBat\n",
       ":   0.112111145878249Hits\n",
       ":   0.656224085323628HmRun\n",
       ":   1.17980909638777Runs\n",
       ":   0.937697128927054RBI\n",
       ":   0.847185458771521Walks\n",
       ":   1.31987948048781Years\n",
       ":   2.59640424574253CAtBat\n",
       ":   0.0108341254432856CHits\n",
       ":   0.0467455700054452CHmRun\n",
       ":   0.337773183143353CRuns\n",
       ":   0.0935552830000676CRBI\n",
       ":   0.0978040232271687CWalks\n",
       ":   0.0718961166304866LeagueN\n",
       ":   13.6837019095343DivisionW\n",
       ":   -54.658777504592PutOuts\n",
       ":   0.118522894134745Assists\n",
       ":   0.01606037317599Errors\n",
       ":   -0.703586547290985NewLeagueN\n",
       ":   8.61181213448926\n",
       "\n"
      ],
      "text/plain": [
       " (Intercept)        AtBat         Hits        HmRun         Runs          RBI \n",
       " 54.32519950   0.11211115   0.65622409   1.17980910   0.93769713   0.84718546 \n",
       "       Walks        Years       CAtBat        CHits       CHmRun        CRuns \n",
       "  1.31987948   2.59640425   0.01083413   0.04674557   0.33777318   0.09355528 \n",
       "        CRBI       CWalks      LeagueN    DivisionW      PutOuts      Assists \n",
       "  0.09780402   0.07189612  13.68370191 -54.65877750   0.11852289   0.01606037 \n",
       "      Errors   NewLeagueN \n",
       " -0.70358655   8.61181213 "
      ]
     },
     "metadata": {},
     "output_type": "display_data"
    },
    {
     "data": {
      "text/html": [
       "57.110014262533"
      ],
      "text/latex": [
       "57.110014262533"
      ],
      "text/markdown": [
       "57.110014262533"
      ],
      "text/plain": [
       "[1] 57.11001"
      ]
     },
     "metadata": {},
     "output_type": "display_data"
    }
   ],
   "source": [
    "ridge.mod$lambda [60]\n",
    "coef(ridge.mod)[ ,60]\n",
    "sqrt(sum(coef(ridge.mod)[-1,60]^2))"
   ]
  },
  {
   "cell_type": "code",
   "execution_count": 17,
   "metadata": {},
   "outputs": [
    {
     "data": {
      "text/html": [
       "<dl class=dl-horizontal>\n",
       "\t<dt>(Intercept)</dt>\n",
       "\t\t<dd>48.7661032921608</dd>\n",
       "\t<dt>AtBat</dt>\n",
       "\t\t<dd>-0.358099859376738</dd>\n",
       "\t<dt>Hits</dt>\n",
       "\t\t<dd>1.96935928646357</dd>\n",
       "\t<dt>HmRun</dt>\n",
       "\t\t<dd>-1.27824798145678</dd>\n",
       "\t<dt>Runs</dt>\n",
       "\t\t<dd>1.14589163211962</dd>\n",
       "\t<dt>RBI</dt>\n",
       "\t\t<dd>0.803829228437672</dd>\n",
       "\t<dt>Walks</dt>\n",
       "\t\t<dd>2.71618579623371</dd>\n",
       "\t<dt>Years</dt>\n",
       "\t\t<dd>-6.21831921727865</dd>\n",
       "\t<dt>CAtBat</dt>\n",
       "\t\t<dd>0.00544783719814918</dd>\n",
       "\t<dt>CHits</dt>\n",
       "\t\t<dd>0.10648951402342</dd>\n",
       "\t<dt>CHmRun</dt>\n",
       "\t\t<dd>0.624485956082661</dd>\n",
       "\t<dt>CRuns</dt>\n",
       "\t\t<dd>0.221498463760022</dd>\n",
       "\t<dt>CRBI</dt>\n",
       "\t\t<dd>0.218691380321248</dd>\n",
       "\t<dt>CWalks</dt>\n",
       "\t\t<dd>-0.150024548516927</dd>\n",
       "\t<dt>LeagueN</dt>\n",
       "\t\t<dd>45.9258855144158</dd>\n",
       "\t<dt>DivisionW</dt>\n",
       "\t\t<dd>-118.201136816368</dd>\n",
       "\t<dt>PutOuts</dt>\n",
       "\t\t<dd>0.250232154092559</dd>\n",
       "\t<dt>Assists</dt>\n",
       "\t\t<dd>0.121566461346767</dd>\n",
       "\t<dt>Errors</dt>\n",
       "\t\t<dd>-3.27859954463555</dd>\n",
       "\t<dt>NewLeagueN</dt>\n",
       "\t\t<dd>-9.4966803100264</dd>\n",
       "</dl>\n"
      ],
      "text/latex": [
       "\\begin{description*}\n",
       "\\item[(Intercept)] 48.7661032921608\n",
       "\\item[AtBat] -0.358099859376738\n",
       "\\item[Hits] 1.96935928646357\n",
       "\\item[HmRun] -1.27824798145678\n",
       "\\item[Runs] 1.14589163211962\n",
       "\\item[RBI] 0.803829228437672\n",
       "\\item[Walks] 2.71618579623371\n",
       "\\item[Years] -6.21831921727865\n",
       "\\item[CAtBat] 0.00544783719814918\n",
       "\\item[CHits] 0.10648951402342\n",
       "\\item[CHmRun] 0.624485956082661\n",
       "\\item[CRuns] 0.221498463760022\n",
       "\\item[CRBI] 0.218691380321248\n",
       "\\item[CWalks] -0.150024548516927\n",
       "\\item[LeagueN] 45.9258855144158\n",
       "\\item[DivisionW] -118.201136816368\n",
       "\\item[PutOuts] 0.250232154092559\n",
       "\\item[Assists] 0.121566461346767\n",
       "\\item[Errors] -3.27859954463555\n",
       "\\item[NewLeagueN] -9.4966803100264\n",
       "\\end{description*}\n"
      ],
      "text/markdown": [
       "(Intercept)\n",
       ":   48.7661032921608AtBat\n",
       ":   -0.358099859376738Hits\n",
       ":   1.96935928646357HmRun\n",
       ":   -1.27824798145678Runs\n",
       ":   1.14589163211962RBI\n",
       ":   0.803829228437672Walks\n",
       ":   2.71618579623371Years\n",
       ":   -6.21831921727865CAtBat\n",
       ":   0.00544783719814918CHits\n",
       ":   0.10648951402342CHmRun\n",
       ":   0.624485956082661CRuns\n",
       ":   0.221498463760022CRBI\n",
       ":   0.218691380321248CWalks\n",
       ":   -0.150024548516927LeagueN\n",
       ":   45.9258855144158DivisionW\n",
       ":   -118.201136816368PutOuts\n",
       ":   0.250232154092559Assists\n",
       ":   0.121566461346767Errors\n",
       ":   -3.27859954463555NewLeagueN\n",
       ":   -9.4966803100264\n",
       "\n"
      ],
      "text/plain": [
       "  (Intercept)         AtBat          Hits         HmRun          Runs \n",
       " 4.876610e+01 -3.580999e-01  1.969359e+00 -1.278248e+00  1.145892e+00 \n",
       "          RBI         Walks         Years        CAtBat         CHits \n",
       " 8.038292e-01  2.716186e+00 -6.218319e+00  5.447837e-03  1.064895e-01 \n",
       "       CHmRun         CRuns          CRBI        CWalks       LeagueN \n",
       " 6.244860e-01  2.214985e-01  2.186914e-01 -1.500245e-01  4.592589e+01 \n",
       "    DivisionW       PutOuts       Assists        Errors    NewLeagueN \n",
       "-1.182011e+02  2.502322e-01  1.215665e-01 -3.278600e+00 -9.496680e+00 "
      ]
     },
     "metadata": {},
     "output_type": "display_data"
    }
   ],
   "source": [
    "predict(ridge.mod,s=50,type=\"coefficients\")[1:20,]"
   ]
  },
  {
   "cell_type": "code",
   "execution_count": 18,
   "metadata": {
    "collapsed": true
   },
   "outputs": [],
   "source": [
    "set.seed(1)\n",
    "train=sample(1:nrow(x),nrow(x)/2)\n",
    "test=-train\n",
    "y.test=y[test]"
   ]
  },
  {
   "cell_type": "code",
   "execution_count": 29,
   "metadata": {},
   "outputs": [
    {
     "data": {
      "text/html": [
       "101036.832669597"
      ],
      "text/latex": [
       "101036.832669597"
      ],
      "text/markdown": [
       "101036.832669597"
      ],
      "text/plain": [
       "[1] 101036.8"
      ]
     },
     "metadata": {},
     "output_type": "display_data"
    },
    {
     "data": {
      "text/html": [
       "193253.113067991"
      ],
      "text/latex": [
       "193253.113067991"
      ],
      "text/markdown": [
       "193253.113067991"
      ],
      "text/plain": [
       "[1] 193253.1"
      ]
     },
     "metadata": {},
     "output_type": "display_data"
    },
    {
     "data": {
      "text/html": [
       "193253.05679545"
      ],
      "text/latex": [
       "193253.05679545"
      ],
      "text/markdown": [
       "193253.05679545"
      ],
      "text/plain": [
       "[1] 193253.1"
      ]
     },
     "metadata": {},
     "output_type": "display_data"
    },
    {
     "data": {
      "text/html": [
       "114723.615178307"
      ],
      "text/latex": [
       "114723.615178307"
      ],
      "text/markdown": [
       "114723.615178307"
      ],
      "text/plain": [
       "[1] 114723.6"
      ]
     },
     "metadata": {},
     "output_type": "display_data"
    },
    {
     "data": {
      "text/plain": [
       "\n",
       "Call:\n",
       "lm(formula = y ~ x, subset = train)\n",
       "\n",
       "Coefficients:\n",
       "(Intercept)       xAtBat        xHits       xHmRun        xRuns         xRBI  \n",
       "  299.42849     -2.54027      8.36682     11.64512     -9.09923      2.44105  \n",
       "     xWalks       xYears      xCAtBat       xCHits      xCHmRun       xCRuns  \n",
       "    9.23440    -22.93673     -0.18154     -0.11598     -1.33888      3.32838  \n",
       "      xCRBI      xCWalks     xLeagueN   xDivisionW     xPutOuts     xAssists  \n",
       "    0.07536     -1.07841     59.76065    -98.86233      0.34087      0.34165  \n",
       "    xErrors  xNewLeagueN  \n",
       "   -0.64207     -0.67442  \n"
      ]
     },
     "metadata": {},
     "output_type": "display_data"
    },
    {
     "ename": "ERROR",
     "evalue": "Error: used coef.glmnet() or predict.glmnet() with `exact=TRUE` so must in addition supply original argument(s)  x and y  in order to safely rerun glmnet\n",
     "output_type": "error",
     "traceback": [
      "Error: used coef.glmnet() or predict.glmnet() with `exact=TRUE` so must in addition supply original argument(s)  x and y  in order to safely rerun glmnet\nTraceback:\n",
      "1. predict(ridge.mod, s = 0, exact = T, type = \"coefficients\")",
      "2. predict.elnet(ridge.mod, s = 0, exact = T, type = \"coefficients\")",
      "3. NextMethod(\"predict\")",
      "4. predict.glmnet(ridge.mod, s = 0, exact = T, type = \"coefficients\")",
      "5. check_dots(object, ...)",
      "6. stop(paste(\"used coef.glmnet() or predict.glmnet() with `exact=TRUE` so must in addition supply original argument(s) \", \n .     paste(margs, collapse = \" and \"), \" in order to safely rerun glmnet\"), \n .     call. = FALSE)"
     ]
    }
   ],
   "source": [
    "ridge.mod=glmnet(x[train,],y[train],alpha=0,lambda=grid, thresh=1e-12)\n",
    "ridge.pred=predict(ridge.mod, s=4, newx=x[test,])\n",
    "mean((ridge.pred-y.test)^2) #MSE\n",
    "mean((mean(y[train])-y.test)^2)\n",
    "ridge.pred= predict(ridge.mod ,s=1e10 , newx=x[test,]) #taking very large value of lambda\n",
    "mean((ridge.pred-y.test)^2)\n",
    "#  least squares is simply ridge regression with λ = 0.\n",
    "ridge.pred= predict(ridge.mod ,s=0 , newx=x[test,]) #taking very large value of lambda\n",
    "mean((ridge.pred-y.test)^2)\n",
    "library(ISLR)\n",
    "library (MASS)\n",
    "lm(y∼x, subset=train )\n",
    "predict(ridge.mod,s=0, exact=T, type =\"coefficients\")[1:20,]"
   ]
  },
  {
   "cell_type": "code",
   "execution_count": 32,
   "metadata": {},
   "outputs": [
    {
     "data": {
      "text/html": [
       "211.741584781282"
      ],
      "text/latex": [
       "211.741584781282"
      ],
      "text/markdown": [
       "211.741584781282"
      ],
      "text/plain": [
       "[1] 211.7416"
      ]
     },
     "metadata": {},
     "output_type": "display_data"
    },
    {
     "data": {
      "text/html": [
       "96015.5127255327"
      ],
      "text/latex": [
       "96015.5127255327"
      ],
      "text/markdown": [
       "96015.5127255327"
      ],
      "text/plain": [
       "[1] 96015.51"
      ]
     },
     "metadata": {},
     "output_type": "display_data"
    },
    {
     "data": {
      "image/png": "[encoded data removed]",
      "text/plain": [
       "plot without title"
      ]
     },
     "metadata": {},
     "output_type": "display_data"
    }
   ],
   "source": [
    "set.seed (1)\n",
    "cv.out =cv.glmnet(x[train ,], y[train ], alpha =0)\n",
    "plot(cv.out )\n",
    "bestlam =cv.out$lambda.min\n",
    "bestlam\n",
    "ridge.pred= predict (ridge.mod ,s=bestlam , newx=x[test ,])\n",
    "mean((ridge.pred-y.test)^2)"
   ]
  },
  {
   "cell_type": "code",
   "execution_count": 35,
   "metadata": {},
   "outputs": [
    {
     "data": {
      "text/html": [
       "<dl class=dl-horizontal>\n",
       "\t<dt>(Intercept)</dt>\n",
       "\t\t<dd>9.88487156523819</dd>\n",
       "\t<dt>AtBat</dt>\n",
       "\t\t<dd>0.0314399123075993</dd>\n",
       "\t<dt>Hits</dt>\n",
       "\t\t<dd>1.00882875071523</dd>\n",
       "\t<dt>HmRun</dt>\n",
       "\t\t<dd>0.139276236015288</dd>\n",
       "\t<dt>Runs</dt>\n",
       "\t\t<dd>1.11320780992504</dd>\n",
       "\t<dt>RBI</dt>\n",
       "\t\t<dd>0.873189900643772</dd>\n",
       "\t<dt>Walks</dt>\n",
       "\t\t<dd>1.80410229199678</dd>\n",
       "\t<dt>Years</dt>\n",
       "\t\t<dd>0.130743811114436</dd>\n",
       "\t<dt>CAtBat</dt>\n",
       "\t\t<dd>0.0111397797786966</dd>\n",
       "\t<dt>CHits</dt>\n",
       "\t\t<dd>0.0648984331610168</dd>\n",
       "\t<dt>CHmRun</dt>\n",
       "\t\t<dd>0.451585462080598</dd>\n",
       "\t<dt>CRuns</dt>\n",
       "\t\t<dd>0.12900049045775</dd>\n",
       "\t<dt>CRBI</dt>\n",
       "\t\t<dd>0.13737711633305</dd>\n",
       "\t<dt>CWalks</dt>\n",
       "\t\t<dd>0.0290857160383186</dd>\n",
       "\t<dt>LeagueN</dt>\n",
       "\t\t<dd>27.1822753486268</dd>\n",
       "\t<dt>DivisionW</dt>\n",
       "\t\t<dd>-91.6341129943135</dd>\n",
       "\t<dt>PutOuts</dt>\n",
       "\t\t<dd>0.191492519898057</dd>\n",
       "\t<dt>Assists</dt>\n",
       "\t\t<dd>0.0425453623726451</dd>\n",
       "\t<dt>Errors</dt>\n",
       "\t\t<dd>-1.81244470270312</dd>\n",
       "\t<dt>NewLeagueN</dt>\n",
       "\t\t<dd>7.2120838996523</dd>\n",
       "</dl>\n"
      ],
      "text/latex": [
       "\\begin{description*}\n",
       "\\item[(Intercept)] 9.88487156523819\n",
       "\\item[AtBat] 0.0314399123075993\n",
       "\\item[Hits] 1.00882875071523\n",
       "\\item[HmRun] 0.139276236015288\n",
       "\\item[Runs] 1.11320780992504\n",
       "\\item[RBI] 0.873189900643772\n",
       "\\item[Walks] 1.80410229199678\n",
       "\\item[Years] 0.130743811114436\n",
       "\\item[CAtBat] 0.0111397797786966\n",
       "\\item[CHits] 0.0648984331610168\n",
       "\\item[CHmRun] 0.451585462080598\n",
       "\\item[CRuns] 0.12900049045775\n",
       "\\item[CRBI] 0.13737711633305\n",
       "\\item[CWalks] 0.0290857160383186\n",
       "\\item[LeagueN] 27.1822753486268\n",
       "\\item[DivisionW] -91.6341129943135\n",
       "\\item[PutOuts] 0.191492519898057\n",
       "\\item[Assists] 0.0425453623726451\n",
       "\\item[Errors] -1.81244470270312\n",
       "\\item[NewLeagueN] 7.2120838996523\n",
       "\\end{description*}\n"
      ],
      "text/markdown": [
       "(Intercept)\n",
       ":   9.88487156523819AtBat\n",
       ":   0.0314399123075993Hits\n",
       ":   1.00882875071523HmRun\n",
       ":   0.139276236015288Runs\n",
       ":   1.11320780992504RBI\n",
       ":   0.873189900643772Walks\n",
       ":   1.80410229199678Years\n",
       ":   0.130743811114436CAtBat\n",
       ":   0.0111397797786966CHits\n",
       ":   0.0648984331610168CHmRun\n",
       ":   0.451585462080598CRuns\n",
       ":   0.12900049045775CRBI\n",
       ":   0.13737711633305CWalks\n",
       ":   0.0290857160383186LeagueN\n",
       ":   27.1822753486268DivisionW\n",
       ":   -91.6341129943135PutOuts\n",
       ":   0.191492519898057Assists\n",
       ":   0.0425453623726451Errors\n",
       ":   -1.81244470270312NewLeagueN\n",
       ":   7.2120838996523\n",
       "\n"
      ],
      "text/plain": [
       " (Intercept)        AtBat         Hits        HmRun         Runs          RBI \n",
       "  9.88487157   0.03143991   1.00882875   0.13927624   1.11320781   0.87318990 \n",
       "       Walks        Years       CAtBat        CHits       CHmRun        CRuns \n",
       "  1.80410229   0.13074381   0.01113978   0.06489843   0.45158546   0.12900049 \n",
       "        CRBI       CWalks      LeagueN    DivisionW      PutOuts      Assists \n",
       "  0.13737712   0.02908572  27.18227535 -91.63411299   0.19149252   0.04254536 \n",
       "      Errors   NewLeagueN \n",
       " -1.81244470   7.21208390 "
      ]
     },
     "metadata": {},
     "output_type": "display_data"
    }
   ],
   "source": [
    "# refit our ridge regression model on the full data set,\n",
    "# using the value of λ chosen by cross-validation, \n",
    "out=glmnet(x,y, alpha =0)\n",
    "predict(out,type =\"coefficients\",s= bestlam )[1:20,]"
   ]
  },
  {
   "cell_type": "code",
   "execution_count": null,
   "metadata": {
    "collapsed": true
   },
   "outputs": [],
   "source": []
  },
  {
   "cell_type": "code",
   "execution_count": 37,
   "metadata": {
    "scrolled": true
   },
   "outputs": [
    {
     "data": {
      "image/png": "[encoded data removed]",
      "text/plain": [
       "plot without title"
      ]
     },
     "metadata": {},
     "output_type": "display_data"
    },
    {
     "data": {
      "text/html": [
       "16.7801584809522"
      ],
      "text/latex": [
       "16.7801584809522"
      ],
      "text/markdown": [
       "16.7801584809522"
      ],
      "text/plain": [
       "[1] 16.78016"
      ]
     },
     "metadata": {},
     "output_type": "display_data"
    },
    {
     "data": {
      "text/html": [
       "100743.446221539"
      ],
      "text/latex": [
       "100743.446221539"
      ],
      "text/markdown": [
       "100743.446221539"
      ],
      "text/plain": [
       "[1] 100743.4"
      ]
     },
     "metadata": {},
     "output_type": "display_data"
    },
    {
     "data": {
      "image/png": "[encoded data removed]",
      "text/plain": [
       "plot without title"
      ]
     },
     "metadata": {},
     "output_type": "display_data"
    }
   ],
   "source": [
    "#Lasso\n",
    "lasso.mod=glmnet(x[train,], y[train],alpha=1, lambda=grid)\n",
    "plot(lasso.mod) #coefficient plot\n",
    "# cross-validation and compute the associated test error.\n",
    "set.seed (1)\n",
    "cv.out =cv.glmnet(x[train ,], y[train ], alpha =1)\n",
    "plot(cv.out )\n",
    "bestlam =cv.out$lambda.min\n",
    "bestlam\n",
    "lasso.pred= predict (lasso.mod ,s=bestlam , newx=x[test ,])\n",
    "mean((lasso.pred-y.test)^2)"
   ]
  },
  {
   "cell_type": "code",
   "execution_count": 39,
   "metadata": {},
   "outputs": [
    {
     "data": {
      "text/html": [
       "<dl class=dl-horizontal>\n",
       "\t<dt>(Intercept)</dt>\n",
       "\t\t<dd>18.5394843700404</dd>\n",
       "\t<dt>AtBat</dt>\n",
       "\t\t<dd>0</dd>\n",
       "\t<dt>Hits</dt>\n",
       "\t\t<dd>1.87353897868797</dd>\n",
       "\t<dt>HmRun</dt>\n",
       "\t\t<dd>0</dd>\n",
       "\t<dt>Runs</dt>\n",
       "\t\t<dd>0</dd>\n",
       "\t<dt>RBI</dt>\n",
       "\t\t<dd>0</dd>\n",
       "\t<dt>Walks</dt>\n",
       "\t\t<dd>2.21784439442808</dd>\n",
       "\t<dt>Years</dt>\n",
       "\t\t<dd>0</dd>\n",
       "\t<dt>CAtBat</dt>\n",
       "\t\t<dd>0</dd>\n",
       "\t<dt>CHits</dt>\n",
       "\t\t<dd>0</dd>\n",
       "\t<dt>CHmRun</dt>\n",
       "\t\t<dd>0</dd>\n",
       "\t<dt>CRuns</dt>\n",
       "\t\t<dd>0.207125172948793</dd>\n",
       "\t<dt>CRBI</dt>\n",
       "\t\t<dd>0.413013208899728</dd>\n",
       "\t<dt>CWalks</dt>\n",
       "\t\t<dd>0</dd>\n",
       "\t<dt>LeagueN</dt>\n",
       "\t\t<dd>3.26666772880497</dd>\n",
       "\t<dt>DivisionW</dt>\n",
       "\t\t<dd>-103.484545814138</dd>\n",
       "\t<dt>PutOuts</dt>\n",
       "\t\t<dd>0.220428413476128</dd>\n",
       "\t<dt>Assists</dt>\n",
       "\t\t<dd>0</dd>\n",
       "\t<dt>Errors</dt>\n",
       "\t\t<dd>0</dd>\n",
       "\t<dt>NewLeagueN</dt>\n",
       "\t\t<dd>0</dd>\n",
       "</dl>\n"
      ],
      "text/latex": [
       "\\begin{description*}\n",
       "\\item[(Intercept)] 18.5394843700404\n",
       "\\item[AtBat] 0\n",
       "\\item[Hits] 1.87353897868797\n",
       "\\item[HmRun] 0\n",
       "\\item[Runs] 0\n",
       "\\item[RBI] 0\n",
       "\\item[Walks] 2.21784439442808\n",
       "\\item[Years] 0\n",
       "\\item[CAtBat] 0\n",
       "\\item[CHits] 0\n",
       "\\item[CHmRun] 0\n",
       "\\item[CRuns] 0.207125172948793\n",
       "\\item[CRBI] 0.413013208899728\n",
       "\\item[CWalks] 0\n",
       "\\item[LeagueN] 3.26666772880497\n",
       "\\item[DivisionW] -103.484545814138\n",
       "\\item[PutOuts] 0.220428413476128\n",
       "\\item[Assists] 0\n",
       "\\item[Errors] 0\n",
       "\\item[NewLeagueN] 0\n",
       "\\end{description*}\n"
      ],
      "text/markdown": [
       "(Intercept)\n",
       ":   18.5394843700404AtBat\n",
       ":   0Hits\n",
       ":   1.87353897868797HmRun\n",
       ":   0Runs\n",
       ":   0RBI\n",
       ":   0Walks\n",
       ":   2.21784439442808Years\n",
       ":   0CAtBat\n",
       ":   0CHits\n",
       ":   0CHmRun\n",
       ":   0CRuns\n",
       ":   0.207125172948793CRBI\n",
       ":   0.413013208899728CWalks\n",
       ":   0LeagueN\n",
       ":   3.26666772880497DivisionW\n",
       ":   -103.484545814138PutOuts\n",
       ":   0.220428413476128Assists\n",
       ":   0Errors\n",
       ":   0NewLeagueN\n",
       ":   0\n",
       "\n"
      ],
      "text/plain": [
       " (Intercept)        AtBat         Hits        HmRun         Runs          RBI \n",
       "  18.5394844    0.0000000    1.8735390    0.0000000    0.0000000    0.0000000 \n",
       "       Walks        Years       CAtBat        CHits       CHmRun        CRuns \n",
       "   2.2178444    0.0000000    0.0000000    0.0000000    0.0000000    0.2071252 \n",
       "        CRBI       CWalks      LeagueN    DivisionW      PutOuts      Assists \n",
       "   0.4130132    0.0000000    3.2666677 -103.4845458    0.2204284    0.0000000 \n",
       "      Errors   NewLeagueN \n",
       "   0.0000000    0.0000000 "
      ]
     },
     "metadata": {},
     "output_type": "display_data"
    },
    {
     "data": {
      "text/html": [
       "<dl class=dl-horizontal>\n",
       "\t<dt>(Intercept)</dt>\n",
       "\t\t<dd>18.5394843700404</dd>\n",
       "\t<dt>Hits</dt>\n",
       "\t\t<dd>1.87353897868797</dd>\n",
       "\t<dt>Walks</dt>\n",
       "\t\t<dd>2.21784439442808</dd>\n",
       "\t<dt>CRuns</dt>\n",
       "\t\t<dd>0.207125172948793</dd>\n",
       "\t<dt>CRBI</dt>\n",
       "\t\t<dd>0.413013208899728</dd>\n",
       "\t<dt>LeagueN</dt>\n",
       "\t\t<dd>3.26666772880497</dd>\n",
       "\t<dt>DivisionW</dt>\n",
       "\t\t<dd>-103.484545814138</dd>\n",
       "\t<dt>PutOuts</dt>\n",
       "\t\t<dd>0.220428413476128</dd>\n",
       "</dl>\n"
      ],
      "text/latex": [
       "\\begin{description*}\n",
       "\\item[(Intercept)] 18.5394843700404\n",
       "\\item[Hits] 1.87353897868797\n",
       "\\item[Walks] 2.21784439442808\n",
       "\\item[CRuns] 0.207125172948793\n",
       "\\item[CRBI] 0.413013208899728\n",
       "\\item[LeagueN] 3.26666772880497\n",
       "\\item[DivisionW] -103.484545814138\n",
       "\\item[PutOuts] 0.220428413476128\n",
       "\\end{description*}\n"
      ],
      "text/markdown": [
       "(Intercept)\n",
       ":   18.5394843700404Hits\n",
       ":   1.87353897868797Walks\n",
       ":   2.21784439442808CRuns\n",
       ":   0.207125172948793CRBI\n",
       ":   0.413013208899728LeagueN\n",
       ":   3.26666772880497DivisionW\n",
       ":   -103.484545814138PutOuts\n",
       ":   0.220428413476128\n",
       "\n"
      ],
      "text/plain": [
       " (Intercept)         Hits        Walks        CRuns         CRBI      LeagueN \n",
       "  18.5394844    1.8735390    2.2178444    0.2071252    0.4130132    3.2666677 \n",
       "   DivisionW      PutOuts \n",
       "-103.4845458    0.2204284 "
      ]
     },
     "metadata": {},
     "output_type": "display_data"
    }
   ],
   "source": [
    "# refit our lasso regression model on the full data set,\n",
    "# using the value of λ chosen by cross-validation, \n",
    "out=glmnet(x,y, alpha =1,lambda=grid)\n",
    "lasso.coef=predict(out,type =\"coefficients\",s= bestlam )[1:20,]\n",
    "lasso.coef\n",
    "lasso.coef[lasso.coef!=0]"
   ]
  }
 ],
 "metadata": {
  "kernelspec": {
   "display_name": "R",
   "language": "R",
   "name": "ir"
  },
  "language_info": {
   "codemirror_mode": "r",
   "file_extension": ".r",
   "mimetype": "text/x-r-source",
   "name": "R",
   "pygments_lexer": "r",
   "version": "3.4.1"
  }
 },
 "nbformat": 4,
 "nbformat_minor": 2
}
