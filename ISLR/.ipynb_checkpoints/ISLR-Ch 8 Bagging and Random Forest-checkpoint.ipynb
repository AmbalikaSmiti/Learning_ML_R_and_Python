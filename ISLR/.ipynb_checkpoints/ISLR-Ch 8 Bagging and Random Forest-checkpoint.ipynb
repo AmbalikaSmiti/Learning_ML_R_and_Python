{
 "cells": [
  {
   "cell_type": "markdown",
   "metadata": {},
   "source": [
    "# Bagging and Random Forest\n",
    "-  Using randomForest package in R\n",
    "- bagging is simply a special case of a random forest with m = p\n",
    "- SO, randomForest() function can be used to perform both random forests and bagging.\n"
   ]
  },
  {
   "cell_type": "markdown",
   "metadata": {},
   "source": [
    "## Bagging"
   ]
  },
  {
   "cell_type": "code",
   "execution_count": 4,
   "metadata": {},
   "outputs": [
    {
     "data": {
      "text/html": [
       "<ol class=list-inline>\n",
       "\t<li>'crim'</li>\n",
       "\t<li>'zn'</li>\n",
       "\t<li>'indus'</li>\n",
       "\t<li>'chas'</li>\n",
       "\t<li>'nox'</li>\n",
       "\t<li>'rm'</li>\n",
       "\t<li>'age'</li>\n",
       "\t<li>'dis'</li>\n",
       "\t<li>'rad'</li>\n",
       "\t<li>'tax'</li>\n",
       "\t<li>'ptratio'</li>\n",
       "\t<li>'black'</li>\n",
       "\t<li>'lstat'</li>\n",
       "\t<li>'medv'</li>\n",
       "</ol>\n"
      ],
      "text/latex": [
       "\\begin{enumerate*}\n",
       "\\item 'crim'\n",
       "\\item 'zn'\n",
       "\\item 'indus'\n",
       "\\item 'chas'\n",
       "\\item 'nox'\n",
       "\\item 'rm'\n",
       "\\item 'age'\n",
       "\\item 'dis'\n",
       "\\item 'rad'\n",
       "\\item 'tax'\n",
       "\\item 'ptratio'\n",
       "\\item 'black'\n",
       "\\item 'lstat'\n",
       "\\item 'medv'\n",
       "\\end{enumerate*}\n"
      ],
      "text/markdown": [
       "1. 'crim'\n",
       "2. 'zn'\n",
       "3. 'indus'\n",
       "4. 'chas'\n",
       "5. 'nox'\n",
       "6. 'rm'\n",
       "7. 'age'\n",
       "8. 'dis'\n",
       "9. 'rad'\n",
       "10. 'tax'\n",
       "11. 'ptratio'\n",
       "12. 'black'\n",
       "13. 'lstat'\n",
       "14. 'medv'\n",
       "\n",
       "\n"
      ],
      "text/plain": [
       " [1] \"crim\"    \"zn\"      \"indus\"   \"chas\"    \"nox\"     \"rm\"      \"age\"    \n",
       " [8] \"dis\"     \"rad\"     \"tax\"     \"ptratio\" \"black\"   \"lstat\"   \"medv\"   "
      ]
     },
     "metadata": {},
     "output_type": "display_data"
    },
    {
     "data": {
      "text/html": [
       "14"
      ],
      "text/latex": [
       "14"
      ],
      "text/markdown": [
       "14"
      ],
      "text/plain": [
       "[1] 14"
      ]
     },
     "metadata": {},
     "output_type": "display_data"
    }
   ],
   "source": [
    "library(randomForest)\n",
    "library(MASS)\n",
    "# usin Boston data set\n",
    "names(Boston)\n",
    "ncol(Boston)"
   ]
  },
  {
   "cell_type": "markdown",
   "metadata": {},
   "source": [
    "The argument mtry=13 indicates that all 13 predictors should be considered\n",
    "for each split of the tree—in other words, that bagging should be done."
   ]
  },
  {
   "cell_type": "code",
   "execution_count": 5,
   "metadata": {},
   "outputs": [
    {
     "data": {
      "text/plain": [
       "\n",
       "Call:\n",
       " randomForest(formula = medv ~ ., data = Boston, suset = train,      mtry = 13, importance = TRUE) \n",
       "               Type of random forest: regression\n",
       "                     Number of trees: 500\n",
       "No. of variables tried at each split: 13\n",
       "\n",
       "          Mean of squared residuals: 10.61335\n",
       "                    % Var explained: 87.43"
      ]
     },
     "metadata": {},
     "output_type": "display_data"
    }
   ],
   "source": [
    "set.seed(1)\n",
    "train=sample(1:nrow(Boston),nrow(Boston)/2)\n",
    "boston.test=Boston[-train,\"medv\"]\n",
    "bag.boston=randomForest(medv~.,data=Boston,suset=train,mtry=13,importance=TRUE)\n",
    "bag.boston"
   ]
  },
  {
   "cell_type": "code",
   "execution_count": 6,
   "metadata": {},
   "outputs": [
    {
     "data": {
      "text/html": [
       "2.03834636029828"
      ],
      "text/latex": [
       "2.03834636029828"
      ],
      "text/markdown": [
       "2.03834636029828"
      ],
      "text/plain": [
       "[1] 2.038346"
      ]
     },
     "metadata": {},
     "output_type": "display_data"
    },
    {
     "data": {
      "image/png": "[encoded data removed]",
      "text/plain": [
       "plot without title"
      ]
     },
     "metadata": {},
     "output_type": "display_data"
    }
   ],
   "source": [
    "#prediction\n",
    "yhat.bag=predict(bag.boston,newdata=Boston[-train,])\n",
    "plot(yhat.bag,boston.test)\n",
    "abline(0,1)\n",
    "mean((yhat.bag-boston.test)^2)\n",
    "# error rateof 2.03%"
   ]
  },
  {
   "cell_type": "code",
   "execution_count": 10,
   "metadata": {},
   "outputs": [
    {
     "data": {
      "text/html": [
       "2.19489139237593"
      ],
      "text/latex": [
       "2.19489139237593"
      ],
      "text/markdown": [
       "2.19489139237593"
      ],
      "text/plain": [
       "[1] 2.194891"
      ]
     },
     "metadata": {},
     "output_type": "display_data"
    },
    {
     "data": {
      "image/png": "[encoded data removed]",
      "text/plain": [
       "plot without title"
      ]
     },
     "metadata": {},
     "output_type": "display_data"
    }
   ],
   "source": [
    "# We could change the number of trees grown by randomForest() using the ntree argument:\n",
    "bag.boston=randomForest(medv~.,data=Boston,suset=train,mtry=13,ntree=25)\n",
    "yhat.bag=predict(bag.boston,newdata=Boston[-train,])\n",
    "plot(yhat.bag,boston.test)\n",
    "abline(0,1)\n",
    "mean((yhat.bag-boston.test)^2)"
   ]
  },
  {
   "cell_type": "markdown",
   "metadata": {},
   "source": [
    "## Random Forest"
   ]
  },
  {
   "cell_type": "code",
   "execution_count": 8,
   "metadata": {},
   "outputs": [
    {
     "data": {
      "text/html": [
       "11.4802165416298"
      ],
      "text/latex": [
       "11.4802165416298"
      ],
      "text/markdown": [
       "11.4802165416298"
      ],
      "text/plain": [
       "[1] 11.48022"
      ]
     },
     "metadata": {},
     "output_type": "display_data"
    }
   ],
   "source": [
    "set.seed(1)\n",
    "#using m = 6 variables at a time\n",
    "rf.boston=randomForest(medv~.,data=Boston, subset=train, mtry=6, importance=TRUE)\n",
    "yhat.rf=predict(rf.boston, newdata=Boston[-train,])\n",
    "mean((yhat.rf-Boston[-train,\"medv\"])^2)\n",
    "# test MSE is 11.48%"
   ]
  },
  {
   "cell_type": "code",
   "execution_count": 11,
   "metadata": {},
   "outputs": [
    {
     "data": {
      "text/html": [
       "<table>\n",
       "<thead><tr><th></th><th scope=col>%IncMSE</th><th scope=col>IncNodePurity</th></tr></thead>\n",
       "<tbody>\n",
       "\t<tr><th scope=row>crim</th><td>12.547772 </td><td>1094.65382</td></tr>\n",
       "\t<tr><th scope=row>zn</th><td> 1.375489 </td><td>  64.40060</td></tr>\n",
       "\t<tr><th scope=row>indus</th><td> 9.304258 </td><td>1086.09103</td></tr>\n",
       "\t<tr><th scope=row>chas</th><td> 2.518766 </td><td>  76.36804</td></tr>\n",
       "\t<tr><th scope=row>nox</th><td>12.835614 </td><td>1008.73703</td></tr>\n",
       "\t<tr><th scope=row>rm</th><td>31.646147 </td><td>6705.02638</td></tr>\n",
       "\t<tr><th scope=row>age</th><td> 9.970243 </td><td> 575.13702</td></tr>\n",
       "\t<tr><th scope=row>dis</th><td>12.774430 </td><td>1351.01978</td></tr>\n",
       "\t<tr><th scope=row>rad</th><td> 3.911852 </td><td>  93.78200</td></tr>\n",
       "\t<tr><th scope=row>tax</th><td> 7.624043 </td><td> 453.19472</td></tr>\n",
       "\t<tr><th scope=row>ptratio</th><td>12.008194 </td><td> 919.06760</td></tr>\n",
       "\t<tr><th scope=row>black</th><td> 7.376024 </td><td> 358.96935</td></tr>\n",
       "\t<tr><th scope=row>lstat</th><td>27.666896 </td><td>6927.98475</td></tr>\n",
       "</tbody>\n",
       "</table>\n"
      ],
      "text/latex": [
       "\\begin{tabular}{r|ll}\n",
       "  & \\%IncMSE & IncNodePurity\\\\\n",
       "\\hline\n",
       "\tcrim & 12.547772  & 1094.65382\\\\\n",
       "\tzn &  1.375489  &   64.40060\\\\\n",
       "\tindus &  9.304258  & 1086.09103\\\\\n",
       "\tchas &  2.518766  &   76.36804\\\\\n",
       "\tnox & 12.835614  & 1008.73703\\\\\n",
       "\trm & 31.646147  & 6705.02638\\\\\n",
       "\tage &  9.970243  &  575.13702\\\\\n",
       "\tdis & 12.774430  & 1351.01978\\\\\n",
       "\trad &  3.911852  &   93.78200\\\\\n",
       "\ttax &  7.624043  &  453.19472\\\\\n",
       "\tptratio & 12.008194  &  919.06760\\\\\n",
       "\tblack &  7.376024  &  358.96935\\\\\n",
       "\tlstat & 27.666896  & 6927.98475\\\\\n",
       "\\end{tabular}\n"
      ],
      "text/markdown": [
       "\n",
       "| <!--/--> | %IncMSE | IncNodePurity | \n",
       "|---|---|---|---|---|---|---|---|---|---|---|---|---|\n",
       "| crim | 12.547772  | 1094.65382 | \n",
       "| zn |  1.375489  |   64.40060 | \n",
       "| indus |  9.304258  | 1086.09103 | \n",
       "| chas |  2.518766  |   76.36804 | \n",
       "| nox | 12.835614  | 1008.73703 | \n",
       "| rm | 31.646147  | 6705.02638 | \n",
       "| age |  9.970243  |  575.13702 | \n",
       "| dis | 12.774430  | 1351.01978 | \n",
       "| rad |  3.911852  |   93.78200 | \n",
       "| tax |  7.624043  |  453.19472 | \n",
       "| ptratio | 12.008194  |  919.06760 | \n",
       "| black |  7.376024  |  358.96935 | \n",
       "| lstat | 27.666896  | 6927.98475 | \n",
       "\n",
       "\n"
      ],
      "text/plain": [
       "        %IncMSE   IncNodePurity\n",
       "crim    12.547772 1094.65382   \n",
       "zn       1.375489   64.40060   \n",
       "indus    9.304258 1086.09103   \n",
       "chas     2.518766   76.36804   \n",
       "nox     12.835614 1008.73703   \n",
       "rm      31.646147 6705.02638   \n",
       "age      9.970243  575.13702   \n",
       "dis     12.774430 1351.01978   \n",
       "rad      3.911852   93.78200   \n",
       "tax      7.624043  453.19472   \n",
       "ptratio 12.008194  919.06760   \n",
       "black    7.376024  358.96935   \n",
       "lstat   27.666896 6927.98475   "
      ]
     },
     "metadata": {},
     "output_type": "display_data"
    }
   ],
   "source": [
    "# importance() function to see importance of each variable\n",
    "importance(rf.boston) "
   ]
  },
  {
   "cell_type": "markdown",
   "metadata": {},
   "source": [
    "Two measures of variable importance are reported. The former is based\n",
    "upon the mean decrease of accuracy in predictions on the out of bag samples\n",
    "when a given variable is excluded from the model. The latter is a measure\n",
    "of the total decrease in node impurity that results from splits over that\n",
    "variable, averaged over all tree"
   ]
  },
  {
   "cell_type": "code",
   "execution_count": 13,
   "metadata": {},
   "outputs": [
    {
     "data": {
      "image/png": "[encoded data removed]",
      "text/plain": [
       "plot without title"
      ]
     },
     "metadata": {},
     "output_type": "display_data"
    }
   ],
   "source": [
    "#  Plots of these importance measures can be produced using the varImpPlot() function\n",
    "varImpPlot(rf.boston)\n",
    "# it shows rm and lstat are two most important factor"
   ]
  }
 ],
 "metadata": {
  "kernelspec": {
   "display_name": "R",
   "language": "R",
   "name": "ir"
  },
  "language_info": {
   "codemirror_mode": "r",
   "file_extension": ".r",
   "mimetype": "text/x-r-source",
   "name": "R",
   "pygments_lexer": "r",
   "version": "3.4.1"
  }
 },
 "nbformat": 4,
 "nbformat_minor": 2
}
