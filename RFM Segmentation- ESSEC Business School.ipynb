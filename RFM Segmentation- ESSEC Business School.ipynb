{
 "cells": [
  {
   "cell_type": "code",
   "execution_count": 2,
   "metadata": {},
   "outputs": [
    {
     "data": {
      "text/html": [
       "<table>\n",
       "<thead><tr><th scope=col>customer_id</th><th scope=col>purchase_amount</th><th scope=col>date_of_purchase</th><th scope=col>days_since</th></tr></thead>\n",
       "<tbody>\n",
       "\t<tr><td> 760      </td><td> 25       </td><td>2009-11-06</td><td>2246.7708 </td></tr>\n",
       "\t<tr><td> 860      </td><td> 50       </td><td>2012-09-28</td><td>1189.7708 </td></tr>\n",
       "\t<tr><td>1200      </td><td>100       </td><td>2005-10-25</td><td>3719.7708 </td></tr>\n",
       "\t<tr><td>1420      </td><td> 50       </td><td>2009-07-09</td><td>2366.7708 </td></tr>\n",
       "\t<tr><td>1940      </td><td> 70       </td><td>2013-01-25</td><td>1070.7708 </td></tr>\n",
       "\t<tr><td>1960      </td><td> 40       </td><td>2013-10-29</td><td> 793.7708 </td></tr>\n",
       "</tbody>\n",
       "</table>\n"
      ],
      "text/latex": [
       "\\begin{tabular}{r|llll}\n",
       " customer\\_id & purchase\\_amount & date\\_of\\_purchase & days\\_since\\\\\n",
       "\\hline\n",
       "\t  760       &  25        & 2009-11-06 & 2246.7708 \\\\\n",
       "\t  860       &  50        & 2012-09-28 & 1189.7708 \\\\\n",
       "\t 1200       & 100        & 2005-10-25 & 3719.7708 \\\\\n",
       "\t 1420       &  50        & 2009-07-09 & 2366.7708 \\\\\n",
       "\t 1940       &  70        & 2013-01-25 & 1070.7708 \\\\\n",
       "\t 1960       &  40        & 2013-10-29 &  793.7708 \\\\\n",
       "\\end{tabular}\n"
      ],
      "text/markdown": [
       "\n",
       "customer_id | purchase_amount | date_of_purchase | days_since | \n",
       "|---|---|---|---|---|---|\n",
       "|  760       |  25        | 2009-11-06 | 2246.7708  | \n",
       "|  860       |  50        | 2012-09-28 | 1189.7708  | \n",
       "| 1200       | 100        | 2005-10-25 | 3719.7708  | \n",
       "| 1420       |  50        | 2009-07-09 | 2366.7708  | \n",
       "| 1940       |  70        | 2013-01-25 | 1070.7708  | \n",
       "| 1960       |  40        | 2013-10-29 |  793.7708  | \n",
       "\n",
       "\n"
      ],
      "text/plain": [
       "  customer_id purchase_amount date_of_purchase days_since\n",
       "1  760         25             2009-11-06       2246.7708 \n",
       "2  860         50             2012-09-28       1189.7708 \n",
       "3 1200        100             2005-10-25       3719.7708 \n",
       "4 1420         50             2009-07-09       2366.7708 \n",
       "5 1940         70             2013-01-25       1070.7708 \n",
       "6 1960         40             2013-10-29        793.7708 "
      ]
     },
     "metadata": {},
     "output_type": "display_data"
    }
   ],
   "source": [
    "# Module-1 Statistical segmentation (RFM segmentation)\n",
    "#computing RFM segment\n",
    "setwd(\"D:/Dropbox/Data Science and Analytics/ESSEC-Strategic Business Analytics/Marketing Analytics\")\n",
    "data=read.delim(file=\"purchases.txt\",header=FALSE, sep='\\t',dec='.')\n",
    "colnames(data)=c('customer_id','purchase_amount','date_of_purchase')\n",
    "data$date_of_purchase=as.Date(data$date_of_purchase,'%Y-%m-%d')\n",
    "data$days_since=as.numeric(difftime(time1=\"2016-01-01\",time2=data$date_of_purchase,units=\"days\"))\n",
    "#display the data after transformation\n",
    "head(data)"
   ]
  },
  {
   "cell_type": "code",
   "execution_count": 3,
   "metadata": {},
   "outputs": [
    {
     "data": {
      "text/plain": [
       "  customer_id     purchase_amount   date_of_purchase       days_since      \n",
       " Min.   :    10   Min.   :   5.00   Min.   :2005-01-02   Min.   :   0.771  \n",
       " 1st Qu.: 57720   1st Qu.:  25.00   1st Qu.:2009-01-17   1st Qu.: 732.771  \n",
       " Median :102440   Median :  30.00   Median :2011-11-23   Median :1499.771  \n",
       " Mean   :108935   Mean   :  62.34   Mean   :2011-07-14   Mean   :1631.710  \n",
       " 3rd Qu.:160525   3rd Qu.:  60.00   3rd Qu.:2013-12-29   3rd Qu.:2539.771  \n",
       " Max.   :264200   Max.   :4500.00   Max.   :2015-12-31   Max.   :4015.771  "
      ]
     },
     "metadata": {},
     "output_type": "display_data"
    },
    {
     "name": "stderr",
     "output_type": "stream",
     "text": [
      "Warning message:\n",
      "\"class discarded from column 'date_of_purchase'\""
     ]
    }
   ],
   "source": [
    "summary(data)\n",
    "fix(data)"
   ]
  },
  {
   "cell_type": "code",
   "execution_count": 10,
   "metadata": {},
   "outputs": [],
   "source": [
    "library(sqldf)\n",
    "#computing RFM values\n",
    "customers=sqldf(\"select customer_id , min(days_since) as recency, count(*) as frequency, avg(purchase_amount) as amount\n",
    "from data\n",
    "group by 1\")"
   ]
  },
  {
   "cell_type": "code",
   "execution_count": 13,
   "metadata": {},
   "outputs": [
    {
     "data": {
      "text/html": [
       "<table>\n",
       "<thead><tr><th scope=col>customer_id</th><th scope=col>recency</th><th scope=col>frequency</th><th scope=col>amount</th></tr></thead>\n",
       "<tbody>\n",
       "\t<tr><td> 10      </td><td>3828.7708</td><td> 1       </td><td> 30.00000</td></tr>\n",
       "\t<tr><td> 80      </td><td> 342.7708</td><td> 7       </td><td> 71.42857</td></tr>\n",
       "\t<tr><td> 90      </td><td> 757.7708</td><td>10       </td><td>115.80000</td></tr>\n",
       "\t<tr><td>120      </td><td>1400.7708</td><td> 1       </td><td> 20.00000</td></tr>\n",
       "\t<tr><td>130      </td><td>2969.7708</td><td> 2       </td><td> 50.00000</td></tr>\n",
       "\t<tr><td>160      </td><td>2962.7708</td><td> 2       </td><td> 30.00000</td></tr>\n",
       "</tbody>\n",
       "</table>\n"
      ],
      "text/latex": [
       "\\begin{tabular}{r|llll}\n",
       " customer\\_id & recency & frequency & amount\\\\\n",
       "\\hline\n",
       "\t  10       & 3828.7708 &  1        &  30.00000\\\\\n",
       "\t  80       &  342.7708 &  7        &  71.42857\\\\\n",
       "\t  90       &  757.7708 & 10        & 115.80000\\\\\n",
       "\t 120       & 1400.7708 &  1        &  20.00000\\\\\n",
       "\t 130       & 2969.7708 &  2        &  50.00000\\\\\n",
       "\t 160       & 2962.7708 &  2        &  30.00000\\\\\n",
       "\\end{tabular}\n"
      ],
      "text/markdown": [
       "\n",
       "customer_id | recency | frequency | amount | \n",
       "|---|---|---|---|---|---|\n",
       "|  10       | 3828.7708 |  1        |  30.00000 | \n",
       "|  80       |  342.7708 |  7        |  71.42857 | \n",
       "|  90       |  757.7708 | 10        | 115.80000 | \n",
       "| 120       | 1400.7708 |  1        |  20.00000 | \n",
       "| 130       | 2969.7708 |  2        |  50.00000 | \n",
       "| 160       | 2962.7708 |  2        |  30.00000 | \n",
       "\n",
       "\n"
      ],
      "text/plain": [
       "  customer_id recency   frequency amount   \n",
       "1  10         3828.7708  1         30.00000\n",
       "2  80          342.7708  7         71.42857\n",
       "3  90          757.7708 10        115.80000\n",
       "4 120         1400.7708  1         20.00000\n",
       "5 130         2969.7708  2         50.00000\n",
       "6 160         2962.7708  2         30.00000"
      ]
     },
     "metadata": {},
     "output_type": "display_data"
    },
    {
     "data": {
      "text/plain": [
       "  customer_id        recency           frequency          amount       \n",
       " Min.   :    10   Min.   :   0.771   Min.   : 1.000   Min.   :   5.00  \n",
       " 1st Qu.: 81990   1st Qu.: 243.771   1st Qu.: 1.000   1st Qu.:  21.67  \n",
       " Median :136430   Median :1069.771   Median : 2.000   Median :  30.00  \n",
       " Mean   :137574   Mean   :1252.809   Mean   : 2.782   Mean   :  57.79  \n",
       " 3rd Qu.:195100   3rd Qu.:2129.771   3rd Qu.: 3.000   3rd Qu.:  50.00  \n",
       " Max.   :264200   Max.   :4013.771   Max.   :45.000   Max.   :4500.00  "
      ]
     },
     "metadata": {},
     "output_type": "display_data"
    }
   ],
   "source": [
    "#explore the data\n",
    "head(customers)\n",
    "summary(customers)"
   ]
  },
  {
   "cell_type": "code",
   "execution_count": 6,
   "metadata": {},
   "outputs": [
    {
     "data": {
      "image/png": "[encoded data removed]",
      "text/plain": [
       "Plot with title \"Histogram of customers$recency\""
      ]
     },
     "metadata": {},
     "output_type": "display_data"
    }
   ],
   "source": [
    "#distribution of customers data\n",
    "hist(customers$recency)"
   ]
  },
  {
   "cell_type": "code",
   "execution_count": 7,
   "metadata": {},
   "outputs": [
    {
     "data": {
      "image/png": "[encoded data removed]",
      "text/plain": [
       "Plot with title \"Histogram of customers$frequency\""
      ]
     },
     "metadata": {},
     "output_type": "display_data"
    }
   ],
   "source": [
    "hist(customers$frequency)"
   ]
  },
  {
   "cell_type": "code",
   "execution_count": 11,
   "metadata": {},
   "outputs": [
    {
     "data": {
      "image/png": "[encoded data removed]",
      "text/plain": [
       "Plot with title \"Histogram of customers$amount\""
      ]
     },
     "metadata": {},
     "output_type": "display_data"
    }
   ],
   "source": [
    "hist(customers$amount)"
   ]
  },
  {
   "cell_type": "code",
   "execution_count": 12,
   "metadata": {},
   "outputs": [
    {
     "data": {
      "image/png": "[encoded data removed]",
      "text/plain": [
       "Plot with title \"Histogram of customers$amount\""
      ]
     },
     "metadata": {},
     "output_type": "display_data"
    }
   ],
   "source": [
    "hist(customers$amount, breaks=1000)"
   ]
  },
  {
   "cell_type": "code",
   "execution_count": 14,
   "metadata": {},
   "outputs": [
    {
     "data": {
      "text/html": [
       "<table>\n",
       "<thead><tr><th scope=col>customer_id</th><th scope=col>recency</th><th scope=col>frequency</th><th scope=col>amount</th></tr></thead>\n",
       "<tbody>\n",
       "\t<tr><td> 10      </td><td>3828.7708</td><td> 1       </td><td> 30.00000</td></tr>\n",
       "\t<tr><td> 80      </td><td> 342.7708</td><td> 7       </td><td> 71.42857</td></tr>\n",
       "\t<tr><td> 90      </td><td> 757.7708</td><td>10       </td><td>115.80000</td></tr>\n",
       "\t<tr><td>120      </td><td>1400.7708</td><td> 1       </td><td> 20.00000</td></tr>\n",
       "\t<tr><td>130      </td><td>2969.7708</td><td> 2       </td><td> 50.00000</td></tr>\n",
       "\t<tr><td>160      </td><td>2962.7708</td><td> 2       </td><td> 30.00000</td></tr>\n",
       "</tbody>\n",
       "</table>\n"
      ],
      "text/latex": [
       "\\begin{tabular}{r|llll}\n",
       " customer\\_id & recency & frequency & amount\\\\\n",
       "\\hline\n",
       "\t  10       & 3828.7708 &  1        &  30.00000\\\\\n",
       "\t  80       &  342.7708 &  7        &  71.42857\\\\\n",
       "\t  90       &  757.7708 & 10        & 115.80000\\\\\n",
       "\t 120       & 1400.7708 &  1        &  20.00000\\\\\n",
       "\t 130       & 2969.7708 &  2        &  50.00000\\\\\n",
       "\t 160       & 2962.7708 &  2        &  30.00000\\\\\n",
       "\\end{tabular}\n"
      ],
      "text/markdown": [
       "\n",
       "customer_id | recency | frequency | amount | \n",
       "|---|---|---|---|---|---|\n",
       "|  10       | 3828.7708 |  1        |  30.00000 | \n",
       "|  80       |  342.7708 |  7        |  71.42857 | \n",
       "|  90       |  757.7708 | 10        | 115.80000 | \n",
       "| 120       | 1400.7708 |  1        |  20.00000 | \n",
       "| 130       | 2969.7708 |  2        |  50.00000 | \n",
       "| 160       | 2962.7708 |  2        |  30.00000 | \n",
       "\n",
       "\n"
      ],
      "text/plain": [
       "  customer_id recency   frequency amount   \n",
       "1  10         3828.7708  1         30.00000\n",
       "2  80          342.7708  7         71.42857\n",
       "3  90          757.7708 10        115.80000\n",
       "4 120         1400.7708  1         20.00000\n",
       "5 130         2969.7708  2         50.00000\n",
       "6 160         2962.7708  2         30.00000"
      ]
     },
     "metadata": {},
     "output_type": "display_data"
    }
   ],
   "source": [
    "#Data transformation- standardizatio (x-mean)/sd\n",
    "new_data=customers\n",
    "head(new_data)\n"
   ]
  },
  {
   "cell_type": "code",
   "execution_count": 15,
   "metadata": {
    "collapsed": true
   },
   "outputs": [],
   "source": [
    "row.names(new_data)=new_data$customer_id"
   ]
  },
  {
   "cell_type": "code",
   "execution_count": 16,
   "metadata": {},
   "outputs": [
    {
     "data": {
      "text/html": [
       "<table>\n",
       "<thead><tr><th></th><th scope=col>recency</th><th scope=col>frequency</th><th scope=col>amount</th></tr></thead>\n",
       "<tbody>\n",
       "\t<tr><th scope=row>10</th><td>3828.7708</td><td> 1       </td><td> 30.00000</td></tr>\n",
       "\t<tr><th scope=row>80</th><td> 342.7708</td><td> 7       </td><td> 71.42857</td></tr>\n",
       "\t<tr><th scope=row>90</th><td> 757.7708</td><td>10       </td><td>115.80000</td></tr>\n",
       "\t<tr><th scope=row>120</th><td>1400.7708</td><td> 1       </td><td> 20.00000</td></tr>\n",
       "\t<tr><th scope=row>130</th><td>2969.7708</td><td> 2       </td><td> 50.00000</td></tr>\n",
       "\t<tr><th scope=row>160</th><td>2962.7708</td><td> 2       </td><td> 30.00000</td></tr>\n",
       "</tbody>\n",
       "</table>\n"
      ],
      "text/latex": [
       "\\begin{tabular}{r|lll}\n",
       "  & recency & frequency & amount\\\\\n",
       "\\hline\n",
       "\t10 & 3828.7708 &  1        &  30.00000\\\\\n",
       "\t80 &  342.7708 &  7        &  71.42857\\\\\n",
       "\t90 &  757.7708 & 10        & 115.80000\\\\\n",
       "\t120 & 1400.7708 &  1        &  20.00000\\\\\n",
       "\t130 & 2969.7708 &  2        &  50.00000\\\\\n",
       "\t160 & 2962.7708 &  2        &  30.00000\\\\\n",
       "\\end{tabular}\n"
      ],
      "text/markdown": [
       "\n",
       "| <!--/--> | recency | frequency | amount | \n",
       "|---|---|---|---|---|---|\n",
       "| 10 | 3828.7708 |  1        |  30.00000 | \n",
       "| 80 |  342.7708 |  7        |  71.42857 | \n",
       "| 90 |  757.7708 | 10        | 115.80000 | \n",
       "| 120 | 1400.7708 |  1        |  20.00000 | \n",
       "| 130 | 2969.7708 |  2        |  50.00000 | \n",
       "| 160 | 2962.7708 |  2        |  30.00000 | \n",
       "\n",
       "\n"
      ],
      "text/plain": [
       "    recency   frequency amount   \n",
       "10  3828.7708  1         30.00000\n",
       "80   342.7708  7         71.42857\n",
       "90   757.7708 10        115.80000\n",
       "120 1400.7708  1         20.00000\n",
       "130 2969.7708  2         50.00000\n",
       "160 2962.7708  2         30.00000"
      ]
     },
     "metadata": {},
     "output_type": "display_data"
    }
   ],
   "source": [
    "new_data$customer_id=NULL\n",
    "head(new_data)"
   ]
  },
  {
   "cell_type": "code",
   "execution_count": 18,
   "metadata": {},
   "outputs": [
    {
     "data": {
      "image/png": "[encoded data removed]",
      "text/plain": [
       "Plot with title \"Histogram of customers$amount\""
      ]
     },
     "metadata": {},
     "output_type": "display_data"
    }
   ],
   "source": [
    "new_data$amount=log(new_data$amount)"
   ]
  },
  {
   "cell_type": "code",
   "execution_count": 20,
   "metadata": {},
   "outputs": [
    {
     "data": {
      "image/png": "[encoded data removed]",
      "text/plain": [
       "Plot with title \"Histogram of new_data$amount\""
      ]
     },
     "metadata": {},
     "output_type": "display_data"
    }
   ],
   "source": [
    "hist(new_data$amount)"
   ]
  },
  {
   "cell_type": "code",
   "execution_count": 21,
   "metadata": {},
   "outputs": [
    {
     "data": {
      "text/html": [
       "<table>\n",
       "<thead><tr><th></th><th scope=col>recency</th><th scope=col>frequency</th><th scope=col>amount</th></tr></thead>\n",
       "<tbody>\n",
       "\t<tr><th scope=row>10</th><td> 2.3819788</td><td>-0.6068923</td><td>-0.1457031</td></tr>\n",
       "\t<tr><th scope=row>80</th><td>-0.8415073</td><td> 1.4360863</td><td> 0.9504280</td></tr>\n",
       "\t<tr><th scope=row>90</th><td>-0.4577590</td><td> 2.4575756</td><td> 1.4677954</td></tr>\n",
       "\t<tr><th scope=row>120</th><td> 0.1368198</td><td>-0.6068923</td><td>-0.7581726</td></tr>\n",
       "\t<tr><th scope=row>130</th><td> 1.5876660</td><td>-0.2663959</td><td> 0.5294336</td></tr>\n",
       "\t<tr><th scope=row>160</th><td> 1.5811931</td><td>-0.2663959</td><td>-0.1457031</td></tr>\n",
       "</tbody>\n",
       "</table>\n"
      ],
      "text/latex": [
       "\\begin{tabular}{r|lll}\n",
       "  & recency & frequency & amount\\\\\n",
       "\\hline\n",
       "\t10 &  2.3819788 & -0.6068923 & -0.1457031\\\\\n",
       "\t80 & -0.8415073 &  1.4360863 &  0.9504280\\\\\n",
       "\t90 & -0.4577590 &  2.4575756 &  1.4677954\\\\\n",
       "\t120 &  0.1368198 & -0.6068923 & -0.7581726\\\\\n",
       "\t130 &  1.5876660 & -0.2663959 &  0.5294336\\\\\n",
       "\t160 &  1.5811931 & -0.2663959 & -0.1457031\\\\\n",
       "\\end{tabular}\n"
      ],
      "text/markdown": [
       "\n",
       "| <!--/--> | recency | frequency | amount | \n",
       "|---|---|---|---|---|---|\n",
       "| 10 |  2.3819788 | -0.6068923 | -0.1457031 | \n",
       "| 80 | -0.8415073 |  1.4360863 |  0.9504280 | \n",
       "| 90 | -0.4577590 |  2.4575756 |  1.4677954 | \n",
       "| 120 |  0.1368198 | -0.6068923 | -0.7581726 | \n",
       "| 130 |  1.5876660 | -0.2663959 |  0.5294336 | \n",
       "| 160 |  1.5811931 | -0.2663959 | -0.1457031 | \n",
       "\n",
       "\n"
      ],
      "text/plain": [
       "    recency    frequency  amount    \n",
       "10   2.3819788 -0.6068923 -0.1457031\n",
       "80  -0.8415073  1.4360863  0.9504280\n",
       "90  -0.4577590  2.4575756  1.4677954\n",
       "120  0.1368198 -0.6068923 -0.7581726\n",
       "130  1.5876660 -0.2663959  0.5294336\n",
       "160  1.5811931 -0.2663959 -0.1457031"
      ]
     },
     "metadata": {},
     "output_type": "display_data"
    }
   ],
   "source": [
    "#standardising the new_data variables\n",
    "new_data=scale(new_data)\n",
    "head(new_data)"
   ]
  },
  {
   "cell_type": "code",
   "execution_count": 22,
   "metadata": {},
   "outputs": [
    {
     "data": {
      "text/html": [
       "<ol class=list-inline>\n",
       "\t<li>1</li>\n",
       "\t<li>11</li>\n",
       "\t<li>21</li>\n",
       "\t<li>31</li>\n",
       "\t<li>41</li>\n",
       "\t<li>51</li>\n",
       "</ol>\n"
      ],
      "text/latex": [
       "\\begin{enumerate*}\n",
       "\\item 1\n",
       "\\item 11\n",
       "\\item 21\n",
       "\\item 31\n",
       "\\item 41\n",
       "\\item 51\n",
       "\\end{enumerate*}\n"
      ],
      "text/markdown": [
       "1. 1\n",
       "2. 11\n",
       "3. 21\n",
       "4. 31\n",
       "5. 41\n",
       "6. 51\n",
       "\n",
       "\n"
      ],
      "text/plain": [
       "[1]  1 11 21 31 41 51"
      ]
     },
     "metadata": {},
     "output_type": "display_data"
    }
   ],
   "source": [
    "#running a hierarchical segmentation\n",
    "\n",
    "sample=seq(1,18417,by=10)\n",
    "head(sample)"
   ]
  },
  {
   "cell_type": "code",
   "execution_count": 23,
   "metadata": {
    "collapsed": true
   },
   "outputs": [],
   "source": [
    "customer_sample=customers[sample,]\n",
    "new_data_sample=new_data[sample,]"
   ]
  },
  {
   "cell_type": "code",
   "execution_count": null,
   "metadata": {
    "collapsed": true
   },
   "outputs": [],
   "source": [
    "#compute distance matrix "
   ]
  }
 ],
 "metadata": {
  "kernelspec": {
   "display_name": "R",
   "language": "R",
   "name": "ir"
  },
  "language_info": {
   "codemirror_mode": "r",
   "file_extension": ".r",
   "mimetype": "text/x-r-source",
   "name": "R",
   "pygments_lexer": "r",
   "version": "3.4.1"
  }
 },
 "nbformat": 4,
 "nbformat_minor": 2
}
