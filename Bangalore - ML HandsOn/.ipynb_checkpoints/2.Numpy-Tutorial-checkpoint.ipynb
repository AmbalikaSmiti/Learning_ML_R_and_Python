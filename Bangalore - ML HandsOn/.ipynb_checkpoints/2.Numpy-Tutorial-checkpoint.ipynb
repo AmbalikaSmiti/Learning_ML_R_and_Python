{
 "cells": [
  {
   "cell_type": "code",
   "execution_count": 1,
   "metadata": {},
   "outputs": [
    {
     "name": "stdout",
     "output_type": "stream",
     "text": [
      "[['fixed acidity', 'volatile acidity', 'citric acid', 'residual sugar', 'chlorides', 'free sulfur dioxide', 'total sulfur dioxide', 'density', 'pH', 'sulphates', 'alcohol', 'quality'], ['7.4', '0.7', '0', '1.9', '0.076', '11', '34', '0.9978', '3.51', '0.56', '9.4', '5'], ['7.8', '0.88', '0', '2.6', '0.098', '25', '67', '0.9968', '3.2', '0.68', '9.8', '5']]\n"
     ]
    }
   ],
   "source": [
    "import csv\n",
    "with open (\"C:/Users/ambalika.smiti/Documents/GitHub/Python_Codes/Bangalore - ML HandsOn\\WineQuality\\winequality-red.csv\",'r') as f:\n",
    "    wines=list(csv.reader(f,delimiter=\";\"))\n",
    "print(wines[:3])\n"
   ]
  },
  {
   "cell_type": "markdown",
   "metadata": {},
   "source": [
    "- Extract the last element from each row after the header row.\n",
    "- Convert each extracted element to a float.\n",
    "- Assign all the extracted elements to the list qualities.\n",
    "- Divide the sum of all the elements in qualities by the total number of elements in qualities to the get the mean."
   ]
  },
  {
   "cell_type": "code",
   "execution_count": 5,
   "metadata": {},
   "outputs": [
    {
     "data": {
      "text/plain": [
       "5.6360225140712945"
      ]
     },
     "execution_count": 5,
     "metadata": {},
     "output_type": "execute_result"
    }
   ],
   "source": [
    "# item[-1] gives the last element if each row , here quality\n",
    "qualities=[float(item[-1]) for item in wines[1:]]\n",
    "sum(qualities)/len(qualities) # gives mean "
   ]
  },
  {
   "cell_type": "markdown",
   "metadata": {},
   "source": [
    "## Numpy2 Dimensional Arrays"
   ]
  },
  {
   "cell_type": "markdown",
   "metadata": {},
   "source": [
    "Import the numpy package.\n",
    "\n",
    "- Pass the list of lists wines into the array function, which converts it into a NumPy array.\n",
    "- Exclude the header row with list slicing.\n",
    "- Specify the keyword argument dtype to make sure each element is converted to a float. We'll dive more into what the dtype is later on."
   ]
  },
  {
   "cell_type": "code",
   "execution_count": 8,
   "metadata": {},
   "outputs": [
    {
     "data": {
      "text/plain": [
       "array([[  7.4  ,   0.7  ,   0.   , ...,   0.56 ,   9.4  ,   5.   ],\n",
       "       [  7.8  ,   0.88 ,   0.   , ...,   0.68 ,   9.8  ,   5.   ],\n",
       "       [  7.8  ,   0.76 ,   0.04 , ...,   0.65 ,   9.8  ,   5.   ],\n",
       "       ..., \n",
       "       [  6.3  ,   0.51 ,   0.13 , ...,   0.75 ,  11.   ,   6.   ],\n",
       "       [  5.9  ,   0.645,   0.12 , ...,   0.71 ,  10.2  ,   5.   ],\n",
       "       [  6.   ,   0.31 ,   0.47 , ...,   0.66 ,  11.   ,   6.   ]])"
      ]
     },
     "execution_count": 8,
     "metadata": {},
     "output_type": "execute_result"
    }
   ],
   "source": [
    "import numpy as np\n",
    "\n",
    "# 1st arg is data (exclude first header row), 2nd arg datatype\n",
    "wines=np.array(wines[1:],dtype=np.float)\n",
    "wines\n",
    "\n"
   ]
  },
  {
   "cell_type": "code",
   "execution_count": 15,
   "metadata": {},
   "outputs": [
    {
     "data": {
      "text/plain": [
       "(1599, 12)"
      ]
     },
     "execution_count": 15,
     "metadata": {},
     "output_type": "execute_result"
    }
   ],
   "source": [
    "# number of rows and columns in our data using the shape property\n",
    "wines.shape #1599 rows and 12 columns\n",
    "\n"
   ]
  },
  {
   "cell_type": "code",
   "execution_count": 16,
   "metadata": {},
   "outputs": [
    {
     "data": {
      "text/plain": [
       "dtype('float64')"
      ]
     },
     "execution_count": 16,
     "metadata": {},
     "output_type": "execute_result"
    }
   ],
   "source": [
    "wines.dtype #should give float"
   ]
  },
  {
   "cell_type": "code",
   "execution_count": 18,
   "metadata": {},
   "outputs": [
    {
     "data": {
      "text/plain": [
       "array([[ 7,  0,  0, ...,  0,  9,  5],\n",
       "       [ 7,  0,  0, ...,  0,  9,  5],\n",
       "       [11,  0,  0, ...,  0,  9,  6],\n",
       "       ..., \n",
       "       [ 6,  0,  0, ...,  0, 11,  6],\n",
       "       [ 5,  0,  0, ...,  0, 10,  5],\n",
       "       [ 6,  0,  0, ...,  0, 11,  6]])"
      ]
     },
     "execution_count": 18,
     "metadata": {},
     "output_type": "execute_result"
    }
   ],
   "source": [
    "wines_int=np.array(wines[1:],dtype=np.int)\n",
    "wines_int"
   ]
  },
  {
   "cell_type": "markdown",
   "metadata": {},
   "source": [
    "# Alternative NumPy Array Creation Methods"
   ]
  },
  {
   "cell_type": "code",
   "execution_count": 20,
   "metadata": {},
   "outputs": [
    {
     "data": {
      "text/plain": [
       "array([[ 0.,  0.,  0.,  0.,  0.],\n",
       "       [ 0.,  0.,  0.,  0.,  0.],\n",
       "       [ 0.,  0.,  0.,  0.,  0.]])"
      ]
     },
     "execution_count": 20,
     "metadata": {},
     "output_type": "execute_result"
    }
   ],
   "source": [
    "import numpy as np\n",
    "empty_array=np.zeros((3,5)) # create an array with 3 rows and 5 columns with 0 as elements\n",
    "empty_array"
   ]
  },
  {
   "cell_type": "code",
   "execution_count": 21,
   "metadata": {},
   "outputs": [
    {
     "data": {
      "text/plain": [
       "array([[ 0.51880276,  0.35244066,  0.06327839,  0.44997068],\n",
       "       [ 0.34076909,  0.32737887,  0.97684206,  0.16901281],\n",
       "       [ 0.03407363,  0.66135515,  0.93938247,  0.53269098]])"
      ]
     },
     "execution_count": 21,
     "metadata": {},
     "output_type": "execute_result"
    }
   ],
   "source": [
    "import numpy as np\n",
    "np.random.rand(3,4) #each element is a random number"
   ]
  },
  {
   "cell_type": "markdown",
   "metadata": {},
   "source": [
    "# Using NumPy To Read In Files"
   ]
  },
  {
   "cell_type": "markdown",
   "metadata": {},
   "source": [
    "It's possible to use NumPy to directly read csv or other files into arrays. We can do this using the numpy.genfromtxt function. We can use it to read in our initial data on red wines.\n",
    "\n",
    "In the below code, we:\n",
    "\n",
    "- Use the genfromtxt function to read in the winequality-red.csv file.\n",
    "- Specify the keyword argument delimiter=\";\" so that the fields are parsed properly.\n",
    "- Specify the keyword argument skip_header=1 so that the header row is skipped."
   ]
  },
  {
   "cell_type": "code",
   "execution_count": 22,
   "metadata": {
    "collapsed": true
   },
   "outputs": [],
   "source": [
    "wines=np.genfromtxt(\"C:/Users/ambalika.smiti/Documents/GitHub/Python_Codes/Bangalore - ML HandsOn\\WineQuality\\winequality-red.csv\",delimiter=\";\",skip_header=1)"
   ]
  },
  {
   "cell_type": "code",
   "execution_count": 23,
   "metadata": {},
   "outputs": [
    {
     "data": {
      "text/plain": [
       "array([[  7.4  ,   0.7  ,   0.   , ...,   0.56 ,   9.4  ,   5.   ],\n",
       "       [  7.8  ,   0.88 ,   0.   , ...,   0.68 ,   9.8  ,   5.   ],\n",
       "       [  7.8  ,   0.76 ,   0.04 , ...,   0.65 ,   9.8  ,   5.   ],\n",
       "       ..., \n",
       "       [  6.3  ,   0.51 ,   0.13 , ...,   0.75 ,  11.   ,   6.   ],\n",
       "       [  5.9  ,   0.645,   0.12 , ...,   0.71 ,  10.2  ,   5.   ],\n",
       "       [  6.   ,   0.31 ,   0.47 , ...,   0.66 ,  11.   ,   6.   ]])"
      ]
     },
     "execution_count": 23,
     "metadata": {},
     "output_type": "execute_result"
    }
   ],
   "source": [
    "wines"
   ]
  },
  {
   "cell_type": "markdown",
   "metadata": {},
   "source": [
    "## Slicing numpy array"
   ]
  },
  {
   "cell_type": "code",
   "execution_count": 24,
   "metadata": {},
   "outputs": [
    {
     "data": {
      "text/plain": [
       "array([ 1.9,  2.6,  2.3])"
      ]
     },
     "execution_count": 24,
     "metadata": {},
     "output_type": "execute_result"
    }
   ],
   "source": [
    "wines[0:3,3] #gives 1,2,3 rows from 3rd column"
   ]
  },
  {
   "cell_type": "code",
   "execution_count": 25,
   "metadata": {},
   "outputs": [
    {
     "data": {
      "text/plain": [
       "array([[  7.8  ,   0.88 ,   0.   , ...,   0.68 ,   9.8  ,   5.   ],\n",
       "       [ 11.2  ,   0.28 ,   0.56 , ...,   0.58 ,   9.8  ,   6.   ],\n",
       "       [  7.4  ,   0.66 ,   0.   , ...,   0.56 ,   9.4  ,   5.   ],\n",
       "       ..., \n",
       "       [  6.8  ,   0.62 ,   0.08 , ...,   0.82 ,   9.5  ,   6.   ],\n",
       "       [  5.9  ,   0.55 ,   0.1  , ...,   0.76 ,  11.2  ,   6.   ],\n",
       "       [  5.9  ,   0.645,   0.12 , ...,   0.71 ,  10.2  ,   5.   ]])"
      ]
     },
     "execution_count": 25,
     "metadata": {},
     "output_type": "execute_result"
    }
   ],
   "source": [
    "#getting elements from odd columns\n",
    "wines[1::2]"
   ]
  },
  {
   "cell_type": "code",
   "execution_count": 27,
   "metadata": {},
   "outputs": [
    {
     "data": {
      "text/plain": [
       "array([ 1.9,  2.6,  2.3, ...,  2.3,  2. ,  3.6])"
      ]
     },
     "execution_count": 27,
     "metadata": {},
     "output_type": "execute_result"
    }
   ],
   "source": [
    "wines[:,3] #all rows from 4th columns"
   ]
  },
  {
   "cell_type": "code",
   "execution_count": 28,
   "metadata": {},
   "outputs": [
    {
     "data": {
      "text/plain": [
       "1599"
      ]
     },
     "execution_count": 28,
     "metadata": {},
     "output_type": "execute_result"
    }
   ],
   "source": [
    "len(wines[:,3])"
   ]
  },
  {
   "cell_type": "code",
   "execution_count": 29,
   "metadata": {},
   "outputs": [
    {
     "data": {
      "text/plain": [
       "array([ 11.2  ,   0.28 ,   0.56 ,   1.9  ,   0.075,  17.   ,  60.   ,\n",
       "         0.998,   3.16 ,   0.58 ,   9.8  ,   6.   ])"
      ]
     },
     "execution_count": 29,
     "metadata": {},
     "output_type": "execute_result"
    }
   ],
   "source": [
    "#extract all columns from 4th row\n",
    "wines[3,:]"
   ]
  },
  {
   "cell_type": "markdown",
   "metadata": {},
   "source": [
    "## Assigning values to numpy array"
   ]
  },
  {
   "cell_type": "code",
   "execution_count": 30,
   "metadata": {},
   "outputs": [
    {
     "data": {
      "text/plain": [
       "50.0"
      ]
     },
     "execution_count": 30,
     "metadata": {},
     "output_type": "execute_result"
    }
   ],
   "source": [
    "\n",
    "wines[1,5]=50\n",
    "wines[1,5]"
   ]
  },
  {
   "cell_type": "markdown",
   "metadata": {},
   "source": [
    "## 1- Dimensional Numpy Array"
   ]
  },
  {
   "cell_type": "code",
   "execution_count": 31,
   "metadata": {},
   "outputs": [
    {
     "name": "stdout",
     "output_type": "stream",
     "text": [
      "[ 11.2     0.28    0.56    1.9     0.075  17.     60.      0.998   3.16\n",
      "   0.58    9.8     6.   ]\n"
     ]
    }
   ],
   "source": [
    "third_wine=wines[3,:]\n",
    "print(third_wine)"
   ]
  },
  {
   "cell_type": "code",
   "execution_count": 32,
   "metadata": {},
   "outputs": [
    {
     "data": {
      "text/plain": [
       "array([ 0.71519393,  0.97234343,  0.62470942])"
      ]
     },
     "execution_count": 32,
     "metadata": {},
     "output_type": "execute_result"
    }
   ],
   "source": [
    "np.random.rand(3)"
   ]
  },
  {
   "cell_type": "markdown",
   "metadata": {},
   "source": [
    "## N-dimensional numpy array"
   ]
  },
  {
   "cell_type": "code",
   "execution_count": 33,
   "metadata": {
    "collapsed": true
   },
   "outputs": [],
   "source": [
    "year_one = [\n",
    "    [500,505,490],\n",
    "    [810,450,678],\n",
    "    [234,897,430],\n",
    "    [560,1023,640]\n",
    "]"
   ]
  },
  {
   "cell_type": "code",
   "execution_count": 34,
   "metadata": {
    "collapsed": true
   },
   "outputs": [],
   "source": [
    "earnings = [\n",
    "            [\n",
    "                [500,505,490],\n",
    "                [810,450,678],\n",
    "                [234,897,430],\n",
    "                [560,1023,640]\n",
    "            ],\n",
    "            [\n",
    "                [600,605,490],\n",
    "                [345,900,1000],\n",
    "                [780,730,710],\n",
    "                [670,540,324]\n",
    "            ]\n",
    "          ]"
   ]
  },
  {
   "cell_type": "code",
   "execution_count": 35,
   "metadata": {},
   "outputs": [
    {
     "data": {
      "text/plain": [
       "500"
      ]
     },
     "execution_count": 35,
     "metadata": {},
     "output_type": "execute_result"
    }
   ],
   "source": [
    "earnings=np.array(earnings)\n",
    "earnings[0,0,0]"
   ]
  },
  {
   "cell_type": "code",
   "execution_count": 38,
   "metadata": {},
   "outputs": [
    {
     "data": {
      "text/plain": [
       "900"
      ]
     },
     "execution_count": 38,
     "metadata": {},
     "output_type": "execute_result"
    }
   ],
   "source": [
    "earnings[1,1,1]"
   ]
  },
  {
   "cell_type": "code",
   "execution_count": 39,
   "metadata": {},
   "outputs": [
    {
     "data": {
      "text/plain": [
       "array([450, 900])"
      ]
     },
     "execution_count": 39,
     "metadata": {},
     "output_type": "execute_result"
    }
   ],
   "source": [
    "earnings[:,1,1]"
   ]
  },
  {
   "cell_type": "markdown",
   "metadata": {},
   "source": [
    "## Numpy Data Types"
   ]
  },
  {
   "cell_type": "markdown",
   "metadata": {},
   "source": [
    "- float -- numeric floating point data.\n",
    "- int -- integer data.\n",
    "- string -- character data.\n",
    "- object -- Python objects.\n",
    "- int32\n",
    "- float32\n",
    "- float64"
   ]
  },
  {
   "cell_type": "markdown",
   "metadata": {},
   "source": [
    "## converting datatypes\n"
   ]
  },
  {
   "cell_type": "code",
   "execution_count": 40,
   "metadata": {},
   "outputs": [
    {
     "data": {
      "text/plain": [
       "array([[ 7,  0,  0, ...,  0,  9,  5],\n",
       "       [ 7,  0,  0, ...,  0,  9,  5],\n",
       "       [ 7,  0,  0, ...,  0,  9,  5],\n",
       "       ..., \n",
       "       [ 6,  0,  0, ...,  0, 11,  6],\n",
       "       [ 5,  0,  0, ...,  0, 10,  5],\n",
       "       [ 6,  0,  0, ...,  0, 11,  6]])"
      ]
     },
     "execution_count": 40,
     "metadata": {},
     "output_type": "execute_result"
    }
   ],
   "source": [
    "wines.astype(int)"
   ]
  },
  {
   "cell_type": "code",
   "execution_count": 41,
   "metadata": {},
   "outputs": [
    {
     "data": {
      "text/plain": [
       "'int32'"
      ]
     },
     "execution_count": 41,
     "metadata": {},
     "output_type": "execute_result"
    }
   ],
   "source": [
    "int_wines=wines.astype(int)\n",
    "int_wines.dtype.name"
   ]
  },
  {
   "cell_type": "markdown",
   "metadata": {},
   "source": [
    "# NumPy Array Operations"
   ]
  },
  {
   "cell_type": "markdown",
   "metadata": {},
   "source": [
    "## Single Array Math"
   ]
  },
  {
   "cell_type": "markdown",
   "metadata": {},
   "source": [
    "If you do any of the basic mathematical operations (/, *, -, +, ^) with an array and a value, it will apply the operation to each of the elements in the array."
   ]
  },
  {
   "cell_type": "code",
   "execution_count": 45,
   "metadata": {},
   "outputs": [
    {
     "data": {
      "text/plain": [
       "array([ 25.,  25.,  25., ...,  26.,  25.,  26.])"
      ]
     },
     "execution_count": 45,
     "metadata": {},
     "output_type": "execute_result"
    }
   ],
   "source": [
    "wines[:,11]+10 #adding 10\n",
    "wines[:,11]+=10 #adding 10 and storing\n",
    "wines[:,11]"
   ]
  },
  {
   "cell_type": "code",
   "execution_count": 46,
   "metadata": {},
   "outputs": [
    {
     "data": {
      "text/plain": [
       "array([ 50.,  50.,  50., ...,  52.,  50.,  52.])"
      ]
     },
     "execution_count": 46,
     "metadata": {},
     "output_type": "execute_result"
    }
   ],
   "source": [
    "wines[:,11]*2"
   ]
  },
  {
   "cell_type": "markdown",
   "metadata": {},
   "source": [
    "##  Multiple array math"
   ]
  },
  {
   "cell_type": "code",
   "execution_count": 47,
   "metadata": {},
   "outputs": [
    {
     "data": {
      "text/plain": [
       "array([ 50.,  50.,  50., ...,  52.,  50.,  52.])"
      ]
     },
     "execution_count": 47,
     "metadata": {},
     "output_type": "execute_result"
    }
   ],
   "source": [
    "wines[:,11]+wines[:,11] #added two columns"
   ]
  },
  {
   "cell_type": "code",
   "execution_count": 48,
   "metadata": {},
   "outputs": [
    {
     "data": {
      "text/plain": [
       "array([ 235.,  245.,  245., ...,  286.,  255.,  286.])"
      ]
     },
     "execution_count": 48,
     "metadata": {},
     "output_type": "execute_result"
    }
   ],
   "source": [
    "wines[:,10]*wines[:,11] #multiplication of 11th and 12th columns"
   ]
  },
  {
   "cell_type": "markdown",
   "metadata": {},
   "source": [
    "## Broadcasting"
   ]
  },
  {
   "cell_type": "markdown",
   "metadata": {},
   "source": [
    "The last dimension of each array is compared.\n",
    "- If the dimension lengths are equal, or one of the dimensions is of length 1, then we keep going.\n",
    "- If the dimension lengths aren't equal, and none of the dimensions have length 1, then there's an error.\n",
    "- Continue checking dimensions until the shortest array is out of dimensions.\n",
    "\n",
    "For example, the following two shapes are compatible:\n",
    "\n",
    "A: (50,3)\n",
    "B  (3,)\n",
    "This is because the length of the trailing dimension of array A is 3, and the length of the trailing dimension of array B is 3. They're equal, so that dimension is okay. Array B is then out of elements, so we're okay, and the arrays are compatible for mathematical operations.\n",
    "\n",
    "The following two shapes are also compatible:\n",
    "\n",
    "A: (1,2)\n",
    "B  (50,2)\n",
    "The last dimension matches, and A is of length 1 in the first dimension.\n",
    "\n",
    "These two arrays don't match:\n",
    "\n",
    "A: (50,50)\n",
    "B: (49,49)\n",
    "The lengths of the dimensions aren't equal, and neither array has either dimension length equal to 1"
   ]
  },
  {
   "cell_type": "code",
   "execution_count": 49,
   "metadata": {},
   "outputs": [
    {
     "data": {
      "text/plain": [
       "array([[  8.38420353,   1.56820358,   0.5723961 , ...,   1.53442889,\n",
       "          9.45583571,  25.29368373],\n",
       "       [  8.78420353,   1.74820358,   0.5723961 , ...,   1.65442889,\n",
       "          9.85583571,  25.29368373],\n",
       "       [  8.78420353,   1.62820358,   0.6123961 , ...,   1.62442889,\n",
       "          9.85583571,  25.29368373],\n",
       "       ..., \n",
       "       [  7.28420353,   1.37820358,   0.7023961 , ...,   1.72442889,\n",
       "         11.05583571,  26.29368373],\n",
       "       [  6.88420353,   1.51320358,   0.6923961 , ...,   1.68442889,\n",
       "         10.25583571,  25.29368373],\n",
       "       [  6.98420353,   1.17820358,   1.0423961 , ...,   1.63442889,\n",
       "         11.05583571,  26.29368373]])"
      ]
     },
     "execution_count": 49,
     "metadata": {},
     "output_type": "execute_result"
    }
   ],
   "source": [
    "rand_array=np.random.rand(12)\n",
    "wines+rand_array\n",
    "\n",
    "# Elements of rand_array are broadcast over each row of wines, \n",
    "#so the first column of wines has the first value in rand_array added to it, and so on."
   ]
  },
  {
   "cell_type": "markdown",
   "metadata": {},
   "source": [
    "## NumPy Array Methods"
   ]
  },
  {
   "cell_type": "code",
   "execution_count": 50,
   "metadata": {},
   "outputs": [
    {
     "data": {
      "text/plain": [
       "40992.0"
      ]
     },
     "execution_count": 50,
     "metadata": {},
     "output_type": "execute_result"
    }
   ],
   "source": [
    "wines[:,11].sum() # sum of 12th column\n"
   ]
  },
  {
   "cell_type": "code",
   "execution_count": 53,
   "metadata": {},
   "outputs": [
    {
     "data": {
      "text/plain": [
       "array([ 13303.1    ,    843.985  ,    433.29   ,   4059.55   ,\n",
       "          139.859  ,  25409.     ,  74302.     ,   1593.79794,\n",
       "         5294.47   ,   1052.38   ,  16666.35   ,  40992.     ])"
      ]
     },
     "execution_count": 53,
     "metadata": {},
     "output_type": "execute_result"
    }
   ],
   "source": [
    "# row wise addition\n",
    "wines.sum(axis=0)\n"
   ]
  },
  {
   "cell_type": "code",
   "execution_count": 52,
   "metadata": {},
   "outputs": [
    {
     "data": {
      "text/plain": [
       "array([  94.5438 ,  168.0548 ,  119.699  , ...,  120.48174,  125.21547,\n",
       "        112.49249])"
      ]
     },
     "execution_count": 52,
     "metadata": {},
     "output_type": "execute_result"
    }
   ],
   "source": [
    "# columna wise addition\n",
    "# If we pass in axis=1, we'll find the sums over the second axis of the array. This will give us the sum of each row:\n",
    "wines.sum(axis=1)"
   ]
  },
  {
   "cell_type": "code",
   "execution_count": 54,
   "metadata": {},
   "outputs": [
    {
     "data": {
      "text/plain": [
       "(12,)"
      ]
     },
     "execution_count": 54,
     "metadata": {},
     "output_type": "execute_result"
    }
   ],
   "source": [
    "wines.sum(axis=0).shape"
   ]
  },
  {
   "cell_type": "markdown",
   "metadata": {},
   "source": [
    "There are several other methods that behave like the sum method, including:\n",
    "\n",
    "- numpy.ndarray.mean — finds the mean of an array.\n",
    "- numpy.ndarray.std — finds the standard deviation of an array.\n",
    "- numpy.ndarray.min — finds the minimum value in an array.\n",
    "- numpy.ndarray.max — finds the maximum value in an array."
   ]
  },
  {
   "cell_type": "markdown",
   "metadata": {},
   "source": [
    "### NumPy Array Comparisons\n",
    "mathematical comparison operations like <, >, >=, <=, and =="
   ]
  },
  {
   "cell_type": "code",
   "execution_count": 55,
   "metadata": {},
   "outputs": [
    {
     "data": {
      "text/plain": [
       "array([ True,  True,  True, ...,  True,  True,  True], dtype=bool)"
      ]
     },
     "execution_count": 55,
     "metadata": {},
     "output_type": "execute_result"
    }
   ],
   "source": [
    "wines[:,11]>5"
   ]
  },
  {
   "cell_type": "code",
   "execution_count": 56,
   "metadata": {},
   "outputs": [
    {
     "data": {
      "text/plain": [
       "array([False, False, False, ..., False, False, False], dtype=bool)"
      ]
     },
     "execution_count": 56,
     "metadata": {},
     "output_type": "execute_result"
    }
   ],
   "source": [
    "wines[:,11]==10"
   ]
  },
  {
   "cell_type": "markdown",
   "metadata": {},
   "source": [
    "### Subsetting"
   ]
  },
  {
   "cell_type": "code",
   "execution_count": 57,
   "metadata": {},
   "outputs": [
    {
     "data": {
      "text/plain": [
       "array([[  7.40000000e+00,   7.00000000e-01,   0.00000000e+00,\n",
       "          1.90000000e+00,   7.60000000e-02,   1.10000000e+01,\n",
       "          3.40000000e+01,   9.97800000e-01,   3.51000000e+00,\n",
       "          5.60000000e-01,   9.40000000e+00,   2.50000000e+01],\n",
       "       [  7.80000000e+00,   8.80000000e-01,   0.00000000e+00,\n",
       "          2.60000000e+00,   9.80000000e-02,   5.00000000e+01,\n",
       "          6.70000000e+01,   9.96800000e-01,   3.20000000e+00,\n",
       "          6.80000000e-01,   9.80000000e+00,   2.50000000e+01],\n",
       "       [  7.80000000e+00,   7.60000000e-01,   4.00000000e-02,\n",
       "          2.30000000e+00,   9.20000000e-02,   1.50000000e+01,\n",
       "          5.40000000e+01,   9.97000000e-01,   3.26000000e+00,\n",
       "          6.50000000e-01,   9.80000000e+00,   2.50000000e+01]])"
      ]
     },
     "execution_count": 57,
     "metadata": {},
     "output_type": "execute_result"
    }
   ],
   "source": [
    "high_quality=wines[:,11]>7\n",
    "wines[high_quality,:][:3,:]"
   ]
  },
  {
   "cell_type": "code",
   "execution_count": 58,
   "metadata": {},
   "outputs": [
    {
     "data": {
      "text/plain": [
       "array([[ 10.5,  25. ],\n",
       "       [ 10.5,  25. ],\n",
       "       [ 10.5,  27. ],\n",
       "       ..., \n",
       "       [ 11. ,  26. ],\n",
       "       [ 10.2,  25. ],\n",
       "       [ 11. ,  26. ]])"
      ]
     },
     "execution_count": 58,
     "metadata": {},
     "output_type": "execute_result"
    }
   ],
   "source": [
    "#multiple condition - use &\n",
    "high_quality_alcohol=(wines[:,10]>10)&(wines[:,11]>7)\n",
    "wines[high_quality_alcohol,10:]"
   ]
  },
  {
   "cell_type": "code",
   "execution_count": 59,
   "metadata": {
    "collapsed": true
   },
   "outputs": [],
   "source": [
    "high_quality_and_alcohol = (wines[:,10] > 10) & (wines[:,11] > 7)\n",
    "wines[high_quality_and_alcohol,10:] = 20"
   ]
  },
  {
   "cell_type": "markdown",
   "metadata": {},
   "source": [
    "### Reshaping"
   ]
  },
  {
   "cell_type": "code",
   "execution_count": 60,
   "metadata": {},
   "outputs": [
    {
     "data": {
      "text/plain": [
       "(12, 1599)"
      ]
     },
     "execution_count": 60,
     "metadata": {},
     "output_type": "execute_result"
    }
   ],
   "source": [
    "#The simplest reshaping is to flip the axes, so rows become columns, and vice versa. \n",
    "# We can accomplish this with the numpy.transpose function:\n",
    "\n",
    "np.transpose(wines).shape"
   ]
  },
  {
   "cell_type": "code",
   "execution_count": 61,
   "metadata": {},
   "outputs": [
    {
     "data": {
      "text/plain": [
       "array([  7.4 ,   0.7 ,   0.  , ...,   0.66,  20.  ,  20.  ])"
      ]
     },
     "execution_count": 61,
     "metadata": {},
     "output_type": "execute_result"
    }
   ],
   "source": [
    "# flatten in single dimension\n",
    "wines.ravel()"
   ]
  },
  {
   "cell_type": "code",
   "execution_count": 62,
   "metadata": {},
   "outputs": [
    {
     "data": {
      "text/plain": [
       "array([1, 2, 3, 4, 5, 6, 7, 8])"
      ]
     },
     "execution_count": 62,
     "metadata": {},
     "output_type": "execute_result"
    }
   ],
   "source": [
    "array_one=np.array([[1,2,3,4,],[5,6,7,8]])\n",
    "array_one.ravel()\n"
   ]
  },
  {
   "cell_type": "code",
   "execution_count": 63,
   "metadata": {},
   "outputs": [
    {
     "data": {
      "text/plain": [
       "array([[  7.8   ,   0.88  ,   0.    ,   2.6   ,   0.098 ,  50.    ],\n",
       "       [ 67.    ,   0.9968,   3.2   ,   0.68  ,   9.8   ,  25.    ]])"
      ]
     },
     "execution_count": 63,
     "metadata": {},
     "output_type": "execute_result"
    }
   ],
   "source": [
    "#  The below code will turn the second row of wines into a 2-dimensional array with 2 rows and 6 columns:\n",
    "wines[1,].reshape((2,6))"
   ]
  },
  {
   "cell_type": "markdown",
   "metadata": {},
   "source": [
    "### Combining NumPy Arrays"
   ]
  },
  {
   "cell_type": "code",
   "execution_count": 4,
   "metadata": {},
   "outputs": [
    {
     "data": {
      "text/plain": [
       "(4898, 12)"
      ]
     },
     "execution_count": 4,
     "metadata": {},
     "output_type": "execute_result"
    }
   ],
   "source": [
    "#use numpy.vstack to vertically stack multiple arrays\n",
    "import csv\n",
    "import numpy as np\n",
    "white_wines = np.genfromtxt(\"C:/Users/ambalika.smiti/Documents/GitHub/Python_Codes/Bangalore - ML HandsOn/WineQuality/winequality-white.csv\", delimiter=\";\", skip_header=1)\n",
    "white_wines.shape"
   ]
  },
  {
   "cell_type": "code",
   "execution_count": 9,
   "metadata": {},
   "outputs": [
    {
     "data": {
      "text/plain": [
       "(6497, 12)"
      ]
     },
     "execution_count": 9,
     "metadata": {},
     "output_type": "execute_result"
    }
   ],
   "source": [
    "all_wines=np.vstack((wines,white_wines))\n",
    "all_wines.shape"
   ]
  },
  {
   "cell_type": "markdown",
   "metadata": {},
   "source": [
    "### numpy.hstack - to add horizontally\n",
    "### numpy.concatenate \n",
    "used as a general purpose version of hstack and vstack\n",
    "If we want to concatenate two arrays, we pass them into concatenate, then specify the axis keyword argument that we want to concatenate along. Concatenating along the first axis is similar to vstack, and concatenating along the <second axis> is similar to hstack:"
   ]
  },
  {
   "cell_type": "code",
   "execution_count": 10,
   "metadata": {},
   "outputs": [
    {
     "data": {
      "text/plain": [
       "array([[  7.4 ,   0.7 ,   0.  , ...,   0.56,   9.4 ,   5.  ],\n",
       "       [  7.8 ,   0.88,   0.  , ...,   0.68,   9.8 ,   5.  ],\n",
       "       [  7.8 ,   0.76,   0.04, ...,   0.65,   9.8 ,   5.  ],\n",
       "       ..., \n",
       "       [  6.5 ,   0.24,   0.19, ...,   0.46,   9.4 ,   6.  ],\n",
       "       [  5.5 ,   0.29,   0.3 , ...,   0.38,  12.8 ,   7.  ],\n",
       "       [  6.  ,   0.21,   0.38, ...,   0.32,  11.8 ,   6.  ]])"
      ]
     },
     "execution_count": 10,
     "metadata": {},
     "output_type": "execute_result"
    }
   ],
   "source": [
    "np.concatenate((wines,white_wines),axis=0)"
   ]
  },
  {
   "cell_type": "markdown",
   "metadata": {},
   "source": [
    "## NumPy Array Challenge"
   ]
  },
  {
   "cell_type": "code",
   "execution_count": 14,
   "metadata": {},
   "outputs": [
    {
     "name": "stdout",
     "output_type": "stream",
     "text": [
      "[[ 0.  0.  0.  0.]\n",
      " [ 0.  0.  0.  0.]\n",
      " [ 0.  0.  0.  0.]]\n",
      "[[ 1.  1.  1.  1.]\n",
      " [ 1.  1.  1.  1.]\n",
      " [ 1.  1.  1.  1.]\n",
      " [ 1.  1.  1.  1.]\n",
      " [ 1.  1.  1.  1.]\n",
      " [ 1.  1.  1.  1.]]\n"
     ]
    }
   ],
   "source": [
    " #Create a 3 x 4 array filled with all zeros\n",
    "zero_array=np.zeros((3,4))\n",
    "print(zero_array)\n",
    "    \n",
    "# create 6 x 4 array filled with all 1s\n",
    "one_array=np.ones((6,4))\n",
    "print(one_array)"
   ]
  },
  {
   "cell_type": "code",
   "execution_count": 18,
   "metadata": {},
   "outputs": [
    {
     "name": "stdout",
     "output_type": "stream",
     "text": [
      "[ 0.  0.  0.  1.  1.  1.  1.  1.  1.]\n"
     ]
    }
   ],
   "source": [
    "# Concatenate both arrays vertically into a 9 x 4 array, with the all zeros array on top.\n",
    "combined_array=np.concatenate((zero_array,one_array),axis=0)\n",
    "\n",
    "first_column=combined_array[:,1]\n",
    "print(first_column)"
   ]
  }
 ],
 "metadata": {
  "kernelspec": {
   "display_name": "Python 3",
   "language": "python",
   "name": "python3"
  },
  "language_info": {
   "codemirror_mode": {
    "name": "ipython",
    "version": 3
   },
   "file_extension": ".py",
   "mimetype": "text/x-python",
   "name": "python",
   "nbconvert_exporter": "python",
   "pygments_lexer": "ipython3",
   "version": "3.6.2"
  }
 },
 "nbformat": 4,
 "nbformat_minor": 2
}
