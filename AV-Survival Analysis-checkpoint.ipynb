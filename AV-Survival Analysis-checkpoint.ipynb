{
 "cells": [
  {
   "cell_type": "code",
   "execution_count": 6,
   "metadata": {},
   "outputs": [
    {
     "name": "stderr",
     "output_type": "stream",
     "text": [
      "The following objects are masked from mydata (pos = 3):\n",
      "\n",
      "    Customer_id, Last_response_Tag, Months, Platinum_flag, Purchase_2k\n",
      "\n"
     ]
    }
   ],
   "source": [
    "#loading survival package\n",
    "library(survival)\n",
    "mydata=read.csv(\"D:/Dropbox/Data Science and Analytics/worksheet.csv\")\n",
    "attach(mydata)\n",
    "\n"
   ]
  },
  {
   "cell_type": "code",
   "execution_count": 13,
   "metadata": {},
   "outputs": [],
   "source": [
    "Cust<-Customer_id\n",
    "l_resp<-Last_response_Tag\n",
    "Plat<-Platinum_flag\n",
    "span<-Months\n",
    "resp<-Purchase_2k\n",
    "X<-cbind(l_resp,Plat)\n",
    "#X"
   ]
  },
  {
   "cell_type": "code",
   "execution_count": 14,
   "metadata": {},
   "outputs": [
    {
     "data": {
      "text/plain": [
       "Call: survfit(formula = Surv(span, resp) ~ 1)\n",
       "\n",
       " time n.risk n.event survival std.err lower 95% CI upper 95% CI\n",
       "    1    237      11    0.954  0.0137        0.927        0.981\n",
       "    2    216      12    0.901  0.0197        0.863        0.940\n",
       "    3    193       9    0.859  0.0232        0.814        0.905\n",
       "    4    165       7    0.822  0.0260        0.773        0.875\n",
       "    5    150       7    0.784  0.0285        0.730        0.842\n",
       "    6    134       7    0.743  0.0310        0.685        0.806\n",
       "    7    116      11    0.672  0.0346        0.608        0.744\n",
       "    8     92      11    0.592  0.0380        0.522        0.671\n",
       "    9     69      12    0.489  0.0414        0.414        0.577\n",
       "   10     53       8    0.415  0.0426        0.340        0.508\n",
       "   11     35      10    0.297  0.0439        0.222        0.397\n",
       "   12     18       7    0.181  0.0434        0.113        0.290"
      ]
     },
     "metadata": {},
     "output_type": "display_data"
    },
    {
     "data": {
      "image/png": "[encoded data removed]",
      "text/plain": [
       "plot without title"
      ]
     },
     "metadata": {},
     "output_type": "display_data"
    }
   ],
   "source": [
    "#Non-parametric solution\n",
    "kmsurv<-survfit(Surv(span,resp)~1)\n",
    "summary(kmsurv)\n",
    "plot(kmsurv,xlab = \"span\",ylab=\"Survival Proabability\")"
   ]
  },
  {
   "cell_type": "code",
   "execution_count": 16,
   "metadata": {},
   "outputs": [
    {
     "data": {
      "text/plain": [
       "Call: survfit(formula = Surv(span, resp) ~ group1)\n",
       "\n",
       "                group1=0 \n",
       " time n.risk n.event survival std.err lower 95% CI upper 95% CI\n",
       "    1    131       3    0.977  0.0131       0.9518        1.000\n",
       "    2    122       8    0.913  0.0251       0.8652        0.964\n",
       "    3    106       4    0.879  0.0295       0.8227        0.938\n",
       "    4     96       4    0.842  0.0334       0.7789        0.910\n",
       "    5     86       5    0.793  0.0380       0.7219        0.871\n",
       "    6     76       3    0.762  0.0406       0.6862        0.846\n",
       "    7     68       6    0.695  0.0453       0.6111        0.789\n",
       "    8     53       7    0.603  0.0509       0.5108        0.711\n",
       "    9     39       5    0.525  0.0549       0.4283        0.645\n",
       "   10     33       6    0.430  0.0571       0.3314        0.558\n",
       "   11     20       7    0.279  0.0590       0.1848        0.423\n",
       "   12      8       3    0.175  0.0604       0.0887        0.344\n",
       "\n",
       "                group1=1 \n",
       " time n.risk n.event survival std.err lower 95% CI upper 95% CI\n",
       "    1    106       8    0.925  0.0257        0.876        0.976\n",
       "    2     94       4    0.885  0.0312        0.826        0.949\n",
       "    3     87       5    0.834  0.0368        0.765        0.910\n",
       "    4     69       3    0.798  0.0407        0.722        0.882\n",
       "    5     64       2    0.773  0.0431        0.693        0.862\n",
       "    6     58       4    0.720  0.0477        0.632        0.820\n",
       "    7     48       5    0.645  0.0532        0.549        0.758\n",
       "    8     39       4    0.579  0.0571        0.477        0.702\n",
       "    9     30       7    0.444  0.0626        0.337        0.585\n",
       "   10     20       2    0.399  0.0637        0.292        0.546\n",
       "   11     15       3    0.319  0.0655        0.214        0.478\n",
       "   12     10       4    0.192  0.0632        0.100        0.366\n"
      ]
     },
     "metadata": {},
     "output_type": "display_data"
    },
    {
     "data": {
      "image/png": "[encoded data removed]",
      "text/plain": [
       "plot without title"
      ]
     },
     "metadata": {},
     "output_type": "display_data"
    }
   ],
   "source": [
    "group1 <- l_resp\n",
    "group2 <- Plat\n",
    "kmsurv1<-survfit(Surv(span,resp)~group1)\n",
    "summary(kmsurv1)\n",
    "plot(kmsurv1,xlab = \"span\",ylab=\"Survival Proabbility\")\n"
   ]
  },
  {
   "cell_type": "code",
   "execution_count": 17,
   "metadata": {},
   "outputs": [
    {
     "data": {
      "text/plain": [
       "Call: survfit(formula = Surv(span, resp) ~ group2)\n",
       "\n",
       "                group2=0 \n",
       " time n.risk n.event survival std.err lower 95% CI upper 95% CI\n",
       "    1    117       7   0.9402  0.0219      0.89816        0.984\n",
       "    2    104       4   0.9040  0.0275      0.85160        0.960\n",
       "    3     96       4   0.8663  0.0322      0.80548        0.932\n",
       "    4     80       3   0.8339  0.0360      0.76612        0.908\n",
       "    5     74       4   0.7888  0.0405      0.71321        0.872\n",
       "    6     63       3   0.7512  0.0440      0.66971        0.843\n",
       "    7     56       5   0.6841  0.0493      0.59410        0.788\n",
       "    8     42       7   0.5701  0.0569      0.46889        0.693\n",
       "    9     30       7   0.4371  0.0620      0.33107        0.577\n",
       "   10     22       4   0.3576  0.0621      0.25440        0.503\n",
       "   11     15       7   0.1907  0.0567      0.10645        0.342\n",
       "   12      5       4   0.0381  0.0360      0.00601        0.242\n",
       "\n",
       "                group2=1 \n",
       " time n.risk n.event survival std.err lower 95% CI upper 95% CI\n",
       "    1    120       4    0.967  0.0164        0.935        0.999\n",
       "    2    112       8    0.898  0.0280        0.844        0.954\n",
       "    3     97       5    0.851  0.0333        0.788        0.919\n",
       "    4     85       4    0.811  0.0373        0.741        0.888\n",
       "    5     76       3    0.779  0.0402        0.704        0.862\n",
       "    6     71       4    0.735  0.0435        0.655        0.826\n",
       "    7     60       6    0.662  0.0484        0.573        0.764\n",
       "    8     50       4    0.609  0.0513        0.516        0.718\n",
       "    9     39       5    0.531  0.0553        0.433        0.651\n",
       "   10     31       4    0.462  0.0578        0.362        0.591\n",
       "   11     20       3    0.393  0.0615        0.289        0.534\n",
       "   12     13       3    0.302  0.0659        0.197        0.463\n"
      ]
     },
     "metadata": {},
     "output_type": "display_data"
    },
    {
     "data": {
      "image/png": "[encoded data removed]",
      "text/plain": [
       "plot without title"
      ]
     },
     "metadata": {},
     "output_type": "display_data"
    }
   ],
   "source": [
    "kmsurv2<-survfit(Surv(span,resp)~group2)\n",
    "summary(kmsurv2)\n",
    "plot(kmsurv2,xlab = \"span\",ylab=\"Survival Proabbility\")\n"
   ]
  },
  {
   "cell_type": "code",
   "execution_count": 19,
   "metadata": {},
   "outputs": [
    {
     "data": {
      "text/plain": [
       "Call:\n",
       "coxph(formula = Surv(span, resp) ~ X, method = \"breslow\")\n",
       "\n",
       "  n= 237, number of events= 112 \n",
       "\n",
       "           coef exp(coef) se(coef)      z Pr(>|z|)\n",
       "Xl_resp  0.1166    1.1237   0.1915  0.609    0.543\n",
       "XPlat   -0.3062    0.7362   0.1919 -1.596    0.111\n",
       "\n",
       "        exp(coef) exp(-coef) lower .95 upper .95\n",
       "Xl_resp    1.1237     0.8899    0.7720     1.635\n",
       "XPlat      0.7362     1.3582    0.5055     1.072\n",
       "\n",
       "Concordance= 0.525  (se = 0.033 )\n",
       "Rsquare= 0.011   (max possible= 0.987 )\n",
       "Likelihood ratio test= 2.73  on 2 df,   p=0.255\n",
       "Wald test            = 2.73  on 2 df,   p=0.256\n",
       "Score (logrank) test = 2.74  on 2 df,   p=0.2539\n"
      ]
     },
     "metadata": {},
     "output_type": "display_data"
    }
   ],
   "source": [
    "coxph <- coxph(Surv(span,resp)~X,method =\"breslow\")\n",
    "summary(coxph)"
   ]
  }
 ],
 "metadata": {
  "kernelspec": {
   "display_name": "R",
   "language": "R",
   "name": "ir"
  },
  "language_info": {
   "codemirror_mode": "r",
   "file_extension": ".r",
   "mimetype": "text/x-r-source",
   "name": "R",
   "pygments_lexer": "r",
   "version": "3.4.1"
  }
 },
 "nbformat": 4,
 "nbformat_minor": 2
}
